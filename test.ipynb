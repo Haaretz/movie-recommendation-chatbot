{
 "cells": [
  {
   "cell_type": "code",
   "execution_count": 1,
   "metadata": {},
   "outputs": [],
   "source": [
    "first_question_article = [\n",
    "     {'article_id': '00000194-25d6-dcc4-a1d7-3df6703c0000',\n",
    "      'question': 'אני רוצה לקרוא ביקורת על הסרט החדש של לוקה גואדנינו, זה שמבוסס על ספר של בורוז על הומו שחי במקסיקו בשנות ה-50 ומחפש גברים צעירים.'},\n",
    "      {'article_id': '00000194-2618-dd68-a3be-e6fc06680000',\n",
    "       'question': 'אני מחפש ביקורת על הסרט החדש עם ניקול קידמן, זה שהיא משחקת בו מנכ\"לית חברת רובוטיקה שיש לה רומן עם מתמחה צעיר. הסרט הוקרן בפסטיבל ונציה, איך הוא?.'\n",
    "       },\n",
    "       {'article_id': '00000194-2681-ddb6-afdd-77e781220000',\n",
    "        'question': 'אני מחפש ביקורת על הסרט החדש של עמוס גיתאי, זה שעוסק בשאלה למה יש מלחמות ומשתמש במכתבים של איינשטיין ופרויד.'\n",
    "        },\n",
    "        {'article_id': '00000194-2b97-d9c2-a79e-2bd7330c0000',\n",
    "            'question': 'אפשר בבקשה ביקורת על הסרט החדש \"נוספרטו\" של רוברט אגרס? אני רוצה לדעת אם הוא נאמן למקורות של סרטי הערפדים הקלאסיים ואיך השחקנים הראשיים, במיוחד לילי-רוז דפ, משחקים?'\n",
    "        },\n",
    "        {'article_id': '00000194-319b-d555-abbc-b1dfdf250000',\n",
    "            'question': '\"אני מחפש ביקורת על סרט חדש שמוקרן בפסטיבל חיפה, על אישה אלכוהוליסטית בשם רונה שחוזרת לאי הולדתה בסקוטלנד כדי להתמודד עם ההתמכרות שלה. מישהי כתבה על זה ביקורת?'\n",
    "        },\n",
    "        {\n",
    "            'article_id': '00000194-31db-ddaf-adb7-7bfbaf200000',\n",
    "            'question': 'אני מחפש סרט איראני חדש שמתרחש בטהרן ועוסק במשפחה שאבא שלה שופט ורואים בו גם קטעים מההפגנות שם. ראיתי שהקרינו אותו בפסטיבל חיפה'\n",
    "        },\n",
    "        {'article_id': '00000194-34df-d39d-a196-b7ff86ce0000',\n",
    "            'question': '\"אני מחפש סדרת אנימציה חדשה בנטפליקס, משהו בסגנון באפי קוטלת הערפדים אבל עם מיתולוגיה סינית. שמעתי שיש סדרה על נערה סינית-אמריקאית שנלחמת בשדים, מישהו מכיר?',\n",
    "        },\n",
    "        {\n",
    "            'article_id':\"00000194-356b-de88-a3dc-75ef26460000\",\n",
    "            'question':\"אוקיי, שמעתי על סרט חדש של שבי גביזון עם ריצ'רד גיר על אבא שמגלה שהיה לו בן שנהרג. איך קוראים לסרט ומה הוא מספר עליו?\"\n",
    "        },\n",
    "        {\n",
    "        'article_id':'00000194-4be5-dff1-a7bc-dbf57a210000',\n",
    "        'question':'אני מחפש סרט על שני בני דודים יהודים אמריקאים שנוסעים לפולין בעקבות השואה. אחד מהם משחק בסדרה \"יורשים\". מישהו כתב וביים את הסרט והוא גם שחקן בסרט \"הרשת החברתית\".',\n",
    "        },\n",
    "        {\n",
    "        'article_id':'00000194-6339-dabc-afff-6b7fb6e90000',\n",
    "        'question':'אוקיי, שמעתי שיש סדרה חדשה בנטפליקס, מין מערבון כזה אבל ממש קשוח, עם הרבה אלימות וטבח. זה על איזה אישה שמנסה לשרוד עם הבן שלה בתקופה של מלחמת יוטה והטבח בהר מדוז. מישהו יודע על מה אני מדבר?',\n",
    "        },\n",
    "        {\n",
    "        'article_id':'00000194-6e60-d9d3-a597-eeecd15d0000',\n",
    "        'question':'\"אני מחפש מידע על הסרט החדש של ארז תדמור, זה שמתרחש בשנות ה-50 ליד הכנרת ועוסק בפרטיזנים לשעבר שעובדים במפעל סודה. איך קוראים לסרט ומה העלילה שלו?',\n",
    "        },\n",
    "]\n",
    "\n",
    "first_question_genre = [\n",
    "    \"אחי, תמליץ לי על איזה סרט אקשן טוב בנטפליקס? משהו חדש יחסית.\",\n",
    "    \"מחפשת סדרה קלילה ומצחיקה, קומדיה כזאת, לא משנה לי באיזה שירות סטרימינג.\",\n",
    "    \"מה כדאי לראות עכשיו ביס פלוס? בא לי איזה משהו מתח טוב.\",\n",
    "    \"יש לך המלצה לסרט דרמה איכותי? עדיף משהו שזמין בהוט.\",\n",
    "    \"אני והחבר'ה רוצים לראות סרט אימה הערב. יש משהו ממש מפחיד שאתה מכיר?\",\n",
    "    \"תגיד, יש איזה סדרת מדע בדיוני שווה בפרטנר TV או בסלקום TV?\",\n",
    "    \"בא לי לראות סרט ישראלי טוב, יש משהו מומלץ לאחרונה?\",\n",
    "    \"מחפש סדרה לבינג', משהו שאפשר לטחון בסופ\\\"ש. ז'אנר פחות קריטי, העיקר שתהיה ממכרת.\",\n",
    "    \"יש סרטי דוקו מעניינים בדיסני פלוס או באפל טי וי?\",\n",
    "    \"סתם תן המלצה לסרט טוב שראית לאחרונה, לא משנה לי הז'אנר או הפלטפורמה.\"\n",
    "\n",
    "]\n",
    "\n",
    "genre_questions_as_dicts = [\n",
    "    {'article_id': '', 'question': q} for q in first_question_genre\n",
    "]\n",
    "\n",
    "# איחוד שתי הרשימות לרשימה אחת\n",
    "combined_questions = first_question_article + genre_questions_as_dicts\n",
    "\n",
    "second_question = 'איזה יצירה המבקר העדיף יותר?'\n",
    "thierd_question = 'אם הייתי אומר לך שאני במיוחד רגיש לסיומים מאכזבים/לא סגורים, איזו יצרה עדיפה מבין אלו שהמלצת?'\n",
    "\n"
   ]
  },
  {
   "cell_type": "code",
   "execution_count": 2,
   "metadata": {},
   "outputs": [],
   "source": [
    "# Follow-up questions appropriate after a *general* first question that returned two recommendations\n",
    "general_follow_up_questions = [\n",
    "    \"תסביר בפירוט איך הגעת להמלצה הזאת, ואיזה קטעים ספציפיים מתוך הכתבות תמכו בבחירה.\",\n",
    "    \"יש לי רתיעה מאלימות גרפית. האם הסרט שהמלצת עליו כולל סצנות כאלה? תצטט מהמקורות שלך.\",\n",
    "    \"האם יש סרט מתח ישראלי שעונה על אותם קריטריונים? נמק עם מקורות.\",\n",
    "    \"אני מעדיף סרטים קצרים (עד 100 דקות). תעדכן את ההמלצה בהתאם.\",\n",
    "    \"הסרט שהצעת כבר ראיתי. הבא המלצה אחרת, אבל שמור על הסיבות לבחירה שהצגת.\",\n",
    "    \"תן לי טריילר רשמי (YouTube) וקישור לביקורת מהשנה האחרונה.\",\n",
    "    \"אפשר להמליץ לי על סדרת טלוויזיה באותו סגנון, לפי אותם מקורות?\",\n",
    "    \"מי קהל היעד העיקרי של הסרט לפי הנתונים במקורות?\",\n",
    "    \"שכנע צופה שלא אוהב סרטי מתח מדוע כדאי לו בכל זאת לראות את הסרט שהצעת.\",\n",
    "    \"האם קיימות אזהרות תוכן (trigger warnings) רלוונטיות? הבא ציטוט מפורט.\"\n",
    "]\n",
    "\n",
    "# Follow-up questions appropriate after a *specific* first question that returned a single recommendation\n",
    "specific_follow_up_questions = [\n",
    "    \"תוכל להשוות בין הסרט שהצעת לבין ‘Seven’ מבחינת עלילה וטון?\",\n",
    "    \"האם בסרט שהמלצת יש ייצוג נשי משמעותי? צטט ביקורות שמדברות על כך.\",\n",
    "    \"מהן שלוש נקודות הביקורת העיקריות שהוזכרו נגד הסרט במקורות שהבאת?\",\n",
    "    \"אשמח לתקציר נטול ספוילרים של 100 מילים בדיוק.\",\n",
    "    \"מי מהשחקנים הראשיים היה מועמד/זכה בפרסים, ועל אילו תפקידים אחרים הם ידועים?\",\n",
    "    \"האם הסרט מבוסס על ספר? אם כן, מה ההבדלים העיקריים לפי הכתבות?\",\n",
    "    \"מהו המוטיב המרכזי (theme) ששב ועולה בביקורות, ואיך הוא בא לידי ביטוי בסצנה ספציפית?\",\n",
    "    \"האם יש פסקול בולט במיוחד? נסח ביקורת קצרה על המוזיקה וציין ציטוט ממקור.\",\n",
    "    \"מהן הנקודות שהמבקרים הכי שיבחו בצילום (cinematography)? הבא שתי דוגמאות וציטוטים.\",\n",
    "    \"מבחינת Diversity & Inclusion—האם הסרט קיבל ביקורת חיובית או שלילית? הבא נתונים.\",\n",
    "    \"האם יש Easter Eggs נסתרים שהמבקרים הזכירו? פרט שניים עם הפניות.\"\n",
    "]\n",
    "\n",
    "second_question_article = specific_follow_up_questions + general_follow_up_questions"
   ]
  },
  {
   "cell_type": "code",
   "execution_count": 3,
   "metadata": {},
   "outputs": [
    {
     "data": {
      "text/plain": [
       "11"
      ]
     },
     "execution_count": 3,
     "metadata": {},
     "output_type": "execute_result"
    }
   ],
   "source": [
    "len(first_question_article)"
   ]
  },
  {
   "cell_type": "code",
   "execution_count": 4,
   "metadata": {},
   "outputs": [
    {
     "name": "stderr",
     "output_type": "stream",
     "text": [
      "/Users/roeishlezinger/Desktop/movie-recommendation-chatbot/src/tools/search/utillity/qdrant.py:9: UserWarning: Qdrant client version 1.13.3 is incompatible with server version 1.8.4. Major versions should match and minor version difference must not exceed 1. Set check_version=False to skip version check.\n",
      "  self.client_qdrant = QdrantClient(config)\n",
      "{\"message\": \"Successfully connected to Redis.\"}\n",
      "/Users/roeishlezinger/Desktop/movie-recommendation-chatbot/src/tools/search/utillity/qdrant.py:9: UserWarning: Qdrant client version 1.13.3 is incompatible with server version 1.8.4. Major versions should match and minor version difference must not exceed 1. Set check_version=False to skip version check.\n",
      "  self.client_qdrant = QdrantClient(config)\n",
      "2025-04-27 17:32:37.967 WARNING streamlit.runtime.scriptrunner_utils.script_run_context: Thread 'MainThread': missing ScriptRunContext! This warning can be ignored when running in bare mode.\n",
      "2025-04-27 17:32:37.968 WARNING streamlit.runtime.state.session_state_proxy: Session state does not function when running a script without `streamlit run`\n",
      "2025-04-27 17:32:37.969 WARNING streamlit.runtime.scriptrunner_utils.script_run_context: Thread 'MainThread': missing ScriptRunContext! This warning can be ignored when running in bare mode.\n",
      "{\"message\": \"No history found for user 3462821559 in Redis.\"}\n",
      "{\"message\": \"Successfully created new chat session.\"}\n"
     ]
    },
    {
     "name": "stdout",
     "output_type": "stream",
     "text": [
      "\n",
      "\n",
      "====================\n",
      "Article ID: 00000194-25d6-dcc4-a1d7-3df6703c0000\n",
      "Question: אני רוצה לקרוא ביקורת על הסרט החדש של לוקה גואדנינו, זה שמבוסס על ספר של בורוז על הומו שחי במקסיקו בשנות ה-50 ומחפש גברים צעירים.\n"
     ]
    },
    {
     "name": "stderr",
     "output_type": "stream",
     "text": [
      "Warning: there are non-text parts in the response: ['function_call'],returning concatenated text result from text parts,check out the non text parts for full response from model.\n",
      "{\"message\": \"Processing function call: get_dataset_articles with args: {'query': '\\u05d1\\u05d9\\u05e7\\u05d5\\u05e8\\u05ea \\u05e2\\u05dc \\u05d4\\u05e1\\u05e8\\u05d8 \\u05d4\\u05d7\\u05d3\\u05e9 \\u05e9\\u05dc \\u05dc\\u05d5\\u05e7\\u05d4 \\u05d2\\u05d5\\u05d0\\u05d3\\u05e0\\u05d9\\u05e0\\u05d5 \\u05e9\\u05de\\u05d1\\u05d5\\u05e1\\u05e1 \\u05e2\\u05dc \\u05e1\\u05e4\\u05e8 \\u05e9\\u05dc \\u05d1\\u05d5\\u05e8\\u05d5\\u05d6 \\u05e2\\u05dc \\u05d4\\u05d5\\u05de\\u05d5 \\u05e9\\u05d7\\u05d9 \\u05d1\\u05de\\u05e7\\u05e1\\u05d9\\u05e7\\u05d5 \\u05d1\\u05e9\\u05e0\\u05d5\\u05ea \\u05d4-50 \\u05d5\\u05de\\u05d7\\u05e4\\u05e9 \\u05d2\\u05d1\\u05e8\\u05d9\\u05dd \\u05e6\\u05e2\\u05d9\\u05e8\\u05d9\\u05dd'}\"}\n",
      "{\"message\": \"Query is likely Hebrew, returning original query.\"}\n",
      "{\"message\": \"Retrieving relevant documents for query: '\\u05d1\\u05d9\\u05e7\\u05d5\\u05e8\\u05ea \\u05e2\\u05dc \\u05d4\\u05e1\\u05e8\\u05d8 \\u05d4\\u05d7\\u05d3\\u05e9 \\u05e9\\u05dc \\u05dc\\u05d5\\u05e7\\u05d4 \\u05d2\\u05d5\\u05d0\\u05d3\\u05e0\\u05d9\\u05e0\\u05d5 \\u05e9\\u05de\\u05d1\\u05d5\\u05e1\\u05e1 \\u05e2\\u05dc \\u05e1\\u05e4\\u05e8 \\u05e9\\u05dc \\u05d1\\u05d5\\u05e8\\u05d5\\u05d6 \\u05e2\\u05dc \\u05d4\\u05d5\\u05de\\u05d5 \\u05e9\\u05d7\\u05d9 \\u05d1\\u05de\\u05e7\\u05e1\\u05d9\\u05e7\\u05d5 \\u05d1\\u05e9\\u05e0\\u05d5\\u05ea \\u05d4-50 \\u05d5\\u05de\\u05d7\\u05e4\\u05e9 \\u05d2\\u05d1\\u05e8\\u05d9\\u05dd \\u05e6\\u05e2\\u05d9\\u05e8\\u05d9\\u05dd'\"}\n",
      "{\"message\": \"Tool 'get_dataset_articles' executed successfully for query: '\\u05d1\\u05d9\\u05e7\\u05d5\\u05e8\\u05ea \\u05e2\\u05dc \\u05d4\\u05e1\\u05e8\\u05d8 \\u05d4\\u05d7\\u05d3\\u05e9 \\u05e9\\u05dc \\u05dc\\u05d5\\u05e7\\u05d4 \\u05d2\\u05d5\\u05d0\\u05d3\\u05e0\\u05d9\\u05e0\\u05d5 \\u05e9\\u05de\\u05d1\\u05d5\\u05e1\\u05e1 \\u05e2\\u05dc \\u05e1\\u05e4\\u05e8 \\u05e9\\u05dc \\u05d1\\u05d5\\u05e8\\u05d5\\u05d6 \\u05e2\\u05dc \\u05d4\\u05d5\\u05de\\u05d5 \\u05e9\\u05d7\\u05d9 \\u05d1\\u05de\\u05e7\\u05e1\\u05d9\\u05e7\\u05d5 \\u05d1\\u05e9\\u05e0\\u05d5\\u05ea \\u05d4-50 \\u05d5\\u05de\\u05d7\\u05e4\\u05e9 \\u05d2\\u05d1\\u05e8\\u05d9\\u05dd \\u05e6\\u05e2\\u05d9\\u05e8\\u05d9\\u05dd'. Results obtained.\"}\n"
     ]
    },
    {
     "ename": "AttributeError",
     "evalue": "'LLMClient' object has no attribute 'field_for_frontend'",
     "output_type": "error",
     "traceback": [
      "\u001b[31m---------------------------------------------------------------------------\u001b[39m",
      "\u001b[31mAttributeError\u001b[39m                            Traceback (most recent call last)",
      "\u001b[36mCell\u001b[39m\u001b[36m \u001b[39m\u001b[32mIn[4]\u001b[39m\u001b[32m, line 42\u001b[39m\n\u001b[32m     40\u001b[39m full_response = \u001b[33m\"\u001b[39m\u001b[33m\"\u001b[39m\n\u001b[32m     41\u001b[39m ans = llm_client.streaming_message(question,\u001b[33mf\u001b[39m\u001b[33m'\u001b[39m\u001b[38;5;132;01m{\u001b[39;00mcounter\u001b[38;5;132;01m}\u001b[39;00m\u001b[33m'\u001b[39m)\n\u001b[32m---> \u001b[39m\u001b[32m42\u001b[39m \u001b[38;5;28;01masync\u001b[39;00m \u001b[38;5;28;01mfor\u001b[39;00m chunk \u001b[38;5;129;01min\u001b[39;00m ans:\n\u001b[32m     43\u001b[39m     \u001b[38;5;28mprint\u001b[39m(chunk, end=\u001b[33m'\u001b[39m\u001b[33m'\u001b[39m, flush=\u001b[38;5;28;01mTrue\u001b[39;00m)\n\u001b[32m     44\u001b[39m     \u001b[38;5;28;01mif\u001b[39;00m chunk:\n",
      "\u001b[36mFile \u001b[39m\u001b[32m~/Desktop/movie-recommendation-chatbot/src/llm_api_client.py:247\u001b[39m, in \u001b[36mLLMClient.streaming_message\u001b[39m\u001b[34m(self, message, user_id)\u001b[39m\n\u001b[32m    242\u001b[39m         current_turn_involved_function_call = \u001b[38;5;28;01mTrue\u001b[39;00m\n\u001b[32m    245\u001b[39m \u001b[38;5;28;01mif\u001b[39;00m current_turn_involved_function_call:\n\u001b[32m    246\u001b[39m     \u001b[38;5;66;03m# Process the function call: execute tool and update with metadata\u001b[39;00m\n\u001b[32m--> \u001b[39m\u001b[32m247\u001b[39m     function_response_parts, metadata, search_results = \u001b[38;5;28;43mself\u001b[39;49m\u001b[43m.\u001b[49m\u001b[43m_filter_fields_and_call_tool\u001b[49m\u001b[43m(\u001b[49m\n\u001b[32m    248\u001b[39m \u001b[43m        \u001b[49m\u001b[43mcollected_function_calls\u001b[49m\n\u001b[32m    249\u001b[39m \u001b[43m    \u001b[49m\u001b[43m)\u001b[49m\n\u001b[32m    250\u001b[39m     \u001b[38;5;28;01myield\u001b[39;00m metadata\n\u001b[32m    252\u001b[39m     response_stream_after_fc = current_chat_session.send_message_stream(function_response_parts)\n",
      "\u001b[36mFile \u001b[39m\u001b[32m~/Desktop/movie-recommendation-chatbot/src/llm_api_client.py:143\u001b[39m, in \u001b[36mLLMClient._filter_fields_and_call_tool\u001b[39m\u001b[34m(self, function_calls)\u001b[39m\n\u001b[32m    140\u001b[39m     \u001b[38;5;28;01melse\u001b[39;00m:\n\u001b[32m    141\u001b[39m         logger.warning(\u001b[33mf\u001b[39m\u001b[33m\"\u001b[39m\u001b[33mReceived unhandled function call: \u001b[39m\u001b[38;5;132;01m{\u001b[39;00mcall_name\u001b[38;5;132;01m}\u001b[39;00m\u001b[33m\"\u001b[39m)\n\u001b[32m--> \u001b[39m\u001b[32m143\u001b[39m metadata = \u001b[38;5;28;43mself\u001b[39;49m\u001b[43m.\u001b[49m\u001b[43mmetadata_for_backend\u001b[49m\u001b[43m(\u001b[49m\u001b[43msearch_results\u001b[49m\u001b[43m)\u001b[49m\n\u001b[32m    144\u001b[39m logger.info(\u001b[33mf\u001b[39m\u001b[33m\"\u001b[39m\u001b[33mGenerated \u001b[39m\u001b[38;5;132;01m{\u001b[39;00m\u001b[38;5;28mlen\u001b[39m(parts)\u001b[38;5;132;01m}\u001b[39;00m\u001b[33m function response parts.\u001b[39m\u001b[33m\"\u001b[39m)\n\u001b[32m    145\u001b[39m \u001b[38;5;28;01mreturn\u001b[39;00m parts, metadata, search_results\n",
      "\u001b[36mFile \u001b[39m\u001b[32m~/Desktop/movie-recommendation-chatbot/src/llm_api_client.py:150\u001b[39m, in \u001b[36mLLMClient.metadata_for_backend\u001b[39m\u001b[34m(self, metadata)\u001b[39m\n\u001b[32m    147\u001b[39m \u001b[38;5;28;01mdef\u001b[39;00m\u001b[38;5;250m \u001b[39m\u001b[34mmetadata_for_backend\u001b[39m(\u001b[38;5;28mself\u001b[39m, metadata):\n\u001b[32m    148\u001b[39m     \u001b[38;5;66;03m# Filter metadata fields as defined in the configuration.\u001b[39;00m\n\u001b[32m    149\u001b[39m     metadata = [\n\u001b[32m--> \u001b[39m\u001b[32m150\u001b[39m     { key: item.get(key,\u001b[38;5;28;01mNone\u001b[39;00m) \u001b[38;5;28;01mfor\u001b[39;00m key \u001b[38;5;129;01min\u001b[39;00m \u001b[38;5;28;43mself\u001b[39;49m\u001b[43m.\u001b[49m\u001b[43mfield_for_frontend\u001b[49m }\n\u001b[32m    151\u001b[39m     \u001b[38;5;28;01mfor\u001b[39;00m item \u001b[38;5;129;01min\u001b[39;00m metadata\n\u001b[32m    152\u001b[39m ]\n\u001b[32m    153\u001b[39m     \u001b[38;5;28;01mreturn\u001b[39;00m json.dumps(metadata, ensure_ascii=\u001b[38;5;28;01mFalse\u001b[39;00m)\n",
      "\u001b[31mAttributeError\u001b[39m: 'LLMClient' object has no attribute 'field_for_frontend'"
     ]
    }
   ],
   "source": [
    "from src.llm_api_client import LLMClient\n",
    "from config.load_config import load_config\n",
    "\n",
    "from test_antrpoic.antropic import ChatBot\n",
    "import streamlit as st\n",
    "\n",
    "\n",
    "prompts = load_config(\"config/prompts.yaml\")\n",
    "sys_instruct = prompts.get(\"system_instructions\")\n",
    "config = load_config(\"config/config.yaml\")\n",
    "llm_config = config.get(\"llm\", {})\n",
    "api_key = llm_config.get(\"GOOGLE_API_KEY\")\n",
    "model_name = llm_config.get(\"llm_model_name\")\n",
    "\n",
    "result = []\n",
    "\n",
    "import numpy as np\n",
    "counter = np.random.randint(0, 9999999999)\n",
    "\n",
    "# Initialize the LLM client gemini\n",
    "llm_client = LLMClient(model_name=model_name, api_key=api_key, sys_instruct=sys_instruct, config=config)\n",
    "\n",
    "# Initialize the LLM client antropic\n",
    "antrp = ChatBot(config)\n",
    "\n",
    "\n",
    "\n",
    "for q in combined_questions:\n",
    "    st.session_state.messages = []\n",
    "    counter += 1\n",
    "\n",
    "\n",
    "    print('\\n')\n",
    "    print(\"=\"*20)\n",
    "    article_id = q.get('article_id')\n",
    "    question = q.get('question')\n",
    "    print(f\"Article ID: {article_id}\")\n",
    "    print(f\"Question: {question}\")\n",
    "    \n",
    "    full_response = \"\"\n",
    "    ans = llm_client.streaming_message(question,f'{counter}')\n",
    "    async for chunk in ans:\n",
    "        print(chunk, end='', flush=True)\n",
    "        if chunk:\n",
    "            full_response += chunk\n",
    "\n",
    "\n",
    "    second_question = second_question_article.pop(0)\n",
    "\n",
    "    print('\\n')\n",
    "    print(\"=\"*20)\n",
    "    print(f\"Second Question: {second_question}\")\n",
    "    second_answer = \"\"\n",
    "    ans = llm_client.streaming_message(second_question,f'{counter}')\n",
    "    async for chunk in ans:\n",
    "        if chunk:\n",
    "            second_answer += chunk\n",
    "        print(chunk, end='', flush=True)\n",
    "\n",
    "    # thierd_answer = \"\"\n",
    "    # ans = llm_client.streaming_message(thierd_question,f'{counter}')\n",
    "    # async for chunk in ans:\n",
    "    #     if chunk:\n",
    "    #         thierd_answer += chunk\n",
    "    #     print(chunk, end='', flush=True)\n",
    "\n",
    "\n",
    "\n",
    "    # print('antrpoic answer')\n",
    "    # antropic_answer, state = antrp.process_user_input(question,st.session_state)\n",
    "    # print(antropic_answer)\n",
    "    # second_answer_antrpoic, state = antrp.process_user_input(second_question,state)\n",
    "    # print(second_answer_antrpoic)\n",
    "    # thierd_answer_antrpoic, state = antrp.process_user_input(thierd_question,state)\n",
    "    # print(thierd_answer_antrpoic)\n",
    "\n",
    "    result.append({\n",
    "        'article_id': article_id,\n",
    "        'question': question,\n",
    "        'answer_gemini': full_response,\n",
    "        'second_question': second_question,\n",
    "        'second_answer_gemini': second_answer,\n",
    "        # 'answer_antrp': antropic_answer,\n",
    "        # 'second_answer_gemini': second_answer,\n",
    "        # 'second_answer_antrp': second_answer_antrpoic,\n",
    "        # 'thierd_answer_gemini': thierd_answer,\n",
    "        # 'thierd_answer_antrp': thierd_answer_antrpoic\n",
    "    })\n",
    "    \n",
    "    \n",
    "    \n"
   ]
  },
  {
   "cell_type": "code",
   "execution_count": null,
   "metadata": {},
   "outputs": [],
   "source": [
    "import pandas as pd\n",
    "pd.DataFrame(result).to_excel('first_question_article.xlsx', index=False)"
   ]
  },
  {
   "cell_type": "code",
   "execution_count": null,
   "metadata": {},
   "outputs": [
    {
     "data": {
      "text/plain": [
       "81"
      ]
     },
     "execution_count": 7,
     "metadata": {},
     "output_type": "execute_result"
    }
   ],
   "source": [
    "txt = \"\"\" רוברט אגרס מביא גרסה חדשה ומצמררת לסיפור הקלאסי של 'נוספרטו'. הסרט, מחווה אפלה ומרהיבה לקולנוע האילם, מתרחש בגרמניה של המאה ה-19. הוא עוקב אחר אישה צעירה שחייה מתהפכים כשתומאס בעלה, סוכן נדל\"ן, נשלח אל הרי הקרפטים לפגוש רוזן מסתורי הרוכש טירה. הרוזן הוא הערפד אורלוק, שמפתח אובססיה אפלה אליה. בואו לעיר מביא עמו מגפה ואימה בלתי נתפסת. אגרס יוצר חוויה גותית עוצרת נשימה, נאמנה למקורות אך מקורית. סרט ויזואלי מהפנט, מלא באווירה אפלה ומתח גובר, המציג טרגדיה מלנכולית הדורשת התמסרות מהצופה.\"\"\"\n",
    "len(txt.split())"
   ]
  },
  {
   "cell_type": "code",
   "execution_count": null,
   "metadata": {},
   "outputs": [],
   "source": []
  }
 ],
 "metadata": {
  "kernelspec": {
   "display_name": ".venv",
   "language": "python",
   "name": "python3"
  },
  "language_info": {
   "codemirror_mode": {
    "name": "ipython",
    "version": 3
   },
   "file_extension": ".py",
   "mimetype": "text/x-python",
   "name": "python",
   "nbconvert_exporter": "python",
   "pygments_lexer": "ipython3",
   "version": "3.12.8"
  }
 },
 "nbformat": 4,
 "nbformat_minor": 2
}
