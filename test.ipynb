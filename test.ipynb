{
 "cells": [
  {
   "cell_type": "code",
   "execution_count": null,
   "metadata": {},
   "outputs": [],
   "source": [
    "first_question_article = [\n",
    "     {'article_id': '00000194-25d6-dcc4-a1d7-3df6703c0000',\n",
    "      'question': 'אני רוצה לקרוא ביקורת על הסרט החדש של לוקה גואדנינו, זה שמבוסס על ספר של בורוז על הומו שחי במקסיקו בשנות ה-50 ומחפש גברים צעירים.'},\n",
    "      {'article_id': '00000194-2618-dd68-a3be-e6fc06680000',\n",
    "       'question': 'אני מחפש ביקורת על הסרט החדש עם ניקול קידמן, זה שהיא משחקת בו מנכ\"לית חברת רובוטיקה שיש לה רומן עם מתמחה צעיר. הסרט הוקרן בפסטיבל ונציה, איך הוא?.'\n",
    "       },\n",
    "       {'article_id': '00000194-2681-ddb6-afdd-77e781220000',\n",
    "        'question': 'אני מחפש ביקורת על הסרט החדש של עמוס גיתאי, זה שעוסק בשאלה למה יש מלחמות ומשתמש במכתבים של איינשטיין ופרויד.'\n",
    "        },\n",
    "        {'article_id': '00000194-2b97-d9c2-a79e-2bd7330c0000',\n",
    "            'question': 'אפשר בבקשה ביקורת על הסרט החדש \"נוספרטו\" של רוברט אגרס? אני רוצה לדעת אם הוא נאמן למקורות של סרטי הערפדים הקלאסיים ואיך השחקנים הראשיים, במיוחד לילי-רוז דפ, משחקים?'\n",
    "        },\n",
    "        {'article_id': '00000194-319b-d555-abbc-b1dfdf250000',\n",
    "            'question': '\"אני מחפש ביקורת על סרט חדש שמוקרן בפסטיבל חיפה, על אישה אלכוהוליסטית בשם רונה שחוזרת לאי הולדתה בסקוטלנד כדי להתמודד עם ההתמכרות שלה. מישהי כתבה על זה ביקורת?'\n",
    "        },\n",
    "        {\n",
    "            'article_id': '00000194-31db-ddaf-adb7-7bfbaf200000',\n",
    "            'question': 'אני מחפש סרט איראני חדש שמתרחש בטהרן ועוסק במשפחה שאבא שלה שופט ורואים בו גם קטעים מההפגנות שם. ראיתי שהקרינו אותו בפסטיבל חיפה'\n",
    "        },\n",
    "        {'article_id': '00000194-34df-d39d-a196-b7ff86ce0000',\n",
    "            'question': '\"אני מחפש סדרת אנימציה חדשה בנטפליקס, משהו בסגנון באפי קוטלת הערפדים אבל עם מיתולוגיה סינית. שמעתי שיש סדרה על נערה סינית-אמריקאית שנלחמת בשדים, מישהו מכיר?',\n",
    "        },\n",
    "        {\n",
    "            'article_id':\"00000194-356b-de88-a3dc-75ef26460000\",\n",
    "            'question':\"אוקיי, שמעתי על סרט חדש של שבי גביזון עם ריצ'רד גיר על אבא שמגלה שהיה לו בן שנהרג. איך קוראים לסרט ומה הוא מספר עליו?\"\n",
    "        }\n",
    "\n",
    "]\n",
    "\n",
    "first_question_genre = [\n",
    "    \"אחי, תמליץ לי על איזה סרט אקשן טוב בנטפליקס? משהו חדש יחסית.\",\n",
    "    \"מחפשת סדרה קלילה ומצחיקה, קומדיה כזאת, לא משנה לי באיזה שירות סטרימינג.\",\n",
    "    \"מה כדאי לראות עכשיו ביס פלוס? בא לי איזה משהו מתח טוב.\",\n",
    "    \"יש לך המלצה לסרט דרמה איכותי? עדיף משהו שזמין בהוט.\",\n",
    "    \"אני והחבר'ה רוצים לראות סרט אימה הערב. יש משהו ממש מפחיד שאתה מכיר?\",\n",
    "    \"תגיד, יש איזה סדרת מדע בדיוני שווה בפרטנר TV או בסלקום TV?\",\n",
    "    \"בא לי לראות סרט ישראלי טוב, יש משהו מומלץ לאחרונה?\",\n",
    "    \"מחפש סדרה לבינג', משהו שאפשר לטחון בסופ\\\"ש. ז'אנר פחות קריטי, העיקר שתהיה ממכרת.\",\n",
    "    \"יש סרטי דוקו מעניינים בדיסני פלוס או באפל טי וי?\",\n",
    "    \"סתם תן המלצה לסרט טוב שראית לאחרונה, לא משנה לי הז'אנר או הפלטפורמה.\"\n",
    "\n",
    "]\n",
    "\n",
    "second_question = 'למה המלצת לי על זה?'\n",
    "thierd_question = 'איזה יצירה המבקר העדיף יותר?'"
   ]
  },
  {
   "cell_type": "code",
   "execution_count": 2,
   "metadata": {},
   "outputs": [],
   "source": [
    "counter = 10"
   ]
  },
  {
   "cell_type": "code",
   "execution_count": 3,
   "metadata": {},
   "outputs": [
    {
     "name": "stderr",
     "output_type": "stream",
     "text": [
      "/Users/roeishlezinger/Desktop/movie-recommendation-chatbot/src/tools/search/utillity/qdrant.py:9: UserWarning: Qdrant client version 1.13.3 is incompatible with server version 1.8.4. Major versions should match and minor version difference must not exceed 1. Set check_version=False to skip version check.\n",
      "  self.client_qdrant = QdrantClient(config)\n",
      "{\"message\": \"Successfully initialized genai client.\"}\n",
      "{\"message\": \"LLMClient initialized for model: gemini-2.0-flash\"}\n",
      "{\"message\": \"Successfully connected to Redis.\"}\n",
      "{\"message\": \"No history found for user 10 in Redis.\"}\n",
      "{\"message\": \"Successfully created new chat session.\"}\n"
     ]
    },
    {
     "name": "stdout",
     "output_type": "stream",
     "text": [
      "Article ID: 00000194-25d6-dcc4-a1d7-3df6703c0000\n",
      "Question: אני רוצה לקרוא ביקורת על הסרט החדש של לוקה גואדנינו, זה שמבוסס על ספר של בורוז על הומו שחי במקסיקו בשנות ה-50 ומחפש גברים צעירים.\n"
     ]
    },
    {
     "name": "stderr",
     "output_type": "stream",
     "text": [
      "Warning: there are non-text parts in the response: ['function_call'],returning concatenated text result from text parts,check out the non text parts for full response from model.\n",
      "{\"message\": \"Processing function call: recommendations_for_tv_and_movies with args: {'query': '\\u05d0\\u05e0\\u05d9 \\u05e8\\u05d5\\u05e6\\u05d4 \\u05dc\\u05e7\\u05e8\\u05d5\\u05d0 \\u05d1\\u05d9\\u05e7\\u05d5\\u05e8\\u05ea \\u05e2\\u05dc \\u05d4\\u05e1\\u05e8\\u05d8 \\u05d4\\u05d7\\u05d3\\u05e9 \\u05e9\\u05dc \\u05dc\\u05d5\\u05e7\\u05d4 \\u05d2\\u05d5\\u05d0\\u05d3\\u05e0\\u05d9\\u05e0\\u05d5, \\u05d6\\u05d4 \\u05e9\\u05de\\u05d1\\u05d5\\u05e1\\u05e1 \\u05e2\\u05dc \\u05e1\\u05e4\\u05e8 \\u05e9\\u05dc \\u05d1\\u05d5\\u05e8\\u05d5\\u05d6 \\u05e2\\u05dc \\u05d4\\u05d5\\u05de\\u05d5 \\u05e9\\u05d7\\u05d9 \\u05d1\\u05de\\u05e7\\u05e1\\u05d9\\u05e7\\u05d5 \\u05d1\\u05e9\\u05e0\\u05d5\\u05ea \\u05d4-50 \\u05d5\\u05de\\u05d7\\u05e4\\u05e9 \\u05d2\\u05d1\\u05e8\\u05d9\\u05dd \\u05e6\\u05e2\\u05d9\\u05e8\\u05d9\\u05dd.'}\"}\n",
      "{\"message\": \"Query is likely Hebrew, returning original query.\"}\n",
      "{\"message\": \"Retrieving relevant documents for query: '\\u05d0\\u05e0\\u05d9 \\u05e8\\u05d5\\u05e6\\u05d4 \\u05dc\\u05e7\\u05e8\\u05d5\\u05d0 \\u05d1\\u05d9\\u05e7\\u05d5\\u05e8\\u05ea \\u05e2\\u05dc \\u05d4\\u05e1\\u05e8\\u05d8 \\u05d4\\u05d7\\u05d3\\u05e9 \\u05e9\\u05dc \\u05dc\\u05d5\\u05e7\\u05d4 \\u05d2\\u05d5\\u05d0\\u05d3\\u05e0\\u05d9\\u05e0\\u05d5, \\u05d6\\u05d4 \\u05e9\\u05de\\u05d1\\u05d5\\u05e1\\u05e1 \\u05e2\\u05dc \\u05e1\\u05e4\\u05e8 \\u05e9\\u05dc \\u05d1\\u05d5\\u05e8\\u05d5\\u05d6 \\u05e2\\u05dc \\u05d4\\u05d5\\u05de\\u05d5 \\u05e9\\u05d7\\u05d9 \\u05d1\\u05de\\u05e7\\u05e1\\u05d9\\u05e7\\u05d5 \\u05d1\\u05e9\\u05e0\\u05d5\\u05ea \\u05d4-50 \\u05d5\\u05de\\u05d7\\u05e4\\u05e9 \\u05d2\\u05d1\\u05e8\\u05d9\\u05dd \\u05e6\\u05e2\\u05d9\\u05e8\\u05d9\\u05dd.'\"}\n",
      "{\"message\": \"Tool 'recommendations_for_tv_and_movies' executed successfully for query: '\\u05d0\\u05e0\\u05d9 \\u05e8\\u05d5\\u05e6\\u05d4 \\u05dc\\u05e7\\u05e8\\u05d5\\u05d0 \\u05d1\\u05d9\\u05e7\\u05d5\\u05e8\\u05ea \\u05e2\\u05dc \\u05d4\\u05e1\\u05e8\\u05d8 \\u05d4\\u05d7\\u05d3\\u05e9 \\u05e9\\u05dc \\u05dc\\u05d5\\u05e7\\u05d4 \\u05d2\\u05d5\\u05d0\\u05d3\\u05e0\\u05d9\\u05e0\\u05d5, \\u05d6\\u05d4 \\u05e9\\u05de\\u05d1\\u05d5\\u05e1\\u05e1 \\u05e2\\u05dc \\u05e1\\u05e4\\u05e8 \\u05e9\\u05dc \\u05d1\\u05d5\\u05e8\\u05d5\\u05d6 \\u05e2\\u05dc \\u05d4\\u05d5\\u05de\\u05d5 \\u05e9\\u05d7\\u05d9 \\u05d1\\u05de\\u05e7\\u05e1\\u05d9\\u05e7\\u05d5 \\u05d1\\u05e9\\u05e0\\u05d5\\u05ea \\u05d4-50 \\u05d5\\u05de\\u05d7\\u05e4\\u05e9 \\u05d2\\u05d1\\u05e8\\u05d9\\u05dd \\u05e6\\u05e2\\u05d9\\u05e8\\u05d9\\u05dd.'. Results obtained.\"}\n",
      "{\"message\": \"Generated 1 function response parts.\"}\n"
     ]
    },
    {
     "name": "stdout",
     "output_type": "stream",
     "text": [
      "[{\"article_id\": \"00000194-25d6-dcc4-a1d7-3df6703c0000\", \"article_name\": \"\\\"קוויר\\\": מרתק לראות את דניאל קרייג מפגין שילוב של חולשה וגבריות יהירה\", \"writer_name\": [\"פבלו אוטין\"]}, {\"article_id\": \"0000017f-e3db-df7c-a5ff-e3fbc9000000\", \"article_name\": \"אז איך זה נראה כשהוליווד המיינסטרימית עוסקת סוף סוף במתבגרים הומואים?\", \"writer_name\": [\"אורי קליין\"]}]מצאתי שני מאמרים רלוונטיים:\n",
      "\n",
      "1.  **\"קוויר\": מרתק לראות את דניאל קרייג מפגין שילוב של חולשה וגבריות יהירה** מאת פבלו אוטין, סקירה על סרטו החדש של לוקה גואדנינו \"קוויר\", עיבוד לספרו של ויליאם ס' בורוז. המאמר מתאר את עלילת הסרט, את הסגנון האומנותי שלו, ואת הופעתו של דניאל קרייג בתפקיד הראשי.\n",
      "2.  **אז איך זה נראה כשהוליווד המיינסטרימית עוסקת סוף סוף במתבגרים הומואים?** מאת אורי קליין, ביקורת על הסרט \"באהבה, סיימון\" של גרג ברלאנטי. המאמר משווה את הסרט לסרטים אחרים שעסקו בנושאים דומים, ודן באופן בו הסרט מייצג מתבגרים הומואים.\n",
      "\n",
      "האם תרצה שאספק לך מידע נוסף על אחד מהמאמרים האלה? לדוגמה, תוכל לשאול:\n",
      "* מה דעתו של פבלו אוטין על הסרט \"קוויר\"?\n",
      "* מה אורי קליין חושב על \"באהבה, סיימון\" בהשוואה ל\"קרא לי בשמך\"?"
     ]
    },
    {
     "name": "stderr",
     "output_type": "stream",
     "text": [
      "{\"message\": \"No history found for user 11 in Redis.\"}\n",
      "{\"message\": \"Successfully created new chat session.\"}\n"
     ]
    },
    {
     "name": "stdout",
     "output_type": "stream",
     "text": [
      "Article ID: 00000194-2618-dd68-a3be-e6fc06680000\n",
      "Question: אני מחפש ביקורת על הסרט החדש עם ניקול קידמן, זה שהיא משחקת בו מנכ\"לית חברת רובוטיקה שיש לה רומן עם מתמחה צעיר. הסרט הוקרן בפסטיבל ונציה, איך הוא?.\n"
     ]
    },
    {
     "name": "stderr",
     "output_type": "stream",
     "text": [
      "Warning: there are non-text parts in the response: ['function_call'],returning concatenated text result from text parts,check out the non text parts for full response from model.\n",
      "{\"message\": \"Processing function call: recommendations_for_tv_and_movies with args: {'query': '\\u05d1\\u05d9\\u05e7\\u05d5\\u05e8\\u05ea \\u05e2\\u05dc \\u05d4\\u05e1\\u05e8\\u05d8 \\u05d4\\u05d7\\u05d3\\u05e9 \\u05e2\\u05dd \\u05e0\\u05d9\\u05e7\\u05d5\\u05dc \\u05e7\\u05d9\\u05d3\\u05de\\u05df, \\u05de\\u05e0\\u05db\\u05dc\\u05d9\\u05ea \\u05d7\\u05d1\\u05e8\\u05ea \\u05e8\\u05d5\\u05d1\\u05d5\\u05d8\\u05d9\\u05e7\\u05d4 \\u05d5\\u05e8\\u05d5\\u05de\\u05df \\u05e2\\u05dd \\u05de\\u05ea\\u05de\\u05d7\\u05d4, \\u05e4\\u05e1\\u05d8\\u05d9\\u05d1\\u05dc \\u05d5\\u05e0\\u05e6\\u05d9\\u05d4'}\"}\n",
      "{\"message\": \"Query is likely Hebrew, returning original query.\"}\n",
      "{\"message\": \"Retrieving relevant documents for query: '\\u05d1\\u05d9\\u05e7\\u05d5\\u05e8\\u05ea \\u05e2\\u05dc \\u05d4\\u05e1\\u05e8\\u05d8 \\u05d4\\u05d7\\u05d3\\u05e9 \\u05e2\\u05dd \\u05e0\\u05d9\\u05e7\\u05d5\\u05dc \\u05e7\\u05d9\\u05d3\\u05de\\u05df, \\u05de\\u05e0\\u05db\\u05dc\\u05d9\\u05ea \\u05d7\\u05d1\\u05e8\\u05ea \\u05e8\\u05d5\\u05d1\\u05d5\\u05d8\\u05d9\\u05e7\\u05d4 \\u05d5\\u05e8\\u05d5\\u05de\\u05df \\u05e2\\u05dd \\u05de\\u05ea\\u05de\\u05d7\\u05d4, \\u05e4\\u05e1\\u05d8\\u05d9\\u05d1\\u05dc \\u05d5\\u05e0\\u05e6\\u05d9\\u05d4'\"}\n",
      "{\"message\": \"Tool 'recommendations_for_tv_and_movies' executed successfully for query: '\\u05d1\\u05d9\\u05e7\\u05d5\\u05e8\\u05ea \\u05e2\\u05dc \\u05d4\\u05e1\\u05e8\\u05d8 \\u05d4\\u05d7\\u05d3\\u05e9 \\u05e2\\u05dd \\u05e0\\u05d9\\u05e7\\u05d5\\u05dc \\u05e7\\u05d9\\u05d3\\u05de\\u05df, \\u05de\\u05e0\\u05db\\u05dc\\u05d9\\u05ea \\u05d7\\u05d1\\u05e8\\u05ea \\u05e8\\u05d5\\u05d1\\u05d5\\u05d8\\u05d9\\u05e7\\u05d4 \\u05d5\\u05e8\\u05d5\\u05de\\u05df \\u05e2\\u05dd \\u05de\\u05ea\\u05de\\u05d7\\u05d4, \\u05e4\\u05e1\\u05d8\\u05d9\\u05d1\\u05dc \\u05d5\\u05e0\\u05e6\\u05d9\\u05d4'. Results obtained.\"}\n",
      "{\"message\": \"Generated 1 function response parts.\"}\n"
     ]
    },
    {
     "name": "stdout",
     "output_type": "stream",
     "text": [
      "[{\"article_id\": \"00000194-2618-dd68-a3be-e6fc06680000\", \"article_name\": \"\\\"בייביגירל\\\": הסרט החדש של ניקול קידמן מגרה בעיקר את המוח\", \"writer_name\": [\"אורון שמיר\"]}, {\"article_id\": \"0000017f-e073-d804-ad7f-f1fb05d40000\", \"article_name\": \"\\\"קימי\\\" מתחיל כמו \\\"חלון אחורי\\\" ומחליף הילוך ל\\\"ראן לולה ראן\\\"\", \"writer_name\": [\"אורון שמיר\"]}]"
     ]
    },
    {
     "ename": "ClientError",
     "evalue": "400 INVALID_ARGUMENT. {'error': {'code': 400, 'message': 'Please ensure that the number of function response parts is equal to the number of function call parts of the function call turn.', 'status': 'INVALID_ARGUMENT'}}",
     "output_type": "error",
     "traceback": [
      "\u001b[31m---------------------------------------------------------------------------\u001b[39m",
      "\u001b[31mClientError\u001b[39m                               Traceback (most recent call last)",
      "\u001b[36mCell\u001b[39m\u001b[36m \u001b[39m\u001b[32mIn[3]\u001b[39m\u001b[32m, line 20\u001b[39m\n\u001b[32m     18\u001b[39m \u001b[38;5;28mprint\u001b[39m(\u001b[33mf\u001b[39m\u001b[33m\"\u001b[39m\u001b[33mQuestion: \u001b[39m\u001b[38;5;132;01m{\u001b[39;00mquestion\u001b[38;5;132;01m}\u001b[39;00m\u001b[33m\"\u001b[39m)\n\u001b[32m     19\u001b[39m full_response = \u001b[33m\"\u001b[39m\u001b[33m\"\u001b[39m\n\u001b[32m---> \u001b[39m\u001b[32m20\u001b[39m \u001b[38;5;28;01masync\u001b[39;00m \u001b[38;5;28;01mfor\u001b[39;00m chunk \u001b[38;5;129;01min\u001b[39;00m llm_client.streaming_message(question,\u001b[33mf\u001b[39m\u001b[33m'\u001b[39m\u001b[38;5;132;01m{\u001b[39;00mcounter\u001b[38;5;132;01m}\u001b[39;00m\u001b[33m'\u001b[39m):\n\u001b[32m     21\u001b[39m     full_response += chunk\n\u001b[32m     22\u001b[39m     \u001b[38;5;28mprint\u001b[39m(chunk, end=\u001b[33m'\u001b[39m\u001b[33m'\u001b[39m, flush=\u001b[38;5;28;01mTrue\u001b[39;00m)\n",
      "\u001b[36mFile \u001b[39m\u001b[32m~/Desktop/movie-recommendation-chatbot/src/llm_api_client.py:255\u001b[39m, in \u001b[36mLLMClient.streaming_message\u001b[39m\u001b[34m(self, message, user_id)\u001b[39m\n\u001b[32m    252\u001b[39m \u001b[38;5;28;01myield\u001b[39;00m metadata\n\u001b[32m    254\u001b[39m response_stream_after_fc = \u001b[38;5;28mself\u001b[39m.chat_session.send_message_stream(function_response_parts)\n\u001b[32m--> \u001b[39m\u001b[32m255\u001b[39m \u001b[43m\u001b[49m\u001b[38;5;28;43;01mfor\u001b[39;49;00m\u001b[43m \u001b[49m\u001b[43mfinal_chunk\u001b[49m\u001b[43m \u001b[49m\u001b[38;5;129;43;01min\u001b[39;49;00m\u001b[43m \u001b[49m\u001b[43mresponse_stream_after_fc\u001b[49m\u001b[43m:\u001b[49m\n\u001b[32m    256\u001b[39m \u001b[43m    \u001b[49m\u001b[38;5;28;43;01mif\u001b[39;49;00m\u001b[43m \u001b[49m\u001b[43mfinal_chunk\u001b[49m\u001b[43m.\u001b[49m\u001b[43mtext\u001b[49m\u001b[43m:\u001b[49m\n\u001b[32m    257\u001b[39m \u001b[43m        \u001b[49m\u001b[38;5;28;43;01myield\u001b[39;49;00m\u001b[43m \u001b[49m\u001b[43mfinal_chunk\u001b[49m\u001b[43m.\u001b[49m\u001b[43mtext\u001b[49m\n",
      "\u001b[36mFile \u001b[39m\u001b[32m~/Desktop/movie-recommendation-chatbot/.venv/lib/python3.12/site-packages/google/genai/chats.py:316\u001b[39m, in \u001b[36mChat.send_message_stream\u001b[39m\u001b[34m(self, message, config)\u001b[39m\n\u001b[32m    314\u001b[39m chunk = \u001b[38;5;28;01mNone\u001b[39;00m\n\u001b[32m    315\u001b[39m \u001b[38;5;28;01mif\u001b[39;00m \u001b[38;5;28misinstance\u001b[39m(\u001b[38;5;28mself\u001b[39m._modules, Models):\n\u001b[32m--> \u001b[39m\u001b[32m316\u001b[39m \u001b[43m  \u001b[49m\u001b[38;5;28;43;01mfor\u001b[39;49;00m\u001b[43m \u001b[49m\u001b[43mchunk\u001b[49m\u001b[43m \u001b[49m\u001b[38;5;129;43;01min\u001b[39;49;00m\u001b[43m \u001b[49m\u001b[38;5;28;43mself\u001b[39;49m\u001b[43m.\u001b[49m\u001b[43m_modules\u001b[49m\u001b[43m.\u001b[49m\u001b[43mgenerate_content_stream\u001b[49m\u001b[43m(\u001b[49m\n\u001b[32m    317\u001b[39m \u001b[43m      \u001b[49m\u001b[43mmodel\u001b[49m\u001b[43m=\u001b[49m\u001b[38;5;28;43mself\u001b[39;49m\u001b[43m.\u001b[49m\u001b[43m_model\u001b[49m\u001b[43m,\u001b[49m\n\u001b[32m    318\u001b[39m \u001b[43m      \u001b[49m\u001b[43mcontents\u001b[49m\u001b[43m=\u001b[49m\u001b[38;5;28;43mself\u001b[39;49m\u001b[43m.\u001b[49m\u001b[43m_curated_history\u001b[49m\u001b[43m \u001b[49m\u001b[43m+\u001b[49m\u001b[43m \u001b[49m\u001b[43m[\u001b[49m\u001b[43minput_content\u001b[49m\u001b[43m]\u001b[49m\u001b[43m,\u001b[49m\u001b[43m  \u001b[49m\u001b[38;5;66;43;03m# type: ignore[arg-type]\u001b[39;49;00m\n\u001b[32m    319\u001b[39m \u001b[43m      \u001b[49m\u001b[43mconfig\u001b[49m\u001b[43m=\u001b[49m\u001b[43mconfig\u001b[49m\u001b[43m \u001b[49m\u001b[38;5;28;43;01mif\u001b[39;49;00m\u001b[43m \u001b[49m\u001b[43mconfig\u001b[49m\u001b[43m \u001b[49m\u001b[38;5;28;43;01melse\u001b[39;49;00m\u001b[43m \u001b[49m\u001b[38;5;28;43mself\u001b[39;49m\u001b[43m.\u001b[49m\u001b[43m_config\u001b[49m\u001b[43m,\u001b[49m\n\u001b[32m    320\u001b[39m \u001b[43m  \u001b[49m\u001b[43m)\u001b[49m\u001b[43m:\u001b[49m\n\u001b[32m    321\u001b[39m \u001b[43m    \u001b[49m\u001b[38;5;28;43;01mif\u001b[39;49;00m\u001b[43m \u001b[49m\u001b[38;5;129;43;01mnot\u001b[39;49;00m\u001b[43m \u001b[49m\u001b[43m_validate_response\u001b[49m\u001b[43m(\u001b[49m\u001b[43mchunk\u001b[49m\u001b[43m)\u001b[49m\u001b[43m:\u001b[49m\n\u001b[32m    322\u001b[39m \u001b[43m      \u001b[49m\u001b[43mis_valid\u001b[49m\u001b[43m \u001b[49m\u001b[43m=\u001b[49m\u001b[43m \u001b[49m\u001b[38;5;28;43;01mFalse\u001b[39;49;00m\n",
      "\u001b[36mFile \u001b[39m\u001b[32m~/Desktop/movie-recommendation-chatbot/.venv/lib/python3.12/site-packages/google/genai/models.py:5079\u001b[39m, in \u001b[36mModels.generate_content_stream\u001b[39m\u001b[34m(self, model, contents, config)\u001b[39m\n\u001b[32m   5073\u001b[39m function_map = _extra_utils.get_function_map(config)\n\u001b[32m   5075\u001b[39m \u001b[38;5;28;01mif\u001b[39;00m i == \u001b[32m1\u001b[39m:\n\u001b[32m   5076\u001b[39m   \u001b[38;5;66;03m# First request gets a function call.\u001b[39;00m\n\u001b[32m   5077\u001b[39m   \u001b[38;5;66;03m# Then get function response parts.\u001b[39;00m\n\u001b[32m   5078\u001b[39m   \u001b[38;5;66;03m# Yield chunks only if there's no function response parts.\u001b[39;00m\n\u001b[32m-> \u001b[39m\u001b[32m5079\u001b[39m \u001b[43m  \u001b[49m\u001b[38;5;28;43;01mfor\u001b[39;49;00m\u001b[43m \u001b[49m\u001b[43mchunk\u001b[49m\u001b[43m \u001b[49m\u001b[38;5;129;43;01min\u001b[39;49;00m\u001b[43m \u001b[49m\u001b[43mresponse\u001b[49m\u001b[43m:\u001b[49m\n\u001b[32m   5080\u001b[39m \u001b[43m    \u001b[49m\u001b[38;5;28;43;01mif\u001b[39;49;00m\u001b[43m \u001b[49m\u001b[38;5;129;43;01mnot\u001b[39;49;00m\u001b[43m \u001b[49m\u001b[43mfunction_map\u001b[49m\u001b[43m:\u001b[49m\n\u001b[32m   5081\u001b[39m \u001b[43m      \u001b[49m\u001b[38;5;28;43;01myield\u001b[39;49;00m\u001b[43m \u001b[49m\u001b[43mchunk\u001b[49m\n",
      "\u001b[36mFile \u001b[39m\u001b[32m~/Desktop/movie-recommendation-chatbot/.venv/lib/python3.12/site-packages/google/genai/models.py:3988\u001b[39m, in \u001b[36mModels._generate_content_stream\u001b[39m\u001b[34m(self, model, contents, config)\u001b[39m\n\u001b[32m   3985\u001b[39m request_dict = _common.convert_to_dict(request_dict)\n\u001b[32m   3986\u001b[39m request_dict = _common.encode_unserializable_types(request_dict)\n\u001b[32m-> \u001b[39m\u001b[32m3988\u001b[39m \u001b[43m\u001b[49m\u001b[38;5;28;43;01mfor\u001b[39;49;00m\u001b[43m \u001b[49m\u001b[43mresponse_dict\u001b[49m\u001b[43m \u001b[49m\u001b[38;5;129;43;01min\u001b[39;49;00m\u001b[43m \u001b[49m\u001b[38;5;28;43mself\u001b[39;49m\u001b[43m.\u001b[49m\u001b[43m_api_client\u001b[49m\u001b[43m.\u001b[49m\u001b[43mrequest_streamed\u001b[49m\u001b[43m(\u001b[49m\n\u001b[32m   3989\u001b[39m \u001b[43m    \u001b[49m\u001b[33;43m'\u001b[39;49m\u001b[33;43mpost\u001b[39;49m\u001b[33;43m'\u001b[39;49m\u001b[43m,\u001b[49m\u001b[43m \u001b[49m\u001b[43mpath\u001b[49m\u001b[43m,\u001b[49m\u001b[43m \u001b[49m\u001b[43mrequest_dict\u001b[49m\u001b[43m,\u001b[49m\u001b[43m \u001b[49m\u001b[43mhttp_options\u001b[49m\n\u001b[32m   3990\u001b[39m \u001b[43m\u001b[49m\u001b[43m)\u001b[49m\u001b[43m:\u001b[49m\n\u001b[32m   3992\u001b[39m \u001b[43m  \u001b[49m\u001b[38;5;28;43;01mif\u001b[39;49;00m\u001b[43m \u001b[49m\u001b[38;5;28;43mself\u001b[39;49m\u001b[43m.\u001b[49m\u001b[43m_api_client\u001b[49m\u001b[43m.\u001b[49m\u001b[43mvertexai\u001b[49m\u001b[43m:\u001b[49m\n\u001b[32m   3993\u001b[39m \u001b[43m    \u001b[49m\u001b[43mresponse_dict\u001b[49m\u001b[43m \u001b[49m\u001b[43m=\u001b[49m\u001b[43m \u001b[49m\u001b[43m_GenerateContentResponse_from_vertex\u001b[49m\u001b[43m(\u001b[49m\n\u001b[32m   3994\u001b[39m \u001b[43m        \u001b[49m\u001b[38;5;28;43mself\u001b[39;49m\u001b[43m.\u001b[49m\u001b[43m_api_client\u001b[49m\u001b[43m,\u001b[49m\u001b[43m \u001b[49m\u001b[43mresponse_dict\u001b[49m\n\u001b[32m   3995\u001b[39m \u001b[43m    \u001b[49m\u001b[43m)\u001b[49m\n",
      "\u001b[36mFile \u001b[39m\u001b[32m~/Desktop/movie-recommendation-chatbot/.venv/lib/python3.12/site-packages/google/genai/_api_client.py:674\u001b[39m, in \u001b[36mBaseApiClient.request_streamed\u001b[39m\u001b[34m(self, http_method, path, request_dict, http_options)\u001b[39m\n\u001b[32m    663\u001b[39m \u001b[38;5;28;01mdef\u001b[39;00m\u001b[38;5;250m \u001b[39m\u001b[34mrequest_streamed\u001b[39m(\n\u001b[32m    664\u001b[39m     \u001b[38;5;28mself\u001b[39m,\n\u001b[32m    665\u001b[39m     http_method: \u001b[38;5;28mstr\u001b[39m,\n\u001b[32m   (...)\u001b[39m\u001b[32m    668\u001b[39m     http_options: Optional[HttpOptionsOrDict] = \u001b[38;5;28;01mNone\u001b[39;00m,\n\u001b[32m    669\u001b[39m ):\n\u001b[32m    670\u001b[39m   http_request = \u001b[38;5;28mself\u001b[39m._build_request(\n\u001b[32m    671\u001b[39m       http_method, path, request_dict, http_options\n\u001b[32m    672\u001b[39m   )\n\u001b[32m--> \u001b[39m\u001b[32m674\u001b[39m   session_response = \u001b[38;5;28;43mself\u001b[39;49m\u001b[43m.\u001b[49m\u001b[43m_request\u001b[49m\u001b[43m(\u001b[49m\u001b[43mhttp_request\u001b[49m\u001b[43m,\u001b[49m\u001b[43m \u001b[49m\u001b[43mstream\u001b[49m\u001b[43m=\u001b[49m\u001b[38;5;28;43;01mTrue\u001b[39;49;00m\u001b[43m)\u001b[49m\n\u001b[32m    675\u001b[39m   \u001b[38;5;28;01mfor\u001b[39;00m chunk \u001b[38;5;129;01min\u001b[39;00m session_response.segments():\n\u001b[32m    676\u001b[39m     \u001b[38;5;28;01myield\u001b[39;00m chunk\n",
      "\u001b[36mFile \u001b[39m\u001b[32m~/Desktop/movie-recommendation-chatbot/.venv/lib/python3.12/site-packages/google/genai/_api_client.py:572\u001b[39m, in \u001b[36mBaseApiClient._request\u001b[39m\u001b[34m(self, http_request, stream)\u001b[39m\n\u001b[32m    564\u001b[39m   httpx_request = \u001b[38;5;28mself\u001b[39m._httpx_client.build_request(\n\u001b[32m    565\u001b[39m       method=http_request.method,\n\u001b[32m    566\u001b[39m       url=http_request.url,\n\u001b[32m   (...)\u001b[39m\u001b[32m    569\u001b[39m       timeout=http_request.timeout,\n\u001b[32m    570\u001b[39m   )\n\u001b[32m    571\u001b[39m   response = \u001b[38;5;28mself\u001b[39m._httpx_client.send(httpx_request, stream=stream)\n\u001b[32m--> \u001b[39m\u001b[32m572\u001b[39m   \u001b[43merrors\u001b[49m\u001b[43m.\u001b[49m\u001b[43mAPIError\u001b[49m\u001b[43m.\u001b[49m\u001b[43mraise_for_response\u001b[49m\u001b[43m(\u001b[49m\u001b[43mresponse\u001b[49m\u001b[43m)\u001b[49m\n\u001b[32m    573\u001b[39m   \u001b[38;5;28;01mreturn\u001b[39;00m HttpResponse(\n\u001b[32m    574\u001b[39m       response.headers, response \u001b[38;5;28;01mif\u001b[39;00m stream \u001b[38;5;28;01melse\u001b[39;00m [response.text]\n\u001b[32m    575\u001b[39m   )\n\u001b[32m    576\u001b[39m \u001b[38;5;28;01melse\u001b[39;00m:\n",
      "\u001b[36mFile \u001b[39m\u001b[32m~/Desktop/movie-recommendation-chatbot/.venv/lib/python3.12/site-packages/google/genai/errors.py:101\u001b[39m, in \u001b[36mAPIError.raise_for_response\u001b[39m\u001b[34m(cls, response)\u001b[39m\n\u001b[32m     99\u001b[39m status_code = response.status_code\n\u001b[32m    100\u001b[39m \u001b[38;5;28;01mif\u001b[39;00m \u001b[32m400\u001b[39m <= status_code < \u001b[32m500\u001b[39m:\n\u001b[32m--> \u001b[39m\u001b[32m101\u001b[39m   \u001b[38;5;28;01mraise\u001b[39;00m ClientError(status_code, response_json, response)\n\u001b[32m    102\u001b[39m \u001b[38;5;28;01melif\u001b[39;00m \u001b[32m500\u001b[39m <= status_code < \u001b[32m600\u001b[39m:\n\u001b[32m    103\u001b[39m   \u001b[38;5;28;01mraise\u001b[39;00m ServerError(status_code, response_json, response)\n",
      "\u001b[31mClientError\u001b[39m: 400 INVALID_ARGUMENT. {'error': {'code': 400, 'message': 'Please ensure that the number of function response parts is equal to the number of function call parts of the function call turn.', 'status': 'INVALID_ARGUMENT'}}"
     ]
    }
   ],
   "source": [
    "from src.llm_api_client import LLMClient\n",
    "from config.load_config import load_config\n",
    "\n",
    "prompts = load_config(\"config/prompts.yaml\")\n",
    "sys_instruct = prompts.get(\"system_instructions\")\n",
    "config = load_config(\"config/config.yaml\")\n",
    "llm_config = config.get(\"llm\", {})\n",
    "api_key = llm_config.get(\"GOOGLE_API_KEY\")\n",
    "model_name = llm_config.get(\"llm_model_name\")\n",
    "\n",
    "result = []\n",
    "\n",
    "llm_client = LLMClient(model_name=model_name, api_key=api_key, sys_instruct=sys_instruct, config=config)\n",
    "for q in first_question_article:\n",
    "    article_id = q.get('article_id')\n",
    "    question = q.get('question')\n",
    "    print(f\"Article ID: {article_id}\")\n",
    "    print(f\"Question: {question}\")\n",
    "    full_response = \"\"\n",
    "    async for chunk in llm_client.streaming_message(question,f'{counter}'):\n",
    "        full_response += chunk\n",
    "        print(chunk, end='', flush=True)\n",
    "    counter += 1\n",
    "\n",
    "    result.append({\n",
    "        'article_id': article_id,\n",
    "        'question': question,\n",
    "        'answer': full_response\n",
    "        \n",
    "    })\n",
    "    "
   ]
  },
  {
   "cell_type": "code",
   "execution_count": 4,
   "metadata": {},
   "outputs": [
    {
     "data": {
      "text/plain": [
       "[{'article_id': '00000194-25d6-dcc4-a1d7-3df6703c0000',\n",
       "  'question': 'אני רוצה לקרוא ביקורת על הסרט החדש של לוקה גואדנינו, זה שמבוסס על ספר של בורוז על הומו שחי במקסיקו בשנות ה-50 ומחפש גברים צעירים.',\n",
       "  'answer': '[{\"article_id\": \"00000194-25d6-dcc4-a1d7-3df6703c0000\", \"article_name\": \"\\\\\"קוויר\\\\\": מרתק לראות את דניאל קרייג מפגין שילוב של חולשה וגבריות יהירה\", \"writer_name\": [\"פבלו אוטין\"]}, {\"article_id\": \"0000017f-e3db-df7c-a5ff-e3fbc9000000\", \"article_name\": \"אז איך זה נראה כשהוליווד המיינסטרימית עוסקת סוף סוף במתבגרים הומואים?\", \"writer_name\": [\"אורי קליין\"]}]מצאתי שני מאמרים רלוונטיים:\\n\\n1.  **\"קוויר\": מרתק לראות את דניאל קרייג מפגין שילוב של חולשה וגבריות יהירה** מאת פבלו אוטין, סקירה על סרטו החדש של לוקה גואדנינו \"קוויר\", עיבוד לספרו של ויליאם ס\\' בורוז. המאמר מתאר את עלילת הסרט, את הסגנון האומנותי שלו, ואת הופעתו של דניאל קרייג בתפקיד הראשי.\\n2.  **אז איך זה נראה כשהוליווד המיינסטרימית עוסקת סוף סוף במתבגרים הומואים?** מאת אורי קליין, ביקורת על הסרט \"באהבה, סיימון\" של גרג ברלאנטי. המאמר משווה את הסרט לסרטים אחרים שעסקו בנושאים דומים, ודן באופן בו הסרט מייצג מתבגרים הומואים.\\n\\nהאם תרצה שאספק לך מידע נוסף על אחד מהמאמרים האלה? לדוגמה, תוכל לשאול:\\n* מה דעתו של פבלו אוטין על הסרט \"קוויר\"?\\n* מה אורי קליין חושב על \"באהבה, סיימון\" בהשוואה ל\"קרא לי בשמך\"?'}]"
      ]
     },
     "execution_count": 4,
     "metadata": {},
     "output_type": "execute_result"
    }
   ],
   "source": [
    "result"
   ]
  },
  {
   "cell_type": "code",
   "execution_count": null,
   "metadata": {},
   "outputs": [],
   "source": []
  }
 ],
 "metadata": {
  "kernelspec": {
   "display_name": ".venv",
   "language": "python",
   "name": "python3"
  },
  "language_info": {
   "codemirror_mode": {
    "name": "ipython",
    "version": 3
   },
   "file_extension": ".py",
   "mimetype": "text/x-python",
   "name": "python",
   "nbconvert_exporter": "python",
   "pygments_lexer": "ipython3",
   "version": "3.12.8"
  }
 },
 "nbformat": 4,
 "nbformat_minor": 2
}
