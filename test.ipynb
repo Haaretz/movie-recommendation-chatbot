{
 "cells": [
  {
   "cell_type": "code",
   "execution_count": 1,
   "metadata": {},
   "outputs": [],
   "source": [
    "first_question_article = [\n",
    "     {'article_id': '00000194-25d6-dcc4-a1d7-3df6703c0000',\n",
    "      'question': 'אני רוצה לקרוא ביקורת על הסרט החדש של לוקה גואדנינו, זה שמבוסס על ספר של בורוז על הומו שחי במקסיקו בשנות ה-50 ומחפש גברים צעירים.'},\n",
    "      {'article_id': '00000194-2618-dd68-a3be-e6fc06680000',\n",
    "       'question': 'אני מחפש ביקורת על הסרט החדש עם ניקול קידמן, זה שהיא משחקת בו מנכ\"לית חברת רובוטיקה שיש לה רומן עם מתמחה צעיר. הסרט הוקרן בפסטיבל ונציה, איך הוא?.'\n",
    "       },\n",
    "       {'article_id': '00000194-2681-ddb6-afdd-77e781220000',\n",
    "        'question': 'אני מחפש ביקורת על הסרט החדש של עמוס גיתאי, זה שעוסק בשאלה למה יש מלחמות ומשתמש במכתבים של איינשטיין ופרויד.'\n",
    "        },\n",
    "        {'article_id': '00000194-2b97-‎d9c2-a79e-2bd7330c0000',\n",
    "            'question': 'אפשר בבקשה ביקורת על הסרט החדש \"נוספרטו\" של רוברט אגרס? אני רוצה לדעת אם הוא נאמן למקורות של סרטי הערפדים הקלאסיים ואיך השחקנים הראשיים, במיוחד לילי-רוז דפ, משחקים?'\n",
    "        },\n",
    "        {'article_id': '00000194-319b-d555-abbc-b1dfdf250000',\n",
    "            'question': '\"אני מחפש ביקורת על סרט חדש שמוקרן בפסטיבל חיפה, על אישה אלכוהוליסטית בשם רונה שחוזרת לאי הולדתה בסקוטלנד כדי להתמודד עם ההתמכרות שלה. מישהי כתבה על זה ביקורת?'\n",
    "        },\n",
    "        {\n",
    "            'article_id': '00000194-31db-ddaf-adb7-7bfbaf200000',\n",
    "            'question': 'אני מחפש סרט איראני חדש שמתרחש בטהרן ועוסק במשפחה שאבא שלה שופט ורואים בו גם קטעים מההפגנות שם. ראיתי שהקרינו אותו בפסטיבל חיפה'\n",
    "        },\n",
    "        {'article_id': '00000194-34df-d39d-a196-b7ff86ce0000',\n",
    "            'question': '\"אני מחפש סדרת אנימציה חדשה בנטפליקס, משהו בסגנון באפי קוטלת הערפדים אבל עם מיתולוגיה סינית. שמעתי שיש סדרה על נערה סינית-אמריקאית שנלחמת בשדים, מישהו מכיר?',\n",
    "        },\n",
    "        {\n",
    "            'article_id':\"00000194-356b-de88-a3dc-75ef26460000\",\n",
    "            'question':\"אוקיי, שמעתי על סרט חדש של שבי גביזון עם ריצ'רד גיר על אבא שמגלה שהיה לו בן שנהרג. איך קוראים לסרט ומה הוא מספר עליו?\"\n",
    "        },\n",
    "        {\n",
    "        'article_id':'00000194-4be5-dff1-a7bc-dbf57a210000',\n",
    "        'question':'אני מחפש סרט על שני בני דודים יהודים אמריקאים שנוסעים לפולין בעקבות השואה. אחד מהם משחק בסדרה \"יורשים\". מישהו כתב וביים את הסרט והוא גם שחקן בסרט \"הרשת החברתית\".',\n",
    "        },\n",
    "        {\n",
    "        'article_id':'00000194-6339-dabc-afff-6b7fb6e90000',\n",
    "        'question':'אוקיי, שמעתי שיש סדרה חדשה בנטפליקס, מין מערבון כזה אבל ממש קשוח, עם הרבה אלימות וטבח. זה על איזה אישה שמנסה לשרוד עם הבן שלה בתקופה של מלחמת יוטה והטבח בהר מדוז. מישהו יודע על מה אני מדבר?',\n",
    "        },\n",
    "        {\n",
    "        'article_id':'00000194-6e60-d9d3-a597-eeecd15d0000',\n",
    "        'question':'\"אני מחפש מידע על הסרט החדש של ארז תדמור, זה שמתרחש בשנות ה-50 ליד הכנרת ועוסק בפרטיזנים לשעבר שעובדים במפעל סודה. איך קוראים לסרט ומה העלילה שלו?',\n",
    "        },\n",
    "]\n",
    "\n",
    "first_question_genre = [\n",
    "    \"אחי, תמליץ לי על איזה סרט אקשן טוב בנטפליקס? משהו חדש יחסית.\",\n",
    "    \"מחפשת סדרה קלילה ומצחיקה, קומדיה כזאת, לא משנה לי באיזה שירות סטרימינג.\",\n",
    "    \"מה כדאי לראות עכשיו ביס פלוס? בא לי איזה משהו מתח טוב.\",\n",
    "    \"יש לך המלצה לסרט דרמה איכותי? עדיף משהו שזמין בהוט.\",\n",
    "    \"אני והחבר'ה רוצים לראות סרט אימה הערב. יש משהו ממש מפחיד שאתה מכיר?\",\n",
    "    \"תגיד, יש איזה סדרת מדע בדיוני שווה בפרטנר TV או בסלקום TV?\",\n",
    "    \"בא לי לראות סרט ישראלי טוב, יש משהו מומלץ לאחרונה?\",\n",
    "    \"מחפש סדרה לבינג', משהו שאפשר לטחון בסופ\\\"ש. ז'אנר פחות קריטי, העיקר שתהיה ממכרת.\",\n",
    "    \"יש סרטי דוקו מעניינים בדיסני פלוס או באפל טי וי?\",\n",
    "    \"סתם תן המלצה לסרט טוב שראית לאחרונה, לא משנה לי הז'אנר או הפלטפורמה.\"\n",
    "\n",
    "]\n",
    "\n",
    "genre_questions_as_dicts = [\n",
    "    {'article_id': '', 'question': q} for q in first_question_genre\n",
    "]\n",
    "\n",
    "# איחוד שתי הרשימות לרשימה אחת\n",
    "combined_questions = first_question_article + genre_questions_as_dicts\n",
    "\n",
    "second_question = 'איזה יצירה המבקר העדיף יותר?'\n",
    "thierd_question = 'אם הייתי אומר לך שאני במיוחד רגיש לסיומים מאכזבים/לא סגורים, איזו יצרה עדיפה מבין אלו שהמלצת?'\n",
    "\n"
   ]
  },
  {
   "cell_type": "code",
   "execution_count": 2,
   "metadata": {},
   "outputs": [
    {
     "name": "stderr",
     "output_type": "stream",
     "text": [
      "/Users/roeishlezinger/Desktop/movie-recommendation-chatbot/src/tools/search/utillity/qdrant.py:9: UserWarning: Qdrant client version 1.13.3 is incompatible with server version 1.8.4. Major versions should match and minor version difference must not exceed 1. Set check_version=False to skip version check.\n",
      "  self.client_qdrant = QdrantClient(config)\n",
      "{\"message\": \"Successfully connected to Redis.\"}\n",
      "/Users/roeishlezinger/Desktop/movie-recommendation-chatbot/src/tools/search/utillity/qdrant.py:9: UserWarning: Qdrant client version 1.13.3 is incompatible with server version 1.8.4. Major versions should match and minor version difference must not exceed 1. Set check_version=False to skip version check.\n",
      "  self.client_qdrant = QdrantClient(config)\n",
      "2025-04-23 14:51:13.191 WARNING streamlit.runtime.scriptrunner_utils.script_run_context: Thread 'MainThread': missing ScriptRunContext! This warning can be ignored when running in bare mode.\n",
      "2025-04-23 14:51:13.193 WARNING streamlit.runtime.state.session_state_proxy: Session state does not function when running a script without `streamlit run`\n",
      "2025-04-23 14:51:13.194 WARNING streamlit.runtime.scriptrunner_utils.script_run_context: Thread 'MainThread': missing ScriptRunContext! This warning can be ignored when running in bare mode.\n",
      "{\"message\": \"No history found for user 9937610926 in Redis.\"}\n",
      "{\"message\": \"Successfully created new chat session.\"}\n"
     ]
    },
    {
     "name": "stdout",
     "output_type": "stream",
     "text": [
      "\n",
      "\n",
      "====================\n",
      "Article ID: 00000194-25d6-dcc4-a1d7-3df6703c0000\n",
      "Question: אני רוצה לקרוא ביקורת על הסרט החדש של לוקה גואדנינו, זה שמבוסס על ספר של בורוז על הומו שחי במקסיקו בשנות ה-50 ומחפש גברים צעירים.\n",
      "</thinking>\n",
      "The user is asking for a review of a specific movie, and has provided enough information to identify it. I should use the `find_movie_tv_info_or_review` tool to find the review.\n",
      "</thinking>\n"
     ]
    },
    {
     "name": "stderr",
     "output_type": "stream",
     "text": [
      "Warning: there are non-text parts in the response: ['function_call'],returning concatenated text result from text parts,check out the non text parts for full response from model.\n",
      "{\"message\": \"Processing function call: find_movie_tv_info_or_review with args: {'query': '\\u05d0\\u05e0\\u05d9 \\u05e8\\u05d5\\u05e6\\u05d4 \\u05dc\\u05e7\\u05e8\\u05d5\\u05d0 \\u05d1\\u05d9\\u05e7\\u05d5\\u05e8\\u05ea \\u05e2\\u05dc \\u05d4\\u05e1\\u05e8\\u05d8 \\u05d4\\u05d7\\u05d3\\u05e9 \\u05e9\\u05dc \\u05dc\\u05d5\\u05e7\\u05d4 \\u05d2\\u05d5\\u05d0\\u05d3\\u05e0\\u05d9\\u05e0\\u05d5, \\u05d6\\u05d4 \\u05e9\\u05de\\u05d1\\u05d5\\u05e1\\u05e1 \\u05e2\\u05dc \\u05e1\\u05e4\\u05e8 \\u05e9\\u05dc \\u05d1\\u05d5\\u05e8\\u05d5\\u05d6 \\u05e2\\u05dc \\u05d4\\u05d5\\u05de\\u05d5 \\u05e9\\u05d7\\u05d9 \\u05d1\\u05de\\u05e7\\u05e1\\u05d9\\u05e7\\u05d5 \\u05d1\\u05e9\\u05e0\\u05d5\\u05ea \\u05d4-50 \\u05d5\\u05de\\u05d7\\u05e4\\u05e9 \\u05d2\\u05d1\\u05e8\\u05d9\\u05dd \\u05e6\\u05e2\\u05d9\\u05e8\\u05d9\\u05dd.'}\"}\n",
      "{\"message\": \"Query is likely Hebrew, returning original query.\"}\n",
      "{\"message\": \"Retrieving relevant documents for query: '\\u05d0\\u05e0\\u05d9 \\u05e8\\u05d5\\u05e6\\u05d4 \\u05dc\\u05e7\\u05e8\\u05d5\\u05d0 \\u05d1\\u05d9\\u05e7\\u05d5\\u05e8\\u05ea \\u05e2\\u05dc \\u05d4\\u05e1\\u05e8\\u05d8 \\u05d4\\u05d7\\u05d3\\u05e9 \\u05e9\\u05dc \\u05dc\\u05d5\\u05e7\\u05d4 \\u05d2\\u05d5\\u05d0\\u05d3\\u05e0\\u05d9\\u05e0\\u05d5, \\u05d6\\u05d4 \\u05e9\\u05de\\u05d1\\u05d5\\u05e1\\u05e1 \\u05e2\\u05dc \\u05e1\\u05e4\\u05e8 \\u05e9\\u05dc \\u05d1\\u05d5\\u05e8\\u05d5\\u05d6 \\u05e2\\u05dc \\u05d4\\u05d5\\u05de\\u05d5 \\u05e9\\u05d7\\u05d9 \\u05d1\\u05de\\u05e7\\u05e1\\u05d9\\u05e7\\u05d5 \\u05d1\\u05e9\\u05e0\\u05d5\\u05ea \\u05d4-50 \\u05d5\\u05de\\u05d7\\u05e4\\u05e9 \\u05d2\\u05d1\\u05e8\\u05d9\\u05dd \\u05e6\\u05e2\\u05d9\\u05e8\\u05d9\\u05dd.'\"}\n",
      "{\"message\": \"Tool 'find_movie_tv_info_or_review' executed successfully for query: '\\u05d0\\u05e0\\u05d9 \\u05e8\\u05d5\\u05e6\\u05d4 \\u05dc\\u05e7\\u05e8\\u05d5\\u05d0 \\u05d1\\u05d9\\u05e7\\u05d5\\u05e8\\u05ea \\u05e2\\u05dc \\u05d4\\u05e1\\u05e8\\u05d8 \\u05d4\\u05d7\\u05d3\\u05e9 \\u05e9\\u05dc \\u05dc\\u05d5\\u05e7\\u05d4 \\u05d2\\u05d5\\u05d0\\u05d3\\u05e0\\u05d9\\u05e0\\u05d5, \\u05d6\\u05d4 \\u05e9\\u05de\\u05d1\\u05d5\\u05e1\\u05e1 \\u05e2\\u05dc \\u05e1\\u05e4\\u05e8 \\u05e9\\u05dc \\u05d1\\u05d5\\u05e8\\u05d5\\u05d6 \\u05e2\\u05dc \\u05d4\\u05d5\\u05de\\u05d5 \\u05e9\\u05d7\\u05d9 \\u05d1\\u05de\\u05e7\\u05e1\\u05d9\\u05e7\\u05d5 \\u05d1\\u05e9\\u05e0\\u05d5\\u05ea \\u05d4-50 \\u05d5\\u05de\\u05d7\\u05e4\\u05e9 \\u05d2\\u05d1\\u05e8\\u05d9\\u05dd \\u05e6\\u05e2\\u05d9\\u05e8\\u05d9\\u05dd.'. Results obtained.\"}\n",
      "{\"message\": \"Generated 1 function response parts.\"}\n"
     ]
    },
    {
     "name": "stdout",
     "output_type": "stream",
     "text": [
      "[{\"article_id\": \"00000194-25d6-dcc4-a1d7-3df6703c0000\", \"article_name\": \"\\\"קוויר\\\": מרתק לראות את דניאל קרייג מפגין שילוב של חולשה וגבריות יהירה\", \"writer_name\": [\"פבלו אוטין\"]}, {\"article_id\": \"0000017f-e3db-df7c-a5ff-e3fbc9000000\", \"article_name\": \"אז איך זה נראה כשהוליווד המיינסטרימית עוסקת סוף סוף במתבגרים הומואים?\", \"writer_name\": [\"אורי קליין\"]}]היי, שמעתי שאתה מחפש המלצות לסרטים או סדרות. יש לי בדיוק את מה שאתה צריך!\n",
      "\n",
      "מצאתי מאמר מעניין על הסרט \"קוויר\" בבימויו של לוקה גואדנינו, מעין דיאלוג טלפתי, מיזוג יצירתי או מעשה אהבה בינו לבין הסופר הנערץ. התוצאה לעתים לא אלגנטית, אבל רוב הזמן מרתקת.\n",
      "\n",
      "וגם, מאמר ביקורת על הסרט \"באהבה, סיימון\" בבימויו של גרג ברלאנטי. הסרט מתרחש בסביבה חברתית בורגנית אקסקלוסיבית, אבל הצופים הם שיחליטו אם לעובדת הפקתו של סרט מיינסטרימי כה זהיר על ידי חברה הוליוודית ממסדית יש חשיבות היסטורית חברתית ותרבותית – או לא.\n",
      "\n",
      "אז מה אתה אומר, משהו מהם מעניין אותך?\n",
      "\n",
      "====================\n"
     ]
    },
    {
     "name": "stderr",
     "output_type": "stream",
     "text": [
      "{\"message\": \"Loaded history for user 9937610926 from Redis.\"}\n",
      "{\"message\": \"Successfully created new chat session.\"}\n"
     ]
    },
    {
     "name": "stdout",
     "output_type": "stream",
     "text": [
      "מבקר הקולנוע העדיף את \"קוויר\" של לוקה גואדנינו. הוא כתב שהסרט מצליח להעביר חוויה תודעתית ומשונה, ושמרתק לראות את דניאל קרייג מפגין שילוב של פגיעות וחולשה עם גבריות גסה ויהירה. הוא אמנם ציין שהתוצאה לעיתים לא אלגנטית, אבל רוב הזמן מרתקת. לעומת זאת, על \"באהבה, סיימון\" הוא כתב שהסרט הולך על בטוח וחסרים בו תשוקה רבת עוצמה ואהבה כובשת."
     ]
    },
    {
     "name": "stderr",
     "output_type": "stream",
     "text": [
      "{\"message\": \"Loaded history for user 9937610926 from Redis.\"}\n",
      "{\"message\": \"Successfully created new chat session.\"}\n"
     ]
    },
    {
     "name": "stdout",
     "output_type": "stream",
     "text": [
      "</thinking>\n",
      "The user is asking for a recommendation between two movies, considering their sensitivity to unsatisfying endings. I should use the `find_movie_tv_info_or_review` tool, passing the names of the two movies to the query, and also adding the user's concern about unsatisfying endings, to get more specific recommendations.\n",
      "</thinking>\n",
      "אוקיי, הבנתי. אם סיומים מאכזבים הם נקודה רגישה עבורך, אני ממליץ לך לבחור ב\"קוויר\". הביקורת מציינת שהסרט מסתיים בצורה עוצמתית ואנושית מאוד, עם סוג של נחמה שמצליחה להחליף את הייאוש. לעומת זאת, הביקורת על \"באהבה, סיימון\" לא מזכירה את הסיום, ולכן קשה לדעת אם הוא יהיה מספק עבורך."
     ]
    },
    {
     "name": "stderr",
     "output_type": "stream",
     "text": [
      "2025-04-23 14:51:22.888 WARNING streamlit.runtime.scriptrunner_utils.script_run_context: Thread 'MainThread': missing ScriptRunContext! This warning can be ignored when running in bare mode.\n",
      "2025-04-23 14:51:22.890 WARNING streamlit.runtime.scriptrunner_utils.script_run_context: Thread 'MainThread': missing ScriptRunContext! This warning can be ignored when running in bare mode.\n"
     ]
    },
    {
     "name": "stdout",
     "output_type": "stream",
     "text": [
      "\n",
      "\n",
      "====================\n",
      "Article ID: 00000194-2618-dd68-a3be-e6fc06680000\n",
      "Question: אני מחפש ביקורת על הסרט החדש עם ניקול קידמן, זה שהיא משחקת בו מנכ\"לית חברת רובוטיקה שיש לה רומן עם מתמחה צעיר. הסרט הוקרן בפסטיבל ונציה, איך הוא?.\n"
     ]
    },
    {
     "name": "stderr",
     "output_type": "stream",
     "text": [
      "{\"message\": \"No history found for user 9937610927 in Redis.\"}\n",
      "{\"message\": \"Successfully created new chat session.\"}\n"
     ]
    },
    {
     "name": "stdout",
     "output_type": "stream",
     "text": [
      "</thinking>\n",
      "The user is asking for a review of a specific movie. They provide enough details to identify the movie (Nicole Kidman, CEO of a robotics company, affair with a young intern, Venice Film Festival). Therefore, I should use the `find_movie_tv_info_or_review` tool to find the review.\n",
      "</thinking>\n"
     ]
    },
    {
     "name": "stderr",
     "output_type": "stream",
     "text": [
      "Warning: there are non-text parts in the response: ['function_call'],returning concatenated text result from text parts,check out the non text parts for full response from model.\n",
      "{\"message\": \"Processing function call: find_movie_tv_info_or_review with args: {'query': '\\u05d1\\u05d9\\u05e7\\u05d5\\u05e8\\u05ea \\u05e2\\u05dc \\u05d4\\u05e1\\u05e8\\u05d8 \\u05d4\\u05d7\\u05d3\\u05e9 \\u05e2\\u05dd \\u05e0\\u05d9\\u05e7\\u05d5\\u05dc \\u05e7\\u05d9\\u05d3\\u05de\\u05df, \\u05de\\u05e0\\u05db\\\"\\u05dc\\u05d9\\u05ea \\u05d7\\u05d1\\u05e8\\u05ea \\u05e8\\u05d5\\u05d1\\u05d5\\u05d8\\u05d9\\u05e7\\u05d4, \\u05e8\\u05d5\\u05de\\u05df \\u05e2\\u05dd \\u05de\\u05ea\\u05de\\u05d7\\u05d4, \\u05e4\\u05e1\\u05d8\\u05d9\\u05d1\\u05dc \\u05d5\\u05e0\\u05e6\\u05d9\\u05d4'}\"}\n",
      "{\"message\": \"Query is likely Hebrew, returning original query.\"}\n",
      "{\"message\": \"Retrieving relevant documents for query: '\\u05d1\\u05d9\\u05e7\\u05d5\\u05e8\\u05ea \\u05e2\\u05dc \\u05d4\\u05e1\\u05e8\\u05d8 \\u05d4\\u05d7\\u05d3\\u05e9 \\u05e2\\u05dd \\u05e0\\u05d9\\u05e7\\u05d5\\u05dc \\u05e7\\u05d9\\u05d3\\u05de\\u05df, \\u05de\\u05e0\\u05db\\\"\\u05dc\\u05d9\\u05ea \\u05d7\\u05d1\\u05e8\\u05ea \\u05e8\\u05d5\\u05d1\\u05d5\\u05d8\\u05d9\\u05e7\\u05d4, \\u05e8\\u05d5\\u05de\\u05df \\u05e2\\u05dd \\u05de\\u05ea\\u05de\\u05d7\\u05d4, \\u05e4\\u05e1\\u05d8\\u05d9\\u05d1\\u05dc \\u05d5\\u05e0\\u05e6\\u05d9\\u05d4'\"}\n",
      "{\"message\": \"Tool 'find_movie_tv_info_or_review' executed successfully for query: '\\u05d1\\u05d9\\u05e7\\u05d5\\u05e8\\u05ea \\u05e2\\u05dc \\u05d4\\u05e1\\u05e8\\u05d8 \\u05d4\\u05d7\\u05d3\\u05e9 \\u05e2\\u05dd \\u05e0\\u05d9\\u05e7\\u05d5\\u05dc \\u05e7\\u05d9\\u05d3\\u05de\\u05df, \\u05de\\u05e0\\u05db\\\"\\u05dc\\u05d9\\u05ea \\u05d7\\u05d1\\u05e8\\u05ea \\u05e8\\u05d5\\u05d1\\u05d5\\u05d8\\u05d9\\u05e7\\u05d4, \\u05e8\\u05d5\\u05de\\u05df \\u05e2\\u05dd \\u05de\\u05ea\\u05de\\u05d7\\u05d4, \\u05e4\\u05e1\\u05d8\\u05d9\\u05d1\\u05dc \\u05d5\\u05e0\\u05e6\\u05d9\\u05d4'. Results obtained.\"}\n",
      "{\"message\": \"Generated 1 function response parts.\"}\n"
     ]
    },
    {
     "name": "stdout",
     "output_type": "stream",
     "text": [
      "[{\"article_id\": \"00000194-2618-dd68-a3be-e6fc06680000\", \"article_name\": \"\\\"בייביגירל\\\": הסרט החדש של ניקול קידמן מגרה בעיקר את המוח\", \"writer_name\": [\"אורון שמיר\"]}, {\"article_id\": \"0000017f-e073-d804-ad7f-f1fb05d40000\", \"article_name\": \"\\\"קימי\\\" מתחיל כמו \\\"חלון אחורי\\\" ומחליף הילוך ל\\\"ראן לולה ראן\\\"\", \"writer_name\": [\"אורון שמיר\"]}]אני ממליץ לך על הסרט \"בייביגירל\" בכיכובה של ניקול קידמן, הוא מגרה בעיקר את המוח ומציג משחק נועז שלה. הסרט בוחן רומן מסוכן בין מנכ\"לית מצליחה למתמחה צעיר, עם ניצוצות של מתח ארוטי בסגנון שנות ה-90. אם את מחפשת משהו קליל יותר, \"קימי\" הוא מותחן פרנויה זריז ויעיל בכיכובה של זואי קרביץ, על עובדת הייטק שחושפת פשע באמצעות בינה מלאכותית. הסרט מתחיל כמו \"חלון אחורי\" של היצ'קוק וממשיך כמו \"ראן לולה ראן\" עם טוויסט מודרני.\n",
      "\n",
      "====================\n"
     ]
    },
    {
     "name": "stderr",
     "output_type": "stream",
     "text": [
      "{\"message\": \"Loaded history for user 9937610927 from Redis.\"}\n",
      "{\"message\": \"Successfully created new chat session.\"}\n"
     ]
    },
    {
     "name": "stdout",
     "output_type": "stream",
     "text": [
      "</thinking>\n",
      "The user is asking a follow-up question about the previous answer. I need to compare the reviews of the two movies I provided earlier (\"בייביגירל\" and \"קימי\") and determine which one the critic preferred. Based on the reviews I shared, the critic seemed to enjoy \"קימי\" more, describing it as a \"זריז ויעיל\" (fast and efficient) paranoia thriller, while \"בייביגירל\" was described as \"מגרה בעיקר את המוח\" (stimulating mainly the brain) and questioning whether it has anything truly scandalous. Therefore, I will tell the user that the critic seemed to prefer \"קימי.\"\n",
      "</thinking>\n",
      "המבקר העדיף את \"קימי\" יותר, ותיאר אותו כמותחן פרנויה זריז ויעיל. \"בייביגירל\", לעומת זאת, תואר כמגרה בעיקר את המוח, והמבקר תהה האם יש בו משהו שערורייתי באמת.\n"
     ]
    },
    {
     "name": "stderr",
     "output_type": "stream",
     "text": [
      "{\"message\": \"Loaded history for user 9937610927 from Redis.\"}\n",
      "{\"message\": \"Successfully created new chat session.\"}\n"
     ]
    },
    {
     "name": "stdout",
     "output_type": "stream",
     "text": [
      "</thinking>\n",
      "The user is asking a follow-up question, considering their specific sensitivity to disappointing endings. I need to infer which of the two movies, \"בייביגירל\" or \"קימי,\" is less likely to have a disappointing or unresolved ending based on the previous reviews and general knowledge about thrillers versus dramas. \"קימי\" is described as a fast-paced thriller, which generally implies a more resolved ending compared to a drama like \"בייביגירל,\" which is described as exploring complex themes and character studies, potentially leading to a more ambiguous conclusion. I will recommend \"קימי\" based on this inference.\n",
      "</thinking>\n",
      "בהתחשב ברגישות שלך לסיומים מאכזבים, \"קימי\" תהיה בחירה טובה יותר. מותחנים בדרך כלל מספקים סוף יותר סגור ומספק מאשר דרמות.\n"
     ]
    },
    {
     "name": "stderr",
     "output_type": "stream",
     "text": [
      "2025-04-23 14:51:31.903 WARNING streamlit.runtime.scriptrunner_utils.script_run_context: Thread 'MainThread': missing ScriptRunContext! This warning can be ignored when running in bare mode.\n",
      "2025-04-23 14:51:31.905 WARNING streamlit.runtime.scriptrunner_utils.script_run_context: Thread 'MainThread': missing ScriptRunContext! This warning can be ignored when running in bare mode.\n",
      "{\"message\": \"No history found for user 9937610928 in Redis.\"}\n",
      "{\"message\": \"Successfully created new chat session.\"}\n"
     ]
    },
    {
     "name": "stdout",
     "output_type": "stream",
     "text": [
      "\n",
      "\n",
      "====================\n",
      "Article ID: 00000194-2681-ddb6-afdd-77e781220000\n",
      "Question: אני מחפש ביקורת על הסרט החדש של עמוס גיתאי, זה שעוסק בשאלה למה יש מלחמות ומשתמש במכתבים של איינשטיין ופרויד.\n",
      "</thinking>\n",
      "The user is asking for a review of a specific movie by Amos Gitai. The user describes the movie's plot.\n",
      "I should use the `find_movie_tv_info_or_review` function to find the review.\n"
     ]
    },
    {
     "name": "stderr",
     "output_type": "stream",
     "text": [
      "Warning: there are non-text parts in the response: ['function_call'],returning concatenated text result from text parts,check out the non text parts for full response from model.\n",
      "{\"message\": \"Processing function call: find_movie_tv_info_or_review with args: {'query': '\\u05d0\\u05e0\\u05d9 \\u05de\\u05d7\\u05e4\\u05e9 \\u05d1\\u05d9\\u05e7\\u05d5\\u05e8\\u05ea \\u05e2\\u05dc \\u05d4\\u05e1\\u05e8\\u05d8 \\u05d4\\u05d7\\u05d3\\u05e9 \\u05e9\\u05dc \\u05e2\\u05de\\u05d5\\u05e1 \\u05d2\\u05d9\\u05ea\\u05d0\\u05d9, \\u05d6\\u05d4 \\u05e9\\u05e2\\u05d5\\u05e1\\u05e7 \\u05d1\\u05e9\\u05d0\\u05dc\\u05d4 \\u05dc\\u05de\\u05d4 \\u05d9\\u05e9 \\u05de\\u05dc\\u05d7\\u05de\\u05d5\\u05ea \\u05d5\\u05de\\u05e9\\u05ea\\u05de\\u05e9 \\u05d1\\u05de\\u05db\\u05ea\\u05d1\\u05d9\\u05dd \\u05e9\\u05dc \\u05d0\\u05d9\\u05d9\\u05e0\\u05e9\\u05d8\\u05d9\\u05d9\\u05df \\u05d5\\u05e4\\u05e8\\u05d5\\u05d9\\u05d3.'}\"}\n",
      "{\"message\": \"Query is likely Hebrew, returning original query.\"}\n",
      "{\"message\": \"Retrieving relevant documents for query: '\\u05d0\\u05e0\\u05d9 \\u05de\\u05d7\\u05e4\\u05e9 \\u05d1\\u05d9\\u05e7\\u05d5\\u05e8\\u05ea \\u05e2\\u05dc \\u05d4\\u05e1\\u05e8\\u05d8 \\u05d4\\u05d7\\u05d3\\u05e9 \\u05e9\\u05dc \\u05e2\\u05de\\u05d5\\u05e1 \\u05d2\\u05d9\\u05ea\\u05d0\\u05d9, \\u05d6\\u05d4 \\u05e9\\u05e2\\u05d5\\u05e1\\u05e7 \\u05d1\\u05e9\\u05d0\\u05dc\\u05d4 \\u05dc\\u05de\\u05d4 \\u05d9\\u05e9 \\u05de\\u05dc\\u05d7\\u05de\\u05d5\\u05ea \\u05d5\\u05de\\u05e9\\u05ea\\u05de\\u05e9 \\u05d1\\u05de\\u05db\\u05ea\\u05d1\\u05d9\\u05dd \\u05e9\\u05dc \\u05d0\\u05d9\\u05d9\\u05e0\\u05e9\\u05d8\\u05d9\\u05d9\\u05df \\u05d5\\u05e4\\u05e8\\u05d5\\u05d9\\u05d3.'\"}\n",
      "{\"message\": \"Tool 'find_movie_tv_info_or_review' executed successfully for query: '\\u05d0\\u05e0\\u05d9 \\u05de\\u05d7\\u05e4\\u05e9 \\u05d1\\u05d9\\u05e7\\u05d5\\u05e8\\u05ea \\u05e2\\u05dc \\u05d4\\u05e1\\u05e8\\u05d8 \\u05d4\\u05d7\\u05d3\\u05e9 \\u05e9\\u05dc \\u05e2\\u05de\\u05d5\\u05e1 \\u05d2\\u05d9\\u05ea\\u05d0\\u05d9, \\u05d6\\u05d4 \\u05e9\\u05e2\\u05d5\\u05e1\\u05e7 \\u05d1\\u05e9\\u05d0\\u05dc\\u05d4 \\u05dc\\u05de\\u05d4 \\u05d9\\u05e9 \\u05de\\u05dc\\u05d7\\u05de\\u05d5\\u05ea \\u05d5\\u05de\\u05e9\\u05ea\\u05de\\u05e9 \\u05d1\\u05de\\u05db\\u05ea\\u05d1\\u05d9\\u05dd \\u05e9\\u05dc \\u05d0\\u05d9\\u05d9\\u05e0\\u05e9\\u05d8\\u05d9\\u05d9\\u05df \\u05d5\\u05e4\\u05e8\\u05d5\\u05d9\\u05d3.'. Results obtained.\"}\n",
      "{\"message\": \"Generated 1 function response parts.\"}\n"
     ]
    },
    {
     "name": "stdout",
     "output_type": "stream",
     "text": [
      "[{\"article_id\": \"00000194-2681-ddb6-afdd-77e781220000\", \"article_name\": \"\\\"למה מלחמה\\\": החדש של גיתאי מעניין, מרושל וטרחני\", \"writer_name\": [\"פבלו אוטין\"]}, {\"article_id\": \"0000017f-e299-d9aa-afff-fbd97af30000\", \"article_name\": \"בחזרה לגדה המערבית: בסרט החדש של עמוס גיתאי הייאוש החליף את הזעם\", \"writer_name\": [\"אורי קליין\"]}]אני מבין שאתה מחפש המלצות לסדרות או סרטים. או אולי מידע על סרט או סדרה ספציפית?\n",
      "\n",
      "====================\n"
     ]
    },
    {
     "name": "stderr",
     "output_type": "stream",
     "text": [
      "{\"message\": \"Loaded history for user 9937610928 from Redis.\"}\n",
      "{\"message\": \"Successfully created new chat session.\"}\n"
     ]
    },
    {
     "name": "stdout",
     "output_type": "stream",
     "text": [
      "</thinking>\n",
      "The user is asking a question about the critic's preference between the two movies.\n",
      "I should use the `find_movie_tv_info_or_review` function to answer the question.\n",
      "מהביקורות עולה כי המבקר פבלו אוטין העדיף את \"מערב לירדן\" על פני \"למה מלחמה\". הביקורת על \"מערב לירדן\" מציינת את כוחו של הסרט ואת תחושת ה\"אין מוצא\" שהוא מעביר בצורה הטובה ביותר, בעוד שהביקורת על \"למה מלחמה\" מציינת שהוא מעניין אך מרושל וטרחני.\n"
     ]
    },
    {
     "name": "stderr",
     "output_type": "stream",
     "text": [
      "{\"message\": \"Loaded history for user 9937610928 from Redis.\"}\n",
      "{\"message\": \"Successfully created new chat session.\"}\n"
     ]
    },
    {
     "name": "stdout",
     "output_type": "stream",
     "text": [
      "</thinking>\n",
      "The user is asking a question about which movie has a more satisfying ending, given their sensitivity to disappointing endings.\n",
      "I should use the `find_movie_tv_info_or_review` function to answer the question.\n",
      "מכיוון ששתי היצירות הן סרטים תיעודיים, קשה לקבוע איזו מהן מספקת סיום \"סגור\" יותר. עם זאת, הביקורת על \"מערב לירדן\" מציינת שהסרט מעביר תחושה של \"אין מוצא\" ומשאלה לשינוי שאינו אפשרי, מה שיכול להעיד על סיום מריר או פסימי. הביקורת על \"למה מלחמה\" מציינת שהסרט מותיר שאלות פתוחות ונותן לצופים להגיע לתובנות בעצמם, מה שיכול להתפרש כסיום לא סגור אך גם כמעורר מחשבה.\n",
      "\n",
      "לכן, אם אתה רגיש במיוחד לסיומים מאכזבים, ייתכן ש\"למה מלחמה\" יהיה עדיף עבורך, מכיוון שהוא לא מנסה לספק תשובות חד משמעיות אלא מעודד חשיבה עצמאית. עם זאת, קח בחשבון ששני הסרטים עוסקים בנושאים מורכבים וייתכן שלא יספקו תחושה של סגירת מעגל מלאה.\n"
     ]
    },
    {
     "name": "stderr",
     "output_type": "stream",
     "text": [
      "2025-04-23 14:51:41.449 WARNING streamlit.runtime.scriptrunner_utils.script_run_context: Thread 'MainThread': missing ScriptRunContext! This warning can be ignored when running in bare mode.\n",
      "2025-04-23 14:51:41.450 WARNING streamlit.runtime.scriptrunner_utils.script_run_context: Thread 'MainThread': missing ScriptRunContext! This warning can be ignored when running in bare mode.\n"
     ]
    },
    {
     "name": "stdout",
     "output_type": "stream",
     "text": [
      "\n",
      "\n",
      "====================\n",
      "Article ID: 00000194-2b97-‎d9c2-a79e-2bd7330c0000\n",
      "Question: אפשר בבקשה ביקורת על הסרט החדש \"נוספרטו\" של רוברט אגרס? אני רוצה לדעת אם הוא נאמן למקורות של סרטי הערפדים הקלאסיים ואיך השחקנים הראשיים, במיוחד לילי-רוז דפ, משחקים?\n"
     ]
    },
    {
     "name": "stderr",
     "output_type": "stream",
     "text": [
      "{\"message\": \"No history found for user 9937610929 in Redis.\"}\n",
      "{\"message\": \"Successfully created new chat session.\"}\n"
     ]
    },
    {
     "name": "stdout",
     "output_type": "stream",
     "text": [
      "</thinking>\n",
      "The user is asking for a review of the new movie \"Nosferatu\" by Robert Eggers and is interested in specific aspects such as its faithfulness to the classic vampire films and the performances of the lead actors, especially Lily-Rose Depp. This falls under the \"Fetching Specific Reviews/Articles\" trigger for the `find_movie_tv_info_or_review` function. The query parameter should be the user's request.\n",
      "</thinking>\n"
     ]
    },
    {
     "name": "stderr",
     "output_type": "stream",
     "text": [
      "Warning: there are non-text parts in the response: ['function_call'],returning concatenated text result from text parts,check out the non text parts for full response from model.\n",
      "{\"message\": \"Processing function call: find_movie_tv_info_or_review with args: {'query': '\\u05d0\\u05e4\\u05e9\\u05e8 \\u05d1\\u05d1\\u05e7\\u05e9\\u05d4 \\u05d1\\u05d9\\u05e7\\u05d5\\u05e8\\u05ea \\u05e2\\u05dc \\u05d4\\u05e1\\u05e8\\u05d8 \\u05d4\\u05d7\\u05d3\\u05e9 \\\"\\u05e0\\u05d5\\u05e1\\u05e4\\u05e8\\u05d8\\u05d5\\\" \\u05e9\\u05dc \\u05e8\\u05d5\\u05d1\\u05e8\\u05d8 \\u05d0\\u05d2\\u05e8\\u05e1? \\u05d0\\u05e0\\u05d9 \\u05e8\\u05d5\\u05e6\\u05d4 \\u05dc\\u05d3\\u05e2\\u05ea \\u05d0\\u05dd \\u05d4\\u05d5\\u05d0 \\u05e0\\u05d0\\u05de\\u05df \\u05dc\\u05de\\u05e7\\u05d5\\u05e8\\u05d5\\u05ea \\u05e9\\u05dc \\u05e1\\u05e8\\u05d8\\u05d9 \\u05d4\\u05e2\\u05e8\\u05e4\\u05d3\\u05d9\\u05dd \\u05d4\\u05e7\\u05dc\\u05d0\\u05e1\\u05d9\\u05d9\\u05dd \\u05d5\\u05d0\\u05d9\\u05da \\u05d4\\u05e9\\u05d7\\u05e7\\u05e0\\u05d9\\u05dd \\u05d4\\u05e8\\u05d0\\u05e9\\u05d9\\u05d9\\u05dd, \\u05d1\\u05de\\u05d9\\u05d5\\u05d7\\u05d3 \\u05dc\\u05d9\\u05dc\\u05d9-\\u05e8\\u05d5\\u05d6 \\u05d3\\u05e4, \\u05de\\u05e9\\u05d7\\u05e7\\u05d9\\u05dd?'}\"}\n",
      "{\"message\": \"Query is likely Hebrew, returning original query.\"}\n",
      "{\"message\": \"Retrieving relevant documents for query: '\\u05d0\\u05e4\\u05e9\\u05e8 \\u05d1\\u05d1\\u05e7\\u05e9\\u05d4 \\u05d1\\u05d9\\u05e7\\u05d5\\u05e8\\u05ea \\u05e2\\u05dc \\u05d4\\u05e1\\u05e8\\u05d8 \\u05d4\\u05d7\\u05d3\\u05e9 \\\"\\u05e0\\u05d5\\u05e1\\u05e4\\u05e8\\u05d8\\u05d5\\\" \\u05e9\\u05dc \\u05e8\\u05d5\\u05d1\\u05e8\\u05d8 \\u05d0\\u05d2\\u05e8\\u05e1? \\u05d0\\u05e0\\u05d9 \\u05e8\\u05d5\\u05e6\\u05d4 \\u05dc\\u05d3\\u05e2\\u05ea \\u05d0\\u05dd \\u05d4\\u05d5\\u05d0 \\u05e0\\u05d0\\u05de\\u05df \\u05dc\\u05de\\u05e7\\u05d5\\u05e8\\u05d5\\u05ea \\u05e9\\u05dc \\u05e1\\u05e8\\u05d8\\u05d9 \\u05d4\\u05e2\\u05e8\\u05e4\\u05d3\\u05d9\\u05dd \\u05d4\\u05e7\\u05dc\\u05d0\\u05e1\\u05d9\\u05d9\\u05dd \\u05d5\\u05d0\\u05d9\\u05da \\u05d4\\u05e9\\u05d7\\u05e7\\u05e0\\u05d9\\u05dd \\u05d4\\u05e8\\u05d0\\u05e9\\u05d9\\u05d9\\u05dd, \\u05d1\\u05de\\u05d9\\u05d5\\u05d7\\u05d3 \\u05dc\\u05d9\\u05dc\\u05d9-\\u05e8\\u05d5\\u05d6 \\u05d3\\u05e4, \\u05de\\u05e9\\u05d7\\u05e7\\u05d9\\u05dd?'\"}\n",
      "{\"message\": \"Tool 'find_movie_tv_info_or_review' executed successfully for query: '\\u05d0\\u05e4\\u05e9\\u05e8 \\u05d1\\u05d1\\u05e7\\u05e9\\u05d4 \\u05d1\\u05d9\\u05e7\\u05d5\\u05e8\\u05ea \\u05e2\\u05dc \\u05d4\\u05e1\\u05e8\\u05d8 \\u05d4\\u05d7\\u05d3\\u05e9 \\\"\\u05e0\\u05d5\\u05e1\\u05e4\\u05e8\\u05d8\\u05d5\\\" \\u05e9\\u05dc \\u05e8\\u05d5\\u05d1\\u05e8\\u05d8 \\u05d0\\u05d2\\u05e8\\u05e1? \\u05d0\\u05e0\\u05d9 \\u05e8\\u05d5\\u05e6\\u05d4 \\u05dc\\u05d3\\u05e2\\u05ea \\u05d0\\u05dd \\u05d4\\u05d5\\u05d0 \\u05e0\\u05d0\\u05de\\u05df \\u05dc\\u05de\\u05e7\\u05d5\\u05e8\\u05d5\\u05ea \\u05e9\\u05dc \\u05e1\\u05e8\\u05d8\\u05d9 \\u05d4\\u05e2\\u05e8\\u05e4\\u05d3\\u05d9\\u05dd \\u05d4\\u05e7\\u05dc\\u05d0\\u05e1\\u05d9\\u05d9\\u05dd \\u05d5\\u05d0\\u05d9\\u05da \\u05d4\\u05e9\\u05d7\\u05e7\\u05e0\\u05d9\\u05dd \\u05d4\\u05e8\\u05d0\\u05e9\\u05d9\\u05d9\\u05dd, \\u05d1\\u05de\\u05d9\\u05d5\\u05d7\\u05d3 \\u05dc\\u05d9\\u05dc\\u05d9-\\u05e8\\u05d5\\u05d6 \\u05d3\\u05e4, \\u05de\\u05e9\\u05d7\\u05e7\\u05d9\\u05dd?'. Results obtained.\"}\n",
      "{\"message\": \"Generated 1 function response parts.\"}\n"
     ]
    },
    {
     "name": "stdout",
     "output_type": "stream",
     "text": [
      "[{\"article_id\": \"00000194-2b97-d9c2-a79e-2bd7330c0000\", \"article_name\": \"\\\"נוספרטו\\\" משיב את הכבוד לסרטי הערפדים\", \"writer_name\": [\"אורון שמיר\"]}, {\"article_id\": \"00000187-88e1-d484-adef-eae5d6050000\", \"article_name\": \"\\\"רנפילד\\\": ניקולס קייג' הוא דרקולה מתבקש, אבל הסרט לא ממש מתעורר לחיים\", \"writer_name\": [\"נתנאל שלומוביץ\"]}]אני ממליץ לך על הסרט \"נוספרטו\" (2024) בבימויו של רוברט אגרס, עם לילי-רוז דפ וביל סקארסגארד בתפקידים הראשיים. הסרט הוא עיבוד מודרני ומצמרר לקלאסיקת האימה הגרמנית, והוא מחזיר את מיתוס הערפד למקורותיו האפלים ביותר. הביקורת משבחת את הבימוי המוקפד, הצילום המרהיב וההופעה המפחידה של סקארסגארד בתור נוספרטו. אמנם לילי-רוז דפ קצת פחות משכנעת בתפקיד הראשי, אבל הסרט בכללותו הוא חוויה קולנועית גותית מהנה ומטרידה כאחד.\n",
      "\n",
      "\n",
      "====================\n"
     ]
    },
    {
     "name": "stderr",
     "output_type": "stream",
     "text": [
      "{\"message\": \"Loaded history for user 9937610929 from Redis.\"}\n",
      "{\"message\": \"Successfully created new chat session.\"}\n"
     ]
    },
    {
     "name": "stdout",
     "output_type": "stream",
     "text": [
      "מבין שתי היצירות, המבקר העדיף את \"נוספרטו\" (2024).\n"
     ]
    },
    {
     "name": "stderr",
     "output_type": "stream",
     "text": [
      "{\"message\": \"Loaded history for user 9937610929 from Redis.\"}\n",
      "{\"message\": \"Successfully created new chat session.\"}\n"
     ]
    },
    {
     "name": "stdout",
     "output_type": "stream",
     "text": [
      "</thinking>\n",
      "The user is asking which of the recommended movies has a better ending, given their sensitivity to disappointing or unresolved endings. Since I don't have information about the endings of the movies, I should use the `find_movie_tv_info_or_review` to find reviews that might discuss the endings.\n",
      "</thinking>\n",
      "אני ממליץ לך לבדוק ביקורות מפורטות יותר של שני הסרטים כדי לראות מה מבקרים אומרים על הסיום. הסרט \"נוספרטו\" הוא סרט אימה גותי, ולכן ייתכן שהסוף שלו יהיה פחות חד משמעי או שמח, לעומת הסרט \"רנפילד\" שהוא קומדיית אימה, ולכן יש סיכוי גדול יותר לסוף סגור ומספק.\n"
     ]
    },
    {
     "name": "stderr",
     "output_type": "stream",
     "text": [
      "2025-04-23 14:51:49.134 WARNING streamlit.runtime.scriptrunner_utils.script_run_context: Thread 'MainThread': missing ScriptRunContext! This warning can be ignored when running in bare mode.\n",
      "2025-04-23 14:51:49.135 WARNING streamlit.runtime.scriptrunner_utils.script_run_context: Thread 'MainThread': missing ScriptRunContext! This warning can be ignored when running in bare mode.\n"
     ]
    },
    {
     "name": "stdout",
     "output_type": "stream",
     "text": [
      "\n",
      "\n",
      "====================\n",
      "Article ID: 00000194-319b-d555-abbc-b1dfdf250000\n",
      "Question: \"אני מחפש ביקורת על סרט חדש שמוקרן בפסטיבל חיפה, על אישה אלכוהוליסטית בשם רונה שחוזרת לאי הולדתה בסקוטלנד כדי להתמודד עם ההתמכרות שלה. מישהי כתבה על זה ביקורת?\n"
     ]
    },
    {
     "name": "stderr",
     "output_type": "stream",
     "text": [
      "{\"message\": \"No history found for user 9937610930 in Redis.\"}\n",
      "{\"message\": \"Successfully created new chat session.\"}\n"
     ]
    },
    {
     "name": "stdout",
     "output_type": "stream",
     "text": [
      "</thinking>\n",
      "The user is asking for a review of a specific movie that was screened at the Haifa Film Festival. The user provides a detailed description of the movie, including the plot, the protagonist's name, the setting, and the theme. The user is also asking if someone wrote a review about it.\n",
      "Therefore, I should use the `find_movie_tv_info_or_review` function to find the review article.\n"
     ]
    },
    {
     "name": "stderr",
     "output_type": "stream",
     "text": [
      "Warning: there are non-text parts in the response: ['function_call'],returning concatenated text result from text parts,check out the non text parts for full response from model.\n",
      "{\"message\": \"Processing function call: find_movie_tv_info_or_review with args: {'query': '\\u05d0\\u05e0\\u05d9 \\u05de\\u05d7\\u05e4\\u05e9 \\u05d1\\u05d9\\u05e7\\u05d5\\u05e8\\u05ea \\u05e2\\u05dc \\u05e1\\u05e8\\u05d8 \\u05d7\\u05d3\\u05e9 \\u05e9\\u05de\\u05d5\\u05e7\\u05e8\\u05df \\u05d1\\u05e4\\u05e1\\u05d8\\u05d9\\u05d1\\u05dc \\u05d7\\u05d9\\u05e4\\u05d4, \\u05e2\\u05dc \\u05d0\\u05d9\\u05e9\\u05d4 \\u05d0\\u05dc\\u05db\\u05d5\\u05d4\\u05d5\\u05dc\\u05d9\\u05e1\\u05d8\\u05d9\\u05ea \\u05d1\\u05e9\\u05dd \\u05e8\\u05d5\\u05e0\\u05d4 \\u05e9\\u05d7\\u05d5\\u05d6\\u05e8\\u05ea \\u05dc\\u05d0\\u05d9 \\u05d4\\u05d5\\u05dc\\u05d3\\u05ea\\u05d4 \\u05d1\\u05e1\\u05e7\\u05d5\\u05d8\\u05dc\\u05e0\\u05d3 \\u05db\\u05d3\\u05d9 \\u05dc\\u05d4\\u05ea\\u05de\\u05d5\\u05d3\\u05d3 \\u05e2\\u05dd \\u05d4\\u05d4\\u05ea\\u05de\\u05db\\u05e8\\u05d5\\u05ea \\u05e9\\u05dc\\u05d4. \\u05de\\u05d9\\u05e9\\u05d4\\u05d9 \\u05db\\u05ea\\u05d1\\u05d4 \\u05e2\\u05dc \\u05d6\\u05d4 \\u05d1\\u05d9\\u05e7\\u05d5\\u05e8\\u05ea?'}\"}\n",
      "{\"message\": \"Query is likely Hebrew, returning original query.\"}\n",
      "{\"message\": \"Retrieving relevant documents for query: '\\u05d0\\u05e0\\u05d9 \\u05de\\u05d7\\u05e4\\u05e9 \\u05d1\\u05d9\\u05e7\\u05d5\\u05e8\\u05ea \\u05e2\\u05dc \\u05e1\\u05e8\\u05d8 \\u05d7\\u05d3\\u05e9 \\u05e9\\u05de\\u05d5\\u05e7\\u05e8\\u05df \\u05d1\\u05e4\\u05e1\\u05d8\\u05d9\\u05d1\\u05dc \\u05d7\\u05d9\\u05e4\\u05d4, \\u05e2\\u05dc \\u05d0\\u05d9\\u05e9\\u05d4 \\u05d0\\u05dc\\u05db\\u05d5\\u05d4\\u05d5\\u05dc\\u05d9\\u05e1\\u05d8\\u05d9\\u05ea \\u05d1\\u05e9\\u05dd \\u05e8\\u05d5\\u05e0\\u05d4 \\u05e9\\u05d7\\u05d5\\u05d6\\u05e8\\u05ea \\u05dc\\u05d0\\u05d9 \\u05d4\\u05d5\\u05dc\\u05d3\\u05ea\\u05d4 \\u05d1\\u05e1\\u05e7\\u05d5\\u05d8\\u05dc\\u05e0\\u05d3 \\u05db\\u05d3\\u05d9 \\u05dc\\u05d4\\u05ea\\u05de\\u05d5\\u05d3\\u05d3 \\u05e2\\u05dd \\u05d4\\u05d4\\u05ea\\u05de\\u05db\\u05e8\\u05d5\\u05ea \\u05e9\\u05dc\\u05d4. \\u05de\\u05d9\\u05e9\\u05d4\\u05d9 \\u05db\\u05ea\\u05d1\\u05d4 \\u05e2\\u05dc \\u05d6\\u05d4 \\u05d1\\u05d9\\u05e7\\u05d5\\u05e8\\u05ea?'\"}\n",
      "{\"message\": \"Tool 'find_movie_tv_info_or_review' executed successfully for query: '\\u05d0\\u05e0\\u05d9 \\u05de\\u05d7\\u05e4\\u05e9 \\u05d1\\u05d9\\u05e7\\u05d5\\u05e8\\u05ea \\u05e2\\u05dc \\u05e1\\u05e8\\u05d8 \\u05d7\\u05d3\\u05e9 \\u05e9\\u05de\\u05d5\\u05e7\\u05e8\\u05df \\u05d1\\u05e4\\u05e1\\u05d8\\u05d9\\u05d1\\u05dc \\u05d7\\u05d9\\u05e4\\u05d4, \\u05e2\\u05dc \\u05d0\\u05d9\\u05e9\\u05d4 \\u05d0\\u05dc\\u05db\\u05d5\\u05d4\\u05d5\\u05dc\\u05d9\\u05e1\\u05d8\\u05d9\\u05ea \\u05d1\\u05e9\\u05dd \\u05e8\\u05d5\\u05e0\\u05d4 \\u05e9\\u05d7\\u05d5\\u05d6\\u05e8\\u05ea \\u05dc\\u05d0\\u05d9 \\u05d4\\u05d5\\u05dc\\u05d3\\u05ea\\u05d4 \\u05d1\\u05e1\\u05e7\\u05d5\\u05d8\\u05dc\\u05e0\\u05d3 \\u05db\\u05d3\\u05d9 \\u05dc\\u05d4\\u05ea\\u05de\\u05d5\\u05d3\\u05d3 \\u05e2\\u05dd \\u05d4\\u05d4\\u05ea\\u05de\\u05db\\u05e8\\u05d5\\u05ea \\u05e9\\u05dc\\u05d4. \\u05de\\u05d9\\u05e9\\u05d4\\u05d9 \\u05db\\u05ea\\u05d1\\u05d4 \\u05e2\\u05dc \\u05d6\\u05d4 \\u05d1\\u05d9\\u05e7\\u05d5\\u05e8\\u05ea?'. Results obtained.\"}\n",
      "{\"message\": \"Generated 1 function response parts.\"}\n"
     ]
    },
    {
     "name": "stdout",
     "output_type": "stream",
     "text": [
      "[{\"article_id\": \"00000194-319b-d555-abbc-b1dfdf250000\", \"article_name\": \"\\\"הבריחה\\\": סרט מרהיב אך מוסרני ביחסו לעיר הגדולה\", \"writer_name\": [\"שני ליטמן\"]}, {\"article_id\": \"00000195-6c00-db55-ad95-edebef370000\", \"article_name\": \"\\\"יום באמסטרדם\\\": קומדיית סטלנים שמתגנבת ללב\", \"writer_name\": [\"אורון שמיר\"]}]אני ממליץ לך על שני סרטים:\n",
      "\n",
      "1.  **\"הבריחה\"**: סרטה של הבמאית הגרמניה נורה פינגשייט, המבוסס על ספרה של איימי ליפטרוט. הסרט מגולל את סיפורה של רונה, אישה בסוף שנות העשרים לחייה הסובלת מהתמכרות קשה לאלכוהול, אשר מחליטה לחזור למקום הולדתה, אי בצפון סקוטלנד, כדי למצוא את נקודת המרכז שלה. שני ליטמן כתבה שזהו סרט מרהיב מבחינה ויזואלית, אך מוסרני ביחסו לעיר הגדולה. עיקר כוחו של הסרט הוא במשחק המשכנע והנוגע ללב של סירשה רונאן.\n",
      "2.  **\"יום באמסטרדם\"**: סרטה של רוני קידר, קומדיית סטלנים המציעה גרסה מקורית למפגש אקראי בין זרים. הסרט עוקב אחר זואי ורות, שתי תיירות המבלות יום יחד באמסטרדם לאחר שנטלו פטריות קסם. אורון שמיר כתב שהסרט שופע הומור ומצליח לרגש, עם הופעות מצוינות של נעמה אמית ונל בארלו. הסרט מצטרף ליקום קולנועי של קידר ומיטיב לחקור יחסים בין שתי זרות.\n",
      "\n",
      "\n",
      "====================\n"
     ]
    },
    {
     "name": "stderr",
     "output_type": "stream",
     "text": [
      "{\"message\": \"Loaded history for user 9937610930 from Redis.\"}\n",
      "{\"message\": \"Successfully created new chat session.\"}\n"
     ]
    },
    {
     "name": "stdout",
     "output_type": "stream",
     "text": [
      "</thinking>\n",
      "To determine which creation the critic preferred, I need to analyze the sentiment expressed in both reviews. Since I don't have the ability to directly compare sentiment, I will focus on identifying keywords that indicate positive or negative opinions in each review and provide the reviews to the user so he can compare.\n"
     ]
    },
    {
     "name": "stderr",
     "output_type": "stream",
     "text": [
      "Warning: there are non-text parts in the response: ['function_call'],returning concatenated text result from text parts,check out the non text parts for full response from model.\n",
      "{\"message\": \"Processing function call: find_movie_tv_info_or_review with args: {'query': '\\u05d4\\u05e9\\u05d5\\u05d5\\u05d0\\u05d4 \\u05d1\\u05d9\\u05df \\u05d4\\u05d1\\u05d9\\u05e7\\u05d5\\u05e8\\u05d5\\u05ea \\u05e9\\u05dc \\u05e9\\u05e0\\u05d9 \\u05dc\\u05d9\\u05d8\\u05de\\u05df \\u05e2\\u05dc \\u05d4\\u05d1\\u05e8\\u05d9\\u05d7\\u05d4 \\u05d5\\u05d0\\u05d5\\u05e8\\u05d5\\u05df \\u05e9\\u05de\\u05d9\\u05e8 \\u05e2\\u05dc \\u05d9\\u05d5\\u05dd \\u05d1\\u05d0\\u05de\\u05e1\\u05d8\\u05e8\\u05d3\\u05dd'}\"}\n",
      "{\"message\": \"Query is likely Hebrew, returning original query.\"}\n",
      "{\"message\": \"Retrieving relevant documents for query: '\\u05d4\\u05e9\\u05d5\\u05d5\\u05d0\\u05d4 \\u05d1\\u05d9\\u05df \\u05d4\\u05d1\\u05d9\\u05e7\\u05d5\\u05e8\\u05d5\\u05ea \\u05e9\\u05dc \\u05e9\\u05e0\\u05d9 \\u05dc\\u05d9\\u05d8\\u05de\\u05df \\u05e2\\u05dc \\u05d4\\u05d1\\u05e8\\u05d9\\u05d7\\u05d4 \\u05d5\\u05d0\\u05d5\\u05e8\\u05d5\\u05df \\u05e9\\u05de\\u05d9\\u05e8 \\u05e2\\u05dc \\u05d9\\u05d5\\u05dd \\u05d1\\u05d0\\u05de\\u05e1\\u05d8\\u05e8\\u05d3\\u05dd'\"}\n",
      "{\"message\": \"Tool 'find_movie_tv_info_or_review' executed successfully for query: '\\u05d4\\u05e9\\u05d5\\u05d5\\u05d0\\u05d4 \\u05d1\\u05d9\\u05df \\u05d4\\u05d1\\u05d9\\u05e7\\u05d5\\u05e8\\u05d5\\u05ea \\u05e9\\u05dc \\u05e9\\u05e0\\u05d9 \\u05dc\\u05d9\\u05d8\\u05de\\u05df \\u05e2\\u05dc \\u05d4\\u05d1\\u05e8\\u05d9\\u05d7\\u05d4 \\u05d5\\u05d0\\u05d5\\u05e8\\u05d5\\u05df \\u05e9\\u05de\\u05d9\\u05e8 \\u05e2\\u05dc \\u05d9\\u05d5\\u05dd \\u05d1\\u05d0\\u05de\\u05e1\\u05d8\\u05e8\\u05d3\\u05dd'. Results obtained.\"}\n",
      "{\"message\": \"Generated 1 function response parts.\"}\n"
     ]
    },
    {
     "name": "stdout",
     "output_type": "stream",
     "text": [
      "[{\"article_id\": \"00000194-319b-d555-abbc-b1dfdf250000\", \"article_name\": \"\\\"הבריחה\\\": סרט מרהיב אך מוסרני ביחסו לעיר הגדולה\", \"writer_name\": [\"שני ליטמן\"]}, {\"article_id\": \"00000195-6c00-db55-ad95-edebef370000\", \"article_name\": \"\\\"יום באמסטרדם\\\": קומדיית סטלנים שמתגנבת ללב\", \"writer_name\": [\"אורון שמיר\"]}]"
     ]
    },
    {
     "ename": "ClientError",
     "evalue": "400 INVALID_ARGUMENT. {'error': {'code': 400, 'message': 'Please ensure that the number of function response parts is equal to the number of function call parts of the function call turn.', 'status': 'INVALID_ARGUMENT'}}",
     "output_type": "error",
     "traceback": [
      "\u001b[31m---------------------------------------------------------------------------\u001b[39m",
      "\u001b[31mClientError\u001b[39m                               Traceback (most recent call last)",
      "\u001b[36mCell\u001b[39m\u001b[36m \u001b[39m\u001b[32mIn[2]\u001b[39m\u001b[32m, line 52\u001b[39m\n\u001b[32m     50\u001b[39m second_answer = \u001b[33m\"\u001b[39m\u001b[33m\"\u001b[39m\n\u001b[32m     51\u001b[39m ans = llm_client.streaming_message(second_question,\u001b[33mf\u001b[39m\u001b[33m'\u001b[39m\u001b[38;5;132;01m{\u001b[39;00mcounter\u001b[38;5;132;01m}\u001b[39;00m\u001b[33m'\u001b[39m)\n\u001b[32m---> \u001b[39m\u001b[32m52\u001b[39m \u001b[38;5;28;01masync\u001b[39;00m \u001b[38;5;28;01mfor\u001b[39;00m chunk \u001b[38;5;129;01min\u001b[39;00m ans:\n\u001b[32m     53\u001b[39m     \u001b[38;5;28;01mif\u001b[39;00m chunk:\n\u001b[32m     54\u001b[39m         second_answer += chunk\n",
      "\u001b[36mFile \u001b[39m\u001b[32m~/Desktop/movie-recommendation-chatbot/src/llm_api_client.py:234\u001b[39m, in \u001b[36mLLMClient.streaming_message\u001b[39m\u001b[34m(self, message, user_id)\u001b[39m\n\u001b[32m    231\u001b[39m \u001b[38;5;28;01myield\u001b[39;00m metadata\n\u001b[32m    233\u001b[39m response_stream_after_fc = current_chat_session.send_message_stream(function_response_parts)\n\u001b[32m--> \u001b[39m\u001b[32m234\u001b[39m \u001b[43m\u001b[49m\u001b[38;5;28;43;01mfor\u001b[39;49;00m\u001b[43m \u001b[49m\u001b[43mfinal_chunk\u001b[49m\u001b[43m \u001b[49m\u001b[38;5;129;43;01min\u001b[39;49;00m\u001b[43m \u001b[49m\u001b[43mresponse_stream_after_fc\u001b[49m\u001b[43m:\u001b[49m\n\u001b[32m    235\u001b[39m \u001b[43m    \u001b[49m\u001b[38;5;28;43;01mif\u001b[39;49;00m\u001b[43m \u001b[49m\u001b[43mfinal_chunk\u001b[49m\u001b[43m.\u001b[49m\u001b[43mtext\u001b[49m\u001b[43m:\u001b[49m\n\u001b[32m    236\u001b[39m \u001b[43m        \u001b[49m\u001b[38;5;28;43;01myield\u001b[39;49;00m\u001b[43m \u001b[49m\u001b[43mfinal_chunk\u001b[49m\u001b[43m.\u001b[49m\u001b[43mtext\u001b[49m\n",
      "\u001b[36mFile \u001b[39m\u001b[32m~/Desktop/movie-recommendation-chatbot/.venv/lib/python3.12/site-packages/google/genai/chats.py:316\u001b[39m, in \u001b[36mChat.send_message_stream\u001b[39m\u001b[34m(self, message, config)\u001b[39m\n\u001b[32m    314\u001b[39m chunk = \u001b[38;5;28;01mNone\u001b[39;00m\n\u001b[32m    315\u001b[39m \u001b[38;5;28;01mif\u001b[39;00m \u001b[38;5;28misinstance\u001b[39m(\u001b[38;5;28mself\u001b[39m._modules, Models):\n\u001b[32m--> \u001b[39m\u001b[32m316\u001b[39m \u001b[43m  \u001b[49m\u001b[38;5;28;43;01mfor\u001b[39;49;00m\u001b[43m \u001b[49m\u001b[43mchunk\u001b[49m\u001b[43m \u001b[49m\u001b[38;5;129;43;01min\u001b[39;49;00m\u001b[43m \u001b[49m\u001b[38;5;28;43mself\u001b[39;49m\u001b[43m.\u001b[49m\u001b[43m_modules\u001b[49m\u001b[43m.\u001b[49m\u001b[43mgenerate_content_stream\u001b[49m\u001b[43m(\u001b[49m\n\u001b[32m    317\u001b[39m \u001b[43m      \u001b[49m\u001b[43mmodel\u001b[49m\u001b[43m=\u001b[49m\u001b[38;5;28;43mself\u001b[39;49m\u001b[43m.\u001b[49m\u001b[43m_model\u001b[49m\u001b[43m,\u001b[49m\n\u001b[32m    318\u001b[39m \u001b[43m      \u001b[49m\u001b[43mcontents\u001b[49m\u001b[43m=\u001b[49m\u001b[38;5;28;43mself\u001b[39;49m\u001b[43m.\u001b[49m\u001b[43m_curated_history\u001b[49m\u001b[43m \u001b[49m\u001b[43m+\u001b[49m\u001b[43m \u001b[49m\u001b[43m[\u001b[49m\u001b[43minput_content\u001b[49m\u001b[43m]\u001b[49m\u001b[43m,\u001b[49m\u001b[43m  \u001b[49m\u001b[38;5;66;43;03m# type: ignore[arg-type]\u001b[39;49;00m\n\u001b[32m    319\u001b[39m \u001b[43m      \u001b[49m\u001b[43mconfig\u001b[49m\u001b[43m=\u001b[49m\u001b[43mconfig\u001b[49m\u001b[43m \u001b[49m\u001b[38;5;28;43;01mif\u001b[39;49;00m\u001b[43m \u001b[49m\u001b[43mconfig\u001b[49m\u001b[43m \u001b[49m\u001b[38;5;28;43;01melse\u001b[39;49;00m\u001b[43m \u001b[49m\u001b[38;5;28;43mself\u001b[39;49m\u001b[43m.\u001b[49m\u001b[43m_config\u001b[49m\u001b[43m,\u001b[49m\n\u001b[32m    320\u001b[39m \u001b[43m  \u001b[49m\u001b[43m)\u001b[49m\u001b[43m:\u001b[49m\n\u001b[32m    321\u001b[39m \u001b[43m    \u001b[49m\u001b[38;5;28;43;01mif\u001b[39;49;00m\u001b[43m \u001b[49m\u001b[38;5;129;43;01mnot\u001b[39;49;00m\u001b[43m \u001b[49m\u001b[43m_validate_response\u001b[49m\u001b[43m(\u001b[49m\u001b[43mchunk\u001b[49m\u001b[43m)\u001b[49m\u001b[43m:\u001b[49m\n\u001b[32m    322\u001b[39m \u001b[43m      \u001b[49m\u001b[43mis_valid\u001b[49m\u001b[43m \u001b[49m\u001b[43m=\u001b[49m\u001b[43m \u001b[49m\u001b[38;5;28;43;01mFalse\u001b[39;49;00m\n",
      "\u001b[36mFile \u001b[39m\u001b[32m~/Desktop/movie-recommendation-chatbot/.venv/lib/python3.12/site-packages/google/genai/models.py:5079\u001b[39m, in \u001b[36mModels.generate_content_stream\u001b[39m\u001b[34m(self, model, contents, config)\u001b[39m\n\u001b[32m   5073\u001b[39m function_map = _extra_utils.get_function_map(config)\n\u001b[32m   5075\u001b[39m \u001b[38;5;28;01mif\u001b[39;00m i == \u001b[32m1\u001b[39m:\n\u001b[32m   5076\u001b[39m   \u001b[38;5;66;03m# First request gets a function call.\u001b[39;00m\n\u001b[32m   5077\u001b[39m   \u001b[38;5;66;03m# Then get function response parts.\u001b[39;00m\n\u001b[32m   5078\u001b[39m   \u001b[38;5;66;03m# Yield chunks only if there's no function response parts.\u001b[39;00m\n\u001b[32m-> \u001b[39m\u001b[32m5079\u001b[39m \u001b[43m  \u001b[49m\u001b[38;5;28;43;01mfor\u001b[39;49;00m\u001b[43m \u001b[49m\u001b[43mchunk\u001b[49m\u001b[43m \u001b[49m\u001b[38;5;129;43;01min\u001b[39;49;00m\u001b[43m \u001b[49m\u001b[43mresponse\u001b[49m\u001b[43m:\u001b[49m\n\u001b[32m   5080\u001b[39m \u001b[43m    \u001b[49m\u001b[38;5;28;43;01mif\u001b[39;49;00m\u001b[43m \u001b[49m\u001b[38;5;129;43;01mnot\u001b[39;49;00m\u001b[43m \u001b[49m\u001b[43mfunction_map\u001b[49m\u001b[43m:\u001b[49m\n\u001b[32m   5081\u001b[39m \u001b[43m      \u001b[49m\u001b[38;5;28;43;01myield\u001b[39;49;00m\u001b[43m \u001b[49m\u001b[43mchunk\u001b[49m\n",
      "\u001b[36mFile \u001b[39m\u001b[32m~/Desktop/movie-recommendation-chatbot/.venv/lib/python3.12/site-packages/google/genai/models.py:3988\u001b[39m, in \u001b[36mModels._generate_content_stream\u001b[39m\u001b[34m(self, model, contents, config)\u001b[39m\n\u001b[32m   3985\u001b[39m request_dict = _common.convert_to_dict(request_dict)\n\u001b[32m   3986\u001b[39m request_dict = _common.encode_unserializable_types(request_dict)\n\u001b[32m-> \u001b[39m\u001b[32m3988\u001b[39m \u001b[43m\u001b[49m\u001b[38;5;28;43;01mfor\u001b[39;49;00m\u001b[43m \u001b[49m\u001b[43mresponse_dict\u001b[49m\u001b[43m \u001b[49m\u001b[38;5;129;43;01min\u001b[39;49;00m\u001b[43m \u001b[49m\u001b[38;5;28;43mself\u001b[39;49m\u001b[43m.\u001b[49m\u001b[43m_api_client\u001b[49m\u001b[43m.\u001b[49m\u001b[43mrequest_streamed\u001b[49m\u001b[43m(\u001b[49m\n\u001b[32m   3989\u001b[39m \u001b[43m    \u001b[49m\u001b[33;43m'\u001b[39;49m\u001b[33;43mpost\u001b[39;49m\u001b[33;43m'\u001b[39;49m\u001b[43m,\u001b[49m\u001b[43m \u001b[49m\u001b[43mpath\u001b[49m\u001b[43m,\u001b[49m\u001b[43m \u001b[49m\u001b[43mrequest_dict\u001b[49m\u001b[43m,\u001b[49m\u001b[43m \u001b[49m\u001b[43mhttp_options\u001b[49m\n\u001b[32m   3990\u001b[39m \u001b[43m\u001b[49m\u001b[43m)\u001b[49m\u001b[43m:\u001b[49m\n\u001b[32m   3992\u001b[39m \u001b[43m  \u001b[49m\u001b[38;5;28;43;01mif\u001b[39;49;00m\u001b[43m \u001b[49m\u001b[38;5;28;43mself\u001b[39;49m\u001b[43m.\u001b[49m\u001b[43m_api_client\u001b[49m\u001b[43m.\u001b[49m\u001b[43mvertexai\u001b[49m\u001b[43m:\u001b[49m\n\u001b[32m   3993\u001b[39m \u001b[43m    \u001b[49m\u001b[43mresponse_dict\u001b[49m\u001b[43m \u001b[49m\u001b[43m=\u001b[49m\u001b[43m \u001b[49m\u001b[43m_GenerateContentResponse_from_vertex\u001b[49m\u001b[43m(\u001b[49m\n\u001b[32m   3994\u001b[39m \u001b[43m        \u001b[49m\u001b[38;5;28;43mself\u001b[39;49m\u001b[43m.\u001b[49m\u001b[43m_api_client\u001b[49m\u001b[43m,\u001b[49m\u001b[43m \u001b[49m\u001b[43mresponse_dict\u001b[49m\n\u001b[32m   3995\u001b[39m \u001b[43m    \u001b[49m\u001b[43m)\u001b[49m\n",
      "\u001b[36mFile \u001b[39m\u001b[32m~/Desktop/movie-recommendation-chatbot/.venv/lib/python3.12/site-packages/google/genai/_api_client.py:674\u001b[39m, in \u001b[36mBaseApiClient.request_streamed\u001b[39m\u001b[34m(self, http_method, path, request_dict, http_options)\u001b[39m\n\u001b[32m    663\u001b[39m \u001b[38;5;28;01mdef\u001b[39;00m\u001b[38;5;250m \u001b[39m\u001b[34mrequest_streamed\u001b[39m(\n\u001b[32m    664\u001b[39m     \u001b[38;5;28mself\u001b[39m,\n\u001b[32m    665\u001b[39m     http_method: \u001b[38;5;28mstr\u001b[39m,\n\u001b[32m   (...)\u001b[39m\u001b[32m    668\u001b[39m     http_options: Optional[HttpOptionsOrDict] = \u001b[38;5;28;01mNone\u001b[39;00m,\n\u001b[32m    669\u001b[39m ):\n\u001b[32m    670\u001b[39m   http_request = \u001b[38;5;28mself\u001b[39m._build_request(\n\u001b[32m    671\u001b[39m       http_method, path, request_dict, http_options\n\u001b[32m    672\u001b[39m   )\n\u001b[32m--> \u001b[39m\u001b[32m674\u001b[39m   session_response = \u001b[38;5;28;43mself\u001b[39;49m\u001b[43m.\u001b[49m\u001b[43m_request\u001b[49m\u001b[43m(\u001b[49m\u001b[43mhttp_request\u001b[49m\u001b[43m,\u001b[49m\u001b[43m \u001b[49m\u001b[43mstream\u001b[49m\u001b[43m=\u001b[49m\u001b[38;5;28;43;01mTrue\u001b[39;49;00m\u001b[43m)\u001b[49m\n\u001b[32m    675\u001b[39m   \u001b[38;5;28;01mfor\u001b[39;00m chunk \u001b[38;5;129;01min\u001b[39;00m session_response.segments():\n\u001b[32m    676\u001b[39m     \u001b[38;5;28;01myield\u001b[39;00m chunk\n",
      "\u001b[36mFile \u001b[39m\u001b[32m~/Desktop/movie-recommendation-chatbot/.venv/lib/python3.12/site-packages/google/genai/_api_client.py:572\u001b[39m, in \u001b[36mBaseApiClient._request\u001b[39m\u001b[34m(self, http_request, stream)\u001b[39m\n\u001b[32m    564\u001b[39m   httpx_request = \u001b[38;5;28mself\u001b[39m._httpx_client.build_request(\n\u001b[32m    565\u001b[39m       method=http_request.method,\n\u001b[32m    566\u001b[39m       url=http_request.url,\n\u001b[32m   (...)\u001b[39m\u001b[32m    569\u001b[39m       timeout=http_request.timeout,\n\u001b[32m    570\u001b[39m   )\n\u001b[32m    571\u001b[39m   response = \u001b[38;5;28mself\u001b[39m._httpx_client.send(httpx_request, stream=stream)\n\u001b[32m--> \u001b[39m\u001b[32m572\u001b[39m   \u001b[43merrors\u001b[49m\u001b[43m.\u001b[49m\u001b[43mAPIError\u001b[49m\u001b[43m.\u001b[49m\u001b[43mraise_for_response\u001b[49m\u001b[43m(\u001b[49m\u001b[43mresponse\u001b[49m\u001b[43m)\u001b[49m\n\u001b[32m    573\u001b[39m   \u001b[38;5;28;01mreturn\u001b[39;00m HttpResponse(\n\u001b[32m    574\u001b[39m       response.headers, response \u001b[38;5;28;01mif\u001b[39;00m stream \u001b[38;5;28;01melse\u001b[39;00m [response.text]\n\u001b[32m    575\u001b[39m   )\n\u001b[32m    576\u001b[39m \u001b[38;5;28;01melse\u001b[39;00m:\n",
      "\u001b[36mFile \u001b[39m\u001b[32m~/Desktop/movie-recommendation-chatbot/.venv/lib/python3.12/site-packages/google/genai/errors.py:101\u001b[39m, in \u001b[36mAPIError.raise_for_response\u001b[39m\u001b[34m(cls, response)\u001b[39m\n\u001b[32m     99\u001b[39m status_code = response.status_code\n\u001b[32m    100\u001b[39m \u001b[38;5;28;01mif\u001b[39;00m \u001b[32m400\u001b[39m <= status_code < \u001b[32m500\u001b[39m:\n\u001b[32m--> \u001b[39m\u001b[32m101\u001b[39m   \u001b[38;5;28;01mraise\u001b[39;00m ClientError(status_code, response_json, response)\n\u001b[32m    102\u001b[39m \u001b[38;5;28;01melif\u001b[39;00m \u001b[32m500\u001b[39m <= status_code < \u001b[32m600\u001b[39m:\n\u001b[32m    103\u001b[39m   \u001b[38;5;28;01mraise\u001b[39;00m ServerError(status_code, response_json, response)\n",
      "\u001b[31mClientError\u001b[39m: 400 INVALID_ARGUMENT. {'error': {'code': 400, 'message': 'Please ensure that the number of function response parts is equal to the number of function call parts of the function call turn.', 'status': 'INVALID_ARGUMENT'}}"
     ]
    }
   ],
   "source": [
    "from src.llm_api_client import LLMClient\n",
    "from config.load_config import load_config\n",
    "\n",
    "from test_antrpoic.antropic import ChatBot\n",
    "import streamlit as st\n",
    "\n",
    "\n",
    "prompts = load_config(\"config/prompts.yaml\")\n",
    "sys_instruct = prompts.get(\"system_instructions\")\n",
    "config = load_config(\"config/config.yaml\")\n",
    "llm_config = config.get(\"llm\", {})\n",
    "api_key = llm_config.get(\"GOOGLE_API_KEY\")\n",
    "model_name = llm_config.get(\"llm_model_name\")\n",
    "\n",
    "result = []\n",
    "\n",
    "import numpy as np\n",
    "counter = np.random.randint(0, 9999999999)\n",
    "\n",
    "# Initialize the LLM client gemini\n",
    "llm_client = LLMClient(model_name=model_name, api_key=api_key, sys_instruct=sys_instruct, config=config)\n",
    "\n",
    "# Initialize the LLM client antropic\n",
    "antrp = ChatBot(config)\n",
    "\n",
    "\n",
    "\n",
    "for q in combined_questions:\n",
    "    st.session_state.messages = []\n",
    "    counter += 1\n",
    "\n",
    "\n",
    "    print('\\n')\n",
    "    print(\"=\"*20)\n",
    "    article_id = q.get('article_id')\n",
    "    question = q.get('question')\n",
    "    print(f\"Article ID: {article_id}\")\n",
    "    print(f\"Question: {question}\")\n",
    "    \n",
    "    full_response = \"\"\n",
    "    ans = llm_client.streaming_message(question,f'{counter}')\n",
    "    async for chunk in ans:\n",
    "        print(chunk, end='', flush=True)\n",
    "        if chunk:\n",
    "            full_response += chunk\n",
    "\n",
    "\n",
    "    print('\\n')\n",
    "    print(\"=\"*20)\n",
    "    second_answer = \"\"\n",
    "    ans = llm_client.streaming_message(second_question,f'{counter}')\n",
    "    async for chunk in ans:\n",
    "        if chunk:\n",
    "            second_answer += chunk\n",
    "        print(chunk, end='', flush=True)\n",
    "\n",
    "\n",
    "    thierd_answer = \"\"\n",
    "    ans = llm_client.streaming_message(thierd_question,f'{counter}')\n",
    "    async for chunk in ans:\n",
    "        if chunk:\n",
    "            thierd_answer += chunk\n",
    "        print(chunk, end='', flush=True)\n",
    "\n",
    "\n",
    "\n",
    "    # print('antrpoic answer')\n",
    "    # antropic_answer, state = antrp.process_user_input(question,st.session_state)\n",
    "    # print(antropic_answer)\n",
    "    # second_answer_antrpoic, state = antrp.process_user_input(second_question,state)\n",
    "    # print(second_answer_antrpoic)\n",
    "    # thierd_answer_antrpoic, state = antrp.process_user_input(thierd_question,state)\n",
    "    # print(thierd_answer_antrpoic)\n",
    "\n",
    "    result.append({\n",
    "        'article_id': article_id,\n",
    "        'question': question,\n",
    "        'answer_gemini': full_response,\n",
    "        # 'answer_antrp': antropic_answer,\n",
    "        'second_answer_gemini': second_answer,\n",
    "        # 'second_answer_antrp': second_answer_antrpoic,\n",
    "        'thierd_answer_gemini': thierd_answer,\n",
    "        # 'thierd_answer_antrp': thierd_answer_antrpoic\n",
    "    })\n",
    "    \n",
    "    \n"
   ]
  },
  {
   "cell_type": "code",
   "execution_count": null,
   "metadata": {},
   "outputs": [],
   "source": [
    "import pandas as pd\n",
    "pd.DataFrame(result).to_excel('first_question_article.xlsx', index=False)"
   ]
  },
  {
   "cell_type": "code",
   "execution_count": null,
   "metadata": {},
   "outputs": [
    {
     "data": {
      "text/plain": [
       "'</thinking>\\nThe user is asking a question about which movie the critic preferred more. The previous response includes 2 reviews for different movies. I can answer the user by comparing the reviews.\\n</thinking>\\nמבקר הקולנוע אורון שמיר העדיף את הסרט \"סודה\" של ארז תדמור. לעומת זאת, אורי קליין כתב ביקורת על הסרט \"הסוסיתא של הרצל\" והיה פחות נלהב.\\n'"
      ]
     },
     "execution_count": 13,
     "metadata": {},
     "output_type": "execute_result"
    }
   ],
   "source": [
    "second_answer"
   ]
  },
  {
   "cell_type": "code",
   "execution_count": null,
   "metadata": {},
   "outputs": [
    {
     "data": {
      "text/plain": [
       "'</thinking>\\nThe user is asking for information about a specific movie. The query includes the director\\'s name, the time period in which the movie takes place, the location, and a description of the plot. This is enough information to call the `find_movie_tv_info_or_review` function.\\n</thinking>\\n[{\"article_id\": \"00000194-6e60-d9d3-a597-eeecd15d0000\", \"article_name\": \"\\\\\"סודה\\\\\": בין תאוות נקמה להיאחזות בתקווה\", \"writer_name\": [\"אורון שמיר\"]}, {\"article_id\": \"0000017f-f870-d460-afff-fb7646e20000\", \"article_name\": \"לא מפליא שסרט שקוראים לו ״סוסיתא״ לא מתניע\", \"writer_name\": [\"אורי קליין\"]}]הסרט שאתה מחפש נקרא \"סודה\" בבימויו של ארז תדמור. הסרט מתרחש בשנות ה-50 ליד הכנרת ועוסק בקבוצת פרטיזנים לשעבר שעובדים במפעל סודה. העלילה עוסקת בתאוות נקמה ובניסיון להיאחז בתקווה לעתיד טוב יותר.'"
      ]
     },
     "execution_count": 12,
     "metadata": {},
     "output_type": "execute_result"
    }
   ],
   "source": [
    "full_response"
   ]
  },
  {
   "cell_type": "code",
   "execution_count": null,
   "metadata": {},
   "outputs": [
    {
     "data": {
      "text/plain": [
       "'</thinking>\\nThe user is asking which movie is better for someone who is sensitive to disappointing or unresolved endings. I need to call the tool again to find the reviews and see if they mention anything about the ending of the movies.\\n</thinking>\\nאוקיי, אני אמליץ לך על יצירה מבין אלה שהמלצתי עליהן, בהתחשב ברגישות שלך לסיומים מאכזבים או לא סגורים. אני מיד בודק את הביקורות כדי לראות איזו מהן מתאימה יותר לטעם שלך.\\n[{\"article_id\": \"00000194-6e60-d9d3-a597-eeecd15d0000\", \"article_name\": \"\\\\\"סודה\\\\\": בין תאוות נקמה להיאחזות בתקווה\", \"writer_name\": [\"אורון שמיר\"]}, {\"article_id\": \"0000017f-f59b-ddde-abff-fdffb9960000\", \"article_name\": \"אז מה אם \\\\\"סוף טוב\\\\\" של מיכאל האנקה הוא לא יצירת מופת\", \"writer_name\": [\"אורי קליין\"]}]'"
      ]
     },
     "execution_count": 14,
     "metadata": {},
     "output_type": "execute_result"
    }
   ],
   "source": [
    "thierd_answer"
   ]
  },
  {
   "cell_type": "code",
   "execution_count": null,
   "metadata": {},
   "outputs": [],
   "source": []
  }
 ],
 "metadata": {
  "kernelspec": {
   "display_name": ".venv",
   "language": "python",
   "name": "python3"
  },
  "language_info": {
   "codemirror_mode": {
    "name": "ipython",
    "version": 3
   },
   "file_extension": ".py",
   "mimetype": "text/x-python",
   "name": "python",
   "nbconvert_exporter": "python",
   "pygments_lexer": "ipython3",
   "version": "3.12.8"
  }
 },
 "nbformat": 4,
 "nbformat_minor": 2
}
