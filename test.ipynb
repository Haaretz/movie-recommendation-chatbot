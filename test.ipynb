{
 "cells": [
  {
   "cell_type": "code",
   "execution_count": null,
   "metadata": {},
   "outputs": [],
   "source": [
    "first_question_article = [\n",
    "     {'article_id': '00000194-25d6-dcc4-a1d7-3df6703c0000',\n",
    "      'question': 'אני רוצה לקרוא ביקורת על הסרט החדש של לוקה גואדנינו, זה שמבוסס על ספר של בורוז על הומו שחי במקסיקו בשנות ה-50 ומחפש גברים צעירים.'},\n",
    "      {'article_id': '00000194-2618-dd68-a3be-e6fc06680000',\n",
    "       'question': 'אני מחפש ביקורת על הסרט החדש עם ניקול קידמן, זה שהיא משחקת בו מנכ\"לית חברת רובוטיקה שיש לה רומן עם מתמחה צעיר. הסרט הוקרן בפסטיבל ונציה, איך הוא?.'\n",
    "       },\n",
    "       {'article_id': '00000194-2681-ddb6-afdd-77e781220000',\n",
    "        'question': 'אני מחפש ביקורת על הסרט החדש של עמוס גיתאי, זה שעוסק בשאלה למה יש מלחמות ומשתמש במכתבים של איינשטיין ופרויד.'\n",
    "        },\n",
    "        {'article_id': '00000194-2b97-d9c2-a79e-2bd7330c0000',\n",
    "            'question': 'אפשר בבקשה ביקורת על הסרט החדש \"נוספרטו\" של רוברט אגרס? אני רוצה לדעת אם הוא נאמן למקורות של סרטי הערפדים הקלאסיים ואיך השחקנים הראשיים, במיוחד לילי-רוז דפ, משחקים?'\n",
    "        },\n",
    "        {'article_id': '00000194-319b-d555-abbc-b1dfdf250000',\n",
    "            'question': '\"אני מחפש ביקורת על סרט חדש שמוקרן בפסטיבל חיפה, על אישה אלכוהוליסטית בשם רונה שחוזרת לאי הולדתה בסקוטלנד כדי להתמודד עם ההתמכרות שלה. מישהי כתבה על זה ביקורת?'\n",
    "        },\n",
    "        {\n",
    "            'article_id': '00000194-31db-ddaf-adb7-7bfbaf200000',\n",
    "            'question': 'אני מחפש סרט איראני חדש שמתרחש בטהרן ועוסק במשפחה שאבא שלה שופט ורואים בו גם קטעים מההפגנות שם. ראיתי שהקרינו אותו בפסטיבל חיפה'\n",
    "        },\n",
    "        {'article_id': '00000194-34df-d39d-a196-b7ff86ce0000',\n",
    "            'question': '\"אני מחפש סדרת אנימציה חדשה בנטפליקס, משהו בסגנון באפי קוטלת הערפדים אבל עם מיתולוגיה סינית. שמעתי שיש סדרה על נערה סינית-אמריקאית שנלחמת בשדים, מישהו מכיר?',\n",
    "        },\n",
    "        {\n",
    "            'article_id':\"00000194-356b-de88-a3dc-75ef26460000\",\n",
    "            'question':\"אוקיי, שמעתי על סרט חדש של שבי גביזון עם ריצ'רד גיר על אבא שמגלה שהיה לו בן שנהרג. איך קוראים לסרט ומה הוא מספר עליו?\"\n",
    "        },\n",
    "        {\n",
    "        'article_id':'00000194-4be5-dff1-a7bc-dbf57a210000',\n",
    "        'question':'אני מחפש סרט על שני בני דודים יהודים אמריקאים שנוסעים לפולין בעקבות השואה. אחד מהם משחק בסדרה \"יורשים\". מישהו כתב וביים את הסרט והוא גם שחקן בסרט \"הרשת החברתית\".',\n",
    "        },\n",
    "        {\n",
    "        'article_id':'00000194-6339-dabc-afff-6b7fb6e90000',\n",
    "        'question':'אוקיי, שמעתי שיש סדרה חדשה בנטפליקס, מין מערבון כזה אבל ממש קשוח, עם הרבה אלימות וטבח. זה על איזה אישה שמנסה לשרוד עם הבן שלה בתקופה של מלחמת יוטה והטבח בהר מדוז. מישהו יודע על מה אני מדבר?',\n",
    "        },\n",
    "        {\n",
    "        'article_id':'00000194-6e60-d9d3-a597-eeecd15d0000',\n",
    "        'question':'\"אני מחפש מידע על הסרט החדש של ארז תדמור, זה שמתרחש בשנות ה-50 ליד הכנרת ועוסק בפרטיזנים לשעבר שעובדים במפעל סודה. איך קוראים לסרט ומה העלילה שלו?',\n",
    "        },\n",
    "]\n",
    "\n",
    "first_question_genre = [\n",
    "    \"אחי, תמליץ לי על איזה סרט אקשן טוב בנטפליקס? משהו חדש יחסית.\",\n",
    "    \"מחפשת סדרה קלילה ומצחיקה, קומדיה כזאת, לא משנה לי באיזה שירות סטרימינג.\",\n",
    "    \"מה כדאי לראות עכשיו ביס פלוס? בא לי איזה משהו מתח טוב.\",\n",
    "    \"יש לך המלצה לסרט דרמה איכותי? עדיף משהו שזמין בהוט.\",\n",
    "    \"אני והחבר'ה רוצים לראות סרט אימה הערב. יש משהו ממש מפחיד שאתה מכיר?\",\n",
    "    \"תגיד, יש איזה סדרת מדע בדיוני שווה בפרטנר TV או בסלקום TV?\",\n",
    "    \"בא לי לראות סרט ישראלי טוב, יש משהו מומלץ לאחרונה?\",\n",
    "    \"מחפש סדרה לבינג', משהו שאפשר לטחון בסופ\\\"ש. ז'אנר פחות קריטי, העיקר שתהיה ממכרת.\",\n",
    "    \"יש סרטי דוקו מעניינים בדיסני פלוס או באפל טי וי?\",\n",
    "    \"סתם תן המלצה לסרט טוב שראית לאחרונה, לא משנה לי הז'אנר או הפלטפורמה.\"\n",
    "\n",
    "]\n",
    "\n",
    "genre_questions_as_dicts = [\n",
    "    {'article_id': '', 'question': q} for q in first_question_genre\n",
    "]\n",
    "\n",
    "# איחוד שתי הרשימות לרשימה אחת\n",
    "combined_questions = first_question_article + genre_questions_as_dicts\n",
    "\n",
    "second_question = 'איפה אני יכול לראות את הסרט/סדרה הזאת?'\n",
    "thierd_question = 'איזה יצירה המבקר העדיף יותר?'\n",
    "\n"
   ]
  },
  {
   "cell_type": "code",
   "execution_count": 5,
   "metadata": {},
   "outputs": [
    {
     "name": "stderr",
     "output_type": "stream",
     "text": [
      "/Users/roeishlezinger/Desktop/movie-recommendation-chatbot/src/tools/search/utillity/qdrant.py:9: UserWarning: Qdrant client version 1.13.3 is incompatible with server version 1.8.4. Major versions should match and minor version difference must not exceed 1. Set check_version=False to skip version check.\n",
      "  self.client_qdrant = QdrantClient(config)\n",
      "{\"message\": \"Successfully connected to Redis.\"}\n",
      "{\"message\": \"No history found for user 5796282182 in Redis.\"}\n",
      "{\"message\": \"Successfully created new chat session.\"}\n"
     ]
    },
    {
     "name": "stdout",
     "output_type": "stream",
     "text": [
      "\n",
      "\n",
      "====================\n",
      "Article ID: 00000194-25d6-dcc4-a1d7-3df6703c0000\n",
      "Question: אני רוצה לקרוא ביקורת על הסרט החדש של לוקה גואדנינו, זה שמבוסס על ספר של בורוז על הומו שחי במקסיקו בשנות ה-50 ומחפש גברים צעירים.\n"
     ]
    },
    {
     "name": "stderr",
     "output_type": "stream",
     "text": [
      "Warning: there are non-text parts in the response: ['function_call'],returning concatenated text result from text parts,check out the non text parts for full response from model.\n",
      "{\"message\": \"Processing function call: find_movie_tv_info_or_review with args: {'query': '\\u05d0\\u05e0\\u05d9 \\u05e8\\u05d5\\u05e6\\u05d4 \\u05dc\\u05e7\\u05e8\\u05d5\\u05d0 \\u05d1\\u05d9\\u05e7\\u05d5\\u05e8\\u05ea \\u05e2\\u05dc \\u05d4\\u05e1\\u05e8\\u05d8 \\u05d4\\u05d7\\u05d3\\u05e9 \\u05e9\\u05dc \\u05dc\\u05d5\\u05e7\\u05d4 \\u05d2\\u05d5\\u05d0\\u05d3\\u05e0\\u05d9\\u05e0\\u05d5, \\u05d6\\u05d4 \\u05e9\\u05de\\u05d1\\u05d5\\u05e1\\u05e1 \\u05e2\\u05dc \\u05e1\\u05e4\\u05e8 \\u05e9\\u05dc \\u05d1\\u05d5\\u05e8\\u05d5\\u05d6 \\u05e2\\u05dc \\u05d4\\u05d5\\u05de\\u05d5 \\u05e9\\u05d7\\u05d9 \\u05d1\\u05de\\u05e7\\u05e1\\u05d9\\u05e7\\u05d5 \\u05d1\\u05e9\\u05e0\\u05d5\\u05ea \\u05d4-50 \\u05d5\\u05de\\u05d7\\u05e4\\u05e9 \\u05d2\\u05d1\\u05e8\\u05d9\\u05dd \\u05e6\\u05e2\\u05d9\\u05e8\\u05d9\\u05dd'}\"}\n",
      "{\"message\": \"Query is likely Hebrew, returning original query.\"}\n",
      "{\"message\": \"Retrieving relevant documents for query: '\\u05d0\\u05e0\\u05d9 \\u05e8\\u05d5\\u05e6\\u05d4 \\u05dc\\u05e7\\u05e8\\u05d5\\u05d0 \\u05d1\\u05d9\\u05e7\\u05d5\\u05e8\\u05ea \\u05e2\\u05dc \\u05d4\\u05e1\\u05e8\\u05d8 \\u05d4\\u05d7\\u05d3\\u05e9 \\u05e9\\u05dc \\u05dc\\u05d5\\u05e7\\u05d4 \\u05d2\\u05d5\\u05d0\\u05d3\\u05e0\\u05d9\\u05e0\\u05d5, \\u05d6\\u05d4 \\u05e9\\u05de\\u05d1\\u05d5\\u05e1\\u05e1 \\u05e2\\u05dc \\u05e1\\u05e4\\u05e8 \\u05e9\\u05dc \\u05d1\\u05d5\\u05e8\\u05d5\\u05d6 \\u05e2\\u05dc \\u05d4\\u05d5\\u05de\\u05d5 \\u05e9\\u05d7\\u05d9 \\u05d1\\u05de\\u05e7\\u05e1\\u05d9\\u05e7\\u05d5 \\u05d1\\u05e9\\u05e0\\u05d5\\u05ea \\u05d4-50 \\u05d5\\u05de\\u05d7\\u05e4\\u05e9 \\u05d2\\u05d1\\u05e8\\u05d9\\u05dd \\u05e6\\u05e2\\u05d9\\u05e8\\u05d9\\u05dd'\"}\n",
      "{\"message\": \"Tool 'find_movie_tv_info_or_review' executed successfully for query: '\\u05d0\\u05e0\\u05d9 \\u05e8\\u05d5\\u05e6\\u05d4 \\u05dc\\u05e7\\u05e8\\u05d5\\u05d0 \\u05d1\\u05d9\\u05e7\\u05d5\\u05e8\\u05ea \\u05e2\\u05dc \\u05d4\\u05e1\\u05e8\\u05d8 \\u05d4\\u05d7\\u05d3\\u05e9 \\u05e9\\u05dc \\u05dc\\u05d5\\u05e7\\u05d4 \\u05d2\\u05d5\\u05d0\\u05d3\\u05e0\\u05d9\\u05e0\\u05d5, \\u05d6\\u05d4 \\u05e9\\u05de\\u05d1\\u05d5\\u05e1\\u05e1 \\u05e2\\u05dc \\u05e1\\u05e4\\u05e8 \\u05e9\\u05dc \\u05d1\\u05d5\\u05e8\\u05d5\\u05d6 \\u05e2\\u05dc \\u05d4\\u05d5\\u05de\\u05d5 \\u05e9\\u05d7\\u05d9 \\u05d1\\u05de\\u05e7\\u05e1\\u05d9\\u05e7\\u05d5 \\u05d1\\u05e9\\u05e0\\u05d5\\u05ea \\u05d4-50 \\u05d5\\u05de\\u05d7\\u05e4\\u05e9 \\u05d2\\u05d1\\u05e8\\u05d9\\u05dd \\u05e6\\u05e2\\u05d9\\u05e8\\u05d9\\u05dd'. Results obtained.\"}\n",
      "{\"message\": \"Generated 1 function response parts.\"}\n"
     ]
    },
    {
     "name": "stdout",
     "output_type": "stream",
     "text": [
      "[{\"article_id\": \"00000194-25d6-dcc4-a1d7-3df6703c0000\", \"article_name\": \"\\\"קוויר\\\": מרתק לראות את דניאל קרייג מפגין שילוב של חולשה וגבריות יהירה\", \"writer_name\": [\"פבלו אוטין\"]}, {\"article_id\": \"0000017f-e3db-df7c-a5ff-e3fbc9000000\", \"article_name\": \"אז איך זה נראה כשהוליווד המיינסטרימית עוסקת סוף סוף במתבגרים הומואים?\", \"writer_name\": [\"אורי קליין\"]}]הנה ביקורת על הסרט \"קוויר\" של לוקה גואדנינו, המבוסס על ספרו של בורוז. הביקורת מאת פבלו אוטין מתארת את הסרט כמעין דיאלוג טלפתי, מיזוג יצירתי או מעשה אהבה בין גואדנינו לסופר הנערץ. דניאל קרייג מגלם את ויליאם לי, הומו אמריקאי המחפש גברים צעירים במקסיקו של שנות ה-50. הסרט מתואר כחוויה תודעתית ומשונה, המשלבת דימויים בורוזיאניים.\n",
      "\n",
      "האם תרצה שאחפש ביקורות נוספות על סרטים של לוקה גואדנינו?"
     ]
    },
    {
     "name": "stderr",
     "output_type": "stream",
     "text": [
      "{\"message\": \"No history found for user 5796282183 in Redis.\"}\n",
      "{\"message\": \"Successfully created new chat session.\"}\n"
     ]
    },
    {
     "name": "stdout",
     "output_type": "stream",
     "text": [
      "אני מצטער, אני לא מוצא מידע על הסרט הזה במאמרים של הארץ."
     ]
    },
    {
     "name": "stderr",
     "output_type": "stream",
     "text": [
      "{\"message\": \"Loaded history for user 5796282183 from Redis.\"}\n",
      "{\"message\": \"Successfully created new chat session.\"}\n"
     ]
    },
    {
     "name": "stdout",
     "output_type": "stream",
     "text": [
      "אני מצטער, אני לא מוצא מידע על הסרט הזה במאמרים של הארץ.\n",
      "\n",
      "====================\n",
      "Article ID: 00000194-2618-dd68-a3be-e6fc06680000\n",
      "Question: אני מחפש ביקורת על הסרט החדש עם ניקול קידמן, זה שהיא משחקת בו מנכ\"לית חברת רובוטיקה שיש לה רומן עם מתמחה צעיר. הסרט הוקרן בפסטיבל ונציה, איך הוא?.\n"
     ]
    },
    {
     "name": "stderr",
     "output_type": "stream",
     "text": [
      "{\"message\": \"Loaded history for user 5796282183 from Redis.\"}\n",
      "{\"message\": \"Successfully created new chat session.\"}\n",
      "Warning: there are non-text parts in the response: ['function_call'],returning concatenated text result from text parts,check out the non text parts for full response from model.\n",
      "{\"message\": \"Processing function call: find_movie_tv_info_or_review with args: {'query': '\\u05d1\\u05d9\\u05e7\\u05d5\\u05e8\\u05ea \\u05e2\\u05dc \\u05d4\\u05e1\\u05e8\\u05d8 \\u05d4\\u05d7\\u05d3\\u05e9 \\u05e2\\u05dd \\u05e0\\u05d9\\u05e7\\u05d5\\u05dc \\u05e7\\u05d9\\u05d3\\u05de\\u05df \\u05de\\u05e0\\u05db\\\"\\u05dc\\u05d9\\u05ea \\u05d7\\u05d1\\u05e8\\u05ea \\u05e8\\u05d5\\u05d1\\u05d5\\u05d8\\u05d9\\u05e7\\u05d4 \\u05e8\\u05d5\\u05de\\u05df \\u05e2\\u05dd \\u05de\\u05ea\\u05de\\u05d7\\u05d4 \\u05e6\\u05e2\\u05d9\\u05e8 \\u05e4\\u05e1\\u05d8\\u05d9\\u05d1\\u05dc \\u05d5\\u05e0\\u05e6\\u05d9\\u05d4'}\"}\n",
      "{\"message\": \"Query is likely Hebrew, returning original query.\"}\n",
      "{\"message\": \"Retrieving relevant documents for query: '\\u05d1\\u05d9\\u05e7\\u05d5\\u05e8\\u05ea \\u05e2\\u05dc \\u05d4\\u05e1\\u05e8\\u05d8 \\u05d4\\u05d7\\u05d3\\u05e9 \\u05e2\\u05dd \\u05e0\\u05d9\\u05e7\\u05d5\\u05dc \\u05e7\\u05d9\\u05d3\\u05de\\u05df \\u05de\\u05e0\\u05db\\\"\\u05dc\\u05d9\\u05ea \\u05d7\\u05d1\\u05e8\\u05ea \\u05e8\\u05d5\\u05d1\\u05d5\\u05d8\\u05d9\\u05e7\\u05d4 \\u05e8\\u05d5\\u05de\\u05df \\u05e2\\u05dd \\u05de\\u05ea\\u05de\\u05d7\\u05d4 \\u05e6\\u05e2\\u05d9\\u05e8 \\u05e4\\u05e1\\u05d8\\u05d9\\u05d1\\u05dc \\u05d5\\u05e0\\u05e6\\u05d9\\u05d4'\"}\n",
      "{\"message\": \"Tool 'find_movie_tv_info_or_review' executed successfully for query: '\\u05d1\\u05d9\\u05e7\\u05d5\\u05e8\\u05ea \\u05e2\\u05dc \\u05d4\\u05e1\\u05e8\\u05d8 \\u05d4\\u05d7\\u05d3\\u05e9 \\u05e2\\u05dd \\u05e0\\u05d9\\u05e7\\u05d5\\u05dc \\u05e7\\u05d9\\u05d3\\u05de\\u05df \\u05de\\u05e0\\u05db\\\"\\u05dc\\u05d9\\u05ea \\u05d7\\u05d1\\u05e8\\u05ea \\u05e8\\u05d5\\u05d1\\u05d5\\u05d8\\u05d9\\u05e7\\u05d4 \\u05e8\\u05d5\\u05de\\u05df \\u05e2\\u05dd \\u05de\\u05ea\\u05de\\u05d7\\u05d4 \\u05e6\\u05e2\\u05d9\\u05e8 \\u05e4\\u05e1\\u05d8\\u05d9\\u05d1\\u05dc \\u05d5\\u05e0\\u05e6\\u05d9\\u05d4'. Results obtained.\"}\n",
      "{\"message\": \"Generated 1 function response parts.\"}\n"
     ]
    },
    {
     "name": "stdout",
     "output_type": "stream",
     "text": [
      "[{\"article_id\": \"00000194-2618-dd68-a3be-e6fc06680000\", \"article_name\": \"\\\"בייביגירל\\\": הסרט החדש של ניקול קידמן מגרה בעיקר את המוח\", \"writer_name\": [\"אורון שמיר\"]}, {\"article_id\": \"0000017f-e073-d804-ad7f-f1fb05d40000\", \"article_name\": \"\\\"קימי\\\" מתחיל כמו \\\"חלון אחורי\\\" ומחליף הילוך ל\\\"ראן לולה ראן\\\"\", \"writer_name\": [\"אורון שמיר\"]}]הביקורת של אורון שמיר על הסרט \"בייביגירל\" מציינת שהסרט מגרה בעיקר את המוח, עם הופעה טובה של ניקול קידמן, אך הוא לא מצליח להיות מותחן ארוטי מסעיר במיוחד. הביקורת גם מזכירה סרט נוסף בכיכובה של ניקול קידמן בשם \"הזוג המושלם\".\n",
      "\n",
      "האם תרצה לקרוא את הביקורת המלאה על \"בייביגירל\"? או שאולי תרצה לחפש ביקורות על סרטים אחרים בכיכובה של ניקול קידמן?"
     ]
    },
    {
     "name": "stderr",
     "output_type": "stream",
     "text": [
      "{\"message\": \"No history found for user 5796282184 in Redis.\"}\n",
      "{\"message\": \"Successfully created new chat session.\"}\n",
      "Warning: there are non-text parts in the response: ['function_call'],returning concatenated text result from text parts,check out the non text parts for full response from model.\n",
      "{\"message\": \"Processing function call: find_movie_tv_info_or_review with args: {'query': '\\u05d4\\u05d9\\u05d9\\u05e6\\u05e8\\u05d5\\u05ea \\u05d4\\u05d0\\u05dc\\u05d4 \\u05d4\\u05de\\u05dc\\u05e6\\u05d4'}\"}\n",
      "{\"message\": \"Query is likely Hebrew, returning original query.\"}\n",
      "{\"message\": \"Retrieving relevant documents for query: '\\u05d4\\u05d9\\u05d9\\u05e6\\u05e8\\u05d5\\u05ea \\u05d4\\u05d0\\u05dc\\u05d4 \\u05d4\\u05de\\u05dc\\u05e6\\u05d4'\"}\n",
      "{\"message\": \"Tool 'find_movie_tv_info_or_review' executed successfully for query: '\\u05d4\\u05d9\\u05d9\\u05e6\\u05e8\\u05d5\\u05ea \\u05d4\\u05d0\\u05dc\\u05d4 \\u05d4\\u05de\\u05dc\\u05e6\\u05d4'. Results obtained.\"}\n",
      "{\"message\": \"Generated 1 function response parts.\"}\n"
     ]
    },
    {
     "name": "stdout",
     "output_type": "stream",
     "text": [
      "[{\"article_id\": \"00000189-5e9c-de4e-adeb-ffbc0ef10000\", \"article_name\": \"\\\"לה צ'ימרה\\\" הוא קולנוע נשגב ששווה לבדו ביקור בפסטיבל ירושלים\", \"writer_name\": [\"אורון שמיר\"]}, {\"article_id\": \"0000018d-d2bd-d06c-abbd-dafdf6560000\", \"article_name\": \"\\\"סעי בובה\\\": מחצית מהאחים כהן בקומדיית סקס על גיבורות במנוסה\", \"writer_name\": [\"אורון שמיר\"]}]אליצ'ה רורוואכר היא במאית איטלקייה מוערכת שהסרטים שלה הם קולנוע נשגב, ממזגים בין זמנים ותקופות, ויוצרים חוויה מיסטית ומכשפת. \"לה צ'ימרה\" הוא סרטה הטוב ביותר עד כה, אחד הגדולים והמפוארים של השנה הקולנועית, העוסק בעמידותו של העבר והשפעתו על החיים. הסרט מציג תלכיד שכבות גיאולוגיות של משמעות ויופי, וחושף בסבלנות סוגיות מודרניות כגון מעמד האישה או כבוד החיים והמתים.\n",
      "\n",
      "האם תרצה לדעת על סרטים נוספים של אליצ'ה רורוואכר?"
     ]
    },
    {
     "name": "stderr",
     "output_type": "stream",
     "text": [
      "{\"message\": \"Loaded history for user 5796282184 from Redis.\"}\n",
      "{\"message\": \"Successfully created new chat session.\"}\n"
     ]
    },
    {
     "name": "stdout",
     "output_type": "stream",
     "text": [
      "המבקר אורון שמיר העדיף יותר את הסרט \"לה צ'ימרה\" של אליצ'ה רורוואכר. הוא תיאר אותו כסרטה הטוב ביותר עד כה ואחד הגדולים והמפוארים של השנה הקולנועית, וציין שהוא קולנוע נשגב ששווה ביקור בפסטיבל ירושלים. לעומת זאת, על \"סעי בובה\" הוא כתב שהוא מזכיר את היצירות של האחים כהן מתחילת שנות האלפיים, ומיקם אותו באמצע - פחות טוב מ\"אחי, איפה אתה?\" ו\"האיש שלא היה שם\", אך עדיף על \"אכזריות בלתי נסבלת\" ו\"לחסל את הליידי\".\n",
      "\n",
      "האם תרצה לדעת עוד על \"לה צ'ימרה\" או על סרטים אחרים של אליצ'ה רורוואכר?\n",
      "\n",
      "\n",
      "====================\n",
      "Article ID: 00000194-2681-ddb6-afdd-77e781220000\n",
      "Question: אני מחפש ביקורת על הסרט החדש של עמוס גיתאי, זה שעוסק בשאלה למה יש מלחמות ומשתמש במכתבים של איינשטיין ופרויד.\n"
     ]
    },
    {
     "name": "stderr",
     "output_type": "stream",
     "text": [
      "{\"message\": \"Loaded history for user 5796282184 from Redis.\"}\n",
      "{\"message\": \"Successfully created new chat session.\"}\n",
      "Warning: there are non-text parts in the response: ['function_call'],returning concatenated text result from text parts,check out the non text parts for full response from model.\n",
      "{\"message\": \"Processing function call: find_movie_tv_info_or_review with args: {'query': '\\u05d1\\u05d9\\u05e7\\u05d5\\u05e8\\u05ea \\u05e2\\u05dc \\u05d4\\u05e1\\u05e8\\u05d8 \\u05d4\\u05d7\\u05d3\\u05e9 \\u05e9\\u05dc \\u05e2\\u05de\\u05d5\\u05e1 \\u05d2\\u05d9\\u05ea\\u05d0\\u05d9 \\u05e2\\u05dc \\u05de\\u05dc\\u05d7\\u05de\\u05d5\\u05ea, \\u05d0\\u05d9\\u05d9\\u05e0\\u05e9\\u05d8\\u05d9\\u05d9\\u05df \\u05d5\\u05e4\\u05e8\\u05d5\\u05d9\\u05d3'}\"}\n",
      "{\"message\": \"Query is likely Hebrew, returning original query.\"}\n",
      "{\"message\": \"Retrieving relevant documents for query: '\\u05d1\\u05d9\\u05e7\\u05d5\\u05e8\\u05ea \\u05e2\\u05dc \\u05d4\\u05e1\\u05e8\\u05d8 \\u05d4\\u05d7\\u05d3\\u05e9 \\u05e9\\u05dc \\u05e2\\u05de\\u05d5\\u05e1 \\u05d2\\u05d9\\u05ea\\u05d0\\u05d9 \\u05e2\\u05dc \\u05de\\u05dc\\u05d7\\u05de\\u05d5\\u05ea, \\u05d0\\u05d9\\u05d9\\u05e0\\u05e9\\u05d8\\u05d9\\u05d9\\u05df \\u05d5\\u05e4\\u05e8\\u05d5\\u05d9\\u05d3'\"}\n",
      "{\"message\": \"Tool 'find_movie_tv_info_or_review' executed successfully for query: '\\u05d1\\u05d9\\u05e7\\u05d5\\u05e8\\u05ea \\u05e2\\u05dc \\u05d4\\u05e1\\u05e8\\u05d8 \\u05d4\\u05d7\\u05d3\\u05e9 \\u05e9\\u05dc \\u05e2\\u05de\\u05d5\\u05e1 \\u05d2\\u05d9\\u05ea\\u05d0\\u05d9 \\u05e2\\u05dc \\u05de\\u05dc\\u05d7\\u05de\\u05d5\\u05ea, \\u05d0\\u05d9\\u05d9\\u05e0\\u05e9\\u05d8\\u05d9\\u05d9\\u05df \\u05d5\\u05e4\\u05e8\\u05d5\\u05d9\\u05d3'. Results obtained.\"}\n",
      "{\"message\": \"Generated 1 function response parts.\"}\n"
     ]
    },
    {
     "name": "stdout",
     "output_type": "stream",
     "text": [
      "[{\"article_id\": \"00000194-2681-ddb6-afdd-77e781220000\", \"article_name\": \"\\\"למה מלחמה\\\": החדש של גיתאי מעניין, מרושל וטרחני\", \"writer_name\": [\"פבלו אוטין\"]}, {\"article_id\": \"0000017f-e299-d9aa-afff-fbd97af30000\", \"article_name\": \"בחזרה לגדה המערבית: בסרט החדש של עמוס גיתאי הייאוש החליף את הזעם\", \"writer_name\": [\"אורי קליין\"]}]הנה ביקורת על הסרט \"למה מלחמה\" של עמוס גיתאי:\n",
      "\n",
      "פבלו אוטין כתב שהסרט מעניין, אך גם מרושל וטרחני. הוא מציין שהסרט הוא מאמר ויזואלי ואינו סרט עם סיפור, אלא הרהורים על מלחמה כמצב אנושי. הביקורת מציינת שהסרט מנסה לעסוק בשאלה למה יש מלחמה באמצעות טקסטים אנליטיים, דיאלוגים, קטעי מוזיקה ויצירות אמנות, אך בסופו של דבר התוצאה נדושה ומיושנת. אוטין מבקר את הביצוע המרושל של הסרט, אך גם מציין רגעים חזקים שבהם גיתאי סומך על הצופים ומאפשר להם להגיע לתובנות בעצמם.\n",
      "\n",
      "אורי קליין כתב על סרט אחר של עמוס גיתאי בשם \"מערב לירדן\".\n",
      "\n",
      "האם תרצה לקרוא את הביקורת המלאה של פבלו אוטין על \"למה מלחמה\"?\n"
     ]
    },
    {
     "name": "stderr",
     "output_type": "stream",
     "text": [
      "{\"message\": \"No history found for user 5796282185 in Redis.\"}\n",
      "{\"message\": \"Successfully created new chat session.\"}\n",
      "Warning: there are non-text parts in the response: ['function_call'],returning concatenated text result from text parts,check out the non text parts for full response from model.\n",
      "{\"message\": \"Processing function call: find_movie_tv_info_or_review with args: {'query': '\\u05d4\\u05d9\\u05d9\\u05e6\\u05e8\\u05d5\\u05ea \\u05d4\\u05d0\\u05dc\\u05d4'}\"}\n",
      "{\"message\": \"Query is likely Hebrew, returning original query.\"}\n",
      "{\"message\": \"Retrieving relevant documents for query: '\\u05d4\\u05d9\\u05d9\\u05e6\\u05e8\\u05d5\\u05ea \\u05d4\\u05d0\\u05dc\\u05d4'\"}\n",
      "{\"message\": \"Tool 'find_movie_tv_info_or_review' executed successfully for query: '\\u05d4\\u05d9\\u05d9\\u05e6\\u05e8\\u05d5\\u05ea \\u05d4\\u05d0\\u05dc\\u05d4'. Results obtained.\"}\n",
      "{\"message\": \"Generated 1 function response parts.\"}\n"
     ]
    },
    {
     "name": "stdout",
     "output_type": "stream",
     "text": [
      "[{\"article_id\": \"00000194-91e0-d5db-a7f5-b1ecf8a40000\", \"article_name\": \"\\\"סחורה יקרה מכל\\\": אנחנו זקוקים לסרט הזה יותר מאי פעם\", \"writer_name\": [\"פבלו אוטין\"]}, {\"article_id\": \"0000017f-e93d-df2c-a1ff-ff7d1e520000\", \"article_name\": \"\\\"סוסיתא\\\": סרט על מכונית מפוקפקת שיוצרה בשיטות מפוקפקות\", \"writer_name\": [\"נירית אנדרמן\"]}]הייצרות האלה הוא סרט אנימציה של מישל הזנוויציוס (\"הארטיסט\") המתרחש בשואה. הוא מתחיל כמו אגדת ילדים אך הוא אינו סרט ילדים. הסרט פונה לילד הקטן שבתוך כל אחד מאיתנו כדי לרכך אותנו, לפתוח לנו את הלב ואז לשבור אותו לאט לאט באמצעות סיפור על חמלה והקרבה אנושית בעולם שבו הרוע במציאות אכזר לא פחות מזה שבאגדות.\n",
      "\n",
      "האם תרצה לדעת על סרטים נוספים של מישל הזנוויציוס?"
     ]
    },
    {
     "name": "stderr",
     "output_type": "stream",
     "text": [
      "{\"message\": \"Loaded history for user 5796282185 from Redis.\"}\n",
      "{\"message\": \"Successfully created new chat session.\"}\n"
     ]
    },
    {
     "name": "stdout",
     "output_type": "stream",
     "text": [
      "המבקר העדיף את \"סחורה יקרה מכל\".\n",
      "\n",
      "====================\n",
      "Article ID: 00000194-2b97-d9c2-a79e-2bd7330c0000\n",
      "Question: אפשר בבקשה ביקורת על הסרט החדש \"נוספרטו\" של רוברט אגרס? אני רוצה לדעת אם הוא נאמן למקורות של סרטי הערפדים הקלאסיים ואיך השחקנים הראשיים, במיוחד לילי-רוז דפ, משחקים?\n"
     ]
    },
    {
     "name": "stderr",
     "output_type": "stream",
     "text": [
      "{\"message\": \"Loaded history for user 5796282185 from Redis.\"}\n",
      "{\"message\": \"Successfully created new chat session.\"}\n",
      "Warning: there are non-text parts in the response: ['function_call'],returning concatenated text result from text parts,check out the non text parts for full response from model.\n",
      "{\"message\": \"Processing function call: find_movie_tv_info_or_review with args: {'query': '\\u05d1\\u05d9\\u05e7\\u05d5\\u05e8\\u05ea \\u05e2\\u05dc \\u05d4\\u05e1\\u05e8\\u05d8 \\u05d4\\u05d7\\u05d3\\u05e9 \\\"\\u05e0\\u05d5\\u05e1\\u05e4\\u05e8\\u05d8\\u05d5\\\" \\u05e9\\u05dc \\u05e8\\u05d5\\u05d1\\u05e8\\u05d8 \\u05d0\\u05d2\\u05e8\\u05e1'}\"}\n",
      "{\"message\": \"Query is likely Hebrew, returning original query.\"}\n",
      "{\"message\": \"Retrieving relevant documents for query: '\\u05d1\\u05d9\\u05e7\\u05d5\\u05e8\\u05ea \\u05e2\\u05dc \\u05d4\\u05e1\\u05e8\\u05d8 \\u05d4\\u05d7\\u05d3\\u05e9 \\\"\\u05e0\\u05d5\\u05e1\\u05e4\\u05e8\\u05d8\\u05d5\\\" \\u05e9\\u05dc \\u05e8\\u05d5\\u05d1\\u05e8\\u05d8 \\u05d0\\u05d2\\u05e8\\u05e1'\"}\n",
      "{\"message\": \"Tool 'find_movie_tv_info_or_review' executed successfully for query: '\\u05d1\\u05d9\\u05e7\\u05d5\\u05e8\\u05ea \\u05e2\\u05dc \\u05d4\\u05e1\\u05e8\\u05d8 \\u05d4\\u05d7\\u05d3\\u05e9 \\\"\\u05e0\\u05d5\\u05e1\\u05e4\\u05e8\\u05d8\\u05d5\\\" \\u05e9\\u05dc \\u05e8\\u05d5\\u05d1\\u05e8\\u05d8 \\u05d0\\u05d2\\u05e8\\u05e1'. Results obtained.\"}\n",
      "{\"message\": \"Generated 1 function response parts.\"}\n"
     ]
    },
    {
     "name": "stdout",
     "output_type": "stream",
     "text": [
      "[{\"article_id\": \"00000194-2b97-d9c2-a79e-2bd7330c0000\", \"article_name\": \"\\\"נוספרטו\\\" משיב את הכבוד לסרטי הערפדים\", \"writer_name\": [\"אורון שמיר\"]}, {\"article_id\": \"00000195-d886-d1f1-a7d5-f8e6333e0000\", \"article_name\": \"\\\"אלטו נייטס\\\": אם סקורסזי היה מביים את רוברט דה נירו הסרט הזה היה טוב בהרבה\", \"writer_name\": [\"אורון שמיר\"]}]הביקורת על הסרט \"נוספרטו\" של רוברט אגרס מציינת שהוא מחזיר את הכבוד לסרטי הערפדים, עם אווירת מסתורין אפלה ומשחק מצוין של ביל סקארסגארד בתפקיד נוספרטו. עם זאת, לילי-רוז דפ בתפקיד הגיבורה, אלן, נחשבת לחוליה החלשה יחסית בסרט, עם הופעה צעקנית ופחות עמוקה מעמיתיה. הביקורת מציינת שהסרט דורש ריכוז וסבלנות, ושהקצב שלו איטי.\n",
      "\n",
      "האם תרצה לדעת על סרטי ערפדים אחרים שמוזכרים בכתבה?"
     ]
    },
    {
     "name": "stderr",
     "output_type": "stream",
     "text": [
      "{\"message\": \"No history found for user 5796282186 in Redis.\"}\n",
      "{\"message\": \"Successfully created new chat session.\"}\n",
      "Warning: there are non-text parts in the response: ['function_call'],returning concatenated text result from text parts,check out the non text parts for full response from model.\n",
      "{\"message\": \"Processing function call: find_movie_tv_info_or_review with args: {'query': '\\u05d4\\u05de\\u05dc\\u05e6\\u05d4 \\u05dc\\u05de\\u05d4 \\u05db\\u05d3\\u05d0\\u05d9 \\u05dc\\u05e8\\u05d0\\u05d5\\u05ea \\u05d0\\u05ea \\u05d4\\u05d9\\u05d9\\u05e6\\u05e8\\u05d5\\u05ea \\u05d4\\u05d0\\u05dc\\u05d4'}\"}\n",
      "{\"message\": \"Query is likely Hebrew, returning original query.\"}\n",
      "{\"message\": \"Retrieving relevant documents for query: '\\u05d4\\u05de\\u05dc\\u05e6\\u05d4 \\u05dc\\u05de\\u05d4 \\u05db\\u05d3\\u05d0\\u05d9 \\u05dc\\u05e8\\u05d0\\u05d5\\u05ea \\u05d0\\u05ea \\u05d4\\u05d9\\u05d9\\u05e6\\u05e8\\u05d5\\u05ea \\u05d4\\u05d0\\u05dc\\u05d4'\"}\n",
      "{\"message\": \"Tool 'find_movie_tv_info_or_review' executed successfully for query: '\\u05d4\\u05de\\u05dc\\u05e6\\u05d4 \\u05dc\\u05de\\u05d4 \\u05db\\u05d3\\u05d0\\u05d9 \\u05dc\\u05e8\\u05d0\\u05d5\\u05ea \\u05d0\\u05ea \\u05d4\\u05d9\\u05d9\\u05e6\\u05e8\\u05d5\\u05ea \\u05d4\\u05d0\\u05dc\\u05d4'. Results obtained.\"}\n",
      "{\"message\": \"Generated 1 function response parts.\"}\n"
     ]
    },
    {
     "name": "stdout",
     "output_type": "stream",
     "text": [
      "[{\"article_id\": \"00000189-5e9c-de4e-adeb-ffbc0ef10000\", \"article_name\": \"\\\"לה צ'ימרה\\\" הוא קולנוע נשגב ששווה לבדו ביקור בפסטיבל ירושלים\", \"writer_name\": [\"אורון שמיר\"]}, {\"article_id\": \"0000017f-e93d-df2c-a1ff-ff7d1e520000\", \"article_name\": \"\\\"סוסיתא\\\": סרט על מכונית מפוקפקת שיוצרה בשיטות מפוקפקות\", \"writer_name\": [\"נירית אנדרמן\"]}]הנה שני מאמרים שמצאתי שיכולים לעזור לך להחליט אם לראות את \"הייצרות האלה\":\n",
      "\n",
      "1.  **\"לה צ'ימרה\" הוא קולנוע נשגב ששווה לבדו ביקור בפסטיבל ירושלים**: מאמר זה מתאר את הסרט כסרט קולנוע מיסטי ומכשף, וטוען שהוא אחד הגדולים והמפוארים של השנה הקולנועית. הסרט עוסק בארכיאולוג בעל חוש למציאת עתיקות נסתרות, והוא משלב בין זמנים ותקופות שונות.\n",
      "2.  **\"סוסיתא\": סרט על מכונית מפוקפקת שיוצרה בשיטות מפוקפקות**: מאמר זה סוקר סרט תיעודי על ההיסטוריה של מפעל המכוניות \"סוסיתא\" בישראל. הסרט מציג את הסיפור העסקי כדרמה, עם יזמים שנאבקים זה בזה וחזון שאפתני. עם זאת, הסרט גם חושף שחיתות וקשרי הון-שלטון שאפשרו את הקמת המפעל.\n",
      "\n",
      "האם תרצה שאחפש מאמרים נוספים על אחד מהסרטים האלה, או שאחפש סרטים אחרים עם נושא דומה?\n"
     ]
    },
    {
     "name": "stderr",
     "output_type": "stream",
     "text": [
      "{\"message\": \"Loaded history for user 5796282186 from Redis.\"}\n",
      "{\"message\": \"Successfully created new chat session.\"}\n"
     ]
    },
    {
     "name": "stdout",
     "output_type": "stream",
     "text": [
      "המבקר אורון שמיר העדיף את \"לה צ'ימרה\". הוא תיאר אותו כ\"קולנוע נשגב\" ו\"אחד הגדולים והמפוארים של השנה הקולנועית\". לעומת זאת, נירית אנדרמן אמנם כתבה ביקורת חיובית על \"סוסיתא\", אך ציינה שהסרט מציג סיפור על \"מכונית מפוקפקת שיוצרה בשיטות מפוקפקות\".\n",
      "\n",
      "\n",
      "====================\n",
      "Article ID: 00000194-319b-d555-abbc-b1dfdf250000\n",
      "Question: \"אני מחפש ביקורת על סרט חדש שמוקרן בפסטיבל חיפה, על אישה אלכוהוליסטית בשם רונה שחוזרת לאי הולדתה בסקוטלנד כדי להתמודד עם ההתמכרות שלה. מישהי כתבה על זה ביקורת?\n"
     ]
    },
    {
     "name": "stderr",
     "output_type": "stream",
     "text": [
      "{\"message\": \"Loaded history for user 5796282186 from Redis.\"}\n",
      "{\"message\": \"Successfully created new chat session.\"}\n",
      "Warning: there are non-text parts in the response: ['function_call'],returning concatenated text result from text parts,check out the non text parts for full response from model.\n",
      "{\"message\": \"Processing function call: find_movie_tv_info_or_review with args: {'query': '\\u05de\\u05d7\\u05e4\\u05e9 \\u05d1\\u05d9\\u05e7\\u05d5\\u05e8\\u05ea \\u05e2\\u05dc \\u05e1\\u05e8\\u05d8 \\u05d7\\u05d3\\u05e9 \\u05e9\\u05de\\u05d5\\u05e7\\u05e8\\u05df \\u05d1\\u05e4\\u05e1\\u05d8\\u05d9\\u05d1\\u05dc \\u05d7\\u05d9\\u05e4\\u05d4, \\u05e2\\u05dc \\u05d0\\u05d9\\u05e9\\u05d4 \\u05d0\\u05dc\\u05db\\u05d5\\u05d4\\u05d5\\u05dc\\u05d9\\u05e1\\u05d8\\u05d9\\u05ea \\u05d1\\u05e9\\u05dd \\u05e8\\u05d5\\u05e0\\u05d4 \\u05e9\\u05d7\\u05d5\\u05d6\\u05e8\\u05ea \\u05dc\\u05d0\\u05d9 \\u05d4\\u05d5\\u05dc\\u05d3\\u05ea\\u05d4 \\u05d1\\u05e1\\u05e7\\u05d5\\u05d8\\u05dc\\u05e0\\u05d3 \\u05db\\u05d3\\u05d9 \\u05dc\\u05d4\\u05ea\\u05de\\u05d5\\u05d3\\u05d3 \\u05e2\\u05dd \\u05d4\\u05d4\\u05ea\\u05de\\u05db\\u05e8\\u05d5\\u05ea \\u05e9\\u05dc\\u05d4'}\"}\n",
      "{\"message\": \"Query is likely Hebrew, returning original query.\"}\n",
      "{\"message\": \"Retrieving relevant documents for query: '\\u05de\\u05d7\\u05e4\\u05e9 \\u05d1\\u05d9\\u05e7\\u05d5\\u05e8\\u05ea \\u05e2\\u05dc \\u05e1\\u05e8\\u05d8 \\u05d7\\u05d3\\u05e9 \\u05e9\\u05de\\u05d5\\u05e7\\u05e8\\u05df \\u05d1\\u05e4\\u05e1\\u05d8\\u05d9\\u05d1\\u05dc \\u05d7\\u05d9\\u05e4\\u05d4, \\u05e2\\u05dc \\u05d0\\u05d9\\u05e9\\u05d4 \\u05d0\\u05dc\\u05db\\u05d5\\u05d4\\u05d5\\u05dc\\u05d9\\u05e1\\u05d8\\u05d9\\u05ea \\u05d1\\u05e9\\u05dd \\u05e8\\u05d5\\u05e0\\u05d4 \\u05e9\\u05d7\\u05d5\\u05d6\\u05e8\\u05ea \\u05dc\\u05d0\\u05d9 \\u05d4\\u05d5\\u05dc\\u05d3\\u05ea\\u05d4 \\u05d1\\u05e1\\u05e7\\u05d5\\u05d8\\u05dc\\u05e0\\u05d3 \\u05db\\u05d3\\u05d9 \\u05dc\\u05d4\\u05ea\\u05de\\u05d5\\u05d3\\u05d3 \\u05e2\\u05dd \\u05d4\\u05d4\\u05ea\\u05de\\u05db\\u05e8\\u05d5\\u05ea \\u05e9\\u05dc\\u05d4'\"}\n",
      "{\"message\": \"Tool 'find_movie_tv_info_or_review' executed successfully for query: '\\u05de\\u05d7\\u05e4\\u05e9 \\u05d1\\u05d9\\u05e7\\u05d5\\u05e8\\u05ea \\u05e2\\u05dc \\u05e1\\u05e8\\u05d8 \\u05d7\\u05d3\\u05e9 \\u05e9\\u05de\\u05d5\\u05e7\\u05e8\\u05df \\u05d1\\u05e4\\u05e1\\u05d8\\u05d9\\u05d1\\u05dc \\u05d7\\u05d9\\u05e4\\u05d4, \\u05e2\\u05dc \\u05d0\\u05d9\\u05e9\\u05d4 \\u05d0\\u05dc\\u05db\\u05d5\\u05d4\\u05d5\\u05dc\\u05d9\\u05e1\\u05d8\\u05d9\\u05ea \\u05d1\\u05e9\\u05dd \\u05e8\\u05d5\\u05e0\\u05d4 \\u05e9\\u05d7\\u05d5\\u05d6\\u05e8\\u05ea \\u05dc\\u05d0\\u05d9 \\u05d4\\u05d5\\u05dc\\u05d3\\u05ea\\u05d4 \\u05d1\\u05e1\\u05e7\\u05d5\\u05d8\\u05dc\\u05e0\\u05d3 \\u05db\\u05d3\\u05d9 \\u05dc\\u05d4\\u05ea\\u05de\\u05d5\\u05d3\\u05d3 \\u05e2\\u05dd \\u05d4\\u05d4\\u05ea\\u05de\\u05db\\u05e8\\u05d5\\u05ea \\u05e9\\u05dc\\u05d4'. Results obtained.\"}\n",
      "{\"message\": \"Generated 1 function response parts.\"}\n"
     ]
    },
    {
     "name": "stdout",
     "output_type": "stream",
     "text": [
      "[{\"article_id\": \"00000194-319b-d555-abbc-b1dfdf250000\", \"article_name\": \"\\\"הבריחה\\\": סרט מרהיב אך מוסרני ביחסו לעיר הגדולה\", \"writer_name\": [\"שני ליטמן\"]}, {\"article_id\": \"00000195-6c00-db55-ad95-edebef370000\", \"article_name\": \"\\\"יום באמסטרדם\\\": קומדיית סטלנים שמתגנבת ללב\", \"writer_name\": [\"אורון שמיר\"]}]מצאתי ביקורת אחת רלוונטית: שני ליטמן כתבה ביקורת על הסרט \"הבריחה\" של הבמאית הגרמניה נורה פינגשייט, המבוסס על ספרה של איימי ליפטרוט. הסרט מגולל את סיפורה של רונה (סירשה רונאן), אישה בסוף שנות העשרים לחייה, המתגוררת בלונדון וסובלת מהתמכרות קשה לאלכוהול. לאחר גמילה, היא מחליטה לחזור לאי הולדתה בצפון סקוטלנד, שם עדיין מתגוררים הוריה, בניסיון להתמודד עם ההתמכרות שלה.\n"
     ]
    },
    {
     "name": "stderr",
     "output_type": "stream",
     "text": [
      "{\"message\": \"No history found for user 5796282187 in Redis.\"}\n",
      "{\"message\": \"Successfully created new chat session.\"}\n"
     ]
    },
    {
     "name": "stdout",
     "output_type": "stream",
     "text": [
      "אני מצטער, אני לא מוצא מידע על הסרט \"הייצרות האלה\" במאמרים של הארץ. האם תוכל לתת לי שם אחר או מידע נוסף כדי שאוכל למצוא את מה שאתה מחפש?\n"
     ]
    },
    {
     "name": "stderr",
     "output_type": "stream",
     "text": [
      "{\"message\": \"Loaded history for user 5796282187 from Redis.\"}\n",
      "{\"message\": \"Successfully created new chat session.\"}\n"
     ]
    },
    {
     "name": "stdout",
     "output_type": "stream",
     "text": [
      "אני צריך לדעת על איזו יצירה אתה מדבר כדי שאוכל להגיד לך מה המבקר העדיף.\n",
      "\n",
      "====================\n",
      "Article ID: 00000194-31db-ddaf-adb7-7bfbaf200000\n",
      "Question: אני מחפש סרט איראני חדש שמתרחש בטהרן ועוסק במשפחה שאבא שלה שופט ורואים בו גם קטעים מההפגנות שם. ראיתי שהקרינו אותו בפסטיבל חיפה\n"
     ]
    },
    {
     "name": "stderr",
     "output_type": "stream",
     "text": [
      "{\"message\": \"Loaded history for user 5796282187 from Redis.\"}\n",
      "{\"message\": \"Successfully created new chat session.\"}\n",
      "Warning: there are non-text parts in the response: ['function_call'],returning concatenated text result from text parts,check out the non text parts for full response from model.\n",
      "{\"message\": \"Processing function call: find_movie_tv_info_or_review with args: {'query': '\\u05de\\u05d7\\u05e4\\u05e9 \\u05e1\\u05e8\\u05d8 \\u05d0\\u05d9\\u05e8\\u05d0\\u05e0\\u05d9 \\u05d7\\u05d3\\u05e9 \\u05e9\\u05de\\u05ea\\u05e8\\u05d7\\u05e9 \\u05d1\\u05d8\\u05d4\\u05e8\\u05df \\u05d5\\u05e2\\u05d5\\u05e1\\u05e7 \\u05d1\\u05de\\u05e9\\u05e4\\u05d7\\u05d4 \\u05e9\\u05d0\\u05d1\\u05d0 \\u05e9\\u05dc\\u05d4 \\u05e9\\u05d5\\u05e4\\u05d8 \\u05d5\\u05e8\\u05d5\\u05d0\\u05d9\\u05dd \\u05d1\\u05d5 \\u05d2\\u05dd \\u05e7\\u05d8\\u05e2\\u05d9\\u05dd \\u05de\\u05d4\\u05d4\\u05e4\\u05d2\\u05e0\\u05d5\\u05ea \\u05e9\\u05dd \\u05e9\\u05d4\\u05d5\\u05e7\\u05e8\\u05df \\u05d1\\u05e4\\u05e1\\u05d8\\u05d9\\u05d1\\u05dc \\u05d7\\u05d9\\u05e4\\u05d4'}\"}\n",
      "{\"message\": \"Query is likely Hebrew, returning original query.\"}\n",
      "{\"message\": \"Retrieving relevant documents for query: '\\u05de\\u05d7\\u05e4\\u05e9 \\u05e1\\u05e8\\u05d8 \\u05d0\\u05d9\\u05e8\\u05d0\\u05e0\\u05d9 \\u05d7\\u05d3\\u05e9 \\u05e9\\u05de\\u05ea\\u05e8\\u05d7\\u05e9 \\u05d1\\u05d8\\u05d4\\u05e8\\u05df \\u05d5\\u05e2\\u05d5\\u05e1\\u05e7 \\u05d1\\u05de\\u05e9\\u05e4\\u05d7\\u05d4 \\u05e9\\u05d0\\u05d1\\u05d0 \\u05e9\\u05dc\\u05d4 \\u05e9\\u05d5\\u05e4\\u05d8 \\u05d5\\u05e8\\u05d5\\u05d0\\u05d9\\u05dd \\u05d1\\u05d5 \\u05d2\\u05dd \\u05e7\\u05d8\\u05e2\\u05d9\\u05dd \\u05de\\u05d4\\u05d4\\u05e4\\u05d2\\u05e0\\u05d5\\u05ea \\u05e9\\u05dd \\u05e9\\u05d4\\u05d5\\u05e7\\u05e8\\u05df \\u05d1\\u05e4\\u05e1\\u05d8\\u05d9\\u05d1\\u05dc \\u05d7\\u05d9\\u05e4\\u05d4'\"}\n",
      "{\"message\": \"Tool 'find_movie_tv_info_or_review' executed successfully for query: '\\u05de\\u05d7\\u05e4\\u05e9 \\u05e1\\u05e8\\u05d8 \\u05d0\\u05d9\\u05e8\\u05d0\\u05e0\\u05d9 \\u05d7\\u05d3\\u05e9 \\u05e9\\u05de\\u05ea\\u05e8\\u05d7\\u05e9 \\u05d1\\u05d8\\u05d4\\u05e8\\u05df \\u05d5\\u05e2\\u05d5\\u05e1\\u05e7 \\u05d1\\u05de\\u05e9\\u05e4\\u05d7\\u05d4 \\u05e9\\u05d0\\u05d1\\u05d0 \\u05e9\\u05dc\\u05d4 \\u05e9\\u05d5\\u05e4\\u05d8 \\u05d5\\u05e8\\u05d5\\u05d0\\u05d9\\u05dd \\u05d1\\u05d5 \\u05d2\\u05dd \\u05e7\\u05d8\\u05e2\\u05d9\\u05dd \\u05de\\u05d4\\u05d4\\u05e4\\u05d2\\u05e0\\u05d5\\u05ea \\u05e9\\u05dd \\u05e9\\u05d4\\u05d5\\u05e7\\u05e8\\u05df \\u05d1\\u05e4\\u05e1\\u05d8\\u05d9\\u05d1\\u05dc \\u05d7\\u05d9\\u05e4\\u05d4'. Results obtained.\"}\n",
      "{\"message\": \"Generated 1 function response parts.\"}\n"
     ]
    },
    {
     "name": "stdout",
     "output_type": "stream",
     "text": [
      "[{\"article_id\": \"00000194-31db-ddaf-adb7-7bfbaf200000\", \"article_name\": \"\\\"זרע התאנה הקדושה\\\": העיניים צופות באיראן אבל הלב מתכווץ בגלל ישראל\", \"writer_name\": [\"נירית אנדרמן\"]}, {\"article_id\": \"00000195-6ab7-d88e-a3f7-7ebf88450000\", \"article_name\": \"\\\"זרע התאנה הקדושה\\\": לא יצירת מופת, כן צפייה הכרחית\", \"writer_name\": [\"אורון שמיר\"]}]מצאתי שני מאמרים על הסרט \"זרע התאנה הקדושה\". נירית אנדרמן כתבה שהסרט מצוין וטעון באפקט מטלטל, ושהעיניים צופות באיראן אבל הלב מתכווץ בגלל ישראל. אורון שמיר כתב שהסרט מלא סיבות לשבחים כשם שהוא בוטה אמנותית, אבל אולי לקהל הישראלי הוא צפייה הכרחית.\n",
      "\n",
      "האם תרצה שאספר לך עוד על מה שנכתב במאמרים?\n"
     ]
    },
    {
     "name": "stderr",
     "output_type": "stream",
     "text": [
      "{\"message\": \"No history found for user 5796282188 in Redis.\"}\n",
      "{\"message\": \"Successfully created new chat session.\"}\n"
     ]
    },
    {
     "name": "stdout",
     "output_type": "stream",
     "text": [
      "אני מצטער, אני לא מוצא מידע על סרט או סדרה בשם \"הייצרות האלה\". האם תוכל לתת לי שם אחר או מידע נוסף?\n"
     ]
    },
    {
     "name": "stderr",
     "output_type": "stream",
     "text": [
      "{\"message\": \"Loaded history for user 5796282188 from Redis.\"}\n",
      "{\"message\": \"Successfully created new chat session.\"}\n"
     ]
    },
    {
     "name": "stdout",
     "output_type": "stream",
     "text": [
      "אני מצטער, לא הבנתי למה אתה מתכוון. תן לי יותר מידע.\n"
     ]
    },
    {
     "name": "stderr",
     "output_type": "stream",
     "text": [
      "{\"message\": \"Loaded history for user 5796282188 from Redis.\"}\n",
      "{\"message\": \"Successfully created new chat session.\"}\n"
     ]
    },
    {
     "name": "stdout",
     "output_type": "stream",
     "text": [
      "\n",
      "\n",
      "====================\n",
      "Article ID: 00000194-34df-d39d-a196-b7ff86ce0000\n",
      "Question: \"אני מחפש סדרת אנימציה חדשה בנטפליקס, משהו בסגנון באפי קוטלת הערפדים אבל עם מיתולוגיה סינית. שמעתי שיש סדרה על נערה סינית-אמריקאית שנלחמת בשדים, מישהו מכיר?\n"
     ]
    },
    {
     "name": "stderr",
     "output_type": "stream",
     "text": [
      "Warning: there are non-text parts in the response: ['function_call'],returning concatenated text result from text parts,check out the non text parts for full response from model.\n",
      "{\"message\": \"Processing function call: find_movie_tv_info_or_review with args: {'query': '\\u05e1\\u05d3\\u05e8\\u05ea \\u05d0\\u05e0\\u05d9\\u05de\\u05e6\\u05d9\\u05d4 \\u05d7\\u05d3\\u05e9\\u05d4 \\u05d1\\u05e0\\u05d8\\u05e4\\u05dc\\u05d9\\u05e7\\u05e1 \\u05e2\\u05dc \\u05e0\\u05e2\\u05e8\\u05d4 \\u05e1\\u05d9\\u05e0\\u05d9\\u05ea-\\u05d0\\u05de\\u05e8\\u05d9\\u05e7\\u05d0\\u05d9\\u05ea \\u05e9\\u05e0\\u05dc\\u05d7\\u05de\\u05ea \\u05d1\\u05e9\\u05d3\\u05d9\\u05dd \\u05d1\\u05e1\\u05d2\\u05e0\\u05d5\\u05df \\u05d1\\u05d0\\u05e4\\u05d9 \\u05e7\\u05d5\\u05d8\\u05dc\\u05ea \\u05d4\\u05e2\\u05e8\\u05e4\\u05d3\\u05d9\\u05dd \\u05e2\\u05dd \\u05de\\u05d9\\u05ea\\u05d5\\u05dc\\u05d5\\u05d2\\u05d9\\u05d4 \\u05e1\\u05d9\\u05e0\\u05d9\\u05ea'}\"}\n",
      "{\"message\": \"Query is likely Hebrew, returning original query.\"}\n",
      "{\"message\": \"Retrieving relevant documents for query: '\\u05e1\\u05d3\\u05e8\\u05ea \\u05d0\\u05e0\\u05d9\\u05de\\u05e6\\u05d9\\u05d4 \\u05d7\\u05d3\\u05e9\\u05d4 \\u05d1\\u05e0\\u05d8\\u05e4\\u05dc\\u05d9\\u05e7\\u05e1 \\u05e2\\u05dc \\u05e0\\u05e2\\u05e8\\u05d4 \\u05e1\\u05d9\\u05e0\\u05d9\\u05ea-\\u05d0\\u05de\\u05e8\\u05d9\\u05e7\\u05d0\\u05d9\\u05ea \\u05e9\\u05e0\\u05dc\\u05d7\\u05de\\u05ea \\u05d1\\u05e9\\u05d3\\u05d9\\u05dd \\u05d1\\u05e1\\u05d2\\u05e0\\u05d5\\u05df \\u05d1\\u05d0\\u05e4\\u05d9 \\u05e7\\u05d5\\u05d8\\u05dc\\u05ea \\u05d4\\u05e2\\u05e8\\u05e4\\u05d3\\u05d9\\u05dd \\u05e2\\u05dd \\u05de\\u05d9\\u05ea\\u05d5\\u05dc\\u05d5\\u05d2\\u05d9\\u05d4 \\u05e1\\u05d9\\u05e0\\u05d9\\u05ea'\"}\n",
      "{\"message\": \"Tool 'find_movie_tv_info_or_review' executed successfully for query: '\\u05e1\\u05d3\\u05e8\\u05ea \\u05d0\\u05e0\\u05d9\\u05de\\u05e6\\u05d9\\u05d4 \\u05d7\\u05d3\\u05e9\\u05d4 \\u05d1\\u05e0\\u05d8\\u05e4\\u05dc\\u05d9\\u05e7\\u05e1 \\u05e2\\u05dc \\u05e0\\u05e2\\u05e8\\u05d4 \\u05e1\\u05d9\\u05e0\\u05d9\\u05ea-\\u05d0\\u05de\\u05e8\\u05d9\\u05e7\\u05d0\\u05d9\\u05ea \\u05e9\\u05e0\\u05dc\\u05d7\\u05de\\u05ea \\u05d1\\u05e9\\u05d3\\u05d9\\u05dd \\u05d1\\u05e1\\u05d2\\u05e0\\u05d5\\u05df \\u05d1\\u05d0\\u05e4\\u05d9 \\u05e7\\u05d5\\u05d8\\u05dc\\u05ea \\u05d4\\u05e2\\u05e8\\u05e4\\u05d3\\u05d9\\u05dd \\u05e2\\u05dd \\u05de\\u05d9\\u05ea\\u05d5\\u05dc\\u05d5\\u05d2\\u05d9\\u05d4 \\u05e1\\u05d9\\u05e0\\u05d9\\u05ea'. Results obtained.\"}\n",
      "{\"message\": \"Generated 1 function response parts.\"}\n"
     ]
    },
    {
     "name": "stdout",
     "output_type": "stream",
     "text": [
      "[{\"article_id\": \"0000017f-e1b7-d804-ad7f-f1ffb9950000\", \"article_name\": \"\\\"גורל: סאגת וינX\\\": לא מפתיע שזאת הסדרה הכי נצפית בנטפליקס עכשיו\", \"writer_name\": [\"חן חדד\"]}, {\"article_id\": \"0000017f-e0db-d9aa-afff-f9db89350000\", \"article_name\": \"\\\"הנערה ברשת העכביש\\\": אם הארי המזוהם וג'יימס בונד היו אשה שוודית\", \"writer_name\": [\"נתנאל שלומוביץ\"]}]אני חושב שאולי אתה מתכוון לסדרה \"גורל: סאגת ווינX\". הביקורת על הסדרה מציינת שהיא קלילה ומזמינה לצפיית בינג', ומתאימה במיוחד לקהל המתבגרים, ואולי גם לצפייה משותפת עם הורים חובבי הז'אנר. עם זאת, הביקורת גם מציינת שהסדרה שטחית, ושהדמות הראשית פחות מעניינת וצפויה מדי.\n",
      "\n",
      "האם תרצה שאחפש ביקורות נוספות על סדרות פנטזיה לנוער בנטפליקס?\n"
     ]
    },
    {
     "name": "stderr",
     "output_type": "stream",
     "text": [
      "{\"message\": \"No history found for user 5796282189 in Redis.\"}\n",
      "{\"message\": \"Successfully created new chat session.\"}\n",
      "Warning: there are non-text parts in the response: ['function_call'],returning concatenated text result from text parts,check out the non text parts for full response from model.\n",
      "{\"message\": \"Processing function call: find_movie_tv_info_or_review with args: {'query': '\\u05d4\\u05d9\\u05d9\\u05e6\\u05e8\\u05d5\\u05ea \\u05d4\\u05d0\\u05dc\\u05d4'}\"}\n",
      "{\"message\": \"Query is likely Hebrew, returning original query.\"}\n",
      "{\"message\": \"Retrieving relevant documents for query: '\\u05d4\\u05d9\\u05d9\\u05e6\\u05e8\\u05d5\\u05ea \\u05d4\\u05d0\\u05dc\\u05d4'\"}\n",
      "{\"message\": \"Tool 'find_movie_tv_info_or_review' executed successfully for query: '\\u05d4\\u05d9\\u05d9\\u05e6\\u05e8\\u05d5\\u05ea \\u05d4\\u05d0\\u05dc\\u05d4'. Results obtained.\"}\n",
      "{\"message\": \"Generated 1 function response parts.\"}\n"
     ]
    },
    {
     "name": "stdout",
     "output_type": "stream",
     "text": [
      "[{\"article_id\": \"00000194-91e0-d5db-a7f5-b1ecf8a40000\", \"article_name\": \"\\\"סחורה יקרה מכל\\\": אנחנו זקוקים לסרט הזה יותר מאי פעם\", \"writer_name\": [\"פבלו אוטין\"]}, {\"article_id\": \"0000017f-e93d-df2c-a1ff-ff7d1e520000\", \"article_name\": \"\\\"סוסיתא\\\": סרט על מכונית מפוקפקת שיוצרה בשיטות מפוקפקות\", \"writer_name\": [\"נירית אנדרמן\"]}]הנה שני מאמרים שמצאתי שיכולים לעזור לך להחליט אם לראות את הסרטים האלה:\n",
      "\n",
      "*   **\"סחורה יקרה מכל\": אנחנו זקוקים לסרט הזה יותר מאי פעם** - ביקורת על סרט אנימציה של מישל הזנוויציוס המתרחש בשואה. הסרט מתחיל כמו אגדת ילדים אך הוא אינו סרט ילדים, ופונה לילד הקטן שבתוך כל אחד מאיתנו כדי לרכך אותנו, לפתוח לנו את הלב ואז לשבור אותו לאט לאט באמצעות סיפור על חמלה והקרבה אנושית בעולם שבו הרוע במציאות אכזר לא פחות מזה שבאגדות.\n",
      "*   **\"סוסיתא\": סרט על מכונית מפוקפקת שיוצרה בשיטות מפוקפקות** - סרט על ההיסטוריה של מפעל המכוניות שפעל כאן בשנות ה-60 וה-70. הסרט מראה שאין חדש תחת השמש ושחיתות, טובות הנאה וקשרי הון-שלטון הם שאפשרו את הקמת המפעל הזה ואת החזקתו לאורך כמעט שני עשורים, אך לקראת הסיום מתברר שבית המשפט זיכה את שובינסקי זיכוי מוחלט מכל סעיפי האישום.\n",
      "\n",
      "האם תרצה שאחפש מאמרים נוספים על אחד מהסרטים האלה?"
     ]
    },
    {
     "name": "stderr",
     "output_type": "stream",
     "text": [
      "{\"message\": \"Loaded history for user 5796282189 from Redis.\"}\n",
      "{\"message\": \"Successfully created new chat session.\"}\n"
     ]
    },
    {
     "name": "stdout",
     "output_type": "stream",
     "text": [
      "מבין שתי היצירות שציינתי, המבקר פבלו אוטין העניק ביקורת חיובית יותר לסרט \"סחורה יקרה מכל\". הוא תיאר אותו כ\"סרט מרגש ויפה\" וכתב שאנחנו זקוקים לסרט כזה יותר מאי פעם. לעומת זאת, נירית אנדרמן אמנם הציגה את הסרט \"סוסיתא\" כמעניין, אך גם ציינה שהסרט משאיר את הצופים מבולבלים לגבי שאלת השחיתות.\n",
      "\n",
      "האם תרצה לקרוא את הביקורות המלאות כדי להחליט בעצמך?\n",
      "\n",
      "====================\n",
      "Article ID: 00000194-356b-de88-a3dc-75ef26460000\n",
      "Question: אוקיי, שמעתי על סרט חדש של שבי גביזון עם ריצ'רד גיר על אבא שמגלה שהיה לו בן שנהרג. איך קוראים לסרט ומה הוא מספר עליו?\n"
     ]
    },
    {
     "name": "stderr",
     "output_type": "stream",
     "text": [
      "{\"message\": \"Loaded history for user 5796282189 from Redis.\"}\n",
      "{\"message\": \"Successfully created new chat session.\"}\n",
      "Warning: there are non-text parts in the response: ['function_call'],returning concatenated text result from text parts,check out the non text parts for full response from model.\n",
      "{\"message\": \"Processing function call: find_movie_tv_info_or_review with args: {'query': \\\"\\u05e1\\u05e8\\u05d8 \\u05d7\\u05d3\\u05e9 \\u05e9\\u05dc \\u05e9\\u05d1\\u05d9 \\u05d2\\u05d1\\u05d9\\u05d6\\u05d5\\u05df \\u05e2\\u05dd \\u05e8\\u05d9\\u05e6'\\u05e8\\u05d3 \\u05d2\\u05d9\\u05e8 \\u05e2\\u05dc \\u05d0\\u05d1\\u05d0 \\u05e9\\u05de\\u05d2\\u05dc\\u05d4 \\u05e9\\u05d4\\u05d9\\u05d4 \\u05dc\\u05d5 \\u05d1\\u05df \\u05e9\\u05e0\\u05d4\\u05e8\\u05d2\\\"}\"}\n",
      "{\"message\": \"Query is likely Hebrew, returning original query.\"}\n",
      "{\"message\": \"Retrieving relevant documents for query: '\\u05e1\\u05e8\\u05d8 \\u05d7\\u05d3\\u05e9 \\u05e9\\u05dc \\u05e9\\u05d1\\u05d9 \\u05d2\\u05d1\\u05d9\\u05d6\\u05d5\\u05df \\u05e2\\u05dd \\u05e8\\u05d9\\u05e6'\\u05e8\\u05d3 \\u05d2\\u05d9\\u05e8 \\u05e2\\u05dc \\u05d0\\u05d1\\u05d0 \\u05e9\\u05de\\u05d2\\u05dc\\u05d4 \\u05e9\\u05d4\\u05d9\\u05d4 \\u05dc\\u05d5 \\u05d1\\u05df \\u05e9\\u05e0\\u05d4\\u05e8\\u05d2'\"}\n",
      "{\"message\": \"Tool 'find_movie_tv_info_or_review' executed successfully for query: '\\u05e1\\u05e8\\u05d8 \\u05d7\\u05d3\\u05e9 \\u05e9\\u05dc \\u05e9\\u05d1\\u05d9 \\u05d2\\u05d1\\u05d9\\u05d6\\u05d5\\u05df \\u05e2\\u05dd \\u05e8\\u05d9\\u05e6'\\u05e8\\u05d3 \\u05d2\\u05d9\\u05e8 \\u05e2\\u05dc \\u05d0\\u05d1\\u05d0 \\u05e9\\u05de\\u05d2\\u05dc\\u05d4 \\u05e9\\u05d4\\u05d9\\u05d4 \\u05dc\\u05d5 \\u05d1\\u05df \\u05e9\\u05e0\\u05d4\\u05e8\\u05d2'. Results obtained.\"}\n",
      "{\"message\": \"Generated 1 function response parts.\"}\n"
     ]
    },
    {
     "name": "stdout",
     "output_type": "stream",
     "text": [
      "[{\"article_id\": \"00000194-356b-de88-a3dc-75ef26460000\", \"article_name\": \"\\\"געגוע\\\": שבי גביזון מגלה צדדים שעוד לא הכרנו בריצ'רד גיר\", \"writer_name\": [\"שני ליטמן\"]}, {\"article_id\": \"00000195-4693-df18-a1fd-ced3e2790000\", \"article_name\": \"\\\"געגוע\\\": לא ברור למה שבי גביזון עשה רימייק לסרט שלו\", \"writer_name\": [\"אורון שמיר\"]}]הסרט נקרא \"געגוע\", בכיכובם של ריצ'רד גיר וסוזן קלמנט. ריצ'רד גיר מגלם איש עסקים ניו יורקי שמגלה שלפני 19 שנה נולד לו בן מבת זוגו לשעבר, ושהבן נהרג בתאונת דרכים. הוא נוסע לקנדה כדי להשתתף בטקס הזיכרון, ויוצא למסע כדי לגלות מי הבן שלו היה.\n",
      "\n",
      "האם תרצה לקרוא את הביקורות המלאות על הסרט?"
     ]
    },
    {
     "name": "stderr",
     "output_type": "stream",
     "text": [
      "{\"message\": \"No history found for user 5796282190 in Redis.\"}\n",
      "{\"message\": \"Successfully created new chat session.\"}\n",
      "Warning: there are non-text parts in the response: ['function_call'],returning concatenated text result from text parts,check out the non text parts for full response from model.\n",
      "{\"message\": \"Processing function call: find_movie_tv_info_or_review with args: {'query': '\\u05d4\\u05d9\\u05e6\\u05d5\\u05e8\\u05d9\\u05dd \\u05d4\\u05d0\\u05dc\\u05d4 \\u05d4\\u05de\\u05dc\\u05e6\\u05d4'}\"}\n",
      "{\"message\": \"Query is likely Hebrew, returning original query.\"}\n",
      "{\"message\": \"Retrieving relevant documents for query: '\\u05d4\\u05d9\\u05e6\\u05d5\\u05e8\\u05d9\\u05dd \\u05d4\\u05d0\\u05dc\\u05d4 \\u05d4\\u05de\\u05dc\\u05e6\\u05d4'\"}\n",
      "{\"message\": \"Tool 'find_movie_tv_info_or_review' executed successfully for query: '\\u05d4\\u05d9\\u05e6\\u05d5\\u05e8\\u05d9\\u05dd \\u05d4\\u05d0\\u05dc\\u05d4 \\u05d4\\u05de\\u05dc\\u05e6\\u05d4'. Results obtained.\"}\n",
      "{\"message\": \"Generated 1 function response parts.\"}\n"
     ]
    },
    {
     "name": "stdout",
     "output_type": "stream",
     "text": [
      "[{\"article_id\": \"0000017f-dc7f-d3ff-a7ff-fdff7f780000\", \"article_name\": \"אפוקליפסה למתחילים: אפקטים וסיפור אהבה משתלבים בסרט שכל מטרתו לבדר\", \"writer_name\": [\"אורון שמיר\"]}, {\"article_id\": \"0000017f-ea5f-d639-af7f-ebdfedec0000\", \"article_name\": \"\\\"אלפים\\\": משב רוח של פנטזיה אפלה בשפה זרה\", \"writer_name\": [\"חן חדד\"]}]המאמרים מציעים כמה סיבות למה כדאי לך לראות את \"היצורים האלה\":\n",
      "\n",
      "*   **\"אהבה ומפלצות\"**: הסרט משלב אפקטים מיוחדים מרשימים עם סיפור אהבה קליל, ומתאים במיוחד לקהל צעיר. הוא מהווה מעין שילוב בין \"זומבילנד\" ו\"מקום שקט\" בגרסה מרוככת, וכולל הומאז'ים לסרטים מוכרים.\n",
      "*   **\"אלפים\"**: הסדרה מציעה משב רוח מרענן של פנטזיה אפלה בשפה זרה, ומהווה אלטרנטיבה לסדרות החגים האמריקאיות הקיטשיות. היא אמנם לא סדרת אימה מקורית במיוחד, אך עשויה למצוא חן בעיני הורים נטולי ציפיות ומתבגרים.\n",
      "\n",
      "האם תרצה לקרוא את אחד המאמרים בשלמותו? או שאולי תרצה המלצות על סרטים אחרים בסגנון דומה?\n"
     ]
    },
    {
     "name": "stderr",
     "output_type": "stream",
     "text": [
      "{\"message\": \"Loaded history for user 5796282190 from Redis.\"}\n",
      "{\"message\": \"Successfully created new chat session.\"}\n"
     ]
    },
    {
     "name": "stdout",
     "output_type": "stream",
     "text": [
      "קשה לקבוע איזו יצירה המבקר העדיף יותר, מכיוון ששני המאמרים מציגים נקודות מבט מעורבות. עם זאת, ניתן לומר שהביקורת על \"אהבה ומפלצות\" מעט יותר חיובית, מכיוון שהיא מציינת שהסרט משלב אפקטים מיוחדים מרשימים עם סיפור אהבה קליל ומתאים במיוחד לקהל צעיר, בעוד שהביקורת על \"אלפים\" מציינת שהיא לא סדרת אימה מקורית במיוחד.\n",
      "\n",
      "האם תרצה שאחפש ביקורות נוספות על שתי היצירות הללו כדי לקבל תמונה מלאה יותר?\n",
      "\n",
      "\n",
      "====================\n",
      "Article ID: 00000194-4be5-dff1-a7bc-dbf57a210000\n",
      "Question: אני מחפש סרט על שני בני דודים יהודים אמריקאים שנוסעים לפולין בעקבות השואה. אחד מהם משחק בסדרה \"יורשים\". מישהו כתב וביים את הסרט והוא גם שחקן בסרט \"הרשת החברתית\".\n"
     ]
    },
    {
     "name": "stderr",
     "output_type": "stream",
     "text": [
      "{\"message\": \"Loaded history for user 5796282190 from Redis.\"}\n",
      "{\"message\": \"Successfully created new chat session.\"}\n",
      "Warning: there are non-text parts in the response: ['function_call'],returning concatenated text result from text parts,check out the non text parts for full response from model.\n",
      "{\"message\": \"Processing function call: find_movie_tv_info_or_review with args: {'query': '\\u05e1\\u05e8\\u05d8 \\u05e2\\u05dc \\u05e9\\u05e0\\u05d9 \\u05d1\\u05e0\\u05d9 \\u05d3\\u05d5\\u05d3\\u05d9\\u05dd \\u05d9\\u05d4\\u05d5\\u05d3\\u05d9\\u05dd \\u05d0\\u05de\\u05e8\\u05d9\\u05e7\\u05d0\\u05d9\\u05dd \\u05e9\\u05e0\\u05d5\\u05e1\\u05e2\\u05d9\\u05dd \\u05dc\\u05e4\\u05d5\\u05dc\\u05d9\\u05df \\u05d1\\u05e2\\u05e7\\u05d1\\u05d5\\u05ea \\u05d4\\u05e9\\u05d5\\u05d0\\u05d4, \\u05d0\\u05d7\\u05d3 \\u05de\\u05d4\\u05dd \\u05de\\u05e9\\u05d7\\u05e7 \\u05d1\\u05e1\\u05d3\\u05e8\\u05d4 \\\"\\u05d9\\u05d5\\u05e8\\u05e9\\u05d9\\u05dd\\\", \\u05de\\u05d9\\u05e9\\u05d4\\u05d5 \\u05db\\u05ea\\u05d1 \\u05d5\\u05d1\\u05d9\\u05d9\\u05dd \\u05d0\\u05ea \\u05d4\\u05e1\\u05e8\\u05d8 \\u05d5\\u05d4\\u05d5\\u05d0 \\u05d2\\u05dd \\u05e9\\u05d7\\u05e7\\u05df \\u05d1\\u05e1\\u05e8\\u05d8 \\\"\\u05d4\\u05e8\\u05e9\\u05ea \\u05d4\\u05d7\\u05d1\\u05e8\\u05ea\\u05d9\\u05ea\\\"'}\"}\n",
      "{\"message\": \"Query is likely Hebrew, returning original query.\"}\n",
      "{\"message\": \"Retrieving relevant documents for query: '\\u05e1\\u05e8\\u05d8 \\u05e2\\u05dc \\u05e9\\u05e0\\u05d9 \\u05d1\\u05e0\\u05d9 \\u05d3\\u05d5\\u05d3\\u05d9\\u05dd \\u05d9\\u05d4\\u05d5\\u05d3\\u05d9\\u05dd \\u05d0\\u05de\\u05e8\\u05d9\\u05e7\\u05d0\\u05d9\\u05dd \\u05e9\\u05e0\\u05d5\\u05e1\\u05e2\\u05d9\\u05dd \\u05dc\\u05e4\\u05d5\\u05dc\\u05d9\\u05df \\u05d1\\u05e2\\u05e7\\u05d1\\u05d5\\u05ea \\u05d4\\u05e9\\u05d5\\u05d0\\u05d4, \\u05d0\\u05d7\\u05d3 \\u05de\\u05d4\\u05dd \\u05de\\u05e9\\u05d7\\u05e7 \\u05d1\\u05e1\\u05d3\\u05e8\\u05d4 \\\"\\u05d9\\u05d5\\u05e8\\u05e9\\u05d9\\u05dd\\\", \\u05de\\u05d9\\u05e9\\u05d4\\u05d5 \\u05db\\u05ea\\u05d1 \\u05d5\\u05d1\\u05d9\\u05d9\\u05dd \\u05d0\\u05ea \\u05d4\\u05e1\\u05e8\\u05d8 \\u05d5\\u05d4\\u05d5\\u05d0 \\u05d2\\u05dd \\u05e9\\u05d7\\u05e7\\u05df \\u05d1\\u05e1\\u05e8\\u05d8 \\\"\\u05d4\\u05e8\\u05e9\\u05ea \\u05d4\\u05d7\\u05d1\\u05e8\\u05ea\\u05d9\\u05ea\\\"'\"}\n",
      "{\"message\": \"Tool 'find_movie_tv_info_or_review' executed successfully for query: '\\u05e1\\u05e8\\u05d8 \\u05e2\\u05dc \\u05e9\\u05e0\\u05d9 \\u05d1\\u05e0\\u05d9 \\u05d3\\u05d5\\u05d3\\u05d9\\u05dd \\u05d9\\u05d4\\u05d5\\u05d3\\u05d9\\u05dd \\u05d0\\u05de\\u05e8\\u05d9\\u05e7\\u05d0\\u05d9\\u05dd \\u05e9\\u05e0\\u05d5\\u05e1\\u05e2\\u05d9\\u05dd \\u05dc\\u05e4\\u05d5\\u05dc\\u05d9\\u05df \\u05d1\\u05e2\\u05e7\\u05d1\\u05d5\\u05ea \\u05d4\\u05e9\\u05d5\\u05d0\\u05d4, \\u05d0\\u05d7\\u05d3 \\u05de\\u05d4\\u05dd \\u05de\\u05e9\\u05d7\\u05e7 \\u05d1\\u05e1\\u05d3\\u05e8\\u05d4 \\\"\\u05d9\\u05d5\\u05e8\\u05e9\\u05d9\\u05dd\\\", \\u05de\\u05d9\\u05e9\\u05d4\\u05d5 \\u05db\\u05ea\\u05d1 \\u05d5\\u05d1\\u05d9\\u05d9\\u05dd \\u05d0\\u05ea \\u05d4\\u05e1\\u05e8\\u05d8 \\u05d5\\u05d4\\u05d5\\u05d0 \\u05d2\\u05dd \\u05e9\\u05d7\\u05e7\\u05df \\u05d1\\u05e1\\u05e8\\u05d8 \\\"\\u05d4\\u05e8\\u05e9\\u05ea \\u05d4\\u05d7\\u05d1\\u05e8\\u05ea\\u05d9\\u05ea\\\"'. Results obtained.\"}\n",
      "{\"message\": \"Generated 1 function response parts.\"}\n"
     ]
    },
    {
     "name": "stdout",
     "output_type": "stream",
     "text": [
      "[{\"article_id\": \"00000194-4be5-dff1-a7bc-dbf57a210000\", \"article_name\": \"\\\"כאב אמיתי\\\": סיור שואה קולנועי לקהל שלא רוצה להזדעזע יותר מדי\", \"writer_name\": [\"אורון שמיר\"]}, {\"article_id\": \"00000187-f491-d3a6-a38f-fefb066a0000\", \"article_name\": \"\\\"הדרך לאילת\\\": סרט אישי על אב ובנו שהוא גם געגוע לדור הולך ונעלם\", \"writer_name\": [\"פבלו אוטין\"]}]הסרט שאתה מחפש הוא \"כאב אמיתי\" (A Real Pain). ג'סי אייזנברג כתב וביים את הסרט, והוא גם משחק בו. קירן קאלקין (\"יורשים\") משחק את אחד מבני הדודים.\n"
     ]
    },
    {
     "name": "stderr",
     "output_type": "stream",
     "text": [
      "{\"message\": \"No history found for user 5796282191 in Redis.\"}\n",
      "{\"message\": \"Successfully created new chat session.\"}\n",
      "Warning: there are non-text parts in the response: ['function_call'],returning concatenated text result from text parts,check out the non text parts for full response from model.\n",
      "{\"message\": \"Processing function call: find_movie_tv_info_or_review with args: {'query': '\\u05d4\\u05d9\\u05d9\\u05e6\\u05e8\\u05d5\\u05ea \\u05d4\\u05d0\\u05dc\\u05d4 \\u05d4\\u05de\\u05dc\\u05e6\\u05d4'}\"}\n",
      "{\"message\": \"Query is likely Hebrew, returning original query.\"}\n",
      "{\"message\": \"Retrieving relevant documents for query: '\\u05d4\\u05d9\\u05d9\\u05e6\\u05e8\\u05d5\\u05ea \\u05d4\\u05d0\\u05dc\\u05d4 \\u05d4\\u05de\\u05dc\\u05e6\\u05d4'\"}\n",
      "{\"message\": \"Tool 'find_movie_tv_info_or_review' executed successfully for query: '\\u05d4\\u05d9\\u05d9\\u05e6\\u05e8\\u05d5\\u05ea \\u05d4\\u05d0\\u05dc\\u05d4 \\u05d4\\u05de\\u05dc\\u05e6\\u05d4'. Results obtained.\"}\n",
      "{\"message\": \"Generated 1 function response parts.\"}\n"
     ]
    },
    {
     "name": "stdout",
     "output_type": "stream",
     "text": [
      "[{\"article_id\": \"00000189-5e9c-de4e-adeb-ffbc0ef10000\", \"article_name\": \"\\\"לה צ'ימרה\\\" הוא קולנוע נשגב ששווה לבדו ביקור בפסטיבל ירושלים\", \"writer_name\": [\"אורון שמיר\"]}, {\"article_id\": \"0000018d-d2bd-d06c-abbd-dafdf6560000\", \"article_name\": \"\\\"סעי בובה\\\": מחצית מהאחים כהן בקומדיית סקס על גיבורות במנוסה\", \"writer_name\": [\"אורון שמיר\"]}]הייצרות האלה הוא סרט קומדיה קליל ומשעשע, עם הומור קליל ורוח שטות, מזכיר את היצירות של האחים כהן מתחילת שנות האלפיים. הסרט קצר, בעל מבנה וקצב של קומדיה פרועה אך קלאסית, נשען על דיאלוגים קולחים ודמויות מובחנות, ומספק הנאה בלתי מחייבת."
     ]
    },
    {
     "name": "stderr",
     "output_type": "stream",
     "text": [
      "{\"message\": \"Loaded history for user 5796282191 from Redis.\"}\n",
      "{\"message\": \"Successfully created new chat session.\"}\n"
     ]
    },
    {
     "name": "stdout",
     "output_type": "stream",
     "text": [
      "המבקר העדיף את \"לה צ'ימרה\" וכינה אותו קולנוע נשגב. הוא תיאר את \"סעי בובה\" כהנאה בלתי מחייבת, אך פחות טוב מסרטים אחרים של האחים כהן.\n",
      "\n",
      "\n",
      "====================\n",
      "Article ID: 00000194-6339-dabc-afff-6b7fb6e90000\n",
      "Question: אוקיי, שמעתי שיש סדרה חדשה בנטפליקס, מין מערבון כזה אבל ממש קשוח, עם הרבה אלימות וטבח. זה על איזה אישה שמנסה לשרוד עם הבן שלה בתקופה של מלחמת יוטה והטבח בהר מדוז. מישהו יודע על מה אני מדבר?\n"
     ]
    },
    {
     "name": "stderr",
     "output_type": "stream",
     "text": [
      "{\"message\": \"Loaded history for user 5796282191 from Redis.\"}\n",
      "{\"message\": \"Successfully created new chat session.\"}\n",
      "Warning: there are non-text parts in the response: ['function_call'],returning concatenated text result from text parts,check out the non text parts for full response from model.\n",
      "{\"message\": \"Processing function call: find_movie_tv_info_or_review with args: {'query': '\\u05e1\\u05d3\\u05e8\\u05d4 \\u05d7\\u05d3\\u05e9\\u05d4 \\u05d1\\u05e0\\u05d8\\u05e4\\u05dc\\u05d9\\u05e7\\u05e1, \\u05de\\u05e2\\u05e8\\u05d1\\u05d5\\u05df \\u05e7\\u05e9\\u05d5\\u05d7, \\u05d0\\u05dc\\u05d9\\u05de\\u05d5\\u05ea \\u05d5\\u05d8\\u05d1\\u05d7, \\u05d0\\u05d9\\u05e9\\u05d4 \\u05de\\u05e0\\u05e1\\u05d4 \\u05dc\\u05e9\\u05e8\\u05d5\\u05d3 \\u05e2\\u05dd \\u05d4\\u05d1\\u05df \\u05e9\\u05dc\\u05d4 \\u05d1\\u05ea\\u05e7\\u05d5\\u05e4\\u05d4 \\u05e9\\u05dc \\u05de\\u05dc\\u05d7\\u05de\\u05ea \\u05d9\\u05d5\\u05d8\\u05d4 \\u05d5\\u05d4\\u05d8\\u05d1\\u05d7 \\u05d1\\u05d4\\u05e8 \\u05de\\u05d3\\u05d5\\u05d6'}\"}\n",
      "{\"message\": \"Query is likely Hebrew, returning original query.\"}\n",
      "{\"message\": \"Retrieving relevant documents for query: '\\u05e1\\u05d3\\u05e8\\u05d4 \\u05d7\\u05d3\\u05e9\\u05d4 \\u05d1\\u05e0\\u05d8\\u05e4\\u05dc\\u05d9\\u05e7\\u05e1, \\u05de\\u05e2\\u05e8\\u05d1\\u05d5\\u05df \\u05e7\\u05e9\\u05d5\\u05d7, \\u05d0\\u05dc\\u05d9\\u05de\\u05d5\\u05ea \\u05d5\\u05d8\\u05d1\\u05d7, \\u05d0\\u05d9\\u05e9\\u05d4 \\u05de\\u05e0\\u05e1\\u05d4 \\u05dc\\u05e9\\u05e8\\u05d5\\u05d3 \\u05e2\\u05dd \\u05d4\\u05d1\\u05df \\u05e9\\u05dc\\u05d4 \\u05d1\\u05ea\\u05e7\\u05d5\\u05e4\\u05d4 \\u05e9\\u05dc \\u05de\\u05dc\\u05d7\\u05de\\u05ea \\u05d9\\u05d5\\u05d8\\u05d4 \\u05d5\\u05d4\\u05d8\\u05d1\\u05d7 \\u05d1\\u05d4\\u05e8 \\u05de\\u05d3\\u05d5\\u05d6'\"}\n",
      "{\"message\": \"Tool 'find_movie_tv_info_or_review' executed successfully for query: '\\u05e1\\u05d3\\u05e8\\u05d4 \\u05d7\\u05d3\\u05e9\\u05d4 \\u05d1\\u05e0\\u05d8\\u05e4\\u05dc\\u05d9\\u05e7\\u05e1, \\u05de\\u05e2\\u05e8\\u05d1\\u05d5\\u05df \\u05e7\\u05e9\\u05d5\\u05d7, \\u05d0\\u05dc\\u05d9\\u05de\\u05d5\\u05ea \\u05d5\\u05d8\\u05d1\\u05d7, \\u05d0\\u05d9\\u05e9\\u05d4 \\u05de\\u05e0\\u05e1\\u05d4 \\u05dc\\u05e9\\u05e8\\u05d5\\u05d3 \\u05e2\\u05dd \\u05d4\\u05d1\\u05df \\u05e9\\u05dc\\u05d4 \\u05d1\\u05ea\\u05e7\\u05d5\\u05e4\\u05d4 \\u05e9\\u05dc \\u05de\\u05dc\\u05d7\\u05de\\u05ea \\u05d9\\u05d5\\u05d8\\u05d4 \\u05d5\\u05d4\\u05d8\\u05d1\\u05d7 \\u05d1\\u05d4\\u05e8 \\u05de\\u05d3\\u05d5\\u05d6'. Results obtained.\"}\n",
      "{\"message\": \"Generated 1 function response parts.\"}\n"
     ]
    },
    {
     "name": "stdout",
     "output_type": "stream",
     "text": [
      "[{\"article_id\": \"00000189-b543-d2ad-afb9-bf435c9c0000\", \"article_name\": \"\\\"הדוב\\\", עונה 2: מוקפדת, אסתטית ומרגשת\", \"writer_name\": [\"חן חדד\"]}, {\"article_id\": \"0000017f-f088-d223-a97f-fddd5b210000\", \"article_name\": \"\\\"פגע וברח\\\": הסדרה החדשה בנטפליקס של יוצרי \\\"פאודה\\\" מספקת את הסחורה\", \"writer_name\": [\"חן חדד\"]}]אני חושב שאתה מדבר על הסדרה \"הדוב\". עם זאת, התקציר שסיפקת אינו תואם לתיאור של \"הדוב\". \"הדוב\" היא דרמה קומית על שף צעיר שחוזר לשיקגו לנהל את מסעדת הסנדוויצ'ים של משפחתו."
     ]
    },
    {
     "name": "stderr",
     "output_type": "stream",
     "text": [
      "{\"message\": \"No history found for user 5796282192 in Redis.\"}\n",
      "{\"message\": \"Successfully created new chat session.\"}\n",
      "Warning: there are non-text parts in the response: ['function_call'],returning concatenated text result from text parts,check out the non text parts for full response from model.\n",
      "{\"message\": \"Processing function call: find_movie_tv_info_or_review with args: {'query': '\\u05d4\\u05d9\\u05d9\\u05e6\\u05e8\\u05d5\\u05ea \\u05d4\\u05d0\\u05dc\\u05d4'}\"}\n",
      "{\"message\": \"Query is likely Hebrew, returning original query.\"}\n",
      "{\"message\": \"Retrieving relevant documents for query: '\\u05d4\\u05d9\\u05d9\\u05e6\\u05e8\\u05d5\\u05ea \\u05d4\\u05d0\\u05dc\\u05d4'\"}\n",
      "{\"message\": \"Tool 'find_movie_tv_info_or_review' executed successfully for query: '\\u05d4\\u05d9\\u05d9\\u05e6\\u05e8\\u05d5\\u05ea \\u05d4\\u05d0\\u05dc\\u05d4'. Results obtained.\"}\n",
      "{\"message\": \"Generated 1 function response parts.\"}\n"
     ]
    },
    {
     "name": "stdout",
     "output_type": "stream",
     "text": [
      "[{\"article_id\": \"00000194-91e0-d5db-a7f5-b1ecf8a40000\", \"article_name\": \"\\\"סחורה יקרה מכל\\\": אנחנו זקוקים לסרט הזה יותר מאי פעם\", \"writer_name\": [\"פבלו אוטין\"]}, {\"article_id\": \"0000017f-e93d-df2c-a1ff-ff7d1e520000\", \"article_name\": \"\\\"סוסיתא\\\": סרט על מכונית מפוקפקת שיוצרה בשיטות מפוקפקות\", \"writer_name\": [\"נירית אנדרמן\"]}]הייצרות האלה הוא סרט אנימציה של מישל הזנוויציוס (\"הארטיסט\") המתרחש בשואה. הסרט מספר על חמלה והקרבה אנושית בעולם שבו הרוע במציאות אכזר לא פחות מזה שבאגדות. הסרט מומלץ לצפייה כי הוא מזכיר לנו שאם אנחנו מזהים מישהו אחר בתור ערל לב שטני, וסבורים שמגיע לו למות בשל כך, יתכן שערל הלב הזה הוא בעצם אנחנו.\n",
      "\n",
      "האם תרצה שאחפש מידע נוסף על הסרט?"
     ]
    },
    {
     "name": "stderr",
     "output_type": "stream",
     "text": [
      "{\"message\": \"Loaded history for user 5796282192 from Redis.\"}\n",
      "{\"message\": \"Successfully created new chat session.\"}\n"
     ]
    },
    {
     "name": "stdout",
     "output_type": "stream",
     "text": [
      "המבקר העדיף את \"הייצרות האלה\". הוא כתב על הסרט שהוא סרט מרגש ויפה, ושהוא מזכיר לנו שאם אנחנו מזהים מישהו אחר בתור ערל לב שטני, וסבורים שמגיע לו למות בשל כך, יתכן שערל הלב הזה הוא בעצם אנחנו.\n",
      "\n",
      "====================\n",
      "Article ID: 00000194-6e60-d9d3-a597-eeecd15d0000\n",
      "Question: \"אני מחפש מידע על הסרט החדש של ארז תדמור, זה שמתרחש בשנות ה-50 ליד הכנרת ועוסק בפרטיזנים לשעבר שעובדים במפעל סודה. איך קוראים לסרט ומה העלילה שלו?\n"
     ]
    },
    {
     "name": "stderr",
     "output_type": "stream",
     "text": [
      "{\"message\": \"Loaded history for user 5796282192 from Redis.\"}\n",
      "{\"message\": \"Successfully created new chat session.\"}\n",
      "Warning: there are non-text parts in the response: ['function_call'],returning concatenated text result from text parts,check out the non text parts for full response from model.\n",
      "{\"message\": \"Processing function call: find_movie_tv_info_or_review with args: {'query': '\\u05d4\\u05e1\\u05e8\\u05d8 \\u05d4\\u05d7\\u05d3\\u05e9 \\u05e9\\u05dc \\u05d0\\u05e8\\u05d6 \\u05ea\\u05d3\\u05de\\u05d5\\u05e8, \\u05d6\\u05d4 \\u05e9\\u05de\\u05ea\\u05e8\\u05d7\\u05e9 \\u05d1\\u05e9\\u05e0\\u05d5\\u05ea \\u05d4-50 \\u05dc\\u05d9\\u05d3 \\u05d4\\u05db\\u05e0\\u05e8\\u05ea \\u05d5\\u05e2\\u05d5\\u05e1\\u05e7 \\u05d1\\u05e4\\u05e8\\u05d8\\u05d9\\u05d6\\u05e0\\u05d9\\u05dd \\u05dc\\u05e9\\u05e2\\u05d1\\u05e8 \\u05e9\\u05e2\\u05d5\\u05d1\\u05d3\\u05d9\\u05dd \\u05d1\\u05de\\u05e4\\u05e2\\u05dc \\u05e1\\u05d5\\u05d3\\u05d4'}\"}\n",
      "{\"message\": \"Query is likely Hebrew, returning original query.\"}\n",
      "{\"message\": \"Retrieving relevant documents for query: '\\u05d4\\u05e1\\u05e8\\u05d8 \\u05d4\\u05d7\\u05d3\\u05e9 \\u05e9\\u05dc \\u05d0\\u05e8\\u05d6 \\u05ea\\u05d3\\u05de\\u05d5\\u05e8, \\u05d6\\u05d4 \\u05e9\\u05de\\u05ea\\u05e8\\u05d7\\u05e9 \\u05d1\\u05e9\\u05e0\\u05d5\\u05ea \\u05d4-50 \\u05dc\\u05d9\\u05d3 \\u05d4\\u05db\\u05e0\\u05e8\\u05ea \\u05d5\\u05e2\\u05d5\\u05e1\\u05e7 \\u05d1\\u05e4\\u05e8\\u05d8\\u05d9\\u05d6\\u05e0\\u05d9\\u05dd \\u05dc\\u05e9\\u05e2\\u05d1\\u05e8 \\u05e9\\u05e2\\u05d5\\u05d1\\u05d3\\u05d9\\u05dd \\u05d1\\u05de\\u05e4\\u05e2\\u05dc \\u05e1\\u05d5\\u05d3\\u05d4'\"}\n",
      "{\"message\": \"Tool 'find_movie_tv_info_or_review' executed successfully for query: '\\u05d4\\u05e1\\u05e8\\u05d8 \\u05d4\\u05d7\\u05d3\\u05e9 \\u05e9\\u05dc \\u05d0\\u05e8\\u05d6 \\u05ea\\u05d3\\u05de\\u05d5\\u05e8, \\u05d6\\u05d4 \\u05e9\\u05de\\u05ea\\u05e8\\u05d7\\u05e9 \\u05d1\\u05e9\\u05e0\\u05d5\\u05ea \\u05d4-50 \\u05dc\\u05d9\\u05d3 \\u05d4\\u05db\\u05e0\\u05e8\\u05ea \\u05d5\\u05e2\\u05d5\\u05e1\\u05e7 \\u05d1\\u05e4\\u05e8\\u05d8\\u05d9\\u05d6\\u05e0\\u05d9\\u05dd \\u05dc\\u05e9\\u05e2\\u05d1\\u05e8 \\u05e9\\u05e2\\u05d5\\u05d1\\u05d3\\u05d9\\u05dd \\u05d1\\u05de\\u05e4\\u05e2\\u05dc \\u05e1\\u05d5\\u05d3\\u05d4'. Results obtained.\"}\n",
      "{\"message\": \"Generated 1 function response parts.\"}\n"
     ]
    },
    {
     "name": "stdout",
     "output_type": "stream",
     "text": [
      "[{\"article_id\": \"00000194-6e60-d9d3-a597-eeecd15d0000\", \"article_name\": \"\\\"סודה\\\": בין תאוות נקמה להיאחזות בתקווה\", \"writer_name\": [\"אורון שמיר\"]}, {\"article_id\": \"0000017f-f870-d460-afff-fb7646e20000\", \"article_name\": \"לא מפליא שסרט שקוראים לו ״סוסיתא״ לא מתניע\", \"writer_name\": [\"אורי קליין\"]}]הסרט נקרא \"סודה\". הוא מתרחש בשנות ה-50 ליד הכנרת ועוסק בפרטיזנים לשעבר שעובדים במפעל סודה. העלילה מספרת על קבוצת פרטיזנים לשעבר שמנסים להקים חיים חדשים בשכונת פועלים ליד הכנרת, אך העבר שלהם ממשיך לרדוף אותם. מגיעות דיירות חדשות לשכונה, ואחת מהן מתחילה לסבב את ראשם של הגברים, מה שגורם למתח וקנאה."
     ]
    },
    {
     "name": "stderr",
     "output_type": "stream",
     "text": [
      "{\"message\": \"No history found for user 5796282193 in Redis.\"}\n",
      "{\"message\": \"Successfully created new chat session.\"}\n",
      "Warning: there are non-text parts in the response: ['function_call'],returning concatenated text result from text parts,check out the non text parts for full response from model.\n",
      "{\"message\": \"Processing function call: find_movie_tv_info_or_review with args: {'query': '\\u05d4\\u05d9\\u05d9\\u05e6\\u05e8\\u05d5\\u05ea \\u05d4\\u05d0\\u05dc\\u05d4 \\u05d4\\u05de\\u05dc\\u05e6\\u05d4'}\"}\n",
      "{\"message\": \"Query is likely Hebrew, returning original query.\"}\n",
      "{\"message\": \"Retrieving relevant documents for query: '\\u05d4\\u05d9\\u05d9\\u05e6\\u05e8\\u05d5\\u05ea \\u05d4\\u05d0\\u05dc\\u05d4 \\u05d4\\u05de\\u05dc\\u05e6\\u05d4'\"}\n",
      "{\"message\": \"Tool 'find_movie_tv_info_or_review' executed successfully for query: '\\u05d4\\u05d9\\u05d9\\u05e6\\u05e8\\u05d5\\u05ea \\u05d4\\u05d0\\u05dc\\u05d4 \\u05d4\\u05de\\u05dc\\u05e6\\u05d4'. Results obtained.\"}\n",
      "{\"message\": \"Generated 1 function response parts.\"}\n"
     ]
    },
    {
     "name": "stdout",
     "output_type": "stream",
     "text": [
      "[{\"article_id\": \"00000189-5e9c-de4e-adeb-ffbc0ef10000\", \"article_name\": \"\\\"לה צ'ימרה\\\" הוא קולנוע נשגב ששווה לבדו ביקור בפסטיבל ירושלים\", \"writer_name\": [\"אורון שמיר\"]}, {\"article_id\": \"0000018d-d2bd-d06c-abbd-dafdf6560000\", \"article_name\": \"\\\"סעי בובה\\\": מחצית מהאחים כהן בקומדיית סקס על גיבורות במנוסה\", \"writer_name\": [\"אורון שמיר\"]}]אליצ'ה רורוואכר היא במאית איטלקייה מצליחה שהסרטים שלה רק משתפרים עם הזמן. \"הייצרות האלה\" הוא סרט קולנוע נשגב ששווה לבדו ביקור בפסטיבל ירושלים, סרט מיסטי ומכשף שהצילום שלו בפילם מעניק לו מראה קלאסי והדימויים נחקקים בזיכרון. הסרט ממוקם בטוסקנה של שנות ה-80, אבל לפרקים בשום-זמן, ומוביל אותו ארכיאולוג אנגלי בעל חוש למציאת עתיקות נסתרות.\n",
      "\n",
      "האם תרצה לדעת על סרטים נוספים של אליצ'ה רורוואכר?"
     ]
    },
    {
     "name": "stderr",
     "output_type": "stream",
     "text": [
      "{\"message\": \"Loaded history for user 5796282193 from Redis.\"}\n",
      "{\"message\": \"Successfully created new chat session.\"}\n"
     ]
    },
    {
     "name": "stdout",
     "output_type": "stream",
     "text": [
      "המבקר העדיף את \"הייצרות האלה\" (\"לה צ'ימרה\"). הוא תיאר אותו כסרט קולנוע נשגב, מיסטי ומכשף שהצילום שלו בפילם מעניק לו מראה קלאסי והדימויים נחקקים בזיכרון. הוא גם ציין שזהו כנראה סרטה הטוב ביותר של הבמאית עד כה, ואחד הגדולים והמפוארים של השנה הקולנועית.\n",
      "\n",
      "לעומת זאת, על \"סעי בובה\" הוא כתב שהוא אמנם מספק הנאה בלתי מחייבת, אך קשה להניח שהסרט או הדמויות ייכנסו לפנתיאון היצירתי של האחים כהן.\n",
      "\n",
      "האם תרצה שאחפש ביקורות נוספות של אורון שמיר?\n",
      "\n",
      "\n",
      "====================\n",
      "Article ID: \n",
      "Question: אחי, תמליץ לי על איזה סרט אקשן טוב בנטפליקס? משהו חדש יחסית.\n"
     ]
    },
    {
     "name": "stderr",
     "output_type": "stream",
     "text": [
      "{\"message\": \"Loaded history for user 5796282193 from Redis.\"}\n",
      "{\"message\": \"Successfully created new chat session.\"}\n",
      "Warning: there are non-text parts in the response: ['function_call'],returning concatenated text result from text parts,check out the non text parts for full response from model.\n",
      "{\"message\": \"Processing function call: find_movie_tv_info_or_review with args: {'query': '\\u05e1\\u05e8\\u05d8 \\u05d0\\u05e7\\u05e9\\u05df \\u05d7\\u05d3\\u05e9 \\u05d1\\u05e0\\u05d8\\u05e4\\u05dc\\u05d9\\u05e7\\u05e1'}\"}\n",
      "{\"message\": \"Query is likely Hebrew, returning original query.\"}\n",
      "{\"message\": \"Retrieving relevant documents for query: '\\u05e1\\u05e8\\u05d8 \\u05d0\\u05e7\\u05e9\\u05df \\u05d7\\u05d3\\u05e9 \\u05d1\\u05e0\\u05d8\\u05e4\\u05dc\\u05d9\\u05e7\\u05e1'\"}\n",
      "{\"message\": \"Tool 'find_movie_tv_info_or_review' executed successfully for query: '\\u05e1\\u05e8\\u05d8 \\u05d0\\u05e7\\u05e9\\u05df \\u05d7\\u05d3\\u05e9 \\u05d1\\u05e0\\u05d8\\u05e4\\u05dc\\u05d9\\u05e7\\u05e1'. Results obtained.\"}\n",
      "{\"message\": \"Generated 1 function response parts.\"}\n"
     ]
    },
    {
     "name": "stdout",
     "output_type": "stream",
     "text": [
      "[{\"article_id\": \"0000017f-dbd7-d856-a37f-ffd7d9760000\", \"article_name\": \"\\\"שטח קרב\\\": זה הסרט שנטפליקס בחרה לפתוח אתו את השנה?\", \"writer_name\": [\"אורון שמיר\"]}, {\"article_id\": \"0000017f-ea06-dea7-adff-fbff59160000\", \"article_name\": \"\\\"צבא המתים\\\": נטפליקס שמה את הכסף על עולם מלא זומבים\", \"writer_name\": [\"נתנאל שלומוביץ\"]}]אוקיי, מצאתי שני סרטי אקשן מנטפליקס:\n",
      "\n",
      "1.  **\"שטח קרב\"**: סרט פעולה עתידני ומלחמתי משנת 2036, בו רוסיה מנסה לכבוש את אוקראינה. הביקורת מציינת שהאקשן סולידי, אבל התקציב הנמוך מורגש.\n",
      "2.  **\"צבא המתים\"**: סרט זומבים של זאק סניידר, בו צוות שודדים מנסה לשדוד כספת בקזינו בלאס וגאס החרבה. הביקורת מציינת שיש הרבה אקשן, אבל העלילה והדמויות לא מפותחות במיוחד.\n",
      "\n",
      "שניהם יחסית חדשים (2021), אבל הביקורות לא מאוד חיוביות. אם אתה מחפש אקשן נטו, אולי \"צבא המתים\" יתאים לך יותר.\n",
      "\n",
      "יש לך העדפה לסוג מסוים של אקשן (מלחמתי, זומבים, וכו')?\n"
     ]
    },
    {
     "name": "stderr",
     "output_type": "stream",
     "text": [
      "{\"message\": \"No history found for user 5796282194 in Redis.\"}\n",
      "{\"message\": \"Successfully created new chat session.\"}\n",
      "Warning: there are non-text parts in the response: ['function_call'],returning concatenated text result from text parts,check out the non text parts for full response from model.\n",
      "{\"message\": \"Processing function call: find_movie_tv_info_or_review with args: {'query': '\\u05d4\\u05de\\u05dc\\u05e6\\u05d4 \\u05e2\\u05dc \\u05d4\\u05e1\\u05e8\\u05d8 \\u05f4\\u05d4\\u05d9\\u05d9\\u05e6\\u05e8\\u05d5\\u05ea \\u05d4\\u05d0\\u05dc\\u05d4\\u05f4'}\"}\n",
      "{\"message\": \"Query is likely Hebrew, returning original query.\"}\n",
      "{\"message\": \"Retrieving relevant documents for query: '\\u05d4\\u05de\\u05dc\\u05e6\\u05d4 \\u05e2\\u05dc \\u05d4\\u05e1\\u05e8\\u05d8 \\u05f4\\u05d4\\u05d9\\u05d9\\u05e6\\u05e8\\u05d5\\u05ea \\u05d4\\u05d0\\u05dc\\u05d4\\u05f4'\"}\n",
      "{\"message\": \"Tool 'find_movie_tv_info_or_review' executed successfully for query: '\\u05d4\\u05de\\u05dc\\u05e6\\u05d4 \\u05e2\\u05dc \\u05d4\\u05e1\\u05e8\\u05d8 \\u05f4\\u05d4\\u05d9\\u05d9\\u05e6\\u05e8\\u05d5\\u05ea \\u05d4\\u05d0\\u05dc\\u05d4\\u05f4'. Results obtained.\"}\n",
      "{\"message\": \"Generated 1 function response parts.\"}\n"
     ]
    },
    {
     "name": "stdout",
     "output_type": "stream",
     "text": [
      "[{\"article_id\": \"0000017f-f590-d044-adff-f7f943eb0000\", \"article_name\": \"\\\"אלים זוטרים\\\": קובייה הונגרית קולנועית שחומקת מפתרון\", \"writer_name\": [\"נתנאל שלומוביץ\"]}, {\"article_id\": \"00000194-91e0-d5db-a7f5-b1ecf8a40000\", \"article_name\": \"\\\"סחורה יקרה מכל\\\": אנחנו זקוקים לסרט הזה יותר מאי פעם\", \"writer_name\": [\"פבלו אוטין\"]}]המאמר של הארץ מציין שהסרט \"אלים זוטרים\" הוא סרט ביכורים של הבמאי צ'ינו מויה, והוא מצליח לברוא בו עולמות עם טביעת אצבע ייחודית ושפה ויזואלית קודרת. הסרט משלב אלמנטים של מדע בדיוני, פנטזיה עגומה, אגדות וטרגדיה יוונית, ומשתמש בז'אנר לביקורת חברתית, כלכלית ופוליטית. עם זאת, הביקורת של מויה מושחזת במיוחד כשהוא מציג אדם שפעל כמצופה ממנו והצליח, בבית ובעבודה, רק כדי לאבד ביום אחד את הכל.\n",
      "\n",
      "האם תרצה לקרוא את המאמר המלא או לקבל מידע על סרטים אחרים?\n"
     ]
    },
    {
     "name": "stderr",
     "output_type": "stream",
     "text": [
      "{\"message\": \"Loaded history for user 5796282194 from Redis.\"}\n",
      "{\"message\": \"Successfully created new chat session.\"}\n"
     ]
    },
    {
     "name": "stdout",
     "output_type": "stream",
     "text": [
      "מבלי לקרוא את שני המאמרים במלואם, קשה לומר בוודאות איזה מהם המבקר העדיף יותר. עם זאת, אוכל לומר זאת לאחר שאקרא אותם. האם תרצה שאעשה זאת?\n",
      "\n",
      "\n",
      "====================\n",
      "Article ID: \n",
      "Question: מחפשת סדרה קלילה ומצחיקה, קומדיה כזאת, לא משנה לי באיזה שירות סטרימינג.\n"
     ]
    },
    {
     "name": "stderr",
     "output_type": "stream",
     "text": [
      "{\"message\": \"Loaded history for user 5796282194 from Redis.\"}\n",
      "{\"message\": \"Successfully created new chat session.\"}\n",
      "Warning: there are non-text parts in the response: ['function_call'],returning concatenated text result from text parts,check out the non text parts for full response from model.\n",
      "{\"message\": \"Processing function call: find_movie_tv_info_or_review with args: {'query': '\\u05de\\u05d7\\u05e4\\u05e9\\u05ea \\u05e1\\u05d3\\u05e8\\u05d4 \\u05e7\\u05dc\\u05d9\\u05dc\\u05d4 \\u05d5\\u05de\\u05e6\\u05d7\\u05d9\\u05e7\\u05d4, \\u05e7\\u05d5\\u05de\\u05d3\\u05d9\\u05d4, \\u05dc\\u05d0 \\u05de\\u05e9\\u05e0\\u05d4 \\u05e9\\u05d9\\u05e8\\u05d5\\u05ea \\u05e1\\u05d8\\u05e8\\u05d9\\u05de\\u05d9\\u05e0\\u05d2'}\"}\n",
      "{\"message\": \"Query is likely Hebrew, returning original query.\"}\n",
      "{\"message\": \"Retrieving relevant documents for query: '\\u05de\\u05d7\\u05e4\\u05e9\\u05ea \\u05e1\\u05d3\\u05e8\\u05d4 \\u05e7\\u05dc\\u05d9\\u05dc\\u05d4 \\u05d5\\u05de\\u05e6\\u05d7\\u05d9\\u05e7\\u05d4, \\u05e7\\u05d5\\u05de\\u05d3\\u05d9\\u05d4, \\u05dc\\u05d0 \\u05de\\u05e9\\u05e0\\u05d4 \\u05e9\\u05d9\\u05e8\\u05d5\\u05ea \\u05e1\\u05d8\\u05e8\\u05d9\\u05de\\u05d9\\u05e0\\u05d2'\"}\n",
      "{\"message\": \"Tool 'find_movie_tv_info_or_review' executed successfully for query: '\\u05de\\u05d7\\u05e4\\u05e9\\u05ea \\u05e1\\u05d3\\u05e8\\u05d4 \\u05e7\\u05dc\\u05d9\\u05dc\\u05d4 \\u05d5\\u05de\\u05e6\\u05d7\\u05d9\\u05e7\\u05d4, \\u05e7\\u05d5\\u05de\\u05d3\\u05d9\\u05d4, \\u05dc\\u05d0 \\u05de\\u05e9\\u05e0\\u05d4 \\u05e9\\u05d9\\u05e8\\u05d5\\u05ea \\u05e1\\u05d8\\u05e8\\u05d9\\u05de\\u05d9\\u05e0\\u05d2'. Results obtained.\"}\n",
      "{\"message\": \"Generated 1 function response parts.\"}\n"
     ]
    },
    {
     "name": "stdout",
     "output_type": "stream",
     "text": [
      "[{\"article_id\": \"0000017f-f6fb-d044-adff-f7fb67730000\", \"article_name\": \"\\\"מיי וג'ורג'\\\" בנטפליקס: התמכרות חפוזה לאהבה\", \"writer_name\": [\"חן חדד\"]}, {\"article_id\": \"0000017f-e281-d38f-a57f-e6d3ba430000\", \"article_name\": \"\\\"מית'יק קווסט\\\" זו הסדרה החדשה והכיפית שאתם צריכים לראות\", \"writer_name\": [\"חן חדד\"]}]בהתבסס על המידע שמצאתי, הנה שתי סדרות קומיות קלילות שאולי תאהבי:\n",
      "\n",
      "*   **\"מיי וג'ורג'\"**: סדרה קומית בריטית של נטפליקס על קומיקאית קנדית ומערכת היחסים שלה עם אישה שמעולם לא הייתה עם נשים. הסדרה מצחיקה, אינטימית ומחממת לב, והיא מומלצת לצפייה מרתונית קצרה.\n",
      "*   **\"מית'יק קווסט\"**: קומדיית מקום עבודה של אפל TV+ המתרחשת בחברה לפיתוח משחקי וידאו. הסדרה כיפית, קלילה ומשוחררת, ועוקצת את תרבות הרשת ואת המיזוגיניה בעולם הגיימינג.\n",
      "\n",
      "הייתי ממליץ לך להתחיל עם \"מיי וג'ורג'\" מכיוון שהיא קצרה יותר ויש לה ביקורות טובות יותר, אבל שתי הסדרות צריכות להתאים למה שחיפשת.\n",
      "\n",
      "יש לך שאלות נוספות?"
     ]
    },
    {
     "name": "stderr",
     "output_type": "stream",
     "text": [
      "{\"message\": \"No history found for user 5796282195 in Redis.\"}\n",
      "{\"message\": \"Successfully created new chat session.\"}\n"
     ]
    },
    {
     "name": "stdout",
     "output_type": "stream",
     "text": [
      "אני מצטער, אני לא מוצא מידע על הסרט הזה במאמרים של הארץ."
     ]
    },
    {
     "name": "stderr",
     "output_type": "stream",
     "text": [
      "{\"message\": \"Loaded history for user 5796282195 from Redis.\"}\n",
      "{\"message\": \"Successfully created new chat session.\"}\n"
     ]
    },
    {
     "name": "stdout",
     "output_type": "stream",
     "text": [
      "אני מצטער, אני לא מוצא מידע על הסרט הזה במאמרים של הארץ.\n",
      "\n",
      "\n",
      "====================\n",
      "Article ID: \n",
      "Question: מה כדאי לראות עכשיו ביס פלוס? בא לי איזה משהו מתח טוב.\n"
     ]
    },
    {
     "name": "stderr",
     "output_type": "stream",
     "text": [
      "{\"message\": \"Loaded history for user 5796282195 from Redis.\"}\n",
      "{\"message\": \"Successfully created new chat session.\"}\n",
      "Warning: there are non-text parts in the response: ['function_call'],returning concatenated text result from text parts,check out the non text parts for full response from model.\n",
      "{\"message\": \"Processing function call: find_movie_tv_info_or_review with args: {'query': '\\u05de\\u05d4 \\u05db\\u05d3\\u05d0\\u05d9 \\u05dc\\u05e8\\u05d0\\u05d5\\u05ea \\u05e2\\u05db\\u05e9\\u05d9\\u05d5 \\u05d1\\u05d9\\u05e1 \\u05e4\\u05dc\\u05d5\\u05e1 \\u05de\\u05ea\\u05d7'}\"}\n",
      "{\"message\": \"Query is likely Hebrew, returning original query.\"}\n",
      "{\"message\": \"Retrieving relevant documents for query: '\\u05de\\u05d4 \\u05db\\u05d3\\u05d0\\u05d9 \\u05dc\\u05e8\\u05d0\\u05d5\\u05ea \\u05e2\\u05db\\u05e9\\u05d9\\u05d5 \\u05d1\\u05d9\\u05e1 \\u05e4\\u05dc\\u05d5\\u05e1 \\u05de\\u05ea\\u05d7'\"}\n",
      "{\"message\": \"Tool 'find_movie_tv_info_or_review' executed successfully for query: '\\u05de\\u05d4 \\u05db\\u05d3\\u05d0\\u05d9 \\u05dc\\u05e8\\u05d0\\u05d5\\u05ea \\u05e2\\u05db\\u05e9\\u05d9\\u05d5 \\u05d1\\u05d9\\u05e1 \\u05e4\\u05dc\\u05d5\\u05e1 \\u05de\\u05ea\\u05d7'. Results obtained.\"}\n",
      "{\"message\": \"Generated 1 function response parts.\"}\n"
     ]
    },
    {
     "name": "stdout",
     "output_type": "stream",
     "text": [
      "[{\"article_id\": \"0000017f-e651-dea7-adff-f7fbfd460000\", \"article_name\": \"\\\"לבד\\\" מוכיח: די במעט אמצעים כדי שאימה תזחל במורד הצוואר שלכם\", \"writer_name\": [\"אורון שמיר\"]}, {\"article_id\": \"00000184-2764-ddff-a586-ff67c3ed0000\", \"article_name\": \"\\\"ברברי\\\", סרט האימה המדובר של השנה, הגיע במפתיע לישראל\", \"writer_name\": [\"אורון שמיר\"]}]אורון שמיר ממליץ על \"לבד\" (Alone) מ-2021 ו\"ברברי\" (Barbarian) מ-2022 שנמצאים ביס VOD ודיסני+ בהתאמה. \"לבד\" מותחן פסיכולוגי עם אימה על אישה בודדה מול רוע יומיומי, ו\"ברברי\" סרט אימה עם הפתעות ומשחקי ציפיות על זרים בדירה שכורה.\n",
      "\n",
      "האם תרצה לשמוע עוד על אחד מהם או לקבל המלצות אחרות?\n"
     ]
    },
    {
     "name": "stderr",
     "output_type": "stream",
     "text": [
      "{\"message\": \"No history found for user 5796282196 in Redis.\"}\n",
      "{\"message\": \"Successfully created new chat session.\"}\n",
      "Warning: there are non-text parts in the response: ['function_call'],returning concatenated text result from text parts,check out the non text parts for full response from model.\n",
      "{\"message\": \"Processing function call: find_movie_tv_info_or_review with args: {'query': '\\u05d4\\u05d9\\u05d9\\u05e6\\u05e8\\u05d5\\u05ea \\u05d4\\u05d0\\u05dc\\u05d4'}\"}\n",
      "{\"message\": \"Query is likely Hebrew, returning original query.\"}\n",
      "{\"message\": \"Retrieving relevant documents for query: '\\u05d4\\u05d9\\u05d9\\u05e6\\u05e8\\u05d5\\u05ea \\u05d4\\u05d0\\u05dc\\u05d4'\"}\n",
      "{\"message\": \"Tool 'find_movie_tv_info_or_review' executed successfully for query: '\\u05d4\\u05d9\\u05d9\\u05e6\\u05e8\\u05d5\\u05ea \\u05d4\\u05d0\\u05dc\\u05d4'. Results obtained.\"}\n",
      "{\"message\": \"Generated 1 function response parts.\"}\n"
     ]
    },
    {
     "name": "stdout",
     "output_type": "stream",
     "text": [
      "[{\"article_id\": \"00000194-91e0-d5db-a7f5-b1ecf8a40000\", \"article_name\": \"\\\"סחורה יקרה מכל\\\": אנחנו זקוקים לסרט הזה יותר מאי פעם\", \"writer_name\": [\"פבלו אוטין\"]}, {\"article_id\": \"0000017f-e93d-df2c-a1ff-ff7d1e520000\", \"article_name\": \"\\\"סוסיתא\\\": סרט על מכונית מפוקפקת שיוצרה בשיטות מפוקפקות\", \"writer_name\": [\"נירית אנדרמן\"]}]המלצות למה כדאי לך לראות את \"הייצרות האלה\":\n",
      "\n",
      "*   **\"סחורה יקרה מכל\"**: סרט אנימציה של מישל הזנוויציוס על חמלה והקרבה אנושית בשואה, המתחיל כאגדת ילדים אך פונה לילד הקטן שבתוך כל אחד מאיתנו כדי לרכך ולשבור את הלב. הסרט משתמש בכלים קולנועיים פשוטים ליצירת עולם רגשי נוגע, עם התייחסויות תנ\"כיות ואוניברסליות.\n",
      "*   **\"סוסיתא\"**: סרטו של אבי וייסבלאי על ההיסטוריה של מפעל המכוניות \"סוסיתא\" בשנות ה-60 וה-70. הסרט מציג את סיפורו של המפעל כדרמה עם יזמים שנאבקים, חזון שאפתני ומפעל שפרנס אלפי משפחות, תוך שהוא חושף שחיתות וקשרי הון-שלטון שאפשרו את הקמת המפעל והתרסקותו.\n",
      "\n",
      "האם תרצה שאחפש ביקורות נוספות על אחד מהסרטים האלה?"
     ]
    },
    {
     "name": "stderr",
     "output_type": "stream",
     "text": [
      "{\"message\": \"Loaded history for user 5796282196 from Redis.\"}\n",
      "{\"message\": \"Successfully created new chat session.\"}\n"
     ]
    },
    {
     "name": "stdout",
     "output_type": "stream",
     "text": [
      "פבלו אוטין העדיף את \"סחורה יקרה מכל\". נירית אנדרמן כתבה על \"סוסיתא\"\n",
      "\n",
      "====================\n",
      "Article ID: \n",
      "Question: יש לך המלצה לסרט דרמה איכותי? עדיף משהו שזמין בהוט.\n"
     ]
    },
    {
     "name": "stderr",
     "output_type": "stream",
     "text": [
      "{\"message\": \"Loaded history for user 5796282196 from Redis.\"}\n",
      "{\"message\": \"Successfully created new chat session.\"}\n",
      "Warning: there are non-text parts in the response: ['function_call'],returning concatenated text result from text parts,check out the non text parts for full response from model.\n",
      "{\"message\": \"Processing function call: find_movie_tv_info_or_review with args: {'query': '\\u05e1\\u05e8\\u05d8 \\u05d3\\u05e8\\u05de\\u05d4 \\u05d0\\u05d9\\u05db\\u05d5\\u05ea\\u05d9 \\u05e9\\u05d6\\u05de\\u05d9\\u05df \\u05d1\\u05d4\\u05d5\\u05d8'}\"}\n",
      "{\"message\": \"Query is likely Hebrew, returning original query.\"}\n",
      "{\"message\": \"Retrieving relevant documents for query: '\\u05e1\\u05e8\\u05d8 \\u05d3\\u05e8\\u05de\\u05d4 \\u05d0\\u05d9\\u05db\\u05d5\\u05ea\\u05d9 \\u05e9\\u05d6\\u05de\\u05d9\\u05df \\u05d1\\u05d4\\u05d5\\u05d8'\"}\n",
      "{\"message\": \"Tool 'find_movie_tv_info_or_review' executed successfully for query: '\\u05e1\\u05e8\\u05d8 \\u05d3\\u05e8\\u05de\\u05d4 \\u05d0\\u05d9\\u05db\\u05d5\\u05ea\\u05d9 \\u05e9\\u05d6\\u05de\\u05d9\\u05df \\u05d1\\u05d4\\u05d5\\u05d8'. Results obtained.\"}\n",
      "{\"message\": \"Generated 1 function response parts.\"}\n"
     ]
    },
    {
     "name": "stdout",
     "output_type": "stream",
     "text": [
      "[{\"article_id\": \"00000180-5bd5-df19-a7f3-dbdd4c550000\", \"article_name\": \"\\\"לאהוב אותי\\\": מי אמר שלדרמות משפחתיות אין מה לחדש?\", \"writer_name\": [\"חן חדד\"]}, {\"article_id\": \"00000189-14c7-dc81-a9db-5defc2610000\", \"article_name\": \"\\\"חטיפה\\\": עם כל ההערכה לאידריס אלבה זו לא דרמה מופתית\", \"writer_name\": [\"חן חדד\"]}]חן חדד ממליצה על \"לאהוב אותי\" (Love Me) האוסטרלית, הזמינה ב-VOD של הוט ויס. הסדרה עוקבת אחר יחסים וזוגיות דרך שלוש דמויות בשלבים שונים של החיים ומתמודדת עם אבל, מוות ואהבה בו זמנית. היא מציינת שהסדרה כנה, מצליחה לחלץ ניצוץ כובש מהשגרה ובעלת טון מחמם לב.\n",
      "\n",
      "היא גם כתבה על \"חטיפה\" (Hijack) הזמינה באפל טי וי+, אבל מציינת שזו לא דרמה מופתית, אלא יותר סדרת פופקורן קלילה עם אידריס אלבה.\n",
      "\n",
      "האם תרצה לקרוא את הביקורות המלאות כדי להחליט מה מתאים לך יותר?"
     ]
    },
    {
     "name": "stderr",
     "output_type": "stream",
     "text": [
      "{\"message\": \"No history found for user 5796282197 in Redis.\"}\n",
      "{\"message\": \"Successfully created new chat session.\"}\n",
      "Warning: there are non-text parts in the response: ['function_call'],returning concatenated text result from text parts,check out the non text parts for full response from model.\n",
      "{\"message\": \"Processing function call: find_movie_tv_info_or_review with args: {'query': '\\u05d4\\u05d9\\u05d9\\u05e6\\u05e8\\u05d5\\u05ea \\u05d4\\u05d0\\u05dc\\u05d4 \\u05d4\\u05de\\u05dc\\u05e6\\u05d4'}\"}\n",
      "{\"message\": \"Query is likely Hebrew, returning original query.\"}\n",
      "{\"message\": \"Retrieving relevant documents for query: '\\u05d4\\u05d9\\u05d9\\u05e6\\u05e8\\u05d5\\u05ea \\u05d4\\u05d0\\u05dc\\u05d4 \\u05d4\\u05de\\u05dc\\u05e6\\u05d4'\"}\n",
      "{\"message\": \"Tool 'find_movie_tv_info_or_review' executed successfully for query: '\\u05d4\\u05d9\\u05d9\\u05e6\\u05e8\\u05d5\\u05ea \\u05d4\\u05d0\\u05dc\\u05d4 \\u05d4\\u05de\\u05dc\\u05e6\\u05d4'. Results obtained.\"}\n",
      "{\"message\": \"Generated 1 function response parts.\"}\n"
     ]
    },
    {
     "name": "stdout",
     "output_type": "stream",
     "text": [
      "[{\"article_id\": \"00000189-5e9c-de4e-adeb-ffbc0ef10000\", \"article_name\": \"\\\"לה צ'ימרה\\\" הוא קולנוע נשגב ששווה לבדו ביקור בפסטיבל ירושלים\", \"writer_name\": [\"אורון שמיר\"]}, {\"article_id\": \"0000018d-d2bd-d06c-abbd-dafdf6560000\", \"article_name\": \"\\\"סעי בובה\\\": מחצית מהאחים כהן בקומדיית סקס על גיבורות במנוסה\", \"writer_name\": [\"אורון שמיר\"]}]הייצרות האלה הוא סרט קומי קליל עם רוח שטות, שמזכיר את היצירות של האחים כהן מתחילת שנות האלפיים. הסרט מספק הנאה בלתי מחייבת, בעל מבנה וקצב של קומדיה פרועה אך קלאסית, נשען על דיאלוגים קולחים ודמויות מובחנות."
     ]
    },
    {
     "name": "stderr",
     "output_type": "stream",
     "text": [
      "{\"message\": \"Loaded history for user 5796282197 from Redis.\"}\n",
      "{\"message\": \"Successfully created new chat session.\"}\n"
     ]
    },
    {
     "name": "stdout",
     "output_type": "stream",
     "text": [
      "המבקר העדיף את \"לה צ'ימרה\" וכתב שזהו קולנוע נשגב ששווה לבדו ביקור בפסטיבל ירושלים.\n",
      "\n",
      "====================\n",
      "Article ID: \n",
      "Question: אני והחבר'ה רוצים לראות סרט אימה הערב. יש משהו ממש מפחיד שאתה מכיר?\n"
     ]
    },
    {
     "name": "stderr",
     "output_type": "stream",
     "text": [
      "{\"message\": \"Loaded history for user 5796282197 from Redis.\"}\n",
      "{\"message\": \"Successfully created new chat session.\"}\n",
      "Warning: there are non-text parts in the response: ['function_call'],returning concatenated text result from text parts,check out the non text parts for full response from model.\n",
      "{\"message\": \"Processing function call: find_movie_tv_info_or_review with args: {'query': '\\u05e1\\u05e8\\u05d8 \\u05d0\\u05d9\\u05de\\u05d4 \\u05de\\u05d5\\u05de\\u05dc\\u05e5 \\u05d5\\u05de\\u05e4\\u05d7\\u05d9\\u05d3'}\"}\n",
      "{\"message\": \"Query is likely Hebrew, returning original query.\"}\n",
      "{\"message\": \"Retrieving relevant documents for query: '\\u05e1\\u05e8\\u05d8 \\u05d0\\u05d9\\u05de\\u05d4 \\u05de\\u05d5\\u05de\\u05dc\\u05e5 \\u05d5\\u05de\\u05e4\\u05d7\\u05d9\\u05d3'\"}\n",
      "{\"message\": \"Tool 'find_movie_tv_info_or_review' executed successfully for query: '\\u05e1\\u05e8\\u05d8 \\u05d0\\u05d9\\u05de\\u05d4 \\u05de\\u05d5\\u05de\\u05dc\\u05e5 \\u05d5\\u05de\\u05e4\\u05d7\\u05d9\\u05d3'. Results obtained.\"}\n",
      "{\"message\": \"Generated 1 function response parts.\"}\n"
     ]
    },
    {
     "name": "stdout",
     "output_type": "stream",
     "text": [
      "[{\"article_id\": \"0000017f-f8c7-d460-afff-fbe77d260000\", \"article_name\": \"\\\"מורעל\\\": סרט האימה המפתיע והמופרע של השנה\", \"writer_name\": [\"אורון שמיר\"]}, {\"article_id\": \"0000017f-e651-dea7-adff-f7fbfd460000\", \"article_name\": \"\\\"לבד\\\" מוכיח: די במעט אמצעים כדי שאימה תזחל במורד הצוואר שלכם\", \"writer_name\": [\"אורון שמיר\"]}]אני ממליץ על \"מורעל\", סרט אימה מטורלל ומפתיע, או על \"לבד\", מותחן אימה שמצליח להפחיד עם מעט מאוד אמצעים.\n",
      "\n",
      "איזה סוג של סרט אימה אתם מחפשים?"
     ]
    },
    {
     "name": "stderr",
     "output_type": "stream",
     "text": [
      "{\"message\": \"No history found for user 5796282198 in Redis.\"}\n",
      "{\"message\": \"Successfully created new chat session.\"}\n",
      "Warning: there are non-text parts in the response: ['function_call'],returning concatenated text result from text parts,check out the non text parts for full response from model.\n",
      "{\"message\": \"Processing function call: find_movie_tv_info_or_review with args: {'query': '\\u05d4\\u05d9\\u05d9\\u05e6\\u05e8\\u05d5\\u05ea \\u05d4\\u05d0\\u05dc\\u05d4 \\u05d4\\u05de\\u05dc\\u05e6\\u05d4'}\"}\n",
      "{\"message\": \"Query is likely Hebrew, returning original query.\"}\n",
      "{\"message\": \"Retrieving relevant documents for query: '\\u05d4\\u05d9\\u05d9\\u05e6\\u05e8\\u05d5\\u05ea \\u05d4\\u05d0\\u05dc\\u05d4 \\u05d4\\u05de\\u05dc\\u05e6\\u05d4'\"}\n",
      "{\"message\": \"Tool 'find_movie_tv_info_or_review' executed successfully for query: '\\u05d4\\u05d9\\u05d9\\u05e6\\u05e8\\u05d5\\u05ea \\u05d4\\u05d0\\u05dc\\u05d4 \\u05d4\\u05de\\u05dc\\u05e6\\u05d4'. Results obtained.\"}\n",
      "{\"message\": \"Generated 1 function response parts.\"}\n"
     ]
    },
    {
     "name": "stdout",
     "output_type": "stream",
     "text": [
      "[{\"article_id\": \"00000189-5e9c-de4e-adeb-ffbc0ef10000\", \"article_name\": \"\\\"לה צ'ימרה\\\" הוא קולנוע נשגב ששווה לבדו ביקור בפסטיבל ירושלים\", \"writer_name\": [\"אורון שמיר\"]}, {\"article_id\": \"0000018d-d2bd-d06c-abbd-dafdf6560000\", \"article_name\": \"\\\"סעי בובה\\\": מחצית מהאחים כהן בקומדיית סקס על גיבורות במנוסה\", \"writer_name\": [\"אורון שמיר\"]}]אליצ'ה רורוואכר היא במאית איטלקייה מצליחה שהסרט שלה \"הייצרות האלה\" הוא קולנוע נשגב ששווה לבדו ביקור בפסטיבל ירושלים. הסרט הוא בעל סגנון ריאליסטי-פנטסטי והצילום בפילם מעניק לסרט מראה קלאסי. הסרט ממוקם בטוסקנה של שנות ה-80, אבל לפרקים בשום-זמן."
     ]
    },
    {
     "name": "stderr",
     "output_type": "stream",
     "text": [
      "{\"message\": \"Loaded history for user 5796282198 from Redis.\"}\n",
      "{\"message\": \"Successfully created new chat session.\"}\n"
     ]
    },
    {
     "name": "stdout",
     "output_type": "stream",
     "text": [
      "המבקר העדיף את \"הייצרות האלה\". הוא תיאר אותו כ\"קולנוע נשגב ששווה לבדו ביקור בפסטיבל ירושלים\" וטען שהוא \"אחד הגדולים והמפוארים של השנה הקולנועית\".\n",
      "\n",
      "====================\n",
      "Article ID: \n",
      "Question: תגיד, יש איזה סדרת מדע בדיוני שווה בפרטנר TV או בסלקום TV?\n"
     ]
    },
    {
     "name": "stderr",
     "output_type": "stream",
     "text": [
      "{\"message\": \"Loaded history for user 5796282198 from Redis.\"}\n",
      "{\"message\": \"Successfully created new chat session.\"}\n",
      "Warning: there are non-text parts in the response: ['function_call'],returning concatenated text result from text parts,check out the non text parts for full response from model.\n",
      "{\"message\": \"Processing function call: find_movie_tv_info_or_review with args: {'query': '\\u05e1\\u05d3\\u05e8\\u05ea \\u05de\\u05d3\\u05e2 \\u05d1\\u05d3\\u05d9\\u05d5\\u05e0\\u05d9 \\u05de\\u05d5\\u05de\\u05dc\\u05e6\\u05ea \\u05d1\\u05e4\\u05e8\\u05d8\\u05e0\\u05e8 TV \\u05d0\\u05d5 \\u05d1\\u05e1\\u05dc\\u05e7\\u05d5\\u05dd TV'}\"}\n",
      "{\"message\": \"Query is likely Hebrew, returning original query.\"}\n",
      "{\"message\": \"Retrieving relevant documents for query: '\\u05e1\\u05d3\\u05e8\\u05ea \\u05de\\u05d3\\u05e2 \\u05d1\\u05d3\\u05d9\\u05d5\\u05e0\\u05d9 \\u05de\\u05d5\\u05de\\u05dc\\u05e6\\u05ea \\u05d1\\u05e4\\u05e8\\u05d8\\u05e0\\u05e8 TV \\u05d0\\u05d5 \\u05d1\\u05e1\\u05dc\\u05e7\\u05d5\\u05dd TV'\"}\n",
      "{\"message\": \"Tool 'find_movie_tv_info_or_review' executed successfully for query: '\\u05e1\\u05d3\\u05e8\\u05ea \\u05de\\u05d3\\u05e2 \\u05d1\\u05d3\\u05d9\\u05d5\\u05e0\\u05d9 \\u05de\\u05d5\\u05de\\u05dc\\u05e6\\u05ea \\u05d1\\u05e4\\u05e8\\u05d8\\u05e0\\u05e8 TV \\u05d0\\u05d5 \\u05d1\\u05e1\\u05dc\\u05e7\\u05d5\\u05dd TV'. Results obtained.\"}\n",
      "{\"message\": \"Generated 1 function response parts.\"}\n"
     ]
    },
    {
     "name": "stdout",
     "output_type": "stream",
     "text": [
      "[{\"article_id\": \"0000017f-db4a-d3a5-af7f-fbeebed30000\", \"article_name\": \"\\\"פחמן משודרג\\\": סדרת מדע בדיוני עשירה חזותית ורעיונית\", \"writer_name\": [\"חן חדד\"]}, {\"article_id\": \"00000188-18ec-db03-adbd-3cfcbc570000\", \"article_name\": \"\\\"סיילו\\\": חובבי המדע הבדיוני לא יתאכזבו הפעם\", \"writer_name\": [\"חן חדד\"]}]על פי הכתבות, \"פחמן משודרג\" (נטפליקס) ו\"סיילו\" (אפל TV+) הן סדרות מדע בדיוני מומלצות. לא צוין שהן זמינות בפרטנר TV או בסלקום TV. \"סיילו\" תוארה כמסקרנת ועמוסת טוויסטים, בעוד \"פחמן משודרג\" תוארה כעשירה חזותית ורעיונית."
     ]
    },
    {
     "name": "stderr",
     "output_type": "stream",
     "text": [
      "{\"message\": \"No history found for user 5796282199 in Redis.\"}\n",
      "{\"message\": \"Successfully created new chat session.\"}\n"
     ]
    },
    {
     "name": "stdout",
     "output_type": "stream",
     "text": [
      "אני מצטער, אני לא מוצא מידע על הסרט הזה במאמרים של הארץ."
     ]
    },
    {
     "name": "stderr",
     "output_type": "stream",
     "text": [
      "{\"message\": \"Loaded history for user 5796282199 from Redis.\"}\n",
      "{\"message\": \"Successfully created new chat session.\"}\n"
     ]
    },
    {
     "name": "stdout",
     "output_type": "stream",
     "text": [
      "אני מצטער, אני לא מוצא מידע על הסרט הזה במאמרים של הארץ.\n",
      "\n",
      "====================\n",
      "Article ID: \n",
      "Question: בא לי לראות סרט ישראלי טוב, יש משהו מומלץ לאחרונה?\n"
     ]
    },
    {
     "name": "stderr",
     "output_type": "stream",
     "text": [
      "{\"message\": \"Loaded history for user 5796282199 from Redis.\"}\n",
      "{\"message\": \"Successfully created new chat session.\"}\n",
      "Warning: there are non-text parts in the response: ['function_call'],returning concatenated text result from text parts,check out the non text parts for full response from model.\n",
      "{\"message\": \"Processing function call: find_movie_tv_info_or_review with args: {'query': '\\u05d4\\u05de\\u05dc\\u05e6\\u05d4 \\u05dc\\u05e1\\u05e8\\u05d8 \\u05d9\\u05e9\\u05e8\\u05d0\\u05dc\\u05d9 \\u05de\\u05d5\\u05de\\u05dc\\u05e5 \\u05dc\\u05d0\\u05d7\\u05e8\\u05d5\\u05e0\\u05d4'}\"}\n",
      "{\"message\": \"Query is likely Hebrew, returning original query.\"}\n",
      "{\"message\": \"Retrieving relevant documents for query: '\\u05d4\\u05de\\u05dc\\u05e6\\u05d4 \\u05dc\\u05e1\\u05e8\\u05d8 \\u05d9\\u05e9\\u05e8\\u05d0\\u05dc\\u05d9 \\u05de\\u05d5\\u05de\\u05dc\\u05e5 \\u05dc\\u05d0\\u05d7\\u05e8\\u05d5\\u05e0\\u05d4'\"}\n",
      "{\"message\": \"Tool 'find_movie_tv_info_or_review' executed successfully for query: '\\u05d4\\u05de\\u05dc\\u05e6\\u05d4 \\u05dc\\u05e1\\u05e8\\u05d8 \\u05d9\\u05e9\\u05e8\\u05d0\\u05dc\\u05d9 \\u05de\\u05d5\\u05de\\u05dc\\u05e5 \\u05dc\\u05d0\\u05d7\\u05e8\\u05d5\\u05e0\\u05d4'. Results obtained.\"}\n",
      "{\"message\": \"Generated 1 function response parts.\"}\n"
     ]
    },
    {
     "name": "stdout",
     "output_type": "stream",
     "text": [
      "[{\"article_id\": \"00000189-ed9b-d1f1-a5df-eddfbe790000\", \"article_name\": \"\\\"המזח\\\": סרט מלחמה מרשים שמראה רק צד אחד בזמן מלחמה\", \"writer_name\": [\"אורון שמיר\"]}, {\"article_id\": \"0000017f-e5a4-dea7-adff-f5ff6cea0000\", \"article_name\": \"\\\"מחילה\\\": יוצרי הלהיט הקולנועי \\\"מכתוב\\\" חוזרים עם עוד בופה של ישראליות\", \"writer_name\": [\"נתנאל שלומוביץ\"]}]אחד הסרטים המומלצים הוא \"המזח\", דרמת מלחמה המבוססת על קרב אמיתי במלחמת יום הכיפורים. הסרט מתמקד באירוע נקודתי ומתאר את הקרב של 42 חיילי המוצב תחת מצור. הביקורת מציינת שהסרט נראה ונשמע כמו סרט מלחמה עם תקציב גדול בהרבה ממה שהיה לו בפועל, ומשווה אותו ל\"בופור\" של יוסף סידר.\n",
      "\n",
      "האם תרצה לדעת פרטים נוספים על הסרט \"המזח\", או שאחפש לך סרט ישראלי אחר?\n"
     ]
    },
    {
     "name": "stderr",
     "output_type": "stream",
     "text": [
      "{\"message\": \"No history found for user 5796282200 in Redis.\"}\n",
      "{\"message\": \"Successfully created new chat session.\"}\n",
      "Warning: there are non-text parts in the response: ['function_call'],returning concatenated text result from text parts,check out the non text parts for full response from model.\n",
      "{\"message\": \"Processing function call: find_movie_tv_info_or_review with args: {'query': '\\u05d4\\u05d9\\u05d9\\u05e6\\u05e8\\u05d5\\u05ea \\u05d4\\u05d0\\u05dc\\u05d4 \\u05d4\\u05de\\u05dc\\u05e6\\u05d4'}\"}\n",
      "{\"message\": \"Query is likely Hebrew, returning original query.\"}\n",
      "{\"message\": \"Retrieving relevant documents for query: '\\u05d4\\u05d9\\u05d9\\u05e6\\u05e8\\u05d5\\u05ea \\u05d4\\u05d0\\u05dc\\u05d4 \\u05d4\\u05de\\u05dc\\u05e6\\u05d4'\"}\n",
      "{\"message\": \"Tool 'find_movie_tv_info_or_review' executed successfully for query: '\\u05d4\\u05d9\\u05d9\\u05e6\\u05e8\\u05d5\\u05ea \\u05d4\\u05d0\\u05dc\\u05d4 \\u05d4\\u05de\\u05dc\\u05e6\\u05d4'. Results obtained.\"}\n",
      "{\"message\": \"Generated 1 function response parts.\"}\n"
     ]
    },
    {
     "name": "stdout",
     "output_type": "stream",
     "text": [
      "[{\"article_id\": \"00000189-5e9c-de4e-adeb-ffbc0ef10000\", \"article_name\": \"\\\"לה צ'ימרה\\\" הוא קולנוע נשגב ששווה לבדו ביקור בפסטיבל ירושלים\", \"writer_name\": [\"אורון שמיר\"]}, {\"article_id\": \"0000018d-d2bd-d06c-abbd-dafdf6560000\", \"article_name\": \"\\\"סעי בובה\\\": מחצית מהאחים כהן בקומדיית סקס על גיבורות במנוסה\", \"writer_name\": [\"אורון שמיר\"]}]אליצ'ה רורוואכר היא במאית איטלקייה מוערכת שהסרט שלה \"הייצרות האלה\" הוא קולנוע נשגב ששווה לבדו ביקור בפסטיבל ירושלים. הסרט הוא יצירה מיסטית ומכשפת, והצילום בפילם מעניק לו מראה קלאסי. העלילה ממוקמת בטוסקנה של שנות ה-80, ועוסקת בארכיאולוג אנגלי בעל חוש למציאת עתיקות נסתרות. הסרט משלב בין מיתולוגיה רומית ופולקלור כפרי מקומי, ובוחן סוגיות מודרניות כגון מעמד האישה וכבוד החיים והמתים.\n",
      "\n",
      "האם תרצה לדעת על סרטים נוספים של אליצ'ה רורוואכר?"
     ]
    },
    {
     "name": "stderr",
     "output_type": "stream",
     "text": [
      "{\"message\": \"Loaded history for user 5796282200 from Redis.\"}\n",
      "{\"message\": \"Successfully created new chat session.\"}\n"
     ]
    },
    {
     "name": "stdout",
     "output_type": "stream",
     "text": [
      "המבקר העדיף את \"הייצרות האלה\" (\"לה צ'ימרה\") יותר מאשר את \"סעי בובה\". הוא תיאר את \"הייצרות האלה\" כ\"קולנוע נשגב ששווה לבדו ביקור בפסטיבל ירושלים\" ו\"אחד הגדולים והמפוארים של השנה הקולנועית\", בעוד שאת \"סעי בובה\" תיאר כ\"פחות טוב\" מסרטים אחרים של האחים כהן.\n",
      "\n",
      "האם תרצה לדעת על ביקורות נוספות של סרטים שהוזכרו כאן?\n",
      "\n",
      "\n",
      "====================\n",
      "Article ID: \n",
      "Question: מחפש סדרה לבינג', משהו שאפשר לטחון בסופ\"ש. ז'אנר פחות קריטי, העיקר שתהיה ממכרת.\n"
     ]
    },
    {
     "name": "stderr",
     "output_type": "stream",
     "text": [
      "{\"message\": \"Loaded history for user 5796282200 from Redis.\"}\n",
      "{\"message\": \"Successfully created new chat session.\"}\n",
      "Warning: there are non-text parts in the response: ['function_call'],returning concatenated text result from text parts,check out the non text parts for full response from model.\n",
      "{\"message\": \"Processing function call: find_movie_tv_info_or_review with args: {'query': \\\"\\u05e1\\u05d3\\u05e8\\u05d4 \\u05dc\\u05d1\\u05d9\\u05e0\\u05d2' \\u05de\\u05de\\u05db\\u05e8\\u05ea\\\"}\"}\n",
      "{\"message\": \"Query is likely Hebrew, returning original query.\"}\n",
      "{\"message\": \"Retrieving relevant documents for query: '\\u05e1\\u05d3\\u05e8\\u05d4 \\u05dc\\u05d1\\u05d9\\u05e0\\u05d2' \\u05de\\u05de\\u05db\\u05e8\\u05ea'\"}\n",
      "{\"message\": \"Tool 'find_movie_tv_info_or_review' executed successfully for query: '\\u05e1\\u05d3\\u05e8\\u05d4 \\u05dc\\u05d1\\u05d9\\u05e0\\u05d2' \\u05de\\u05de\\u05db\\u05e8\\u05ea'. Results obtained.\"}\n",
      "{\"message\": \"Generated 1 function response parts.\"}\n"
     ]
    },
    {
     "name": "stdout",
     "output_type": "stream",
     "text": [
      "[{\"article_id\": \"0000017f-deed-d3ff-a7ff-ffed32010000\", \"article_name\": \"העונה השנייה של \\\"פליבג\\\" היא מופת של טלוויזיה\", \"writer_name\": [\"חן חדד\"]}, {\"article_id\": \"0000017f-df2c-db22-a17f-ffbdc3910000\", \"article_name\": \"\\\"להרוג את איב\\\" ממשיכה להיות קטלנית\", \"writer_name\": [\"חן חדד\"]}]אני ממליץ על \"פליבג\" - העונה השנייה שלה מוגדרת כמופת של טלוויזיה, עם כתיבה מהודקת, הומור שחור ואמינות. הסדרה עוקבת אחר צעירה שמנסה להפסיק למלא את החור שבלבה בסקס מזדמן, והיא בהחלט ממכרת.\n",
      "\n",
      "אפשרות נוספת היא \"להרוג את איב\" - דרמת ריגול קצבית וממכרת עם כתיבה חדה וטוויסט נשי מרענן בז'אנר.\n",
      "\n",
      "האם תרצה לשמוע עוד על אחת מהסדרות האלה? או שאולי תרצה המלצות לסדרות בז'אנר ספציפי?\n"
     ]
    },
    {
     "name": "stderr",
     "output_type": "stream",
     "text": [
      "{\"message\": \"No history found for user 5796282201 in Redis.\"}\n",
      "{\"message\": \"Successfully created new chat session.\"}\n",
      "Warning: there are non-text parts in the response: ['function_call'],returning concatenated text result from text parts,check out the non text parts for full response from model.\n",
      "{\"message\": \"Processing function call: find_movie_tv_info_or_review with args: {'query': '\\u05dc\\u05de\\u05d4 \\u05db\\u05d3\\u05d0\\u05d9 \\u05dc\\u05d9 \\u05dc\\u05e8\\u05d0\\u05d5\\u05ea \\u05d0\\u05ea \\u05d4\\u05d9\\u05d9\\u05e6\\u05e8\\u05d5\\u05ea \\u05d4\\u05d0\\u05dc\\u05d4?'}\"}\n",
      "{\"message\": \"Query is likely Hebrew, returning original query.\"}\n",
      "{\"message\": \"Retrieving relevant documents for query: '\\u05dc\\u05de\\u05d4 \\u05db\\u05d3\\u05d0\\u05d9 \\u05dc\\u05d9 \\u05dc\\u05e8\\u05d0\\u05d5\\u05ea \\u05d0\\u05ea \\u05d4\\u05d9\\u05d9\\u05e6\\u05e8\\u05d5\\u05ea \\u05d4\\u05d0\\u05dc\\u05d4?'\"}\n",
      "{\"message\": \"Tool 'find_movie_tv_info_or_review' executed successfully for query: '\\u05dc\\u05de\\u05d4 \\u05db\\u05d3\\u05d0\\u05d9 \\u05dc\\u05d9 \\u05dc\\u05e8\\u05d0\\u05d5\\u05ea \\u05d0\\u05ea \\u05d4\\u05d9\\u05d9\\u05e6\\u05e8\\u05d5\\u05ea \\u05d4\\u05d0\\u05dc\\u05d4?'. Results obtained.\"}\n",
      "{\"message\": \"Generated 1 function response parts.\"}\n"
     ]
    },
    {
     "name": "stdout",
     "output_type": "stream",
     "text": [
      "[{\"article_id\": \"00000194-91e0-d5db-a7f5-b1ecf8a40000\", \"article_name\": \"\\\"סחורה יקרה מכל\\\": אנחנו זקוקים לסרט הזה יותר מאי פעם\", \"writer_name\": [\"פבלו אוטין\"]}, {\"article_id\": \"0000017f-e93d-df2c-a1ff-ff7d1e520000\", \"article_name\": \"\\\"סוסיתא\\\": סרט על מכונית מפוקפקת שיוצרה בשיטות מפוקפקות\", \"writer_name\": [\"נירית אנדרמן\"]}]הייתי ממליץ לך לראות את \"סחורה יקרה מכל\" בגלל שהוא סרט מרגש ויפהפה על חמלה והקרבה אנושית בעולם שבו הרוע במציאות אכזרי לא פחות מזה שבאגדות. הסרט מעורר שאלות חשובות על טבע האדם והיכולת שלנו לאהוב וחמול גם בזמנים קשים.\n",
      "\n",
      "האם תרצה שאחפש לך ביקורות נוספות על הסרט הזה או על סרטים דומים?"
     ]
    },
    {
     "name": "stderr",
     "output_type": "stream",
     "text": [
      "{\"message\": \"Loaded history for user 5796282201 from Redis.\"}\n",
      "{\"message\": \"Successfully created new chat session.\"}\n"
     ]
    },
    {
     "name": "stdout",
     "output_type": "stream",
     "text": [
      "מתוך שתי היצירות שצוינו, \"סחורה יקרה מכל\" קיבל ביקורת יותר חיובית. המבקר תיאר אותו כ\"סרט מרגש ויפהפה\", בעוד שאת \"סוסיתא\" תיאר כסרט על \"מכונית מפוקפקת שיוצרה בשיטות מפוקפקות\".\n",
      "\n",
      "====================\n",
      "Article ID: \n",
      "Question: יש סרטי דוקו מעניינים בדיסני פלוס או באפל טי וי?\n"
     ]
    },
    {
     "name": "stderr",
     "output_type": "stream",
     "text": [
      "{\"message\": \"Loaded history for user 5796282201 from Redis.\"}\n",
      "{\"message\": \"Successfully created new chat session.\"}\n",
      "Warning: there are non-text parts in the response: ['function_call'],returning concatenated text result from text parts,check out the non text parts for full response from model.\n",
      "{\"message\": \"Processing function call: find_movie_tv_info_or_review with args: {'query': '\\u05e1\\u05e8\\u05d8\\u05d9 \\u05ea\\u05e2\\u05d5\\u05d3\\u05d4 \\u05de\\u05d5\\u05de\\u05dc\\u05e6\\u05d9\\u05dd \\u05d1\\u05d3\\u05d9\\u05e1\\u05e0\\u05d9 \\u05e4\\u05dc\\u05d5\\u05e1 \\u05d0\\u05d5 \\u05d0\\u05e4\\u05dc \\u05d8\\u05d9 \\u05d5\\u05d9'}\"}\n",
      "{\"message\": \"Query is likely Hebrew, returning original query.\"}\n",
      "{\"message\": \"Retrieving relevant documents for query: '\\u05e1\\u05e8\\u05d8\\u05d9 \\u05ea\\u05e2\\u05d5\\u05d3\\u05d4 \\u05de\\u05d5\\u05de\\u05dc\\u05e6\\u05d9\\u05dd \\u05d1\\u05d3\\u05d9\\u05e1\\u05e0\\u05d9 \\u05e4\\u05dc\\u05d5\\u05e1 \\u05d0\\u05d5 \\u05d0\\u05e4\\u05dc \\u05d8\\u05d9 \\u05d5\\u05d9'\"}\n",
      "{\"message\": \"Tool 'find_movie_tv_info_or_review' executed successfully for query: '\\u05e1\\u05e8\\u05d8\\u05d9 \\u05ea\\u05e2\\u05d5\\u05d3\\u05d4 \\u05de\\u05d5\\u05de\\u05dc\\u05e6\\u05d9\\u05dd \\u05d1\\u05d3\\u05d9\\u05e1\\u05e0\\u05d9 \\u05e4\\u05dc\\u05d5\\u05e1 \\u05d0\\u05d5 \\u05d0\\u05e4\\u05dc \\u05d8\\u05d9 \\u05d5\\u05d9'. Results obtained.\"}\n",
      "{\"message\": \"Generated 1 function response parts.\"}\n"
     ]
    },
    {
     "name": "stdout",
     "output_type": "stream",
     "text": [
      "[{\"article_id\": \"0000017f-f6f1-d887-a7ff-fef5dca10000\", \"article_name\": \"\\\"הבנקאי\\\": באפל טי וי פלוס ימשיכו לחכות לסרט הגדול הראשון\", \"writer_name\": [\"אורון שמיר\"]}, {\"article_id\": \"0000017f-e942-dc91-a17f-fdcf419e0000\", \"article_name\": \"Truth Be Told: גם הסדרה הזאת לא תספק אלטרנטיבה לנטפליקס\", \"writer_name\": [\"חן חדד\"]}]אני מצטער, לא מצאתי המלצות קונקרטיות לסרטי תעודה ספציפיים בדיסני פלוס או אפל טי וי פלוס."
     ]
    },
    {
     "name": "stderr",
     "output_type": "stream",
     "text": [
      "{\"message\": \"No history found for user 5796282202 in Redis.\"}\n",
      "{\"message\": \"Successfully created new chat session.\"}\n"
     ]
    },
    {
     "name": "stdout",
     "output_type": "stream",
     "text": [
      "אני מצטער, אני לא מוצא מידע על \"הייצרות האלה\" במאמרים של הארץ. האם תוכל לתת לי שם אחר או מידע נוסף על הסרט או סדרת הטלוויזיה שאתה מחפש?\n"
     ]
    },
    {
     "name": "stderr",
     "output_type": "stream",
     "text": [
      "{\"message\": \"Loaded history for user 5796282202 from Redis.\"}\n",
      "{\"message\": \"Successfully created new chat session.\"}\n"
     ]
    },
    {
     "name": "stdout",
     "output_type": "stream",
     "text": [
      "אני מצטער, אני לא מוצא מידע על \"יצירה\" במאמרים של הארץ. האם תוכל לתת לי שם אחר או מידע נוסף על הסרט או סדרת הטלוויזיה שאתה מחפש?\n",
      "\n",
      "\n",
      "====================\n",
      "Article ID: \n",
      "Question: סתם תן המלצה לסרט טוב שראית לאחרונה, לא משנה לי הז'אנר או הפלטפורמה.\n"
     ]
    },
    {
     "name": "stderr",
     "output_type": "stream",
     "text": [
      "{\"message\": \"Loaded history for user 5796282202 from Redis.\"}\n",
      "{\"message\": \"Successfully created new chat session.\"}\n",
      "Warning: there are non-text parts in the response: ['function_call'],returning concatenated text result from text parts,check out the non text parts for full response from model.\n",
      "{\"message\": \"Processing function call: find_movie_tv_info_or_review with args: {'query': '\\u05d4\\u05de\\u05dc\\u05e6\\u05d4 \\u05dc\\u05e1\\u05e8\\u05d8 \\u05d8\\u05d5\\u05d1 \\u05e9\\u05e8\\u05d0\\u05d9\\u05ea \\u05dc\\u05d0\\u05d7\\u05e8\\u05d5\\u05e0\\u05d4'}\"}\n",
      "{\"message\": \"Query is likely Hebrew, returning original query.\"}\n",
      "{\"message\": \"Retrieving relevant documents for query: '\\u05d4\\u05de\\u05dc\\u05e6\\u05d4 \\u05dc\\u05e1\\u05e8\\u05d8 \\u05d8\\u05d5\\u05d1 \\u05e9\\u05e8\\u05d0\\u05d9\\u05ea \\u05dc\\u05d0\\u05d7\\u05e8\\u05d5\\u05e0\\u05d4'\"}\n",
      "{\"message\": \"Tool 'find_movie_tv_info_or_review' executed successfully for query: '\\u05d4\\u05de\\u05dc\\u05e6\\u05d4 \\u05dc\\u05e1\\u05e8\\u05d8 \\u05d8\\u05d5\\u05d1 \\u05e9\\u05e8\\u05d0\\u05d9\\u05ea \\u05dc\\u05d0\\u05d7\\u05e8\\u05d5\\u05e0\\u05d4'. Results obtained.\"}\n",
      "{\"message\": \"Generated 1 function response parts.\"}\n"
     ]
    },
    {
     "name": "stdout",
     "output_type": "stream",
     "text": [
      "[{\"article_id\": \"0000017f-db31-db5a-a57f-db7b992e0000\", \"article_name\": \"זאת הקומדיה הטובה של השנה - קורעת, מבריקה ומוזרה להפליא\", \"writer_name\": [\"אורון שמיר\"]}, {\"article_id\": \"0000017f-dbe1-d856-a37f-ffe160e50000\", \"article_name\": \"לראשונה זה ארבעה חודשים חזרתי לקולנוע. לא לסרט הזה פיללתי\", \"writer_name\": [\"אורי קליין\"]}]אורון שמיר ממליץ על \"בארב וסטאר יוצאות לויסטה דל מאר / עושות את פלורידה\" (Barb and Star Go To Vista Del Mar). הוא מתאר אותה כקומדיה הטובה של השנה - קורעת, מבריקה ומוזרה להפליא, ובעלת פוטנציאל להפוך לסרט פולחן.\n",
      "\n",
      "האם תרצה שאמצא ביקורות נוספות על הסרט הזה, או שאציע לך סרטים אחרים שאולי תאהב?\n"
     ]
    },
    {
     "name": "stderr",
     "output_type": "stream",
     "text": [
      "{\"message\": \"No history found for user 5796282203 in Redis.\"}\n",
      "{\"message\": \"Successfully created new chat session.\"}\n",
      "Warning: there are non-text parts in the response: ['function_call'],returning concatenated text result from text parts,check out the non text parts for full response from model.\n",
      "{\"message\": \"Processing function call: find_movie_tv_info_or_review with args: {'query': '\\u05d4\\u05de\\u05dc\\u05e6\\u05d4 \\u05e2\\u05dc \\u05f4\\u05d4\\u05d9\\u05e6\\u05d5\\u05e8\\u05d9\\u05dd \\u05d4\\u05d0\\u05dc\\u05d4\\u05f4'}\"}\n",
      "{\"message\": \"Query is likely Hebrew, returning original query.\"}\n",
      "{\"message\": \"Retrieving relevant documents for query: '\\u05d4\\u05de\\u05dc\\u05e6\\u05d4 \\u05e2\\u05dc \\u05f4\\u05d4\\u05d9\\u05e6\\u05d5\\u05e8\\u05d9\\u05dd \\u05d4\\u05d0\\u05dc\\u05d4\\u05f4'\"}\n",
      "{\"message\": \"Tool 'find_movie_tv_info_or_review' executed successfully for query: '\\u05d4\\u05de\\u05dc\\u05e6\\u05d4 \\u05e2\\u05dc \\u05f4\\u05d4\\u05d9\\u05e6\\u05d5\\u05e8\\u05d9\\u05dd \\u05d4\\u05d0\\u05dc\\u05d4\\u05f4'. Results obtained.\"}\n",
      "{\"message\": \"Generated 1 function response parts.\"}\n"
     ]
    },
    {
     "name": "stdout",
     "output_type": "stream",
     "text": [
      "[{\"article_id\": \"0000018a-b6e4-d3a1-a1eb-b7efb5c60000\", \"article_name\": \"\\\"הענקים של אי הפסחא\\\": דובר קוסאשווילי מגיע לגבהים חדשים\", \"writer_name\": [\"פבלו אוטין\"]}, {\"article_id\": \"0000017f-f590-d044-adff-f7f943eb0000\", \"article_name\": \"\\\"אלים זוטרים\\\": קובייה הונגרית קולנועית שחומקת מפתרון\", \"writer_name\": [\"נתנאל שלומוביץ\"]}]המאמר \"הענקים של אי הפסחא\": דובר קוסאשווילי מגיע לגבהים חדשים מתאר את סרטו החדש של דובר קוסאשווילי, \"הענקים של אי הפסחא\", כסרט המשלב טון נוסטלגי ועדין עם פראות סגנונית אופיינית לקוסאשווילי. מי שיצליחו להיסחף בשינויים בין הוולגרי והקריקטורי לבין העדין והריאליסטי, יגלו סרט מבוים להפליא וכובש רגשית. הסרט מבוסס על אלמנטים אוטוביוגרפיים כדי לספר את סיפורה של משפחת עולים מגאורגיה, שגרה בשכונה באור יהודה אי שם בתחילת שנות ה-80.\n",
      "\n",
      "המאמר השני, \"\"אלים זוטרים\": קובייה הונגרית קולנועית שחומקת מפתרון\" מתאר סרט דיסטופי עם נרטיב שמדלג קדימה ואחורה בלי להסגיר מה קדם למה, או מי חולם את מי. הסרט גדוש במסרים עמומים הנתונים לפרשנויות מרובות, ומבקר את תרבות הצריכה כפתרון גרוטסקי לבעיות של הנפש.\n",
      "\n",
      "האם תרצה שאחפש לך מידע נוסף על אחד מהסרטים הללו?"
     ]
    },
    {
     "name": "stderr",
     "output_type": "stream",
     "text": [
      "{\"message\": \"Loaded history for user 5796282203 from Redis.\"}\n",
      "{\"message\": \"Successfully created new chat session.\"}\n"
     ]
    },
    {
     "name": "stdout",
     "output_type": "stream",
     "text": [
      "מתוך שני המאמרים שסיפקתי, המבקר פבלו אוטין העדיף יותר את \"הענקים של אי הפסחא\". הוא מתאר אותו כסרט מבוים להפליא וכובש רגשית, ומשבח את השילוב של טון נוסטלגי ועדין עם פראות סגנונית. לעומת זאת, נתנאל שלומוביץ' תיאר את \"אלים זוטרים\" כסרט מרתק לצפייה, אך עשוי לתסכל, ורחוק מלהיות סרט מושלם.\n",
      "\n",
      "האם תרצה שאחפש השוואה מפורטת יותר בין שני הסרטים?"
     ]
    }
   ],
   "source": [
    "from src.llm_api_client import LLMClient\n",
    "from config.load_config import load_config\n",
    "\n",
    "prompts = load_config(\"config/prompts.yaml\")\n",
    "sys_instruct = prompts.get(\"system_instructions\")\n",
    "config = load_config(\"config/config.yaml\")\n",
    "llm_config = config.get(\"llm\", {})\n",
    "api_key = llm_config.get(\"GOOGLE_API_KEY\")\n",
    "model_name = llm_config.get(\"llm_model_name\")\n",
    "\n",
    "result = []\n",
    "\n",
    "import numpy as np\n",
    "counter = np.random.randint(0, 9999999999)\n",
    "\n",
    "llm_client = LLMClient(model_name=model_name, api_key=api_key, sys_instruct=sys_instruct, config=config)\n",
    "for q in combined_questions:\n",
    "    print('\\n')\n",
    "    print(\"=\"*20)\n",
    "    article_id = q.get('article_id')\n",
    "    question = q.get('question')\n",
    "    print(f\"Article ID: {article_id}\")\n",
    "    print(f\"Question: {question}\")\n",
    "    full_response = \"\"\n",
    "    async for chunk in llm_client.streaming_message(question,f'{counter}'):\n",
    "        full_response += chunk\n",
    "        print(chunk, end='', flush=True)\n",
    "    counter += 1\n",
    "\n",
    "    second_answer = \"\"\n",
    "    async for chunk in llm_client.streaming_message(second_question,f'{counter}'):\n",
    "        second_answer += chunk\n",
    "        print(chunk, end='', flush=True)\n",
    "\n",
    "\n",
    "    thierd_answer = \"\"\n",
    "    async for chunk in llm_client.streaming_message(thierd_question,f'{counter}'):\n",
    "        thierd_answer += chunk\n",
    "        print(chunk, end='', flush=True)\n",
    "\n",
    "    result.append({\n",
    "        'article_id': article_id,\n",
    "        'question': question,\n",
    "        'answer': full_response,\n",
    "        'second_answer': second_answer,\n",
    "        'thierd_answer': thierd_answer,\n",
    "    })\n",
    "    "
   ]
  },
  {
   "cell_type": "code",
   "execution_count": 7,
   "metadata": {},
   "outputs": [],
   "source": [
    "import pandas as pd\n",
    "pd.DataFrame(result).to_excel('first_question_article.xlsx', index=False)"
   ]
  },
  {
   "cell_type": "code",
   "execution_count": null,
   "metadata": {},
   "outputs": [],
   "source": []
  }
 ],
 "metadata": {
  "kernelspec": {
   "display_name": ".venv",
   "language": "python",
   "name": "python3"
  },
  "language_info": {
   "codemirror_mode": {
    "name": "ipython",
    "version": 3
   },
   "file_extension": ".py",
   "mimetype": "text/x-python",
   "name": "python",
   "nbconvert_exporter": "python",
   "pygments_lexer": "ipython3",
   "version": "3.12.8"
  }
 },
 "nbformat": 4,
 "nbformat_minor": 2
}
