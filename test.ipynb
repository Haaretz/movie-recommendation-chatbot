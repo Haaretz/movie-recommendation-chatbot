{
 "cells": [
  {
   "cell_type": "code",
   "execution_count": 1,
   "metadata": {},
   "outputs": [],
   "source": [
    "first_question_article = [\n",
    "     {'article_id': '00000194-25d6-dcc4-a1d7-3df6703c0000',\n",
    "      'question': 'אני רוצה לקרוא ביקורת על הסרט החדש של לוקה גואדנינו, זה שמבוסס על ספר של בורוז על הומו שחי במקסיקו בשנות ה-50 ומחפש גברים צעירים.'},\n",
    "      {'article_id': '00000194-2618-dd68-a3be-e6fc06680000',\n",
    "       'question': 'אני מחפש ביקורת על הסרט החדש עם ניקול קידמן, זה שהיא משחקת בו מנכ\"לית חברת רובוטיקה שיש לה רומן עם מתמחה צעיר. הסרט הוקרן בפסטיבל ונציה, איך הוא?.'\n",
    "       },\n",
    "       {'article_id': '00000194-2681-ddb6-afdd-77e781220000',\n",
    "        'question': 'אני מחפש ביקורת על הסרט החדש של עמוס גיתאי, זה שעוסק בשאלה למה יש מלחמות ומשתמש במכתבים של איינשטיין ופרויד.'\n",
    "        },\n",
    "        {'article_id': '00000194-2b97-d9c2-a79e-2bd7330c0000',\n",
    "            'question': 'אפשר בבקשה ביקורת על הסרט החדש \"נוספרטו\" של רוברט אגרס? אני רוצה לדעת אם הוא נאמן למקורות של סרטי הערפדים הקלאסיים ואיך השחקנים הראשיים, במיוחד לילי-רוז דפ, משחקים?'\n",
    "        },\n",
    "        {'article_id': '00000194-319b-d555-abbc-b1dfdf250000',\n",
    "            'question': '\"אני מחפש ביקורת על סרט חדש שמוקרן בפסטיבל חיפה, על אישה אלכוהוליסטית בשם רונה שחוזרת לאי הולדתה בסקוטלנד כדי להתמודד עם ההתמכרות שלה. מישהי כתבה על זה ביקורת?'\n",
    "        },\n",
    "        {\n",
    "            'article_id': '00000194-31db-ddaf-adb7-7bfbaf200000',\n",
    "            'question': 'אני מחפש סרט איראני חדש שמתרחש בטהרן ועוסק במשפחה שאבא שלה שופט ורואים בו גם קטעים מההפגנות שם. ראיתי שהקרינו אותו בפסטיבל חיפה'\n",
    "        },\n",
    "        {'article_id': '00000194-34df-d39d-a196-b7ff86ce0000',\n",
    "            'question': '\"אני מחפש סדרת אנימציה חדשה בנטפליקס, משהו בסגנון באפי קוטלת הערפדים אבל עם מיתולוגיה סינית. שמעתי שיש סדרה על נערה סינית-אמריקאית שנלחמת בשדים, מישהו מכיר?',\n",
    "        },\n",
    "        {\n",
    "            'article_id':\"00000194-356b-de88-a3dc-75ef26460000\",\n",
    "            'question':\"אוקיי, שמעתי על סרט חדש של שבי גביזון עם ריצ'רד גיר על אבא שמגלה שהיה לו בן שנהרג. איך קוראים לסרט ומה הוא מספר עליו?\"\n",
    "        },\n",
    "        {\n",
    "        'article_id':'00000194-4be5-dff1-a7bc-dbf57a210000',\n",
    "        'question':'אני מחפש סרט על שני בני דודים יהודים אמריקאים שנוסעים לפולין בעקבות השואה. אחד מהם משחק בסדרה \"יורשים\". מישהו כתב וביים את הסרט והוא גם שחקן בסרט \"הרשת החברתית\".',\n",
    "        },\n",
    "        {\n",
    "        'article_id':'00000194-6339-dabc-afff-6b7fb6e90000',\n",
    "        'question':'אוקיי, שמעתי שיש סדרה חדשה בנטפליקס, מין מערבון כזה אבל ממש קשוח, עם הרבה אלימות וטבח. זה על איזה אישה שמנסה לשרוד עם הבן שלה בתקופה של מלחמת יוטה והטבח בהר מדוז. מישהו יודע על מה אני מדבר?',\n",
    "        },\n",
    "        {\n",
    "        'article_id':'00000194-6e60-d9d3-a597-eeecd15d0000',\n",
    "        'question':'\"אני מחפש מידע על הסרט החדש של ארז תדמור, זה שמתרחש בשנות ה-50 ליד הכנרת ועוסק בפרטיזנים לשעבר שעובדים במפעל סודה. איך קוראים לסרט ומה העלילה שלו?',\n",
    "        },\n",
    "]\n",
    "\n",
    "first_question_genre = [\n",
    "    \"אחי, תמליץ לי על איזה סרט אקשן טוב בנטפליקס? משהו חדש יחסית.\",\n",
    "    \"מחפשת סדרה קלילה ומצחיקה, קומדיה כזאת, לא משנה לי באיזה שירות סטרימינג.\",\n",
    "    \"מה כדאי לראות עכשיו ביס פלוס? בא לי איזה משהו מתח טוב.\",\n",
    "    \"יש לך המלצה לסרט דרמה איכותי? עדיף משהו שזמין בהוט.\",\n",
    "    \"אני והחבר'ה רוצים לראות סרט אימה הערב. יש משהו ממש מפחיד שאתה מכיר?\",\n",
    "    \"תגיד, יש איזה סדרת מדע בדיוני שווה בפרטנר TV או בסלקום TV?\",\n",
    "    \"בא לי לראות סרט ישראלי טוב, יש משהו מומלץ לאחרונה?\",\n",
    "    \"מחפש סדרה לבינג', משהו שאפשר לטחון בסופ\\\"ש. ז'אנר פחות קריטי, העיקר שתהיה ממכרת.\",\n",
    "    \"יש סרטי דוקו מעניינים בדיסני פלוס או באפל טי וי?\",\n",
    "    \"סתם תן המלצה לסרט טוב שראית לאחרונה, לא משנה לי הז'אנר או הפלטפורמה.\"\n",
    "\n",
    "]\n",
    "\n",
    "genre_questions_as_dicts = [\n",
    "    {'article_id': '', 'question': q} for q in first_question_genre\n",
    "]\n",
    "\n",
    "# איחוד שתי הרשימות לרשימה אחת\n",
    "combined_questions = first_question_article + genre_questions_as_dicts\n",
    "\n",
    "second_question = 'איזה יצירה המבקר העדיף יותר?'\n",
    "thierd_question = 'אם הייתי אומר לך שאני במיוחד רגיש לסיומים מאכזבים/לא סגורים, איזו יצרה עדיפה מבין אלו שהמלצת?'\n",
    "\n"
   ]
  },
  {
   "cell_type": "code",
   "execution_count": 2,
   "metadata": {},
   "outputs": [],
   "source": [
    "# Follow-up questions appropriate after a *general* first question that returned two recommendations\n",
    "general_follow_up_questions = [\n",
    "    \"תסביר בפירוט איך הגעת להמלצה הזאת, ואיזה קטעים ספציפיים מתוך הכתבות תמכו בבחירה.\",\n",
    "    \"יש לי רתיעה מאלימות גרפית. האם הסרט שהמלצת עליו כולל סצנות כאלה? תצטט מהמקורות שלך.\",\n",
    "    \"האם יש סרט מתח ישראלי שעונה על אותם קריטריונים? נמק עם מקורות.\",\n",
    "    \"אני מעדיף סרטים קצרים (עד 100 דקות). תעדכן את ההמלצה בהתאם.\",\n",
    "    \"הסרט שהצעת כבר ראיתי. הבא המלצה אחרת, אבל שמור על הסיבות לבחירה שהצגת.\",\n",
    "    \"תן לי טריילר רשמי (YouTube) וקישור לביקורת מהשנה האחרונה.\",\n",
    "    \"אפשר להמליץ לי על סדרת טלוויזיה באותו סגנון, לפי אותם מקורות?\",\n",
    "    \"מי קהל היעד העיקרי של הסרט לפי הנתונים במקורות?\",\n",
    "    \"שכנע צופה שלא אוהב סרטי מתח מדוע כדאי לו בכל זאת לראות את הסרט שהצעת.\",\n",
    "    \"האם קיימות אזהרות תוכן (trigger warnings) רלוונטיות? הבא ציטוט מפורט.\"\n",
    "]\n",
    "\n",
    "# Follow-up questions appropriate after a *specific* first question that returned a single recommendation\n",
    "specific_follow_up_questions = [\n",
    "    \"תוכל להשוות בין הסרט שהצעת לבין ‘Seven’ מבחינת עלילה וטון?\",\n",
    "    \"האם בסרט שהמלצת יש ייצוג נשי משמעותי? צטט ביקורות שמדברות על כך.\",\n",
    "    \"מהן שלוש נקודות הביקורת העיקריות שהוזכרו נגד הסרט במקורות שהבאת?\",\n",
    "    \"אשמח לתקציר נטול ספוילרים של 100 מילים בדיוק.\",\n",
    "    \"מי מהשחקנים הראשיים היה מועמד/זכה בפרסים, ועל אילו תפקידים אחרים הם ידועים?\",\n",
    "    \"האם הסרט מבוסס על ספר? אם כן, מה ההבדלים העיקריים לפי הכתבות?\",\n",
    "    \"מהו המוטיב המרכזי (theme) ששב ועולה בביקורות, ואיך הוא בא לידי ביטוי בסצנה ספציפית?\",\n",
    "    \"האם יש פסקול בולט במיוחד? נסח ביקורת קצרה על המוזיקה וציין ציטוט ממקור.\",\n",
    "    \"מהן הנקודות שהמבקרים הכי שיבחו בצילום (cinematography)? הבא שתי דוגמאות וציטוטים.\",\n",
    "    \"מבחינת Diversity & Inclusion—האם הסרט קיבל ביקורת חיובית או שלילית? הבא נתונים.\",\n",
    "    \"האם יש Easter Eggs נסתרים שהמבקרים הזכירו? פרט שניים עם הפניות.\"\n",
    "]\n",
    "\n",
    "second_question_article = specific_follow_up_questions + general_follow_up_questions"
   ]
  },
  {
   "cell_type": "code",
   "execution_count": 3,
   "metadata": {},
   "outputs": [
    {
     "data": {
      "text/plain": [
       "11"
      ]
     },
     "execution_count": 3,
     "metadata": {},
     "output_type": "execute_result"
    }
   ],
   "source": [
    "len(first_question_article)"
   ]
  },
  {
   "cell_type": "code",
   "execution_count": 4,
   "metadata": {},
   "outputs": [
    {
     "name": "stderr",
     "output_type": "stream",
     "text": [
      "{\"asctime\": \"2025-05-04 16:03:41,217\", \"name\": \"UNKNOWN_APP_NAME_logger\", \"levelname\": \"INFO\", \"message\": \"Successfully connected to Redis.\"}\n",
      "/Users/roeishlezinger/Desktop/movie-recommendation-chatbot/src/tools/search/utillity/qdrant.py:9: UserWarning: Qdrant client version 1.13.3 is incompatible with server version 1.8.4. Major versions should match and minor version difference must not exceed 1. Set check_version=False to skip version check.\n",
      "  self.client_qdrant = QdrantClient(config)\n",
      "/Users/roeishlezinger/Desktop/movie-recommendation-chatbot/src/tools/search/utillity/qdrant.py:9: UserWarning: Qdrant client version 1.13.3 is incompatible with server version 1.8.4. Major versions should match and minor version difference must not exceed 1. Set check_version=False to skip version check.\n",
      "  self.client_qdrant = QdrantClient(config)\n",
      "2025-05-04 16:03:44.370 WARNING streamlit.runtime.scriptrunner_utils.script_run_context: Thread 'MainThread': missing ScriptRunContext! This warning can be ignored when running in bare mode.\n",
      "2025-05-04 16:03:44.372 WARNING streamlit.runtime.state.session_state_proxy: Session state does not function when running a script without `streamlit run`\n",
      "2025-05-04 16:03:44.373 WARNING streamlit.runtime.scriptrunner_utils.script_run_context: Thread 'MainThread': missing ScriptRunContext! This warning can be ignored when running in bare mode.\n",
      "{\"asctime\": \"2025-05-04 16:03:44,447\", \"name\": \"UNKNOWN_APP_NAME_logger\", \"levelname\": \"DEBUG\", \"message\": \"No history found for user 576006505 in Redis.\"}\n"
     ]
    },
    {
     "name": "stdout",
     "output_type": "stream",
     "text": [
      "\n",
      "\n",
      "====================\n",
      "Article ID: 00000194-25d6-dcc4-a1d7-3df6703c0000\n",
      "Question: אני רוצה לקרוא ביקורת על הסרט החדש של לוקה גואדנינו, זה שמבוסס על ספר של בורוז על הומו שחי במקסיקו בשנות ה-50 ומחפש גברים צעירים.\n"
     ]
    },
    {
     "name": "stderr",
     "output_type": "stream",
     "text": [
      "Warning: there are non-text parts in the response: ['function_call'],returning concatenated text result from text parts,check out the non text parts for full response from model.\n",
      "{\"asctime\": \"2025-05-04 16:03:46,393\", \"name\": \"UNKNOWN_APP_NAME_logger\", \"levelname\": \"INFO\", \"message\": \"query=הסרט החדש של לוקה גואדנינו שמבוסס על ספר של בורוז על הומו שחי במקסיקו בשנות ה-50 ומחפש גברים צעירים, streaming=[], genres=[], media_type=movie\"}\n"
     ]
    },
    {
     "name": "stdout",
     "output_type": "stream",
     "text": [
      "[{\"article_id\": \"00000194-25d6-dcc4-a1d7-3df6703c0000\", \"article_name\": \"\\\"קוויר\\\": מרתק לראות את דניאל קרייג מפגין שילוב של חולשה וגבריות יהירה\", \"writer_name\": [\"פבלו אוטין\"], \"review_type\": \"Movie\", \"genre\": [\"דרמה\"], \"distribution_platform\": [\"בתי קולנוע\"], \"short_summary\": \"קרייג מרתק בסרט עוצמתי ואנושי על בדידות ואינטימיות.\", \"summary\": \"עיבודו של לוקה גואדנינו לספרו של בורוז מתרחש במקסיקו של שנות ה-50. דניאל קרייג מגלם הומו מבוגר מחפש נחמה. הסרט נוגע ללב, עוצמתי ואנושי מאוד, למרות חריקות בימוי קלות, ועוסק בבדידות.\", \"image_vertical\": \"https://img.haarets.co.il/bs/00000194-25d6-dcc4-a1d7-3df66f3d0000/23/c1/ad00a94f4df88fba34327ab9e53c/59929309.JPG?precrop=982,1155,x295,y0\", \"author_image_square\": \"https://img.haarets.co.il/bs/00000188-aaa7-db59-a19a-feefc57d0001/ad/b1/e4ed9f91467c886286018cb59872/48874.png?precrop=1366,1366,x239,y0\", \"url\": \"https://www.haaretz.co.il/gallery/cinema/movie-reviews/2025-01-02/ty-article-review/.premium/00000194-25d6-dcc4-a1d7-3df6703c0000\"}, {\"article_id\": \"0000017f-e3db-df7c-a5ff-e3fbc9000000\", \"article_name\": \"אז איך זה נראה כשהוליווד המיינסטרימית עוסקת סוף סוף במתבגרים הומואים?\", \"writer_name\": [\"אורי קליין\"], \"review_type\": \"Movie\", \"genre\": [\"דרמה\", \"נוער והתבגרות\"], \"distribution_platform\": [\"בתי קולנוע\"], \"short_summary\": \"סרט ראשון על מתבגר הומו, סימפטי אך זהיר\", \"summary\": \"הסרט המיינסטרימי הראשון על מתבגר הומו, שהופק על ידי פוקס. סימפטי ואהוד אך ביקורתי כלפי זהירותו והליכתו על בטוח ביחס לסוגיית הזהות והיציאה מהארון.\", \"image_vertical\": \"https://img.haarets.co.il/bs/0000017f-e3db-df7c-a5ff-e3fbc8b40000/bb/a9/1e5e07f571a94e4f8a4528d9ecbc/2914203657.jpg\", \"author_image_square\": \"https://img.haarets.co.il/bs/0000017f-da2a-d249-ab7f-fbea2dce0000/78/a2/42ecfd18548356c5cf8cb359d90c/2744759269.jpg?precrop=1467,1468,x616,y0\", \"url\": \"https://www.haaretz.co.il/gallery/cinema/movie-reviews/2018-06-20/ty-article-review/.premium/0000017f-e3db-df7c-a5ff-e3fbc9000000\"}]אהלן! אני יכול לעזור לך למצוא ביקורת על הסרט החדש של לוקה גואדנינו, \"קוויר\", שמבוסס על ספרו של ויליאם ס. בורוז. מצאתי עבורך ביקורת שפורסמה בהארץ.\n",
      "\n",
      "הביקורת מתארת את הסרט כעיבוד מרתק שמציג את דניאל קרייג בשילוב של חולשה וגבריות יהירה, ובוחנת כיצד גואדנינו משלב את הסגנון הסוריאליסטי הייחודי של בורוז לאורך הסרט. היא גם נוגעת בסיפור הרקע שמאחורי כתיבת הספר והשפעתו על הסרט. נשמע מסקרן, לא?\n",
      "\n",
      "מצאתי גם ביקורת נוספת, שמשווה את הסרט \"באהבה, סיימון\" לסרטו הקודם של גואדנינו, \"קרא לי בשמך\", ודנה בייצוג להט\"בי בקולנוע המיינסטרימי.\n",
      "\n",
      "תוכל למצוא את הביקורות המלאות בלחיצה על הכותרות למעלה.\n",
      "\n",
      "אשמח לשמוע אם תרצה למצוא ביקורות על סרטים או סדרות נוספות! איזו תקופה או ז'אנר מעניינים אותך במיוחד?\n",
      "\n",
      "====================\n",
      "Second Question: תוכל להשוות בין הסרט שהצעת לבין ‘Seven’ מבחינת עלילה וטון?\n"
     ]
    },
    {
     "name": "stderr",
     "output_type": "stream",
     "text": [
      "{\"asctime\": \"2025-05-04 16:03:51,740\", \"name\": \"UNKNOWN_APP_NAME_logger\", \"levelname\": \"DEBUG\", \"message\": \"Loaded history for user 576006505 from Redis.\"}\n"
     ]
    },
    {
     "name": "stdout",
     "output_type": "stream",
     "text": [
      "אני מבין שאתה מעוניין בהשוואה בין \"קוויר\" לבין \"Seven\" מבחינת עלילה וטון.\n",
      "\n",
      "לפי המידע שיש לי מהביקורות שקישרתי אליהן מקודם, הסרט \"קוויר\" עוסק במסע חיפוש אחר נחמה וקבלה עצמית של גיבור הומו מבוגר במקסיקו של שנות ה-50, ומתמקד בתשוקה, בדידות, ואינטימיות, עם טון אנושי ועוצמתי ולעיתים סוריאליסטי.\n",
      "\n",
      "עם זאת, אין לי כרגע מידע מתוך המקורות שאני יכול להשתמש בהם על הסרט \"Seven\". לכן, אני לא יכול לבצע השוואה מעמיקה ומבוססת על המידע הזה כפי שביקשת.\n",
      "\n",
      "אם תרצה, אוכל לנסות לחפש ביקורות או מידע על \"Seven\" במקורות שלי, או שנוכל להמשיך לדבר על \"קוויר\" או סרטים אחרים שכן יש לי עליהם מידע.\n",
      "\n",
      "מה תעדיף לעשות?"
     ]
    },
    {
     "name": "stderr",
     "output_type": "stream",
     "text": [
      "2025-05-04 16:03:58.347 WARNING streamlit.runtime.scriptrunner_utils.script_run_context: Thread 'MainThread': missing ScriptRunContext! This warning can be ignored when running in bare mode.\n",
      "2025-05-04 16:03:58.349 WARNING streamlit.runtime.scriptrunner_utils.script_run_context: Thread 'MainThread': missing ScriptRunContext! This warning can be ignored when running in bare mode.\n"
     ]
    },
    {
     "name": "stdout",
     "output_type": "stream",
     "text": [
      "\n",
      "\n",
      "====================\n",
      "Article ID: 00000194-2618-dd68-a3be-e6fc06680000\n",
      "Question: אני מחפש ביקורת על הסרט החדש עם ניקול קידמן, זה שהיא משחקת בו מנכ\"לית חברת רובוטיקה שיש לה רומן עם מתמחה צעיר. הסרט הוקרן בפסטיבל ונציה, איך הוא?.\n"
     ]
    },
    {
     "name": "stderr",
     "output_type": "stream",
     "text": [
      "{\"asctime\": \"2025-05-04 16:03:58,422\", \"name\": \"UNKNOWN_APP_NAME_logger\", \"levelname\": \"DEBUG\", \"message\": \"No history found for user 576006506 in Redis.\"}\n",
      "Warning: there are non-text parts in the response: ['function_call'],returning concatenated text result from text parts,check out the non text parts for full response from model.\n",
      "{\"asctime\": \"2025-05-04 16:04:01,058\", \"name\": \"UNKNOWN_APP_NAME_logger\", \"levelname\": \"INFO\", \"message\": \"query=הסרט החדש עם ניקול קידמן על מנכ\\\"לית חברת רובוטיקה והרומן שלה עם מתמחה, שהוקרן בפסטיבל ונציה, streaming=[], genres=[], media_type=movie\"}\n"
     ]
    },
    {
     "name": "stdout",
     "output_type": "stream",
     "text": [
      "[{\"article_id\": \"00000194-2618-dd68-a3be-e6fc06680000\", \"article_name\": \"\\\"בייביגירל\\\": הסרט החדש של ניקול קידמן מגרה בעיקר את המוח\", \"writer_name\": [\"אורון שמיר\"], \"review_type\": \"Movie\", \"genre\": [\"מותחן\"], \"distribution_platform\": [\"בתי קולנוע\"], \"short_summary\": \"קידמן בוחנת גבולות במותחן ארוטי שמגרה את המוח.\", \"summary\": \"ניקול קידמן מגלמת מנכ\\\"לית קרירה הנמשכת למתמחה צעיר במותחן ארוטי. הסרט, שזיכה את קידמן בפרס בוונציה, בוחן דינמיקות כוח ותשוקה, ומגרה את המוח בנושאיו.\", \"image_vertical\": \"https://img.haarets.co.il/bs/00000194-2618-dd68-a3be-e6fc04150000/d7/ee/a956283a4dafae97faaa6b76e555/59930231.JPG?precrop=1339,1575,x729,y0\", \"author_image_square\": \"https://img.haarets.co.il/bs/00000184-dc9f-d3c9-a9a5-fd9f3f7f0001/8e/1e/784d834a44a792ba9fc12fbe9fdc/oronshamir2022.jpg?precrop=1661,1661,x90,y0\", \"url\": \"https://www.haaretz.co.il/gallery/cinema/movie-reviews/2025-01-02/ty-article-review/.premium/00000194-2618-dd68-a3be-e6fc06680000\"}, {\"article_id\": \"0000017f-e073-d804-ad7f-f1fb05d40000\", \"article_name\": \"\\\"קימי\\\" מתחיל כמו \\\"חלון אחורי\\\" ומחליף הילוך ל\\\"ראן לולה ראן\\\"\", \"writer_name\": [\"אורון שמיר\"], \"review_type\": \"Movie\", \"genre\": [\"מותחן\"], \"distribution_platform\": [\"Yes\"], \"short_summary\": \"עדה לפשע דרך בינה מלאכותית, נלחמת בחרדה וקנוניה.\", \"summary\": \"עובדת מתוחה מנטרת בינה מלאכותית. כשהיא נתקלת בפשע אלים, היא חייבת להתגבר על חרדותיה כדי לחשוף קנוניה מסוכנת. מותחן פרנויה קצבי ויעיל על עולם ללא פרטיות.\", \"image_vertical\": \"https://img.haarets.co.il/bs/0000017f-e072-d804-ad7f-f1faff050000/23/9d/68b28152995904cf694df723ec8c/108890823.jpg?precrop=1145,1344,x457,y18\", \"author_image_square\": \"https://img.haarets.co.il/bs/00000184-dc9f-d3c9-a9a5-fd9f3f7f0001/8e/1e/784d834a44a792ba9fc12fbe9fdc/oronshamir2022.jpg?precrop=1661,1661,x90,y0\", \"url\": \"https://www.haaretz.co.il/gallery/cinema/movie-reviews/2022-03-07/ty-article-review/.premium/0000017f-e073-d804-ad7f-f1fb05d40000\"}]בהחלט, מצאתי ביקורת על הסרט שאתה מחפש, שנקרא \"בייביגירל\". ניקול קידמן מגלמת בו מנכ\"לית חברת רובוטיקה שמנהלת רומן עם מתמחה צעיר. הסרט הוקרן בפסטיבל ונציה וקידמן אף זכתה בו בפרס השחקנית הטובה ביותר.\n",
      "\n",
      "הביקורת מציינת שהסרט מחזר אחר סוגת המותחן הארוטי, בדומה לסרטים משנות ה-90 כמו \"אינסטינקט בסיסי\", ומנסה להעביר את דרמת היחסים במקום העבודה דרך פילטר רגישויות המאה הנוכחית. עם זאת, נראה שהמתח בסרט דל יחסית והוא מתמקד יותר בפתולוגיה של הדמות הראשית. ניקול קידמן מגלמת את דמותה של רומי כאישה קרירה אך מינית, דימוי ששבה ומגלמת בווריאציות שונות במהלך הקריירה שלה. ההופעה שלה מתוארת כאמיצה וחשופה, אך עבורה זהו עוד יום במשרד.\n",
      "\n",
      "הביקורת מציינת שדינמיקת היחסים בין רומי למתמחה הצעיר (המגולם על ידי האריס דיקינסון) מנטרלת את גורם המתח. הסרט מציג נושאים כמו רומנים ובגידות, אישה מבוגרת וגבר צעיר, ניצול יחסי מרות ומשחקי שליטה, אך הוא אינו שערורייתי באמת. הביקורת מסכמת שהסרט מציע צפייה שמגרה בעיקר את המוח, סביב שלל הנושאים הנידונים בו, אך הוא מעורר חשקים רק אם רומן במקום העבודה נשמע כמו שיא הריגוש והפנטזיה עבור\n",
      "\n",
      "====================\n",
      "Second Question: האם בסרט שהמלצת יש ייצוג נשי משמעותי? צטט ביקורות שמדברות על כך.\n"
     ]
    },
    {
     "name": "stderr",
     "output_type": "stream",
     "text": [
      "{\"asctime\": \"2025-05-04 16:04:05,491\", \"name\": \"UNKNOWN_APP_NAME_logger\", \"levelname\": \"DEBUG\", \"message\": \"Loaded history for user 576006506 from Redis.\"}\n"
     ]
    },
    {
     "name": "stdout",
     "output_type": "stream",
     "text": [
      "על פי הביקורת שמצאתי על הסרט \"בייביגירל\", ישנן דמויות נשיות נוספות מלבד הדמות הראשית של רומי (ניקול קידמן). הביקורת מציינת:\n",
      "\n",
      "\"יש עוד נשים בסרט, למשל בנותיהם של הזוג המרכזי או העוזרת השאפתנית של רומי. מגלמת אותה סופי ויילד (\\\"נגעת נרצחת\\\") וכמו הרבה דמויות משנה היא יותר ייצוג רעיוני של ויכוחים אינטרנטיים מאשר אישה של ממש — דוגלת בקידום נשים אבל מתגלה כאינטרסנטית.\"\n",
      "\n",
      "מכאן עולה כי אמנם קיימות נשים נוספות בעלילה, אך הביקורת רואה בהן ייצוג פחות משמעותי ועמוק מדמויות גבריות אחרות בסרט.\n",
      "\n",
      "האם תרצה לשמוע על סרטים או סדרות אחרות עם ייצוג נשי משמעותי יותר לדעת המבקרים?"
     ]
    },
    {
     "name": "stderr",
     "output_type": "stream",
     "text": [
      "2025-05-04 16:04:09.337 WARNING streamlit.runtime.scriptrunner_utils.script_run_context: Thread 'MainThread': missing ScriptRunContext! This warning can be ignored when running in bare mode.\n",
      "2025-05-04 16:04:09.338 WARNING streamlit.runtime.scriptrunner_utils.script_run_context: Thread 'MainThread': missing ScriptRunContext! This warning can be ignored when running in bare mode.\n"
     ]
    },
    {
     "name": "stdout",
     "output_type": "stream",
     "text": [
      "\n",
      "\n",
      "====================\n",
      "Article ID: 00000194-2681-ddb6-afdd-77e781220000\n",
      "Question: אני מחפש ביקורת על הסרט החדש של עמוס גיתאי, זה שעוסק בשאלה למה יש מלחמות ומשתמש במכתבים של איינשטיין ופרויד.\n"
     ]
    },
    {
     "name": "stderr",
     "output_type": "stream",
     "text": [
      "{\"asctime\": \"2025-05-04 16:04:09,409\", \"name\": \"UNKNOWN_APP_NAME_logger\", \"levelname\": \"DEBUG\", \"message\": \"No history found for user 576006507 in Redis.\"}\n",
      "Warning: there are non-text parts in the response: ['function_call'],returning concatenated text result from text parts,check out the non text parts for full response from model.\n",
      "{\"asctime\": \"2025-05-04 16:04:11,154\", \"name\": \"UNKNOWN_APP_NAME_logger\", \"levelname\": \"INFO\", \"message\": \"query=ביקורת על הסרט החדש של עמוס גיתאי שעוסק בשאלה למה יש מלחמות ומשתמש במכתבים של איינשטיין ופרויד, streaming=[], genres=[], media_type=movie\"}\n"
     ]
    },
    {
     "name": "stdout",
     "output_type": "stream",
     "text": [
      "[{\"article_id\": \"00000194-2681-ddb6-afdd-77e781220000\", \"article_name\": \"\\\"למה מלחמה\\\": החדש של גיתאי מעניין, מרושל וטרחני\", \"writer_name\": [\"פבלו אוטין\"], \"review_type\": \"Movie\", \"genre\": [\"דוקומנטרי\"], \"distribution_platform\": [\"בתי קולנוע\"], \"short_summary\": \"גיתאי מהרהר על מלחמה: מעניין, מרושל וטרחני.\", \"summary\": \"בסרטו החדש, עמוס גיתאי מהרהר על מלחמה דרך טקסטים של איינשטיין ופרויד. הסרט, במבנה של מאמר ויזואלי, מעלה שאלות חשובות אך מורגש כמרושל וטרחני, ואינו מגיע לתובנות חד משמעיות.\", \"image_vertical\": \"https://img.haarets.co.il/bs/00000194-2681-ddb6-afdd-77e77a2d0000/89/f3/28b2f648441b907ac396fce2e49b/59930652.JPG?precrop=1904,2240,x658,y0\", \"author_image_square\": \"https://img.haarets.co.il/bs/00000188-aaa7-db59-a19a-feefc57d0001/ad/b1/e4ed9f91467c886286018cb59872/48874.png?precrop=1366,1366,x239,y0\", \"url\": \"https://www.haaretz.co.il/gallery/cinema/movie-reviews/2025-01-02/ty-article-review/.premium/00000194-2681-ddb6-afdd-77e781220000\"}, {\"article_id\": \"0000017f-e299-d9aa-afff-fbd97af30000\", \"article_name\": \"בחזרה לגדה המערבית: בסרט החדש של עמוס גיתאי הייאוש החליף את הזעם\", \"writer_name\": [\"אורי קליין\"], \"review_type\": \"Movie\", \"genre\": [\"דוקומנטרי\"], \"distribution_platform\": [\"בתי קולנוע\"], \"short_summary\": \"סרטו של גיתאי חוזר לגדה, מתעד ייאוש הכיבוש המתמשך.\", \"summary\": \"עמוס גיתאי חוזר בסרטו התיעודי 'מערב לירדן' לגדה המערבית. במקום זעם, הסרט מתעד ייאוש עמוק ותחושת 'אין מוצא' מהכיבוש המתמשך. כוחו דווקא בחשיפת המציאות הבלתי משתנה מאז 'יומן שדה'.\", \"image_vertical\": \"https://img.haarets.co.il/bs/0000017f-e299-d9aa-afff-fbd972c50000/ae/1f/bc7292fef1e3e0201920a76d24df/1155088251.jpg\", \"author_image_square\": \"https://img.haarets.co.il/bs/0000017f-da2a-d249-ab7f-fbea2dce0000/78/a2/42ecfd18548356c5cf8cb359d90c/2744759269.jpg?precrop=1467,1468,x616,y0\", \"url\": \"https://www.haaretz.co.il/gallery/cinema/movie-reviews/2017-11-15/ty-article-review/.premium/0000017f-e299-d9aa-afff-fbd97af30000\"}]מצאתי ביקורת על הסרט החדש של עמוס גיתאי שחיפשת, \\\"למה מלחמה\\\". הביקורת אכן מתייחסת לסרט שמתבסס על חלופת המכתבים בין אלברט איינשטיין לזיגמונד פרויד בנוגע לשאלה למה קיימות מלחמות והאם אפשר לשחרר את האנושות מהאלימות.\n",
      "\n",
      "הביקורת מתארת את הסרט כמאמר ויזואלי או הרהורים על מלחמה כמצב אנושי, שמורכב מטקסטים, דיאלוגים, מוזיקה ואמנות. מצוין שהסרט נפתח בכיכר החטופים בתל אביב ומנסה לתהות על הקשר בין תרבות למלחמה.\n",
      "\n",
      "לפי הביקורת, חלקו הגדול של הסרט מורכב ממונולוגים ארוכים המבוססים על טקסטים שונים. בעוד שהקונספט של הרהור שקט על הנושא מעניין, התוצאה, לטענת המבקר, יוצאת טרחנית ומיושנת בחלקים רבים. גם הביצוע של הסרט מתואר כמרושל במקומות מסוימים, למרות שיש בו גם רגעים ויזואליים בעלי פוטנציאל שלא תמיד ממומש.\n",
      "\n",
      "בסך הכל, הביקורת מסכמת שהסרט הוא הרהור לא מגובש או חד על השאלה הגדולה שהוא מעלה.\n",
      "\n",
      "אני מקווה שהביקורת הזו מספקת לך מידע על הסרט. האם תרצה שאחפש לך ביקורות נוספות על סרטים או סדרות אחרות?\n",
      "\n",
      "====================\n",
      "Second Question: מהן שלוש נקודות הביקורת העיקריות שהוזכרו נגד הסרט במקורות שהבאת?\n"
     ]
    },
    {
     "name": "stderr",
     "output_type": "stream",
     "text": [
      "{\"asctime\": \"2025-05-04 16:04:19,318\", \"name\": \"UNKNOWN_APP_NAME_logger\", \"levelname\": \"DEBUG\", \"message\": \"Loaded history for user 576006507 from Redis.\"}\n"
     ]
    },
    {
     "name": "stdout",
     "output_type": "stream",
     "text": [
      "בהחלט. בהתבסס על הביקורת שמצאתי על הסרט \"למה מלחמה\", אלה שלוש נקודות הביקורת העיקריות שהועלו נגדו:\n",
      "\n",
      "1.  **מלל רב וטרחני:** חלק גדול מהסרט מורכב ממונולוגים ארוכים וסצינות דיאלוג מתמשכות. הביקורת מציינת שלעיתים קרובות המלל הזה מורכב ממשפטים לא מאוד מעמיקים או מורכבים שחוזרים על עצמם, מה שיוצר תחושה טרחנית ומיושנת.\n",
      "2.  **ביצוע מרושל או עצלני:** למרות שיש בסרט רגעים ויזואליים מעניינים, הביצוע של חלק מהדימויים או הרעיונות הקולנועיים מתואר כמעט מרושל, לא מפותח מספיק או מבוצע בעצלות. למשל, הפאה של איינשטיין מוזכרת כדוגמה לגיחוך לא מכוון שפוגע ברצינות הסרט.\n",
      "3.  **הרהור לא מגובש או חד:** הסרט מציג הרהורים ושאלות על מלחמה ממגוון זוויות, אך לטענת הביקורת, הוא מותיר את הצופה עם תחושה של הרהור לא מגובש או חד, ואינו מגיע לתובנות ברורות או חד משמעיות בסופו.\n",
      "\n",
      "האם תרצה לדעת עוד פרטים מהביקורת או אולי להשוות אותה לביקורות על סרטים דוקומנטריים אחרים שעוסקים בנושאים דומים?"
     ]
    },
    {
     "name": "stderr",
     "output_type": "stream",
     "text": [
      "2025-05-04 16:04:25.206 WARNING streamlit.runtime.scriptrunner_utils.script_run_context: Thread 'MainThread': missing ScriptRunContext! This warning can be ignored when running in bare mode.\n",
      "2025-05-04 16:04:25.207 WARNING streamlit.runtime.scriptrunner_utils.script_run_context: Thread 'MainThread': missing ScriptRunContext! This warning can be ignored when running in bare mode.\n"
     ]
    },
    {
     "name": "stdout",
     "output_type": "stream",
     "text": [
      "\n",
      "\n",
      "====================\n",
      "Article ID: 00000194-2b97-d9c2-a79e-2bd7330c0000\n",
      "Question: אפשר בבקשה ביקורת על הסרט החדש \"נוספרטו\" של רוברט אגרס? אני רוצה לדעת אם הוא נאמן למקורות של סרטי הערפדים הקלאסיים ואיך השחקנים הראשיים, במיוחד לילי-רוז דפ, משחקים?\n"
     ]
    },
    {
     "name": "stderr",
     "output_type": "stream",
     "text": [
      "{\"asctime\": \"2025-05-04 16:04:25,279\", \"name\": \"UNKNOWN_APP_NAME_logger\", \"levelname\": \"DEBUG\", \"message\": \"No history found for user 576006508 in Redis.\"}\n",
      "Warning: there are non-text parts in the response: ['function_call'],returning concatenated text result from text parts,check out the non text parts for full response from model.\n",
      "{\"asctime\": \"2025-05-04 16:04:26,752\", \"name\": \"UNKNOWN_APP_NAME_logger\", \"levelname\": \"INFO\", \"message\": \"query=נוספרטו של רוברט אגרס, streaming=[], genres=[], media_type=None\"}\n"
     ]
    },
    {
     "name": "stdout",
     "output_type": "stream",
     "text": [
      "[{\"article_id\": \"00000194-2b97-d9c2-a79e-2bd7330c0000\", \"article_name\": \"\\\"נוספרטו\\\" משיב את הכבוד לסרטי הערפדים\", \"writer_name\": [\"אורון שמיר\"], \"review_type\": \"Movie\", \"genre\": [\"אימה\"], \"distribution_platform\": [\"בתי קולנוע\"], \"short_summary\": \"אגרס משיב כבוד לסרטי ערפדים, יצירת אימה גותית מצמררת.\", \"summary\": \"רוברט אגרס משיב את הכבוד לסרטי הערפדים עם 'נוספרטו' המצמרר. יצירה גותית אפלה ומהפנטת, מחווה לקלאסיקה אך מקורית, עם הופעה אייקונית של סקארסגארד. חוויה ויזואלית שמהלכת אימה.\", \"image_vertical\": \"https://img.haarets.co.il/bs/00000194-2b97-d9c2-a79e-2bd732250000/a7/fd/25216abf4c41a4255c64b223ee11/59940541.JPG?precrop=818,963,x315,y0\", \"author_image_square\": \"https://img.haarets.co.il/bs/00000184-dc9f-d3c9-a9a5-fd9f3f7f0001/8e/1e/784d834a44a792ba9fc12fbe9fdc/oronshamir2022.jpg?precrop=1661,1661,x90,y0\", \"url\": \"https://www.haaretz.co.il/gallery/cinema/movie-reviews/2025-01-03/ty-article-review/.premium/00000194-2b97-d9c2-a79e-2bd7330c0000\"}, {\"article_id\": \"00000195-d886-d1f1-a7d5-f8e6333e0000\", \"article_name\": \"\\\"אלטו נייטס\\\": אם סקורסזי היה מביים את רוברט דה נירו הסרט הזה היה טוב בהרבה\", \"writer_name\": [\"אורון שמיר\"], \"review_type\": \"Movie\", \"genre\": [\"דרמה\", \"פשע\", \"היסטורי\"], \"distribution_platform\": [\"בתי קולנוע\"], \"short_summary\": \"דה נירו כפול: הצלת סרט גנגסטרים בינוני.\", \"summary\": \"רוברט דה נירו מגלם תפקיד כפול מרשים, מנסה להציל את 'אלטו נייטס' מסרט גנגסטרים מיושן וחסר אנרגיה. למרות הופעת היחיד החזקה, הבימוי החיוור והתסריט הנדוש לא מצליחים להגיע לרמתם של קלאסיקות הז'אנר.\", \"image_vertical\": \"https://img.haarets.co.il/bs/00000195-d886-d1f1-a7d5-f8e6328c0000/68/dd/5d0c5d374585b8bb7b930a390036/60979442.JPG?precrop=918,1080,x189,y0\", \"author_image_square\": \"https://img.haarets.co.il/bs/00000184-dc9f-d3c9-a9a5-fd9f3f7f0001/8e/1e/784d834a44a792ba9fc12fbe9fdc/oronshamir2022.jpg?precrop=1661,1661,x90,y0\", \"url\": \"https://www.haaretz.co.il/gallery/cinema/movie-reviews/2025-03-27/ty-article-review/.premium/00000195-d886-d1f1-a7d5-f8e6333e0000\"}]הביקורת על \"נוספרטו\" של רוברט אגרס, תחת הכותרת \"\\\"נוספרטו\\\" משיב את הכבוד לסרטי הערפדים\", מציינת שאגרס יוצר עיבוד שהוא גם מחווה לסרט המקורי מ-1922 ולסיפור הערפדים הקלאסי, וגם בעל אמירה אישית. הבמאי מחזיר את מיתוס הערפד למקורותיו האפלים והראשוניים ביותר, ומטפל בדמות בכבוד ויראה לאחר שנים של פארודיות. הסרט כולל מחוות לקולנוע האילם והאקספרסיוניזם הגרמני, וגם אלמנטים מודרניים יותר מאימת קולנוע קלאסית. נראה שהסרט נאמן ברוחו ובתימטיקה למקורות, תוך התאמה ויצירה משלו.\n",
      "\n",
      "לגבי השחקנים הראשיים:\n",
      "ביל סקארסגארד בתפקיד הרוזן אורלוק זוכה לשבחים על גילום הדמות האייקונית, יחד עם מלאכת האיפור והבימוי החכמות שמציגות אותו בהדרגה.\n",
      "לילי-רוז דפ בתפקיד אלן, הגיבורה הצעירה, מתוארת כחוליה החלשה יחסית בביקורת. הופעתה נתפסת כ\"צעקנית\" יותר ופחות עמוקה משל עמיתיה, למרות שהתפקיד מעניין על הנייר. היא אמנם לא פוגעת ביצירה, אך לפי הביקורת מונעת ממנה להגיע למעמד של מופת מושלם.\n",
      "\n",
      "תוכל לקרוא את הביקורת המלאה לפרטים נוספים על הסרט והמשחק.\n",
      "\n",
      "יש עוד סרטים או סדרות בז'אנר הערפדים שמעניינים אותך? אולי תרצה המלצה על משהו דומה?\n",
      "\n",
      "====================\n",
      "Second Question: אשמח לתקציר נטול ספוילרים של 100 מילים בדיוק.\n"
     ]
    },
    {
     "name": "stderr",
     "output_type": "stream",
     "text": [
      "{\"asctime\": \"2025-05-04 16:04:35,408\", \"name\": \"UNKNOWN_APP_NAME_logger\", \"levelname\": \"DEBUG\", \"message\": \"Loaded history for user 576006508 from Redis.\"}\n"
     ]
    },
    {
     "name": "stdout",
     "output_type": "stream",
     "text": [
      "בטח, הנה תקציר נטול ספוילרים של הסרט \"נוספרטו\" בן 100 מילים:\n",
      "\n",
      "רוברט אגרס מציג את \"נוספרטו\", יצירת אימה גותית אפלה ומהפנטת, המתרחשת בגרמניה של שנת 1838. הסרט עוקב אחר אלן, אישה צעירה שסיוטים מפחידים רודפים אותה. כשבעלה נשלח לפגוש רוזן מסתורי בהרי הקרפטים, מתגלה רוע על-טבעי בדמות הרוזן אורלוק (ביל סקארסגארד בהופעה עוצמתית). אורלוק מתכונן למסע קטלני כדי להתאחד עם אלן ולהפיץ מגפה קטלנית בעיר. הסיפור מתפרש על דמויות נוספות ונאמן למקורות האפלים ביותר של מיתוס הערפד, תוך שילוב מחוות לקולנוע הקלאסי ולאקספרסיוניזם הגרמני ליצירת אווירה גותית עשירה וסוחפת. אגרס יוצר חוויה ויזואלית מצמררת ומהפנטת, מלאה בצללים ודימויים אפלים, החוקרת פחדים קמאיים, התנהגות אנושית ויצרים מודחקים, ומשיב כבוד לז'אנר סרטי הערפדים.\n",
      "\n",
      "מקווה שהתקציר הזה נותן לך טעימה מהסרט. תרצה לשמוע על סרטי אימה גותיים נוספים?"
     ]
    },
    {
     "name": "stderr",
     "output_type": "stream",
     "text": [
      "2025-05-04 16:05:57.730 WARNING streamlit.runtime.scriptrunner_utils.script_run_context: Thread 'MainThread': missing ScriptRunContext! This warning can be ignored when running in bare mode.\n",
      "2025-05-04 16:05:57.732 WARNING streamlit.runtime.scriptrunner_utils.script_run_context: Thread 'MainThread': missing ScriptRunContext! This warning can be ignored when running in bare mode.\n"
     ]
    },
    {
     "name": "stdout",
     "output_type": "stream",
     "text": [
      "\n",
      "\n",
      "====================\n",
      "Article ID: 00000194-319b-d555-abbc-b1dfdf250000\n",
      "Question: \"אני מחפש ביקורת על סרט חדש שמוקרן בפסטיבל חיפה, על אישה אלכוהוליסטית בשם רונה שחוזרת לאי הולדתה בסקוטלנד כדי להתמודד עם ההתמכרות שלה. מישהי כתבה על זה ביקורת?\n"
     ]
    },
    {
     "name": "stderr",
     "output_type": "stream",
     "text": [
      "{\"asctime\": \"2025-05-04 16:05:57,804\", \"name\": \"UNKNOWN_APP_NAME_logger\", \"levelname\": \"DEBUG\", \"message\": \"No history found for user 576006509 in Redis.\"}\n",
      "Warning: there are non-text parts in the response: ['function_call'],returning concatenated text result from text parts,check out the non text parts for full response from model.\n",
      "{\"asctime\": \"2025-05-04 16:06:00,171\", \"name\": \"UNKNOWN_APP_NAME_logger\", \"levelname\": \"INFO\", \"message\": \"query=סרט על אישה אלכוהוליסטית בשם רונה שחוזרת לאי הולדתה בסקוטלנד להתמודד עם ההתמכרות, הוקרן בפסטיבל חיפה, streaming=[], genres=[], media_type=movie\"}\n"
     ]
    },
    {
     "name": "stdout",
     "output_type": "stream",
     "text": [
      "[{\"article_id\": \"00000194-319b-d555-abbc-b1dfdf250000\", \"article_name\": \"\\\"הבריחה\\\": סרט מרהיב אך מוסרני ביחסו לעיר הגדולה\", \"writer_name\": [\"שני ליטמן\"], \"review_type\": \"Movie\", \"genre\": [\"דרמה\"], \"distribution_platform\": [\"בתי קולנוע\"], \"short_summary\": \"דרמה מרהיבה עם משחק נוגע ללב על התמודדות עם התמכרות.\", \"summary\": \"דרמה מרהיבה על התמודדות עם התמכרות לאלכוהול. אישה חוזרת לאי בודד בסקוטלנד להתנקות. למרות משחק מצוין של סירשה רונאן וצילומים עוצמתיים, הסרט מתקשה להחזיק עניין לכל אורכו וגולש למוסרנות.\", \"image_vertical\": \"https://img.haarets.co.il/bs/00000194-319b-d555-abbc-b1dfde760000/96/f4/e29db7074ab49763798871b5895d/59949030.JPG\", \"author_image_square\": \"https://gif.haarets.co.il/bs/00000190-6e54-dbfd-a5d1-eed787350001/ee/13/67f9ddd1443ab30a88aef14ae83b/shani.gif?precrop=1266,1266,x67,y33\", \"url\": \"https://www.haaretz.co.il/gallery/cinema/haifafilmfest/2025-01-04/ty-article-review/.premium/00000194-319b-d555-abbc-b1dfdf250000\"}, {\"article_id\": \"00000195-6c00-db55-ad95-edebef370000\", \"article_name\": \"\\\"יום באמסטרדם\\\": קומדיית סטלנים שמתגנבת ללב\", \"writer_name\": [\"אורון שמיר\"], \"review_type\": \"Movie\", \"genre\": [\"דרמה\", \"קומדיה\"], \"distribution_platform\": [\"בתי קולנוע\"], \"short_summary\": \"קומדיית סטלנים נוגעת ללב: שתי זרות בטריפ הזיה באמסטרדם.\", \"summary\": \"קומדיית סטלנים מפתיעה מרוני קידר. שתי זרות לוקחות פטריות הזיה באמסטרדם, בורחות מעצמן אך מגלים שהבעיות טסו איתן. מסע נוגע ללב על חיבור אנושי בלתי צפוי.\", \"image_vertical\": \"https://img.haarets.co.il/bs/00000195-6c02-d690-a39f-7d1f19060000/d7/ef/7e2b7eda48ffb30c9f23d003dc62/813813.jpg?precrop=1148,1350,x553,y0\", \"author_image_square\": \"https://img.haarets.co.il/bs/00000184-dc9f-d3c9-a9a5-fd9f3f7f0001/8e/1e/784d834a44a792ba9fc12fbe9fdc/oronshamir2022.jpg?precrop=1661,1661,x90,y0\", \"url\": \"https://www.haaretz.co.il/gallery/cinema/movie-reviews/2025-03-06/ty-article-review/.premium/00000195-6c00-db55-ad95-edebef370000\"}]על פי הביקורת, נראה שהסרט שאתה מחפש הוא \"הבריחה\". הוא הוקרן בפסטיבל חיפה ועוסק באישה אלכוהוליסטית בשם רונה שחוזרת לאי הולדתה בסקוטלנד כדי להתמודד עם ההתמכרות שלה. שני ליטמן כתבה עליו ביקורת.\n",
      "\n",
      "האם תרצה לדעת עוד על הסרט או על הביקורת?\n",
      "\n",
      "====================\n",
      "Second Question: מי מהשחקנים הראשיים היה מועמד/זכה בפרסים, ועל אילו תפקידים אחרים הם ידועים?\n"
     ]
    },
    {
     "name": "stderr",
     "output_type": "stream",
     "text": [
      "{\"asctime\": \"2025-05-04 16:06:02,739\", \"name\": \"UNKNOWN_APP_NAME_logger\", \"levelname\": \"DEBUG\", \"message\": \"Loaded history for user 576006509 from Redis.\"}\n"
     ]
    },
    {
     "name": "stdout",
     "output_type": "stream",
     "text": [
      "מצטערת, אין לי את המידע הזה על השחקנים בביקורות הסרטים שיש לי גישה אליהן. אני יכולה לעזור לך למצוא ביקורות או המלצות על סרטים וסדרות אחרות.\n",
      "\n",
      "האם יש ז'אנר מסוים או סוג של תוכן שמעניין אותך?"
     ]
    },
    {
     "name": "stderr",
     "output_type": "stream",
     "text": [
      "2025-05-04 16:06:05.092 WARNING streamlit.runtime.scriptrunner_utils.script_run_context: Thread 'MainThread': missing ScriptRunContext! This warning can be ignored when running in bare mode.\n",
      "2025-05-04 16:06:05.093 WARNING streamlit.runtime.scriptrunner_utils.script_run_context: Thread 'MainThread': missing ScriptRunContext! This warning can be ignored when running in bare mode.\n"
     ]
    },
    {
     "name": "stdout",
     "output_type": "stream",
     "text": [
      "\n",
      "\n",
      "====================\n",
      "Article ID: 00000194-31db-ddaf-adb7-7bfbaf200000\n",
      "Question: אני מחפש סרט איראני חדש שמתרחש בטהרן ועוסק במשפחה שאבא שלה שופט ורואים בו גם קטעים מההפגנות שם. ראיתי שהקרינו אותו בפסטיבל חיפה\n"
     ]
    },
    {
     "name": "stderr",
     "output_type": "stream",
     "text": [
      "{\"asctime\": \"2025-05-04 16:06:05,167\", \"name\": \"UNKNOWN_APP_NAME_logger\", \"levelname\": \"DEBUG\", \"message\": \"No history found for user 576006510 in Redis.\"}\n",
      "Warning: there are non-text parts in the response: ['function_call'],returning concatenated text result from text parts,check out the non text parts for full response from model.\n",
      "{\"asctime\": \"2025-05-04 16:06:06,607\", \"name\": \"UNKNOWN_APP_NAME_logger\", \"levelname\": \"INFO\", \"message\": \"query=סרט איראני חדש שמתרחש בטהרן ועוסק במשפחה שאבא שלה שופט ורואים בו גם קטעים מההפגנות שם. הוקרן בפסטיבל חיפה, streaming=[], genres=[], media_type=None\"}\n"
     ]
    },
    {
     "name": "stdout",
     "output_type": "stream",
     "text": [
      "[{\"article_id\": \"00000194-31db-ddaf-adb7-7bfbaf200000\", \"article_name\": \"\\\"זרע התאנה הקדושה\\\": העיניים צופות באיראן אבל הלב מתכווץ בגלל ישראל\", \"writer_name\": [\"נירית אנדרמן\"], \"review_type\": \"Movie\", \"genre\": [\"דרמה\"], \"distribution_platform\": null, \"short_summary\": \"איראן כמשל לישראל: דרמה משפחתית מטלטלת, עוצמתית ומדויקת.\", \"summary\": \"״זרע התאנה הקדושה״ הוא אגרוף לבטן. דרמה משפחתית מטלטלת באיראן המשלבת קטעים דוקומנטריים אלימים, יוצרת דיוקן חנוק ומדויק של דיכוי, ומהדהדת באופן מצמרר את המציאות בישראל.\", \"image_vertical\": \"https://img.haarets.co.il/bs/00000194-31db-ddaf-adb7-7bfbae720000/e5/c7/67b637f1458b882755920935d998/59948343.JPG\", \"author_image_square\": \"https://img.haarets.co.il/bs/00000183-2cc6-db8e-a7bb-3fcf27c50001/01/d6/f79dd4524287bc2d6d4150de927e/dsf9014.JPG?precrop=1513,1512,x323,y0\", \"url\": \"https://www.haaretz.co.il/gallery/cinema/haifafilmfest/2025-01-04/ty-article-review/.premium/00000194-31db-ddaf-adb7-7bfbaf200000\"}, {\"article_id\": \"00000195-6ab7-d88e-a3f7-7ebf88450000\", \"article_name\": \"\\\"זרע התאנה הקדושה\\\": לא יצירת מופת, כן צפייה הכרחית\", \"writer_name\": [\"אורון שמיר\"], \"review_type\": \"Movie\", \"genre\": [\"דרמה\", \"מותחן\"], \"distribution_platform\": [\"בתי קולנוע\"], \"short_summary\": \"דרמה איראנית מטלטלת, רלוונטית לצופה הישראלי, צפייה הכרחית.\", \"summary\": \"למרות פגמיו האמנותיים, \\\"זרע התאנה הקדושה\\\" היא דרמה איראנית עוצמתית בעלת רלוונטיות עמוקה לישראל. הסרט מתאר התפוררות משפחתית פוליטית ומציג תמרורי אזהרה בוערים. צפייה בו היא מעשה התנגדות הכרחי.\", \"image_vertical\": \"https://img.haarets.co.il/bs/00000195-6ab7-d88e-a3f7-7ebf5dd40000/df/9b/cc1aad884da792c369a752a4a9f4/60713494.JPG?precrop=3500,4119,x1927,y0\", \"author_image_square\": \"https://img.haarets.co.il/bs/00000184-dc9f-d3c9-a9a5-fd9f3f7f0001/8e/1e/784d834a44a792ba9fc12fbe9fdc/oronshamir2022.jpg?precrop=1661,1661,x90,y0\", \"url\": \"https://www.haaretz.co.il/gallery/cinema/movie-reviews/2025-03-06/ty-article-review/.premium/00000195-6ab7-d88e-a3f7-7ebf88450000\"}]בהחלט, הסרט שאתה מתאר הוא \"זרע התאנה הקדושה\" של הבמאי האיראני מוחמד רסולוף. הסרט הוצג בפסטיבל חיפה והוא עוסק במשפחה בטהרן שאב המשפחה מתמנה לשופט חוקר, במקביל להפגנות שמתרחשות ברחובות העיר.\n",
      "\n",
      "הסרט מתאר את התפוררות המשפחה על רקע המתרחש באיראן, ומשלב גם קטעים דוקומנטריים מההפגנות. הביקורות על הסרט מציינות את המשחק והבימוי המדויקים ואת המתח שנבנה בו.\n",
      "\n",
      "האם תרצה לשמוע עוד על הסרט או על סרטים דומים?\n",
      "\n",
      "====================\n",
      "Second Question: האם הסרט מבוסס על ספר? אם כן, מה ההבדלים העיקריים לפי הכתבות?\n"
     ]
    },
    {
     "name": "stderr",
     "output_type": "stream",
     "text": [
      "{\"asctime\": \"2025-05-04 16:06:09,621\", \"name\": \"UNKNOWN_APP_NAME_logger\", \"levelname\": \"DEBUG\", \"message\": \"Loaded history for user 576006510 from Redis.\"}\n"
     ]
    },
    {
     "name": "stdout",
     "output_type": "stream",
     "text": [
      "על פי הכתבות שברשותי, אין אזכור לכך שהסרט \"זרע התאנה הקדושה\" מבוסס על ספר כלשהו. הכתבות מתמקדות בסיפור העלילה כפי שהוא מוצג בסרט, בהקשר הפוליטי והחברתי שלו, ובדרך שבה הוא צולם והופץ.\n",
      "\n",
      "מכיוון שהכתבות לא מציינות בסיס ספרותי, אין לי מידע מהן על הבדלים אפשריים בין הסרט למקור כתוב.\n",
      "\n",
      "מעניין לשמוע את דעתך - האם לדעתך יש בסרט אלמנטים שנראים כאילו לקוחים מספר?"
     ]
    },
    {
     "name": "stderr",
     "output_type": "stream",
     "text": [
      "2025-05-04 16:06:13.981 WARNING streamlit.runtime.scriptrunner_utils.script_run_context: Thread 'MainThread': missing ScriptRunContext! This warning can be ignored when running in bare mode.\n",
      "2025-05-04 16:06:13.983 WARNING streamlit.runtime.scriptrunner_utils.script_run_context: Thread 'MainThread': missing ScriptRunContext! This warning can be ignored when running in bare mode.\n"
     ]
    },
    {
     "name": "stdout",
     "output_type": "stream",
     "text": [
      "\n",
      "\n",
      "====================\n",
      "Article ID: 00000194-34df-d39d-a196-b7ff86ce0000\n",
      "Question: \"אני מחפש סדרת אנימציה חדשה בנטפליקס, משהו בסגנון באפי קוטלת הערפדים אבל עם מיתולוגיה סינית. שמעתי שיש סדרה על נערה סינית-אמריקאית שנלחמת בשדים, מישהו מכיר?\n"
     ]
    },
    {
     "name": "stderr",
     "output_type": "stream",
     "text": [
      "{\"asctime\": \"2025-05-04 16:06:14,059\", \"name\": \"UNKNOWN_APP_NAME_logger\", \"levelname\": \"DEBUG\", \"message\": \"No history found for user 576006511 in Redis.\"}\n",
      "Warning: there are non-text parts in the response: ['function_call'],returning concatenated text result from text parts,check out the non text parts for full response from model.\n",
      "{\"asctime\": \"2025-05-04 16:06:19,523\", \"name\": \"UNKNOWN_APP_NAME_logger\", \"levelname\": \"INFO\", \"message\": \"query=סדרת אנימציה בנטפליקס בסגנון באפי קוטלת הערפדים עם מיתולוגיה סינית על נערה סינית-אמריקאית שנלחמת בשדים, streaming=['Netflix'], genres=['אנימציה', 'על־טבעי'], media_type=series\"}\n"
     ]
    },
    {
     "name": "stdout",
     "output_type": "stream",
     "text": [
      "[{\"article_id\": \"00000194-34df-d39d-a196-b7ff86ce0000\", \"article_name\": \"\\\"ג'נטרי צ'או\\\": פנינת אנימציה שחלפה מתחת לרדאר בנטפליקס\", \"writer_name\": [\"חן חדד\"], \"review_type\": \"Series\", \"genre\": [\"אנימציה\", \"על־טבעי\"], \"distribution_platform\": [\"Netflix\"], \"short_summary\": \"פנינת אנימציה כיפית בנטפליקס, עם דמויות מורכבות וסטייל.\", \"summary\": \"סדרת אנימציה כיפית בנטפליקס. עלילה שלא חוששת מדמויות פגומות ורגעים מורכבים, עם השפעות מ\\\"באפי קוטלת הערפדים\\\" ופולקלור סיני מרתק. כוללת דמויות נהדרות ויחסים מרתקים.\", \"image_vertical\": \"https://img.haarets.co.il/bs/00000194-34df-d39d-a196-b7ff837e0000/5a/9c/89159b404f379059506acf544adf/59953602.JPG?precrop=2939,3458,x2818,y0\", \"author_image_square\": \"https://img.haarets.co.il/bs/0000017f-da31-d718-a5ff-fab5e98c0000/fd/01/b40e6111d78f7c7a20a7e88c27fc/3306098334.jpg?precrop=728,728,x0,y0\", \"url\": \"https://www.haaretz.co.il/gallery/television/tv-review/2025-01-05/ty-article-review/.highlight/00000194-34df-d39d-a196-b7ff86ce0000\"}, {\"article_id\": \"0000017f-e265-d804-ad7f-f3ff7a4f0000\", \"article_name\": \"\\\"יאסוקה\\\": הסמוראי השחור הראשון ביפן הגיע לנטפליקס\", \"writer_name\": [\"חן חדד\"], \"review_type\": \"Series\", \"genre\": [\"אנימציה\", \"פנטזיה\"], \"distribution_platform\": [\"Netflix\"], \"short_summary\": \"אנימה סוחפת על סמוראי שחור עם אסתטיקה ואווירה ייחודית.\", \"summary\": \"\\\"יאסוקה\\\", אנימת פנטזיה והיסטוריה של נטפליקס, עוקבת אחר הסמוראי השחור הראשון. היא מציעה אנימציה ואווירה ייחודיות ופסקול מצוין. למרות פגמים, חוויה סוחפת ומומלצת לחובבי אנימה.\", \"image_vertical\": \"https://img.haarets.co.il/bs/0000017f-e265-d804-ad7f-f3ff79e20000/e7/e0/bc04c0e176a8f084a5bbc878393a/3519272924.jpg?precrop=732,860,x692,y0\", \"author_image_square\": \"https://img.haarets.co.il/bs/0000017f-da31-d718-a5ff-fab5e98c0000/fd/01/b40e6111d78f7c7a20a7e88c27fc/3306098334.jpg?precrop=728,728,x0,y0\", \"url\": \"https://www.haaretz.co.il/gallery/television/tv-review/2021-05-04/ty-article-review/.highlight/0000017f-e265-d804-ad7f-f3ff7a4f0000\"}]נשמע שאתה מחפש את הסדרה \"ג'נטרי צ'או נגד המפלצות\" (Jentry Chau vs. The Underworld) בנטפליקס! מדובר בפנינת אנימציה שמשלבת את סגנון \"באפי קוטלת הערפדים\" עם פולקלור סיני מרתק. העלילה עוקבת אחר ג'נטרי צ'או, נערה סינית-אמריקאית עם כוחות מיוחדים הנלחמת בשדים מהשאול. הסדרה מצחיקה וקודרת כאחד, ויש בה דמויות מורכבות ויחסים מעניינים, במיוחד בין ג'נטרי לדודה-רבתא שלה. היא נוטפת סטייל, עשירה באסתטיקה ייחודית וכוללת גם סצינות קרב מסוגננות והומור קליל.\n",
      "\n",
      "האם תרצה לשמוע על סדרות אנימציה נוספות או אולי על סרטים בסגנון דומה?"
     ]
    },
    {
     "name": "stderr",
     "output_type": "stream",
     "text": [
      "{\"asctime\": \"2025-05-04 16:06:22,467\", \"name\": \"UNKNOWN_APP_NAME_logger\", \"levelname\": \"DEBUG\", \"message\": \"Loaded history for user 576006511 from Redis.\"}\n"
     ]
    },
    {
     "name": "stdout",
     "output_type": "stream",
     "text": [
      "\n",
      "\n",
      "====================\n",
      "Second Question: מהו המוטיב המרכזי (theme) ששב ועולה בביקורות, ואיך הוא בא לידי ביטוי בסצנה ספציפית?\n",
      "בהחלט! בהתבסס על הביקורות שסיפקתי, מוטיב מרכזי ששב ועולה הוא **השילוב בין רקע תרבותי או היסטורי ייחודי לבין עולם של פנטזיה ועל-טבעי, והאופן שבו הגיבורים מתמודדים עם זהותם, עברם הטראומטי או הקונפליקטים המשפחתיים שלהם בתוך העולם הזה**.\n",
      "\n",
      "בסדרה \"ג'נטרי צ'או נגד המפלצות\", המוטיב הזה בא לידי ביטוי, למשל, בתיאור אירוע המפתח מעברה של ג'נטרי: כפי שמצוין בביקורת, ביום הולדתה ה-16 מסופר ששמונה שנים קודם לכן, כשהייתה בת שמונה, היא חוותה רגע של לחץ ובלבול שגרם לכוחותיה להתפרץ ולהוביל לשריפה גדולה. כדי להגן עליה, היא נשלחה לסיאול וניסתה להשאיר את העבר מאחוריה. מאוחר יותר בסדרה היא מגלה את סיפור הרקע הסבוך והטראומטי שהוביל לקבלת כוחותיה.\n",
      "\n",
      "האירוע הזה וגילויי העבר שבאים בעקבותיו ממחישים בדיוק את השילוב:\n",
      "1.  **רקע תרבותי/זהות:** ג'נטרי היא נערה סינית-אמריקאית, והסדרה משלבת פולקלור סיני מרתק. עברה קשור גם לשהותה בארה\"ב וגם למשפחתה ודודתה, שקשורות לצד העל-טבעי בחייה.\n",
      "2.  **פנטזיה ועל-טבעי:** הכוחות שלה והשריפה שנגרמה על ידם הם אלמנטים על-טבעיים. המאבק בשדים והפורטל לשאול ממשיכים את קו הפנטזיה.\n",
      "3.  **התמודדות עם עבר טראומטי וזהות:** האירוע הטראומטי כילדה הוא נקודת המפנה שעיצבה את חייה, הובילה להסתרת כוחותיה ולניתוק ממשפחתה וחלק מזהותה. חשיפת הסודות סביב האירוע הזה היא חלק מרכזי במסע שלה להתמודדות עם מי שהיא.\n",
      "\n",
      "הסדרה שוזרת את הקונפליקטים המשפחתיים ושאלות על זהות ואנושיות יחד עם סצינות הקרב וההומור, מה שמבליט את המוטיב המרכזי של התמודדות אישית עמוקה בתוך עולם פנטסטי.\n",
      "\n",
      "האם תרצה לדעת עוד על האופן שבו הסדרה משלבת פולקלור סיני?"
     ]
    },
    {
     "name": "stderr",
     "output_type": "stream",
     "text": [
      "2025-05-04 16:06:44.001 WARNING streamlit.runtime.scriptrunner_utils.script_run_context: Thread 'MainThread': missing ScriptRunContext! This warning can be ignored when running in bare mode.\n",
      "2025-05-04 16:06:44.004 WARNING streamlit.runtime.scriptrunner_utils.script_run_context: Thread 'MainThread': missing ScriptRunContext! This warning can be ignored when running in bare mode.\n"
     ]
    },
    {
     "name": "stdout",
     "output_type": "stream",
     "text": [
      "\n",
      "\n",
      "====================\n",
      "Article ID: 00000194-356b-de88-a3dc-75ef26460000\n",
      "Question: אוקיי, שמעתי על סרט חדש של שבי גביזון עם ריצ'רד גיר על אבא שמגלה שהיה לו בן שנהרג. איך קוראים לסרט ומה הוא מספר עליו?\n"
     ]
    },
    {
     "name": "stderr",
     "output_type": "stream",
     "text": [
      "{\"asctime\": \"2025-05-04 16:06:44,077\", \"name\": \"UNKNOWN_APP_NAME_logger\", \"levelname\": \"DEBUG\", \"message\": \"No history found for user 576006512 in Redis.\"}\n",
      "Warning: there are non-text parts in the response: ['function_call'],returning concatenated text result from text parts,check out the non text parts for full response from model.\n",
      "{\"asctime\": \"2025-05-04 16:06:46,656\", \"name\": \"UNKNOWN_APP_NAME_logger\", \"levelname\": \"INFO\", \"message\": \"query=סרט חדש של שבי גביזון עם ריצ'רד גיר על אבא שמגלה שהיה לו בן שנהרג. איך קוראים לסרט ומה הוא מספר עליו?, streaming=[], genres=[], media_type=movie\"}\n"
     ]
    },
    {
     "name": "stdout",
     "output_type": "stream",
     "text": [
      "[{\"article_id\": \"00000194-356b-de88-a3dc-75ef26460000\", \"article_name\": \"\\\"געגוע\\\": שבי גביזון מגלה צדדים שעוד לא הכרנו בריצ'רד גיר\", \"writer_name\": [\"שני ליטמן\"], \"review_type\": \"Movie\", \"genre\": [\"דרמה\"], \"distribution_platform\": [\"בתי קולנוע\"], \"short_summary\": \"\\\"געגוע\\\": דרמה מרגשת עם ריצ'רד גיר ותסריט מבריק.\", \"summary\": \"ריצ'רד גיר מגלם אב המגלה על בנו שמת בדרמה \\\"געגוע\\\". הסרט מציג מסע לגילוי זהותו של הבן עם תסריט מבריק החושף צדדים חדשים בגיר.\", \"image_vertical\": \"https://img.haarets.co.il/bs/00000194-356b-de88-a3dc-75ef25a80000/82/e8/9590dd9443f799f49323bfc04749/59954676.JPG?precrop=1417,1667,x489,y0\", \"author_image_square\": \"https://gif.haarets.co.il/bs/00000190-6e54-dbfd-a5d1-eed787350001/ee/13/67f9ddd1443ab30a88aef14ae83b/shani.gif?precrop=1266,1266,x67,y33\", \"url\": \"https://www.haaretz.co.il/gallery/cinema/haifafilmfest/2025-01-05/ty-article-review/.premium/00000194-356b-de88-a3dc-75ef26460000\"}, {\"article_id\": \"00000195-4693-df18-a1fd-ced3e2790000\", \"article_name\": \"\\\"געגוע\\\": לא ברור למה שבי גביזון עשה רימייק לסרט שלו\", \"writer_name\": [\"אורון שמיר\"], \"review_type\": \"Movie\", \"genre\": [\"דרמה\"], \"distribution_platform\": [\"בתי קולנוע\"], \"short_summary\": \"רימייק תמוה ומעושה לסרט ישראלי, עם שחקנים תלושים.\", \"summary\": \"שבי גביזון עושה רימייק לסרטו הישראלי \\\"געגוע\\\" עם ריצ'רד גיר ודיאן קרוגר. הסרט מרגיש מלאכותי ומנותק רגשית, נופל מהמקור ועם ליהוקים תמוהים, למרות הפתיחה המוצלחת בשתי הגרסאות.\", \"image_vertical\": \"https://img.haarets.co.il/bs/00000195-4693-df18-a1fd-ced3e1920000/a5/7e/8e9b30214bc3a2598e9d0a93bd7d/60616008.JPG?precrop=1417,1667,x511,y0\", \"author_image_square\": \"https://img.haarets.co.il/bs/00000184-dc9f-d3c9-a9a5-fd9f3f7f0001/8e/1e/784d834a44a792ba9fc12fbe9fdc/oronshamir2022.jpg?precrop=1661,1661,x90,y0\", \"url\": \"https://www.haaretz.co.il/gallery/cinema/movie-reviews/2025-02-27/ty-article-review/.premium/00000195-4693-df18-a1fd-ced3e2790000\"}]הסרט ששמעת עליו נקרא \"געגוע\" (Longing). זהו סרטו החדש של שבי גביזון, ובגרסה הזו מככב בו ריצ'רד גיר בתפקיד הראשי.\n",
      "\n",
      "הסרט מספר על דניאל, איש עסקים ניו יורקי שמגלה שאהובת עבר ילדה לו בן לפני 19 שנים, מבלי שסיפרה לו. את הבשורה הוא מקבל דווקא אחרי שהבן המשותף שלהם, אלן, נהרג בתאונת דרכים. דניאל, שלכאורה לא רצה ילדים מעולם, נוסע לקנדה, שם חי בנו עם אמו, כדי להשתתף בטקס הזיכרון. הביקור הקצר המתוכנן הופך למסע בלשי רגשי שבו הוא מנסה לגלות מי היה בנו דרך האנשים שהיו קרובים אליו. הסרט עוסק בנושאי החמצה, התמודדות עם כאב, וניסיון נואש לפצות על הזמן האבוד.\n",
      "\n",
      "האם יש עוד משהו שתרצה לדעת על הסרט, או אולי תרצה המלצות לסרטים נוספים בנושאי משפחה או דרמה?\n",
      "\n",
      "====================\n",
      "Second Question: האם יש פסקול בולט במיוחד? נסח ביקורת קצרה על המוזיקה וציין ציטוט ממקור.\n"
     ]
    },
    {
     "name": "stderr",
     "output_type": "stream",
     "text": [
      "{\"asctime\": \"2025-05-04 16:06:52,065\", \"name\": \"UNKNOWN_APP_NAME_logger\", \"levelname\": \"DEBUG\", \"message\": \"Loaded history for user 576006512 from Redis.\"}\n"
     ]
    },
    {
     "name": "stdout",
     "output_type": "stream",
     "text": [
      "חיפשתי בביקורות שברשותי מידע על הפסקול של הסרט \"געגוע\", אך לצערי הביקורות שקראתי אינן מתייחסות באופן ספציפי למוזיקה או לפסקול של הסרט. הן מתמקדות יותר בעלילה, במשחק, ובסגנון הבימוי.\n",
      "\n",
      "מאחר שאני יכול לספק מידע רק מתוך המקורות שעומדים לרשותי, אין לי אפשרות לנסח ביקורת קצרה על המוזיקה או לציין ציטוט רלוונטי בנושא זה.\n",
      "\n",
      "האם תרצה לשמוע עוד על היבטים אחרים של הסרט לפי הביקורות, או שאולי תרצה המלצה על סרט או סדרה אחרת?"
     ]
    },
    {
     "name": "stderr",
     "output_type": "stream",
     "text": [
      "2025-05-04 16:06:57.114 WARNING streamlit.runtime.scriptrunner_utils.script_run_context: Thread 'MainThread': missing ScriptRunContext! This warning can be ignored when running in bare mode.\n",
      "2025-05-04 16:06:57.116 WARNING streamlit.runtime.scriptrunner_utils.script_run_context: Thread 'MainThread': missing ScriptRunContext! This warning can be ignored when running in bare mode.\n"
     ]
    },
    {
     "name": "stdout",
     "output_type": "stream",
     "text": [
      "\n",
      "\n",
      "====================\n",
      "Article ID: 00000194-4be5-dff1-a7bc-dbf57a210000\n",
      "Question: אני מחפש סרט על שני בני דודים יהודים אמריקאים שנוסעים לפולין בעקבות השואה. אחד מהם משחק בסדרה \"יורשים\". מישהו כתב וביים את הסרט והוא גם שחקן בסרט \"הרשת החברתית\".\n"
     ]
    },
    {
     "name": "stderr",
     "output_type": "stream",
     "text": [
      "{\"asctime\": \"2025-05-04 16:06:57,188\", \"name\": \"UNKNOWN_APP_NAME_logger\", \"levelname\": \"DEBUG\", \"message\": \"No history found for user 576006513 in Redis.\"}\n"
     ]
    },
    {
     "name": "stdout",
     "output_type": "stream",
     "text": [
      "מעולה, זה נשמע כמו חיפוש אחר סרט ספציפי מאוד. אני יכול לעזור לך למצוא את הסרט שאתה מתאר.\n",
      "\n",
      "\n",
      "\n",
      "====================\n",
      "Second Question: מהן הנקודות שהמבקרים הכי שיבחו בצילום (cinematography)? הבא שתי דוגמאות וציטוטים.\n"
     ]
    },
    {
     "name": "stderr",
     "output_type": "stream",
     "text": [
      "{\"asctime\": \"2025-05-04 16:06:59,298\", \"name\": \"UNKNOWN_APP_NAME_logger\", \"levelname\": \"DEBUG\", \"message\": \"Loaded history for user 576006513 from Redis.\"}\n"
     ]
    },
    {
     "name": "stdout",
     "output_type": "stream",
     "text": [
      "עצמי אחפש את המידע הזה עבורך במאמרי הביקורת שברשותי.\n",
      "\n"
     ]
    },
    {
     "name": "stderr",
     "output_type": "stream",
     "text": [
      "Warning: there are non-text parts in the response: ['function_call'],returning concatenated text result from text parts,check out the non text parts for full response from model.\n",
      "{\"asctime\": \"2025-05-04 16:07:14,571\", \"name\": \"UNKNOWN_APP_NAME_logger\", \"levelname\": \"INFO\", \"message\": \"query=סרט על שני בני דודים יהודים אמריקאים שנוסעים לפולין בעקבות השואה. אחד מהם משחק בסדרה יורשים. מישהו כתב וביים את הסרט והוא גם שחקן בסרט הרשת החברתית., streaming=[], genres=[], media_type=None\"}\n"
     ]
    },
    {
     "name": "stdout",
     "output_type": "stream",
     "text": [
      "[{\"article_id\": \"00000194-4be5-dff1-a7bc-dbf57a210000\", \"article_name\": \"\\\"כאב אמיתי\\\": סיור שואה קולנועי לקהל שלא רוצה להזדעזע יותר מדי\", \"writer_name\": [\"אורון שמיר\"], \"review_type\": \"Movie\", \"genre\": [\"דרמה\", \"קומדיה\"], \"distribution_platform\": [\"בתי קולנוע\"], \"short_summary\": \"מסע שורשים בפולין: בני דודים יהודים אמריקאים, דרמה קומית רגישה.\", \"summary\": \"בני דודים יהודים-אמריקאים במסע מרגש ומשעשע לפולין בעקבות זכר השואה. דרמה קומית רגישה בוחנת כאב בין-דורי ודינמיקה משפחתית, דרך נקודת מבט חיצונית על תיירות זיכרון.\", \"image_vertical\": \"https://img.haarets.co.il/bs/00000194-4be5-dff1-a7bc-dbf5776a0000/1b/8c/d56ca20843bfa5d4a6ee868a0664/60011877.JPG\", \"author_image_square\": \"https://img.haarets.co.il/bs/00000184-dc9f-d3c9-a9a5-fd9f3f7f0001/8e/1e/784d834a44a792ba9fc12fbe9fdc/oronshamir2022.jpg?precrop=1661,1661,x90,y0\", \"url\": \"https://www.haaretz.co.il/gallery/cinema/movie-reviews/2025-01-09/ty-article-review/.premium/00000194-4be5-dff1-a7bc-dbf57a210000\"}, {\"article_id\": \"0000018f-46f3-d414-a5bf-f7f75bfa0000\", \"article_name\": \"\\\"היינו בני המזל\\\": דרמה מרגשת על אהבה ומשפחה בימים חשוכים\", \"writer_name\": [\"חן חדד\"], \"review_type\": \"Series\", \"genre\": [\"דרמה\"], \"distribution_platform\": [\"Disney+\"], \"short_summary\": \"דרמה מרגשת ונוגעת ללב על אהבה ומשפחה.\", \"summary\": \"עיבוד מרגש לסיפור אמיתי על משפחת קורץ היהודית ששרדה את השואה. דרמה נוגעת ללב על אהבה ומשפחה, עם קאסט טוב הכולל שחקנים ישראלים בולטים, המצליחה ללכוד אפקט רגשי חזק.\", \"image_vertical\": \"https://img.haarets.co.il/bs/0000018f-46f3-d414-a5bf-f7f75a130000/23/64/c934b4c04b32854f53bfff7f9831/56659268.JPG?precrop=1131,1331,x753,y0\", \"author_image_square\": \"https://img.haarets.co.il/bs/0000017f-da31-d718-a5ff-fab5e98c0000/fd/01/b40e6111d78f7c7a20a7e88c27fc/3306098334.jpg?precrop=728,728,x0,y0\", \"url\": \"https://www.haaretz.co.il/gallery/television/tv-review/2024-05-05/ty-article-review/.highlight/0000018f-46f3-d414-a5bf-f7f75bfa0000\"}]על פי הביקורת שברשותי על הסרט \"כאב אמיתי\", המבקר התמקד בעיקר בהיבטים הסיפוריים, הרגשיים, הכתיבה והמשחק, ופחות בצדדים הטכניים כמו הצילום. למעשה, הביקורת מציינת שהסרט אינו מאתגר את המוסכמות מבחינה אמנותית.\n",
      "\n",
      "לכן, אין לי מידע ספציפי בביקורת זו על נקודות בצילום שהמבקרים שיבחו במיוחד.\n",
      "\n",
      "אולי תרצה לשאול על היבטים אחרים של הסרט, כמו המשחק או התסריט? או שאולי תרצה המלצה על סרט אחר?"
     ]
    },
    {
     "name": "stderr",
     "output_type": "stream",
     "text": [
      "2025-05-04 16:07:21.140 WARNING streamlit.runtime.scriptrunner_utils.script_run_context: Thread 'MainThread': missing ScriptRunContext! This warning can be ignored when running in bare mode.\n",
      "2025-05-04 16:07:21.141 WARNING streamlit.runtime.scriptrunner_utils.script_run_context: Thread 'MainThread': missing ScriptRunContext! This warning can be ignored when running in bare mode.\n",
      "{\"asctime\": \"2025-05-04 16:07:21,214\", \"name\": \"UNKNOWN_APP_NAME_logger\", \"levelname\": \"DEBUG\", \"message\": \"No history found for user 576006514 in Redis.\"}\n"
     ]
    },
    {
     "name": "stdout",
     "output_type": "stream",
     "text": [
      "\n",
      "\n",
      "====================\n",
      "Article ID: 00000194-6339-dabc-afff-6b7fb6e90000\n",
      "Question: אוקיי, שמעתי שיש סדרה חדשה בנטפליקס, מין מערבון כזה אבל ממש קשוח, עם הרבה אלימות וטבח. זה על איזה אישה שמנסה לשרוד עם הבן שלה בתקופה של מלחמת יוטה והטבח בהר מדוז. מישהו יודע על מה אני מדבר?\n"
     ]
    },
    {
     "name": "stderr",
     "output_type": "stream",
     "text": [
      "Warning: there are non-text parts in the response: ['function_call'],returning concatenated text result from text parts,check out the non text parts for full response from model.\n",
      "{\"asctime\": \"2025-05-04 16:07:23,211\", \"name\": \"UNKNOWN_APP_NAME_logger\", \"levelname\": \"INFO\", \"message\": \"query=סדרה חדשה בנטפליקס מערבון קשוח אלימות טבח אישה ובן הישרדות מלחמת יוטה הטבח בהר מדוז, streaming=[], genres=[], media_type=None\"}\n"
     ]
    },
    {
     "name": "stdout",
     "output_type": "stream",
     "text": [
      "[{\"article_id\": \"00000194-6339-dabc-afff-6b7fb6e90000\", \"article_name\": \"\\\"אדמה סוררת\\\": למערבון החדש של נטפליקס יש אפקט מטלטל\", \"writer_name\": [\"חן חדד\"], \"review_type\": \"Series\", \"genre\": [\"דרמה\"], \"distribution_platform\": [\"Netflix\"], \"short_summary\": \"דרמת מערבון מטלטלת על ההיסטוריה האלימה של ארה\\\"ב.\", \"summary\": \"דרמת מערבון מטלטלת מנטפליקס, שואבת השראה מאירועים היסטוריים אלימים. הסדרה מציגה אלימות קשה, אך מציעה משחק נוגע ללב ופירוק מיתוסים אמריקאיים בצורה מרתקת.\", \"image_vertical\": \"https://img.haarets.co.il/bs/00000194-6341-dd03-ab96-77d1ad0c0001/80/cf/7749500e4ca2ad3993828ff999e8/emun.jpg?precrop=319,375,x103,y0\", \"author_image_square\": \"https://img.haarets.co.il/bs/0000017f-da31-d718-a5ff-fab5e98c0000/fd/01/b40e6111d78f7c7a20a7e88c27fc/3306098334.jpg?precrop=728,728,x0,y0\", \"url\": \"https://www.haaretz.co.il/gallery/television/tv-review/2025-01-14/ty-article-review/.highlight/00000194-6339-dabc-afff-6b7fb6e90000\"}, {\"article_id\": \"00000189-b543-d2ad-afb9-bf435c9c0000\", \"article_name\": \"\\\"הדוב\\\", עונה 2: מוקפדת, אסתטית ומרגשת\", \"writer_name\": [\"חן חדד\"], \"review_type\": \"Series\", \"genre\": [\"דרמה\", \"קומדיה\"], \"distribution_platform\": [\"Disney+\"], \"short_summary\": \"מוקפדת, אסתטית ומרגשת – עונה מענגת שנוצרה עם הרבה אהבה.\", \"summary\": \"העונה השנייה של \\\"הדוב\\\" קולפת שכבות ויוצרת חיבור רגשי חזק. זו עונה מענגת, מוקפדת ואסתטית, שנוצרה עם הרבה אהבה לטלוויזיה, לאוכל ולדמויותיה המתפתחות במסע אינטנסיבי.\", \"image_vertical\": \"https://img.haarets.co.il/bs/00000189-b549-d2ad-afb9-bf4945db0000/c4/eb/bfc41b034923a22ac4b37d4a6d0f/26512.jpg?precrop=1361,1601,x460,y0\", \"author_image_square\": \"https://img.haarets.co.il/bs/0000017f-da31-d718-a5ff-fab5e98c0000/fd/01/b40e6111d78f7c7a20a7e88c27fc/3306098334.jpg?precrop=728,728,x0,y0\", \"url\": \"https://www.haaretz.co.il/gallery/television/tv-review/2023-08-02/ty-article-review/.highlight/00000189-b543-d2ad-afb9-bf435c9c0000\"}]אהלן! לפי התיאור שלך, נשמע שאתה מדבר על הסדרה החדשה של נטפליקס, \"אדמה סוררת\" (American Primeval).\n",
      "\n",
      "הסדרה הזו, שנוצרה על ידי מארק ל' סמית' ובוימה על ידי פיטר ברג, מתרחשת ב-1857 ומבוססת על אירועים אמיתיים שהתרחשו בזמן מלחמת יוטה והטבח במאונטיין מדוז. היא עוקבת אחרי אישה בשם שרה ראוול (בטי גילפין) שמנסה לשרוד ולהגן על בנה בזמן הטבח האכזרי, שבו שיירת מהגרים הותקפה על ידי מיליציה מורמונית בעזרת ילידים אמריקאים.\n",
      "\n",
      "הביקורת מציינת שהסדרה לא חוסכת באלימות אכזרית וחסרת רחמים, ושהיא מתמקדת בהיסטוריה האלימה של ארצות הברית דרך נקודת מבט של נשים. אם אתה מסוגל להתמודד עם תכנים קשוחים, נראה שזו בדיוק הסדרה שחיפשת.\n",
      "\n",
      "האם תרצה שאמליץ לך על עוד סדרות או סרטים בז'אנר המערבון או בז'אנרים אחרים?\n",
      "\n",
      "====================\n",
      "Second Question: מבחינת Diversity & Inclusion—האם הסרט קיבל ביקורת חיובית או שלילית? הבא נתונים.\n"
     ]
    },
    {
     "name": "stderr",
     "output_type": "stream",
     "text": [
      "{\"asctime\": \"2025-05-04 16:07:27,056\", \"name\": \"UNKNOWN_APP_NAME_logger\", \"levelname\": \"DEBUG\", \"message\": \"Loaded history for user 576006514 from Redis.\"}\n"
     ]
    },
    {
     "name": "stdout",
     "output_type": "stream",
     "text": [
      "הביקורת על \"אדמה סוררת\" אכן התייחסה לאופן שבו הסדרה מציגה את האירועים ההיסטוריים.\n",
      "\n",
      "לפי הביקורת, הדרמה \"מרעננת את ז'אנר המערבון באמצעות התמקדות בנקודת המבט של נשים\". היא מציינת שהסדרה עוקבת אחר חווייתה של שרה ראוול, ושל ילדה ילידית שנחלצה מטבח ושל צעירה מורמונית שנחטפה.\n",
      "\n",
      "כלומר, הביקורת הדגישה באופן חיובי את העובדה שהסדרה מתמקדת בחוויותיהן ונקודות מבטן של נשים מרקעים שונים בתוך ההקשר ההיסטורי והאלים של התקופה.\n",
      "\n",
      "האם יש עוד סרטים או סדרות שתרצה לדעת עליהם יותר, אולי כאלה שמתמקדים בסיפורים מנקודות מבט פחות שגרתיות?"
     ]
    },
    {
     "name": "stderr",
     "output_type": "stream",
     "text": [
      "2025-05-04 16:07:39.693 WARNING streamlit.runtime.scriptrunner_utils.script_run_context: Thread 'MainThread': missing ScriptRunContext! This warning can be ignored when running in bare mode.\n",
      "2025-05-04 16:07:39.695 WARNING streamlit.runtime.scriptrunner_utils.script_run_context: Thread 'MainThread': missing ScriptRunContext! This warning can be ignored when running in bare mode.\n"
     ]
    },
    {
     "name": "stdout",
     "output_type": "stream",
     "text": [
      "\n",
      "\n",
      "====================\n",
      "Article ID: 00000194-6e60-d9d3-a597-eeecd15d0000\n",
      "Question: \"אני מחפש מידע על הסרט החדש של ארז תדמור, זה שמתרחש בשנות ה-50 ליד הכנרת ועוסק בפרטיזנים לשעבר שעובדים במפעל סודה. איך קוראים לסרט ומה העלילה שלו?\n"
     ]
    },
    {
     "name": "stderr",
     "output_type": "stream",
     "text": [
      "{\"asctime\": \"2025-05-04 16:07:39,768\", \"name\": \"UNKNOWN_APP_NAME_logger\", \"levelname\": \"DEBUG\", \"message\": \"No history found for user 576006515 in Redis.\"}\n",
      "Warning: there are non-text parts in the response: ['function_call'],returning concatenated text result from text parts,check out the non text parts for full response from model.\n",
      "{\"asctime\": \"2025-05-04 16:07:41,306\", \"name\": \"UNKNOWN_APP_NAME_logger\", \"levelname\": \"INFO\", \"message\": \"query=הסרט החדש של ארז תדמור על פרטיזנים לשעבר שעובדים במפעל סודה ליד הכנרת בשנות ה-50, streaming=[], genres=[], media_type=movie\"}\n"
     ]
    },
    {
     "name": "stdout",
     "output_type": "stream",
     "text": [
      "[{\"article_id\": \"00000194-6e60-d9d3-a597-eeecd15d0000\", \"article_name\": \"\\\"סודה\\\": בין תאוות נקמה להיאחזות בתקווה\", \"writer_name\": [\"אורון שמיר\"], \"review_type\": \"Movie\", \"genre\": [\"דרמה\"], \"distribution_platform\": [\"בתי קולנוע\"], \"short_summary\": \"דרמה תקופתית מרשימה על פרטיזנים בישראל הצעירה.\", \"summary\": \"״סודה״, דרמה תקופתית מאת ארז תדמור, עוקבת אחר קבוצת פרטיזנים בישראל שאחרי קום המדינה. הסרט מתמקד במאבק בין תאוות נקמה להישרדות ותקווה לחיים חדשים, תוך שחזור תקופתי מרשים.\", \"image_vertical\": \"https://img.haarets.co.il/bs/00000194-6e60-d9d3-a597-eeecd0980000/ac/7c/2a4ba4db440b806ed873de79e6b5/60099335.JPG?precrop=948,1115,x129,y0\", \"author_image_square\": \"https://img.haarets.co.il/bs/00000184-dc9f-d3c9-a9a5-fd9f3f7f0001/8e/1e/784d834a44a792ba9fc12fbe9fdc/oronshamir2022.jpg?precrop=1661,1661,x90,y0\", \"url\": \"https://www.haaretz.co.il/gallery/cinema/movie-reviews/2025-01-16/ty-article-review/.premium/00000194-6e60-d9d3-a597-eeecd15d0000\"}, {\"article_id\": \"0000017f-f870-d460-afff-fb7646e20000\", \"article_name\": \"לא מפליא שסרט שקוראים לו ״סוסיתא״ לא מתניע\", \"writer_name\": [\"אורי קליין\"], \"review_type\": \"Movie\", \"genre\": [\"דרמה\"], \"distribution_platform\": [\"בתי קולנוע\"], \"short_summary\": \"דרמה פריפריאלית בזמן מלחמה שלא מצליחה להתניע.\", \"summary\": \"״הסוסיתא של הרצל״ מנסה לגעת בחיים בפריפריה בזמן מלחמה, דרך קולנוען המלמד בשדרות. אך סרטו של דויד קרינר סובל משטחיות אמנותית ומבנית, אינו מצליח להעניק נפח למציאות תחת אש, ומותיר תחושת בוסר והחמצה של פוטנציאל משמעותי.\", \"image_vertical\": \"https://img.haarets.co.il/bs/0000017f-f870-d460-afff-fb76465b0000/4d/1a/6f88afa277614a6acb43e2214147/2098825363.jpg\", \"author_image_square\": \"https://img.haarets.co.il/bs/0000017f-da2a-d249-ab7f-fbea2dce0000/78/a2/42ecfd18548356c5cf8cb359d90c/2744759269.jpg?precrop=1467,1468,x616,y0\", \"url\": \"https://www.haaretz.co.il/gallery/cinema/movie-reviews/2019-12-17/ty-article-review/.premium/0000017f-f870-d460-afff-fb7646e20000\"}]הסרט החדש של ארז תדמור שאתה מחפש, זה שמתרחש ליד הכנרת בשנות ה-50 ועוסק בפרטיזנים לשעבר שעובדים במפעל סודה, נקרא \"סודה\".\n",
      "\n",
      "לפי הביקורת, הסרט נפתח במתח ביער אירופי מושלג, שם קבוצת פרטיזנים אורבת לנאצים. הלך הרוח הנקמני והחשדני הזה מלווה את הדמויות גם כשהן מתחילות חיים חדשים בישראל של אמצע שנות ה-50, בשכונת פועלים ליד הכנרת. הם עובדים במפעל סודה ושומרים אחד על השני. העלילה מתפתחת כשמגיעות דיירות חדשות, אם ובתה, שמפרות את השגרה ומעוררות עניין בקרב הגברים, כולל המנהיג שלום וסגנו אשר. שמועות על עברה של האם החדשה מתסיסות את האווירה, והסרט עוסק בקונפליקטים הפנימיים של הקבוצה וביכולת המנהיגות של שלום, במיוחד כשדמותו של אשר נעה בין היצמדות לעבר לרצון לחיים חדשים. נראה שזה סרט על בחירה בין נקמה להישרדות בתקווה לחיים אחרים.\n",
      "\n",
      "האם תרצה לדעת עוד פרטים מהביקורת, כמו מי משחק בסרט או איך הוא נראה מבחינה ויזואלית?\n",
      "\n",
      "====================\n",
      "Second Question: האם יש Easter Eggs נסתרים שהמבקרים הזכירו? פרט שניים עם הפניות.\n"
     ]
    },
    {
     "name": "stderr",
     "output_type": "stream",
     "text": [
      "{\"asctime\": \"2025-05-04 16:07:46,467\", \"name\": \"UNKNOWN_APP_NAME_logger\", \"levelname\": \"DEBUG\", \"message\": \"Loaded history for user 576006515 from Redis.\"}\n"
     ]
    },
    {
     "name": "stdout",
     "output_type": "stream",
     "text": [
      "בדקתי את הביקורת על הסרט \"סודה\" כדי לחפש איזכורים ל\"איסטר אגס\" או פרטים נסתרים שהמבקרים שמו לב אליהם.\n",
      "\n",
      "בביקורת שהתפרסמה, המבקר אורון שמיר מצביע על משמעות כפולה אפשרית בשם הסרט, \"סודה\". הוא כותב שהשם יכול להתפרש לא רק כשם המשקה המבעבע (במלעיל), אלא גם כ\"הסוד שלה\" (במלרע). המבקר מציין כי כמעט כל דמות בסרט צופנת סוד, ורומז שהכפילות הזו בשם היא מעין תזכורת לנושא הזה בסרט.\n",
      "\n",
      "מעבר למשמעות הכפולה של השם, הביקורת לא מציינת פרטים נסתרים או הפניות קולנועיות ספציפיות שניתן להגדיר כ\"איסטר אגס\" מסורתיים בתוך העלילה או התפאורה של הסרט עצמו.\n",
      "\n",
      "האם יש היבטים אחרים של הסרט \"סודה\" שמעניינים אותך, כמו המשחק או הבימוי?"
     ]
    },
    {
     "name": "stderr",
     "output_type": "stream",
     "text": [
      "2025-05-04 16:07:54.992 WARNING streamlit.runtime.scriptrunner_utils.script_run_context: Thread 'MainThread': missing ScriptRunContext! This warning can be ignored when running in bare mode.\n",
      "2025-05-04 16:07:54.995 WARNING streamlit.runtime.scriptrunner_utils.script_run_context: Thread 'MainThread': missing ScriptRunContext! This warning can be ignored when running in bare mode.\n"
     ]
    },
    {
     "name": "stdout",
     "output_type": "stream",
     "text": [
      "\n",
      "\n",
      "====================\n",
      "Article ID: \n",
      "Question: אחי, תמליץ לי על איזה סרט אקשן טוב בנטפליקס? משהו חדש יחסית.\n"
     ]
    },
    {
     "name": "stderr",
     "output_type": "stream",
     "text": [
      "{\"asctime\": \"2025-05-04 16:07:55,068\", \"name\": \"UNKNOWN_APP_NAME_logger\", \"levelname\": \"DEBUG\", \"message\": \"No history found for user 576006516 in Redis.\"}\n",
      "Warning: there are non-text parts in the response: ['function_call'],returning concatenated text result from text parts,check out the non text parts for full response from model.\n",
      "{\"asctime\": \"2025-05-04 16:07:57,426\", \"name\": \"UNKNOWN_APP_NAME_logger\", \"levelname\": \"INFO\", \"message\": \"query=תמליץ לי על איזה סרט אקשן טוב בנטפליקס? משהו חדש יחסית., streaming=['Netflix'], genres=['אקשן'], media_type=movie\"}\n"
     ]
    },
    {
     "name": "stdout",
     "output_type": "stream",
     "text": [
      "[{\"article_id\": \"0000017f-dbd7-d856-a37f-ffd7d9760000\", \"article_name\": \"\\\"שטח קרב\\\": זה הסרט שנטפליקס בחרה לפתוח אתו את השנה?\", \"writer_name\": [\"אורון שמיר\"], \"review_type\": \"Movie\", \"genre\": [\"אקשן\", \"מדע בדיוני\", \"מלחמה\"], \"distribution_platform\": [\"Netflix\"], \"short_summary\": \"אקשן עתידני גנרי מנטפליקס עם רובוטים וחיילים אנושיים.\", \"summary\": \"בשנת 2036, חייל אמריקאי וסייבורג סודי נשלחים לאזור מלחמה באוקראינה כדי לעצור מרגל רוסי. סרט האקשן העתידני של נטפליקס פותח את שנת 2021 בקול ענות חלושה, סובל מגנריות, תסריט רדוד וליהוק בעייתי.\", \"image_vertical\": \"https://img.haarets.co.il/bs/0000017f-dbd7-d856-a37f-ffd7d8780000/1d/1a/c6905294909944ae1fec1eed80ff/2166095882.jpg?precrop=1041,1224,x435,y100\", \"author_image_square\": \"https://img.haarets.co.il/bs/00000184-dc9f-d3c9-a9a5-fd9f3f7f0001/8e/1e/784d834a44a792ba9fc12fbe9fdc/oronshamir2022.jpg?precrop=1661,1661,x90,y0\", \"url\": \"https://www.haaretz.co.il/gallery/cinema/movie-reviews/2021-01-31/ty-article-review/.premium/0000017f-dbd7-d856-a37f-ffd7d9760000\"}, {\"article_id\": \"00000192-0a93-dc54-afba-8eb708600000\", \"article_name\": \"\\\"רבל רידג'\\\": הסרט המקורי העלילתי הכי מוצלח שיצא בנטפליקס השנה\", \"writer_name\": [\"אורון שמיר\"], \"review_type\": \"Movie\", \"genre\": [\"מותחן\", \"פשע\", \"אקשן\"], \"distribution_platform\": [\"Netflix\"], \"short_summary\": \"מותחן פשע איפוק שובה בנטפליקס, הופעה עוצרת נשימה.\", \"summary\": \"במותחן הפשע רבל רידג', גבר שחור נתקל בשוטרים מושחתים ובוחר באיפוק מפתיע. הסרט, בכיכובו של ארון פייר המצוין, מציג גישה ייחודית לז'אנר האקשן והוא סרט המקור המוצלח ביותר של נטפליקס השנה.\", \"image_vertical\": \"https://img.haarets.co.il/bs/00000192-0a92-dc54-afba-8eb7fd370000/28/b5/8fdd99324202af86ee7216edfd2b/58531308.JPG?precrop=4080,4800,x1745,y0\", \"author_image_square\": \"https://img.haarets.co.il/bs/00000184-dc9f-d3c9-a9a5-fd9f3f7f0001/8e/1e/784d834a44a792ba9fc12fbe9fdc/oronshamir2022.jpg?precrop=1661,1661,x90,y0\", \"url\": \"https://www.haaretz.co.il/gallery/cinema/movie-reviews/2024-09-19/ty-article-review/.premium/00000192-0a93-dc54-afba-8eb708600000\"}]אהלן! מצאתי לך שני סרטי אקשן שיצאו בנטפליקס לאחרונה ויכולים לעניין אותך.\n",
      "\n",
      "הראשון הוא **\"רבל רידג'\" (Rebel Ridge)**, שיצא ממש עכשיו בספטמבר 2024. הביקורת עליו מציינת שהוא \"הסרט המקורי העלילתי הכי מוצלח שיצא בנטפליקס השנה\". הוא מתואר כשילוב של מותחן פשע ודרמה חברתית עם סצנות פעולה מפוזרות, וההופעה של השחקן הראשי זוכה לשבחים רבים. נשמע מבטיח במיוחד אם אתה מחפש משהו קצת שונה בז'אנר.\n",
      "\n",
      "אופציה נוספת היא **\"שטח קרב\" (Outside the Wire)** מ-2021. זהו סרט אקשן עתידני ומלחמתי. הביקורת מציינת שהאקשן בו סולידי, אבל היו בה גם כמה הסתייגויות לגבי העלילה והמשחק הראשי.\n",
      "\n",
      "מבין השניים, נראה ש\"רבל רידג'\" הוא המלצה חמה יותר וגם חדש יותר.\n",
      "\n",
      "האם \"רבל רידג'\" נשמע כמו משהו שהיית רוצה לצפות בו? או אולי תרצה לשמוע על סרטים בז'אנרים אחרים?\n",
      "\n",
      "====================\n",
      "Second Question: תסביר בפירוט איך הגעת להמלצה הזאת, ואיזה קטעים ספציפיים מתוך הכתבות תמכו בבחירה.\n"
     ]
    },
    {
     "name": "stderr",
     "output_type": "stream",
     "text": [
      "{\"asctime\": \"2025-05-04 16:08:03,735\", \"name\": \"UNKNOWN_APP_NAME_logger\", \"levelname\": \"DEBUG\", \"message\": \"Loaded history for user 576006516 from Redis.\"}\n"
     ]
    },
    {
     "name": "stdout",
     "output_type": "stream",
     "text": [
      "אני מצטער, איני יכול לחשוף פרטים על אופן הפעולה הפנימי שלי או על קטעים ספציפיים מתוך הכתבות שהובילו להמלצה. התשובות וההמלצות שאני מספק מבוססות על המידע שאני מאחזר דרך המערכת, אך איני יכול לפרט מעבר לכך.\n",
      "\n",
      "המטרה שלי היא לעזור לך למצוא סרטים וסדרות שיתאימו לטעמך. האם תרצה שאמליץ לך על סרטים נוספים, אולי בז'אנר אחר? או שתרצה שאחפש סרטים דומים ל\"רבל רידג'\"?"
     ]
    },
    {
     "name": "stderr",
     "output_type": "stream",
     "text": [
      "2025-05-04 16:08:07.203 WARNING streamlit.runtime.scriptrunner_utils.script_run_context: Thread 'MainThread': missing ScriptRunContext! This warning can be ignored when running in bare mode.\n",
      "2025-05-04 16:08:07.205 WARNING streamlit.runtime.scriptrunner_utils.script_run_context: Thread 'MainThread': missing ScriptRunContext! This warning can be ignored when running in bare mode.\n"
     ]
    },
    {
     "name": "stdout",
     "output_type": "stream",
     "text": [
      "\n",
      "\n",
      "====================\n",
      "Article ID: \n",
      "Question: מחפשת סדרה קלילה ומצחיקה, קומדיה כזאת, לא משנה לי באיזה שירות סטרימינג.\n"
     ]
    },
    {
     "name": "stderr",
     "output_type": "stream",
     "text": [
      "{\"asctime\": \"2025-05-04 16:08:07,278\", \"name\": \"UNKNOWN_APP_NAME_logger\", \"levelname\": \"DEBUG\", \"message\": \"No history found for user 576006517 in Redis.\"}\n",
      "Warning: there are non-text parts in the response: ['function_call'],returning concatenated text result from text parts,check out the non text parts for full response from model.\n",
      "{\"asctime\": \"2025-05-04 16:08:08,929\", \"name\": \"UNKNOWN_APP_NAME_logger\", \"levelname\": \"INFO\", \"message\": \"query=סדרה קלילה ומצחיקה, קומדיה, streaming=[], genres=['קומדיה'], media_type=series\"}\n"
     ]
    },
    {
     "name": "stdout",
     "output_type": "stream",
     "text": [
      "[{\"article_id\": \"0000017f-debf-d3ff-a7ff-ffbffd8d0000\", \"article_name\": \"\\\"שקופים\\\" היא בונבוניירה של צחוק ועליבות. רוצו לראות\", \"writer_name\": [\"אריאנה מלמד\"], \"review_type\": \"Series\", \"genre\": [\"קומדיה\"], \"distribution_platform\": [\"HOT\"], \"short_summary\": \"בונבוניירה של צחוק ועליבות, ליהוק אלוהי וטקסטים מצוינים.\", \"summary\": \"סדרת המערכונים של HOT בהובלת גורי אלפי ויובל סמו. עם ליהוק אלוהי, טקסטים שנונים ובימוי משובח, הסדרה מאזנת בין אמפתיה לדמויות שקופות חברתית לבין מבט ציני על טבע האדם. בונבוניירה של צחוק ועליבות.\", \"image_vertical\": \"https://img.haarets.co.il/bs/0000017f-debf-d3ff-a7ff-ffbffcb20000/19/3f/c0cb936e4d23a8e193c69475c651/3078944624.jpg?precrop=919,1080,x639,y0\", \"author_image_square\": \"https://img.haarets.co.il/bs/0000017d-d244-d17a-af7f-d7e4a4ea0000/c8/93/875d80ed963046da792485007f7e/982406958.png?precrop=1492,1492,x0,y0\", \"url\": \"https://www.haaretz.co.il/gallery/television/2021-01-18/ty-article-review/.highlight/0000017f-debf-d3ff-a7ff-ffbffd8d0000\"}, {\"article_id\": \"00000193-0011-de0c-a7db-8b5d58d30000\", \"article_name\": \"\\\"שני האחרים\\\": קומדיה הוליוודית שסוף סוף מצליחה להצחיק\", \"writer_name\": [\"חן חדד\"], \"review_type\": \"Series\", \"genre\": [\"קומדיה\"], \"distribution_platform\": [\"HOT\", \"נקסט טיוי\"], \"short_summary\": \"קומדיה הוליוודית מצחיקה, חדה ושנונה על תעשיית הבידור.\", \"summary\": \"קומדיה כיפית ונשכנית על אח ואחות בני שלושים ומשהו, שאחיהם הצעיר הופך בן לילה לכוכב סלבריטאי. הסדרה, שנוצרה על ידי בוגרי \\\"סאטרדיי נייט לייב\\\", מספקת סאטירה ארסית על הוליווד ועל האובססיה לפרסום ותהילה, תוך כדי מבט עדין על דינמיקה משפחתית וחיפוש אחר זהות.\", \"image_vertical\": \"https://img.haarets.co.il/bs/00000193-0013-d05a-aff7-3cdb01fd0000/be/65/02b4296f4adf86e0f28c8717a106/399294.jpg?precrop=1149,1350,x328,y0\", \"author_image_square\": \"https://img.haarets.co.il/bs/0000017f-da31-d718-a5ff-fab5e98c0000/fd/01/b40e6111d78f7c7a20a7e88c27fc/3306098334.jpg?precrop=728,728,x0,y0\", \"url\": \"https://www.haaretz.co.il/gallery/television/tv-review/2024-11-06/ty-article-review/.highlight/00000193-0011-de0c-a7db-8b5d58d30000\"}]בהחלט! על פי החיפוש שביצעתי עבורך, יש שתי סדרות קומדיה שיכולות להתאים:\n",
      "\n",
      "1.  **שקופים**: סדרת מערכונים קומית עם ליהוק מצוין וטקסטים שנונים. היא עוקבת אחרי שתי דמויות שמנסות להסתדר בעולם דרך סיטואציות קומיות ולעיתים גם נוגעות ללב. הסדרה משודרת ב-HOT.\n",
      "\n",
      "2.  **שני האחרים**: קומדיה הוליוודית שמציעה הרבה בדיחות וקריצות לתרבות הפופולרית. היא עוקבת אחרי אח ואחות שמנסים למצוא את דרכם בעולם התקשורת כשאחיהם הצעיר הופך לכוכב מפורסם. הסדרה זמינה ב-HOT VOD ובנקסט טיוי.\n",
      "\n",
      "אני מקווה שהמלצות אלו יעזרו לך למצוא משהו קליל ומצחיק לצפייה! תרצי לשמוע על עוד סדרות קומדיה או אולי לנסות ז'אנר אחר?\n",
      "\n",
      "====================\n",
      "Second Question: יש לי רתיעה מאלימות גרפית. האם הסרט שהמלצת עליו כולל סצנות כאלה? תצטט מהמקורות שלך.\n"
     ]
    },
    {
     "name": "stderr",
     "output_type": "stream",
     "text": [
      "{\"asctime\": \"2025-05-04 16:08:12,292\", \"name\": \"UNKNOWN_APP_NAME_logger\", \"levelname\": \"DEBUG\", \"message\": \"Loaded history for user 576006517 from Redis.\"}\n"
     ]
    },
    {
     "name": "stdout",
     "output_type": "stream",
     "text": [
      "אני מבינה לחלוטין את הרתיעה מאלימות גרפית, וזה חשוב לי לוודא שההמלצות שלי מתאימות להעדפות שלך.\n",
      "\n",
      "אבל חשוב לי להבהיר שבהמלצה הקודמת שלי הצעתי לך שתי סדרות קומדיה (\"שקופים\" ו\"שני האחרים\"), ולא סרט. מכיוון שלא המלצתי על סרט, אין לי מידע ספציפי לבדוק עבורו לגבי אלימות גרפית מתוך המקורות שלי.\n",
      "\n",
      "האם תרצי שאבדוק את הסדרות שהמלצתי עליהן לגבי נוכחות אפשרית של אלימות, או אולי אחפש עבורך המלצות אחרות של סדרות קומדיה קלילות?"
     ]
    },
    {
     "name": "stderr",
     "output_type": "stream",
     "text": [
      "2025-05-04 16:08:17.769 WARNING streamlit.runtime.scriptrunner_utils.script_run_context: Thread 'MainThread': missing ScriptRunContext! This warning can be ignored when running in bare mode.\n",
      "2025-05-04 16:08:17.770 WARNING streamlit.runtime.scriptrunner_utils.script_run_context: Thread 'MainThread': missing ScriptRunContext! This warning can be ignored when running in bare mode.\n"
     ]
    },
    {
     "name": "stdout",
     "output_type": "stream",
     "text": [
      "\n",
      "\n",
      "====================\n",
      "Article ID: \n",
      "Question: מה כדאי לראות עכשיו ביס פלוס? בא לי איזה משהו מתח טוב.\n"
     ]
    },
    {
     "name": "stderr",
     "output_type": "stream",
     "text": [
      "{\"asctime\": \"2025-05-04 16:08:17,841\", \"name\": \"UNKNOWN_APP_NAME_logger\", \"levelname\": \"DEBUG\", \"message\": \"No history found for user 576006518 in Redis.\"}\n",
      "Warning: there are non-text parts in the response: ['function_call'],returning concatenated text result from text parts,check out the non text parts for full response from model.\n",
      "{\"asctime\": \"2025-05-04 16:08:21,575\", \"name\": \"UNKNOWN_APP_NAME_logger\", \"levelname\": \"INFO\", \"message\": \"query=המלצה למשהו מתח טוב ביס פלוס, streaming=['Yes'], genres=['מותחן'], media_type=None\"}\n"
     ]
    },
    {
     "name": "stdout",
     "output_type": "stream",
     "text": [
      "[{\"article_id\": \"0000017f-e651-dea7-adff-f7fbfd460000\", \"article_name\": \"\\\"לבד\\\" מוכיח: די במעט אמצעים כדי שאימה תזחל במורד הצוואר שלכם\", \"writer_name\": [\"אורון שמיר\"], \"review_type\": \"Movie\", \"genre\": [\"מותחן\", \"אימה\"], \"distribution_platform\": [\"Yes\"], \"short_summary\": \"מותחן אימה מינימליסטי ויעיל שמצליח לזחול מתחת לעור.\", \"summary\": \"עם מעט אמצעים וגיבורה תושייה, מותחן האימה 'לבד' משתמש בזוויות צילום ורעש טבעי כדי ליצור מתח מקסימלי. הוא עולה על מגבלותיו ומספק חוויה מטלטלת.\", \"image_vertical\": \"https://img.haarets.co.il/bs/0000017f-e651-dea7-adff-f7fbf3c90000/23/85/31595c5f7373cb6612384ced708e/4055129890.jpg\", \"author_image_square\": \"https://img.haarets.co.il/bs/00000184-dc9f-d3c9-a9a5-fd9f3f7f0001/8e/1e/784d834a44a792ba9fc12fbe9fdc/oronshamir2022.jpg?precrop=1661,1661,x90,y0\", \"url\": \"https://www.haaretz.co.il/gallery/cinema/movie-reviews/2021-03-31/ty-article-review/.premium/0000017f-e651-dea7-adff-f7fbfd460000\"}, {\"article_id\": \"0000017f-e4e7-df2c-a1ff-fef7bca60000\", \"article_name\": \"\\\"לברוח\\\": בסדרה הזאת יש קסם רומנטי כמו בכל דבר שפיבי וולר־ברידג' נוגעת בו\", \"writer_name\": [\"חן חדד\"], \"review_type\": \"Series\", \"genre\": [\"דרמה\", \"קומדיה\", \"מותחן\"], \"distribution_platform\": [\"HOT\", \"Yes\", \"נקסט טיוי\"], \"short_summary\": \"סדרה רומנטית־מותחת עם כימיה אדירה וקסם ממכר.\", \"summary\": \"הסדרה מתחילה כקומדיה רומנטית שנונה, הופכת למותחן אפל ומרתק. עם כימיה אדירה וקסם של וולר־ברידג', 'לברוח' יוצרת אינטימיות מיידית ומשאירה חשק עז לעוד.\", \"image_vertical\": \"https://img.haarets.co.il/bs/0000017f-e4e7-df2c-a1ff-fef7b5420000/01/e5/e5de5ada54c400a88e1f7e3bcf4f/1345534747.jpg?precrop=1015,1192,x107,y173\", \"author_image_square\": \"https://img.haarets.co.il/bs/0000017f-da31-d718-a5ff-fab5e98c0000/fd/01/b40e6111d78f7c7a20a7e88c27fc/3306098334.jpg?precrop=728,728,x0,y0\", \"url\": \"https://www.haaretz.co.il/gallery/television/tv-review/2020-04-13/ty-article-review/.highlight/0000017f-e4e7-df2c-a1ff-fef7bca60000\"}]בשמחה! מצאתי עבורך המלצה למותחן שזמין ב-Yes VOD ויכול להתאים למה שאת מחפשת. הסרט נקרא \"לבד\" והוא רימייק מותח לסרט שוודי.\n",
      "\n",
      "הביקורת מציינת שהסרט מצליח ליצור מתח ביעילות רבה, ומשלב סיפור על אישה שמתגברת על טרגדיה עם מסע היחלצות מפני כוח זדוני. נאמר עליו שהוא לא מבזבז זמן ונע קדימה בקצב, תוך שימוש מוצלח בצילום, עריכה ופסקול לבניית המתח. הגיבורה בסרט מתוארת כתושייה ולא נופלת למלכודות קלות, מה שמוסיף לעניין.\n",
      "\n",
      "למרות שהביקורת מציינת שהוא לא סרט גדול ושהמניעים של הרודף מעט סתומים, היא מסכמת שהוא בהחלט מסוגל לסגור פינה לשוחרי מותחני אימה.\n",
      "\n",
      "מקווה שתיהני מצפייה! האם תרצי שאמליץ לך על משהו נוסף, אולי מסוגה אחרת?\n",
      "\n",
      "====================\n",
      "Second Question: האם יש סרט מתח ישראלי שעונה על אותם קריטריונים? נמק עם מקורות.\n"
     ]
    },
    {
     "name": "stderr",
     "output_type": "stream",
     "text": [
      "{\"asctime\": \"2025-05-04 16:08:25,228\", \"name\": \"UNKNOWN_APP_NAME_logger\", \"levelname\": \"DEBUG\", \"message\": \"Loaded history for user 576006518 from Redis.\"}\n",
      "Warning: there are non-text parts in the response: ['function_call'],returning concatenated text result from text parts,check out the non text parts for full response from model.\n",
      "{\"asctime\": \"2025-05-04 16:08:27,954\", \"name\": \"UNKNOWN_APP_NAME_logger\", \"levelname\": \"INFO\", \"message\": \"query=סרט מתח ישראלי, streaming=[], genres=['מותחן'], media_type=movie\"}\n"
     ]
    },
    {
     "name": "stdout",
     "output_type": "stream",
     "text": [
      "[{\"article_id\": \"0000017f-e651-dea7-adff-f7fbfd460000\", \"article_name\": \"\\\"לבד\\\" מוכיח: די במעט אמצעים כדי שאימה תזחל במורד הצוואר שלכם\", \"writer_name\": [\"אורון שמיר\"], \"review_type\": \"Movie\", \"genre\": [\"מותחן\", \"אימה\"], \"distribution_platform\": [\"Yes\"], \"short_summary\": \"מותחן אימה מינימליסטי ויעיל שמצליח לזחול מתחת לעור.\", \"summary\": \"עם מעט אמצעים וגיבורה תושייה, מותחן האימה 'לבד' משתמש בזוויות צילום ורעש טבעי כדי ליצור מתח מקסימלי. הוא עולה על מגבלותיו ומספק חוויה מטלטלת.\", \"image_vertical\": \"https://img.haarets.co.il/bs/0000017f-e651-dea7-adff-f7fbf3c90000/23/85/31595c5f7373cb6612384ced708e/4055129890.jpg\", \"author_image_square\": \"https://img.haarets.co.il/bs/00000184-dc9f-d3c9-a9a5-fd9f3f7f0001/8e/1e/784d834a44a792ba9fc12fbe9fdc/oronshamir2022.jpg?precrop=1661,1661,x90,y0\", \"url\": \"https://www.haaretz.co.il/gallery/cinema/movie-reviews/2021-03-31/ty-article-review/.premium/0000017f-e651-dea7-adff-f7fbfd460000\"}, {\"article_id\": \"00000193-2b3e-d966-abbf-afff92e90000\", \"article_name\": \"\\\"החייל הנעלם\\\": לפני שנה הוא נראה בדיוני, כיום אין סרט רלוונטי יותר ממנו\", \"writer_name\": [\"אורון שמיר\"], \"review_type\": \"Movie\", \"genre\": [\"דרמה\", \"מותחן\"], \"distribution_platform\": [\"בתי קולנוע\"], \"short_summary\": \"רלוונטי באופן מצמרר, משחק עוצר נשימה, בימוי מבריק.\", \"summary\": \"חייל נשכח בעזה מנסה לחזור הביתה אל אהובתו בתל אביב, אך נחשב לחטוף. הסרט, שנוצר לפני המלחמה, רלוונטי ומטריד בצפייה מחודשת. בולט במיוחד משחקו הפיזי של עידו טאקו ובימויו של דני רוזנברג.\", \"image_vertical\": \"https://img.haarets.co.il/bs/00000193-2b3e-d966-abbf-afff8fce0000/84/ee/57dc2b5b494a99918e25a6e62f07/59324768.JPG?precrop=729,858,x614,y0\", \"author_image_square\": \"https://img.haarets.co.il/bs/00000184-dc9f-d3c9-a9a5-fd9f3f7f0001/8e/1e/784d834a44a792ba9fc12fbe9fdc/oronshamir2022.jpg?precrop=1661,1661,x90,y0\", \"url\": \"https://www.haaretz.co.il/gallery/cinema/movie-reviews/2024-11-14/ty-article-review/.premium/00000193-2b3e-d966-abbf-afff92e90000\"}]על פי המקורות שברשותי, יש סרט מתח ישראלי שעשוי לעניין אותך, והוא \"החייל הנעלם\".\n",
      "\n",
      "הסרט עוסק בחייל ישראלי שנעלם במהלך פעילות צבאית ובורח בחזרה לביתו, כששרשרת האירועים בעקבות היעלמותו מתחילה לרדוף אותו. הביקורת מתארת אותו כסרט רלוונטי מאוד למציאות הישראלית, ומציינת שהוא מעמיד את הגיבור בפני הפתעות והתמודדויות שונות.\n",
      "\n",
      "הביקורת מדגישה את המשחק המרכזי החזק ואת הצילום הווירטואוזי שמשקף את מצבו הנפשי של הגיבור, וגם את השימוש במוזיקה ובעיצוב פס קול שתורמים לאווירה ולמתח. אמנם הביקורת לא מגדירה אותו אך ורק כמותחן, אך האלמנטים העלילתיים של בריחה, רדיפה והתמודדות עם אתגרים הולכים וגוברים בהחלט מתאימים לז'אנר המתח. זהו בהחלט סרט ישראלי עכשווי שקיבל התייחסות משמעותית.\n",
      "\n",
      "האם תרצי לדעת על סרטים נוספים בז'אנר המתח, אולי מפלטפורמות אחרות?"
     ]
    },
    {
     "name": "stderr",
     "output_type": "stream",
     "text": [
      "2025-05-04 16:08:34.808 WARNING streamlit.runtime.scriptrunner_utils.script_run_context: Thread 'MainThread': missing ScriptRunContext! This warning can be ignored when running in bare mode.\n",
      "2025-05-04 16:08:34.811 WARNING streamlit.runtime.scriptrunner_utils.script_run_context: Thread 'MainThread': missing ScriptRunContext! This warning can be ignored when running in bare mode.\n",
      "{\"asctime\": \"2025-05-04 16:08:34,883\", \"name\": \"UNKNOWN_APP_NAME_logger\", \"levelname\": \"DEBUG\", \"message\": \"No history found for user 576006519 in Redis.\"}\n"
     ]
    },
    {
     "name": "stdout",
     "output_type": "stream",
     "text": [
      "\n",
      "\n",
      "====================\n",
      "Article ID: \n",
      "Question: יש לך המלצה לסרט דרמה איכותי? עדיף משהו שזמין בהוט.\n"
     ]
    },
    {
     "name": "stderr",
     "output_type": "stream",
     "text": [
      "Warning: there are non-text parts in the response: ['function_call'],returning concatenated text result from text parts,check out the non text parts for full response from model.\n",
      "{\"asctime\": \"2025-05-04 16:08:35,859\", \"name\": \"UNKNOWN_APP_NAME_logger\", \"levelname\": \"INFO\", \"message\": \"query=המלצה לסרט דרמה איכותי, streaming=['HOT'], genres=['דרמה'], media_type=movie\"}\n"
     ]
    },
    {
     "name": "stdout",
     "output_type": "stream",
     "text": [
      "[{\"article_id\": \"00000190-5479-ddd9-a1f1-d6fb66e80000\", \"article_name\": \"\\\"כולנו זרים\\\" לא הגיע לבתי הקולנוע בישראל – וזה פספוס ענק\", \"writer_name\": [\"אורון שמיר\"], \"review_type\": \"Movie\", \"genre\": [\"דרמה\"], \"distribution_platform\": [\"Disney+\", \"Apple TV+\", \"HOT\", \"Yes\"], \"short_summary\": \"סיפור אינטימי על אובדן ובדידות, עם משחק מרהיב של אנדרו סקוט.\", \"summary\": \"דרמה נוגה ומרגשת על תסריטאי בודד הפוגש את הוריו המתים ונכנס למערכת יחסים עם שכן מסתורי. סרט אינטימי על אובדן, בדידות וסליחה, עם הופעות משחק יוצאות דופן ובימוי רגיש.\", \"image_vertical\": \"https://img.haarets.co.il/bs/00000190-5479-ddd9-a1f1-d6fb64760000/c7/68/11cae054464ab00c35d5fc055924/57380633.JPG?precrop=918,1080,x301,y0\", \"author_image_square\": \"https://img.haarets.co.il/bs/00000184-dc9f-d3c9-a9a5-fd9f3f7f0001/8e/1e/784d834a44a792ba9fc12fbe9fdc/oronshamir2022.jpg?precrop=1661,1661,x90,y0\", \"url\": \"https://www.haaretz.co.il/gallery/cinema/movie-reviews/2024-06-26/ty-article-review/.premium/00000190-5479-ddd9-a1f1-d6fb66e80000\"}, {\"article_id\": \"0000017f-e160-d568-ad7f-f36bc7110000\", \"article_name\": \"\\\"תקופת מבחן\\\": לא בטוח שתראו בזמן הקרוב סרט דומה לזה\", \"writer_name\": [\"אורון שמיר\"], \"review_type\": \"Movie\", \"genre\": [\"דרמה\", \"קומדיה\", \"מוזיקלי\"], \"distribution_platform\": [\"Yes\", \"HOT\"], \"short_summary\": \"סרט ייחודי, מסוגנן, על חברות וסוגיות אמריקאיות אקטואליות.\", \"summary\": \"באוקלנד, שני חברי ילדות מתמודדים עם אתגרים אישיים וחברתיים קשים. קולין על תנאי, מיילס מתקשה עם הג'נטריפיקציה. סרט מסוגנן המשלב דרמה, קומדיה והיפ-הופ, בוחן סוגיות גזע וחברה באמריקה העכשווית.\", \"image_vertical\": \"https://img.haarets.co.il/bs/0000017f-e160-d568-ad7f-f36bc65d0000/f2/a1/cf00a690aa9c552fa04cecce2ed2/4078017108.jpg?precrop=546,642,x63,y25\", \"author_image_square\": \"https://img.haarets.co.il/bs/00000184-dc9f-d3c9-a9a5-fd9f3f7f0001/8e/1e/784d834a44a792ba9fc12fbe9fdc/oronshamir2022.jpg?precrop=1661,1661,x90,y0\", \"url\": \"https://www.haaretz.co.il/gallery/cinema/movie-reviews/2020-08-02/ty-article-review/.premium/0000017f-e160-d568-ad7f-f36bc7110000\"}]בהחלט! מצאתי עבורך שני סרטי דרמה איכותיים שזמינים בהוט (חלקם זמינים גם בפלטפורמות אחרות, אבל בהוט בוודאות):\n",
      "\n",
      "1.  **\"כולנו זרים\" (All of Us Strangers):** סרט יפהפה ונוגע ללב על תסריטאי במשבר שפוגש את הוריו שמתו לפני שנים, בגילאים שהם בערך בגילו. במקביל, הוא מפתח מערכת יחסים עם שכן מסתורי. הסרט מעורר מחשבות על משפחה, אובדן, ובדידות, ומבוסס על ספר יפני. זהו סרט מאוד מרגש שיכול לגרום לבכי, ומצד שני גובל בקיטש אך נזהר שלא לחצות את הקו.\n",
      "2.  **\"תקופת מבחן\" (Blindspotting):** סרט ביכורים אנרגטי ויצירתי שמשלב דרמה אורבנית עם אלמנטים מוזיקליים של היפ-הופ. הוא עוסק בסוגיות כמו ג'נטריפיקציה, גזע, וחברות, דרך סיפורם של שני חברי ילדות באוקלנד, קליפורניה. הסרט לא מפסיק לנוע בין סוגות וסגנונות, והשימוש בראפ כ\"שפה מוגברת\" מוסיף לו ייחודיות.\n",
      "\n",
      "שניהם זמינים להשכרה בתשלום נוסף בממירי הוט.\n",
      "\n",
      "מקווה שתיהנה מאחת ההמלצות! יש עוד ז'אנרים או פלטפורמות שמעניינים אותך?\n",
      "\n",
      "====================\n",
      "Second Question: אני מעדיף סרטים קצרים (עד 100 דקות). תעדכן את ההמלצה בהתאם.\n"
     ]
    },
    {
     "name": "stderr",
     "output_type": "stream",
     "text": [
      "{\"asctime\": \"2025-05-04 16:08:40,062\", \"name\": \"UNKNOWN_APP_NAME_logger\", \"levelname\": \"DEBUG\", \"message\": \"Loaded history for user 576006519 from Redis.\"}\n"
     ]
    },
    {
     "name": "stdout",
     "output_type": "stream",
     "text": [
      "אני מבין שאתה מעדיף סרטים קצרים יותר. עם זאת, לצערי, הכלי שברשותי אינו מאפשר לי לסנן המלצות לפי אורך הסרט בדקות.\n",
      "\n",
      "על מנת לסייע לך בכל זאת, אני יכול לחפש סרטי דרמה הזמינים בהוט לפי הקריטריונים האחרים שציינת, ולאחר מכן אבדוק אם מי מהם עונה על העדפתך לאורך של עד 100 דקות, במידה והמידע על אורך הסרט זמין בביקורת.\n",
      "\n",
      "אחפש עבורך סרט דרמה בהוט. האם תרצה שאמשיך עם החיפוש כך?"
     ]
    },
    {
     "name": "stderr",
     "output_type": "stream",
     "text": [
      "2025-05-04 16:08:44.698 WARNING streamlit.runtime.scriptrunner_utils.script_run_context: Thread 'MainThread': missing ScriptRunContext! This warning can be ignored when running in bare mode.\n",
      "2025-05-04 16:08:44.699 WARNING streamlit.runtime.scriptrunner_utils.script_run_context: Thread 'MainThread': missing ScriptRunContext! This warning can be ignored when running in bare mode.\n"
     ]
    },
    {
     "name": "stdout",
     "output_type": "stream",
     "text": [
      "\n",
      "\n",
      "====================\n",
      "Article ID: \n",
      "Question: אני והחבר'ה רוצים לראות סרט אימה הערב. יש משהו ממש מפחיד שאתה מכיר?\n"
     ]
    },
    {
     "name": "stderr",
     "output_type": "stream",
     "text": [
      "{\"asctime\": \"2025-05-04 16:08:44,771\", \"name\": \"UNKNOWN_APP_NAME_logger\", \"levelname\": \"DEBUG\", \"message\": \"No history found for user 576006520 in Redis.\"}\n",
      "Warning: there are non-text parts in the response: ['function_call'],returning concatenated text result from text parts,check out the non text parts for full response from model.\n",
      "{\"asctime\": \"2025-05-04 16:08:46,304\", \"name\": \"UNKNOWN_APP_NAME_logger\", \"levelname\": \"INFO\", \"message\": \"query=סרט אימה ממש מפחיד, streaming=[], genres=['אימה'], media_type=movie\"}\n"
     ]
    },
    {
     "name": "stdout",
     "output_type": "stream",
     "text": [
      "[{\"article_id\": \"0000017f-f8c7-d460-afff-fbe77d260000\", \"article_name\": \"\\\"מורעל\\\": סרט האימה המפתיע והמופרע של השנה\", \"writer_name\": [\"אורון שמיר\"], \"review_type\": \"Movie\", \"genre\": [\"אימה\"], \"distribution_platform\": [\"בתי קולנוע\"], \"short_summary\": \"סרט אימה מפתיע, מופרע ומטורף לגמרי, עשוי היטב.\", \"summary\": \"מורעל הוא סרט אימה מפתיע ומופרע, מחווה לזבלוני עבר. המשחק והדיאלוגים מוקצנים, אך הבימוי וירטואוזי. שיאו בטירוף מוחלט הופך אותו לחוויה מבדרת ועשויה היטב.\", \"image_vertical\": \"https://img.haarets.co.il/bs/0000017f-f8c7-d460-afff-fbe76a3b0000/4b/ab/1a3d1ea7016e9da073ac7e9a0b46/1554329871.jpg?precrop=1138,1339,x122,y26\", \"author_image_square\": \"https://img.haarets.co.il/bs/00000184-dc9f-d3c9-a9a5-fd9f3f7f0001/8e/1e/784d834a44a792ba9fc12fbe9fdc/oronshamir2022.jpg?precrop=1661,1661,x90,y0\", \"url\": \"https://www.haaretz.co.il/gallery/cinema/2021-09-22/ty-article-review/.premium/0000017f-f8c7-d460-afff-fbe77d260000\"}, {\"article_id\": \"00000184-2764-ddff-a586-ff67c3ed0000\", \"article_name\": \"\\\"ברברי\\\", סרט האימה המדובר של השנה, הגיע במפתיע לישראל\", \"writer_name\": [\"אורון שמיר\"], \"review_type\": \"Movie\", \"genre\": [\"אימה\"], \"distribution_platform\": [\"Disney+\"], \"short_summary\": \"סרט האימה המדובר \\\"ברברי\\\" הגיע לישראל בדיסני+.\", \"summary\": \"אישה מגיעה לדירה שהזמינה ומוצאת שם זר. סרט אימה מדובר שמשחק עם ציפיות הצופים ומציג התנהלות שונה של נשים וגברים במצבי סכנה, מפתיע ומבהיל.\", \"image_vertical\": \"https://img.haarets.co.il/bs/00000184-2764-ddff-a586-ff67c3400000/02/b2/acfa558549aebc298e4f5ebcdf37/49156779.JPG?precrop=1119,1317,x464,y0\", \"author_image_square\": \"https://img.haarets.co.il/bs/00000184-dc9f-d3c9-a9a5-fd9f3f7f0001/8e/1e/784d834a44a792ba9fc12fbe9fdc/oronshamir2022.jpg?precrop=1661,1661,x90,y0\", \"url\": \"https://www.haaretz.co.il/gallery/cinema/movie-reviews/2022-10-30/ty-article-review/.premium/00000184-2764-ddff-a586-ff67c3ed0000\"}]בהחלט! מצאתי שני סרטי אימה שעשויים לעניין אתכם:\n",
      "\n",
      "*   **\"מורעל\" (Malignant):** נחשב לסרט אימה מפתיע ומופרע. הוא עתיר דם מלאכותי, סיטואציות ביזאריות והפחדות יעילות. הסרט מתחיל באופן יחסית רגוע ואז ממריא לטירוף מוחלט במערכה האחרונה. חשוב לציין שהמשחק בסרט מוקצן, אך נראה שזה מכוון כמחווה לסרטי אימה משנות ה-80.\n",
      "*   **\"ברברי\" (Barbarian):** סרט אימה מדובר שמגיע במפתיע לדיסני+. כדאי לדעת עליו כמה שפחות מראש. הוא מתחיל כמו סרטי אימה אחרים על השכרת בתים זמניים, אך מהר מאוד הופך לבלתי צפוי ומלא הפתעות. הסרט משחק עם ציפיות הקהל וכולל רגעים מבהילים, אם כי הביקורת מציינת שהוא לא בהכרח מצמרר באמת או מחדש.\n",
      "\n",
      "מקווה שתמצאו סרט שיעיף אתכם מהכיסא! איזה סוג של אימה אתם הכי אוהבים - על-טבעי, סלאשרים, או אולי משהו פסיכולוגי יותר?\n",
      "\n",
      "====================\n",
      "Second Question: הסרט שהצעת כבר ראיתי. הבא המלצה אחרת, אבל שמור על הסיבות לבחירה שהצגת.\n"
     ]
    },
    {
     "name": "stderr",
     "output_type": "stream",
     "text": [
      "{\"asctime\": \"2025-05-04 16:08:50,190\", \"name\": \"UNKNOWN_APP_NAME_logger\", \"levelname\": \"DEBUG\", \"message\": \"Loaded history for user 576006520 from Redis.\"}\n"
     ]
    },
    {
     "name": "stdout",
     "output_type": "stream",
     "text": [
      "בטח, הבנתי. אתם מחפשים סרט אימה נוסף שיהיה גם מפחיד, מפתיע או מופרע בדרך כלשהי, ואולי גם ישחק עם הציפיות או יספק רגעים ביזאריים ועשוי היטב.\n",
      "\n",
      "אחפש המלצה נוספת שתתאים לחיפוש שלכם.\n"
     ]
    },
    {
     "name": "stderr",
     "output_type": "stream",
     "text": [
      "2025-05-04 16:08:54.178 WARNING streamlit.runtime.scriptrunner_utils.script_run_context: Thread 'MainThread': missing ScriptRunContext! This warning can be ignored when running in bare mode.\n",
      "2025-05-04 16:08:54.179 WARNING streamlit.runtime.scriptrunner_utils.script_run_context: Thread 'MainThread': missing ScriptRunContext! This warning can be ignored when running in bare mode.\n"
     ]
    },
    {
     "name": "stdout",
     "output_type": "stream",
     "text": [
      "\n",
      "\n",
      "====================\n",
      "Article ID: \n",
      "Question: תגיד, יש איזה סדרת מדע בדיוני שווה בפרטנר TV או בסלקום TV?\n"
     ]
    },
    {
     "name": "stderr",
     "output_type": "stream",
     "text": [
      "{\"asctime\": \"2025-05-04 16:08:54,252\", \"name\": \"UNKNOWN_APP_NAME_logger\", \"levelname\": \"DEBUG\", \"message\": \"No history found for user 576006521 in Redis.\"}\n"
     ]
    },
    {
     "name": "stdout",
     "output_type": "stream",
     "text": [
      "אני יכול לעזור לך למצוא המלצות לסדרות מדע בדיוני, אבל אני חייב לציין שהכלי שברשותי לא מאפשר לי לסנן לפי פלטפורמות סטרימינג ספציפיות כמו פרטנר TV או סלקום TV.\n",
      "\n",
      "עם זאת, אני יכול לחפש ביקורות והמלצות לסדרות מדע בדיוני באופן כללי. אולי תמצאי משהו מעניין שזמין בפלטפורמות אחרות, או שתוכלי לזהות סדרות שתרצי לבדוק אם הן זמינות אצלך.\n",
      "\n",
      "מה דעתך שאחפש לך המלצות לסדרות מדע בדיוני ואציג לך את הביקורות שמצאתי? אולי תגלי שם משהו שיתאים לך.\n",
      "\n",
      "====================\n",
      "Second Question: תן לי טריילר רשמי (YouTube) וקישור לביקורת מהשנה האחרונה.\n"
     ]
    },
    {
     "name": "stderr",
     "output_type": "stream",
     "text": [
      "{\"asctime\": \"2025-05-04 16:08:58,599\", \"name\": \"UNKNOWN_APP_NAME_logger\", \"levelname\": \"DEBUG\", \"message\": \"Loaded history for user 576006521 from Redis.\"}\n"
     ]
    },
    {
     "name": "stdout",
     "output_type": "stream",
     "text": [
      "אני מבין שאת מחפשת טריילרים וקישורים ישירים לביקורות, אבל לצערי הכלים שברשותי לא מאפשרים לי לספק קישורים חיצוניים כמו ליוטיוב או לאתרים ספציפיים של ביקורות. אני גם לא יכול לדעת אם ביקורת מסוימת היא מהשנה האחרונה בלבד.\n",
      "\n",
      "הפונקציה היחידה שיש לי גישה אליה יכולה לאחזר לי ביקורות מלאות על סרטים וסדרות מתוך המאגר שלי, בהתאם לז'אנרים או סוג המדיה שמעניינים אותך.\n",
      "\n",
      "האם עדיין תרצי שאחפש לך ביקורות על סדרות מדע בדיוני מהמאגר שלי? אולי תמצאי שם משהו שיעניין אותך לקרוא עליו."
     ]
    },
    {
     "name": "stderr",
     "output_type": "stream",
     "text": [
      "2025-05-04 16:09:02.229 WARNING streamlit.runtime.scriptrunner_utils.script_run_context: Thread 'MainThread': missing ScriptRunContext! This warning can be ignored when running in bare mode.\n",
      "2025-05-04 16:09:02.231 WARNING streamlit.runtime.scriptrunner_utils.script_run_context: Thread 'MainThread': missing ScriptRunContext! This warning can be ignored when running in bare mode.\n"
     ]
    },
    {
     "name": "stdout",
     "output_type": "stream",
     "text": [
      "\n",
      "\n",
      "====================\n",
      "Article ID: \n",
      "Question: בא לי לראות סרט ישראלי טוב, יש משהו מומלץ לאחרונה?\n"
     ]
    },
    {
     "name": "stderr",
     "output_type": "stream",
     "text": [
      "{\"asctime\": \"2025-05-04 16:09:02,303\", \"name\": \"UNKNOWN_APP_NAME_logger\", \"levelname\": \"DEBUG\", \"message\": \"No history found for user 576006522 in Redis.\"}\n",
      "Warning: there are non-text parts in the response: ['function_call'],returning concatenated text result from text parts,check out the non text parts for full response from model.\n",
      "{\"asctime\": \"2025-05-04 16:09:03,868\", \"name\": \"UNKNOWN_APP_NAME_logger\", \"levelname\": \"INFO\", \"message\": \"query=סרט ישראלי טוב מומלץ לאחרונה, streaming=[], genres=[], media_type=movie\"}\n"
     ]
    },
    {
     "name": "stdout",
     "output_type": "stream",
     "text": [
      "[{\"article_id\": \"0000017f-e5a4-dea7-adff-f5ff6cea0000\", \"article_name\": \"\\\"מחילה\\\": יוצרי הלהיט הקולנועי \\\"מכתוב\\\" חוזרים עם עוד בופה של ישראליות\", \"writer_name\": [\"נתנאל שלומוביץ\"], \"review_type\": \"Movie\", \"genre\": [\"קומדיה\"], \"distribution_platform\": [\"בתי קולנוע\"], \"short_summary\": \"יוצרי 'מכתוב' בבופה מצחיק של ישראליות קומית.\", \"summary\": \"מחילה\\\": קומדיית פשע מצחיקה ועתירת חן מבית היוצרים של 'מכתוב'. חנן סביון וגיא עמיר מגישים בופה עשיר של הומור ישראלי ומבט חם על החברה בסגנונם המוכר והאהוב.\", \"image_vertical\": \"https://img.haarets.co.il/bs/0000017f-e5a4-dea7-adff-f5ff63220000/4c/4e/1d44b5b12bf982c131fe6c8f6498/2426891206.jpg\", \"author_image_square\": \"https://img.haarets.co.il/bs/0000017f-da32-d938-a17f-fe3a340e0000/72/0e/b8472abdb5045367467ecaaf71de/1839795353.png?precrop=448,448,x13,y32\", \"url\": \"https://www.haaretz.co.il/gallery/cinema/movie-reviews/2019-10-01/ty-article-review/.premium/0000017f-e5a4-dea7-adff-f5ff6cea0000\"}, {\"article_id\": \"0000017f-f94c-d044-adff-fbfd30c20000\", \"article_name\": \"\\\"בוקר טוב ילד\\\" הוא סרט ישראלי מרשים במיוחד\", \"writer_name\": [\"אורי קליין\"], \"review_type\": \"Movie\", \"genre\": [\"דרמה\"], \"distribution_platform\": [\"בתי קולנוע\"], \"short_summary\": \"דרמה ישראלית עוצמתית בחדר בית חולים. מדויק ומרגש.\", \"summary\": \"דרמה ישראלית מרתקת המתחוללת כולה בחדר בית חולים, בה משפחה מתמודדת עם פציעת בנם הלוחם. הסרט, בבימויו המדויק של שרון בר זיו, מצטיין במשחק ריאליסטי ופורט על מיתרי הרגש באיפוק מרשים.\", \"image_vertical\": \"https://img.haarets.co.il/bs/0000017f-f94c-d044-adff-fbfd305c0000/c3/ab/255c19992dd2521826500722f6b0/1685980183.jpg\", \"author_image_square\": \"https://img.haarets.co.il/bs/0000017f-da2a-d249-ab7f-fbea2dce0000/78/a2/42ecfd18548356c5cf8cb359d90c/2744759269.jpg?precrop=1467,1468,x616,y0\", \"url\": \"https://www.haaretz.co.il/gallery/cinema/movie-reviews/2019-03-26/ty-article-review/.premium/0000017f-f94c-d044-adff-fbfd30c20000\"}]אחלה בחירה! קולנוע ישראלי יכול להיות חוויה מרתקת. מצאתי שתי ביקורות על סרטים ישראלים שיצאו לאחרונה יחסית, אולי אחד מהם ידבר אליך:\n",
      "\n",
      "הסרט הראשון הוא \"מחילה\" של חנן סביון וגיא עמיר, יוצרי \"מכתוב\". זוהי קומדיית פשע המתרחשת בדרום הארץ, וממשיכה את הקו הייחודי שלהם שמשלב הומור, דרמה ואלמנטים מחיי היום-יום הישראלים. הביקורת מציינת שהסרט מצליח להצחיק מבלי להיות ארסי ומציג בופה של ישראליות שרבים יכולים להתחבר אליו.\n",
      "\n",
      "הסרט השני הוא \"בוקר טוב ילד\", סרט דרמה מרשים שמתרחש כמעט כולו בחדר בבית חולים. הוא עוסק בהתמודדות של הורים עם פציעתו הקשה של בנם החייל, ומתואר כסרט אינטליגנטי ורגיש עם משחק מצוין.\n",
      "\n",
      "תוכל לקרוא את הביקורות המלאות כדי להתרשם יותר ולראות איזה סרט נשמע לך מעניין יותר.\n",
      "\n",
      "ספר לי, איזה סגנון יותר מושך אותך הפעם - קומדיית פשע ישראלית או דרמה משפחתית נוגעת ללב?\n",
      "\n",
      "====================\n",
      "Second Question: אפשר להמליץ לי על סדרת טלוויזיה באותו סגנון, לפי אותם מקורות?\n"
     ]
    },
    {
     "name": "stderr",
     "output_type": "stream",
     "text": [
      "{\"asctime\": \"2025-05-04 16:09:07,965\", \"name\": \"UNKNOWN_APP_NAME_logger\", \"levelname\": \"DEBUG\", \"message\": \"Loaded history for user 576006522 from Redis.\"}\n",
      "Warning: there are non-text parts in the response: ['function_call'],returning concatenated text result from text parts,check out the non text parts for full response from model.\n",
      "{\"asctime\": \"2025-05-04 16:09:12,014\", \"name\": \"UNKNOWN_APP_NAME_logger\", \"levelname\": \"INFO\", \"message\": \"query=המלצה על סדרה ישראלית, streaming=[], genres=[], media_type=series\"}\n"
     ]
    },
    {
     "name": "stdout",
     "output_type": "stream",
     "text": [
      "[{\"article_id\": \"00000195-4359-de32-ad9d-73dfc7f90000\", \"article_name\": \"\\\"מגרש הרוסים\\\" מציגה את החוקר הכי עמוק ופגיע שנראה פה\", \"writer_name\": [\"נירית אנדרמן\"], \"review_type\": \"Series\", \"genre\": [\"דרמה\", \"מותחן\", \"פשע\", \"היסטורי\"], \"distribution_platform\": [\"כאן 11\"], \"short_summary\": \"דרמת מתח משטרתית תקופתית עם חוקר פגיע ושסע חברתי.\", \"summary\": \"ירושלים, שנות ה-90. חוקר משטרה דתי וחוקר רוסי חוברים לחקירת רצח מסתורי הקשור לסדרת רציחות בברית המועצות. הסדרה מציגה אתגרים תרבותיים וחברתיים של גל העלייה ומציגה משחק מצוין.\", \"image_vertical\": \"https://img.haarets.co.il/bs/00000195-4359-de32-ad9d-73dfc6fd0000/54/47/9d31e1ea493796c1763b32d5b66c/60615997.JPG?precrop=1607,1889,x283,y146\", \"author_image_square\": \"https://img.haarets.co.il/bs/00000183-2cc6-db8e-a7bb-3fcf27c50001/01/d6/f79dd4524287bc2d6d4150de927e/dsf9014.JPG?precrop=1513,1512,x323,y0\", \"url\": \"https://www.haaretz.co.il/gallery/television/2025-02-26/ty-article-review/.premium/00000195-4359-de32-ad9d-73dfc7f90000\"}, {\"article_id\": \"0000017f-e7d1-df2c-a1ff-ffd19ce30000\", \"article_name\": \"\\\"מנגן ושר\\\": סוף סוף סדרה ישראלית שלא נראית כמו דרמה הוליוודית נוסחתית\", \"writer_name\": [\"גפי אמיר\"], \"review_type\": \"Series\", \"genre\": [\"דרמה\", \"קומדיה\"], \"distribution_platform\": [\"Yes\"], \"short_summary\": \"מנגן ושר: דרמה ישראלית טבעית, עמוקה ומרגשת, שאינה נוסחתית.\", \"summary\": \"הדרמה המקורית \\\"מנגן ושר\\\" מציגה ישראליות טבעית, עמוקה ואינטימית. היא מורכבת ומעניינת יותר מרוב הסדרות, מתמקדת במשפחה בראש העין עם משחק מצוין ופסקול עשיר.\", \"image_vertical\": \"https://img.haarets.co.il/bs/0000017f-e7d1-df2c-a1ff-ffd19c3e0000/eb/fa/861abf6cb67d23376eff99fe00f5/240003122.jpg?precrop=1143,1339,x324,y37\", \"author_image_square\": null, \"url\": \"https://www.haaretz.co.il/gallery/television/tv-review/2021-11-12/ty-article-review/0000017f-e7d1-df2c-a1ff-ffd19ce30000\"}]בהחלט! לפי המקורות שבדקתי, יש שתי סדרות טלוויזיה ישראליות שעשויות לעניין אותך, כל אחת בסגנון שונה:\n",
      "\n",
      "*   **\"מנגן ושר\"**: זוהי דרמת מקור מבית yes, שמתוארת כסדרה שמצליחה ללכוד ישראליות טבעית ועמוקה. היא עוסקת בסיפורה של משפחה בראש העין, ומתמקדת בבן הבכור, שהיה ילד פלא מוזיקלי ומתמודד עם קשיים במימוש כישרונו בשל נסיבות משפחתיות. הסדרה משלבת מוזיקה ים-תיכונית, דרמה משפחתית, ואלמנטים של פשע בעקבות חובות האב. היא מושווית לדרמות טלוויזיה בריטיות באופי הדמויות וההתמקדות בניואנסים.\n",
      "\n",
      "*   **\"מגרש הרוסים\"**: סדרת משטרה חדשה של כאן 11, המתרחשת בשנות ה-90 בירושלים, על רקע גל העלייה מברית המועצות. הסדרה עוקבת אחר חוקר משטרה שחוקר רצח של אישה ממוצא רוסי, ומכניסה פנימה מתח חברתי ואת העוינות בין ישראלים ותיקים לעולים חדשים. היא מתוארת כדרמה משטרתית שהיא גם תקופתית וגם חברתית.\n",
      "\n",
      "שתי הסדרות האלה מציעות מבט על הישראליות, כל אחת בדרכה. \"מנגן ושר\" יותר אינטימית ומשפחתית עם דגש על מוזיקה ותרבות מזרחית, בעוד \"מגרש הרוסים\" היא מותחן משטרתי עם רקע היסטורי וחברתי.\n",
      "\n",
      "איזה סוג של סיפור מושך אותך יותר כרגע?"
     ]
    },
    {
     "name": "stderr",
     "output_type": "stream",
     "text": [
      "2025-05-04 16:09:16.679 WARNING streamlit.runtime.scriptrunner_utils.script_run_context: Thread 'MainThread': missing ScriptRunContext! This warning can be ignored when running in bare mode.\n",
      "2025-05-04 16:09:16.680 WARNING streamlit.runtime.scriptrunner_utils.script_run_context: Thread 'MainThread': missing ScriptRunContext! This warning can be ignored when running in bare mode.\n",
      "{\"asctime\": \"2025-05-04 16:09:16,752\", \"name\": \"UNKNOWN_APP_NAME_logger\", \"levelname\": \"DEBUG\", \"message\": \"No history found for user 576006523 in Redis.\"}\n"
     ]
    },
    {
     "name": "stdout",
     "output_type": "stream",
     "text": [
      "\n",
      "\n",
      "====================\n",
      "Article ID: \n",
      "Question: מחפש סדרה לבינג', משהו שאפשר לטחון בסופ\"ש. ז'אנר פחות קריטי, העיקר שתהיה ממכרת.\n"
     ]
    },
    {
     "name": "stderr",
     "output_type": "stream",
     "text": [
      "Warning: there are non-text parts in the response: ['function_call'],returning concatenated text result from text parts,check out the non text parts for full response from model.\n",
      "{\"asctime\": \"2025-05-04 16:09:18,880\", \"name\": \"UNKNOWN_APP_NAME_logger\", \"levelname\": \"INFO\", \"message\": \"query=סדרה ממכרת לבינג', streaming=[], genres=[], media_type=series\"}\n"
     ]
    },
    {
     "name": "stdout",
     "output_type": "stream",
     "text": [
      "[{\"article_id\": \"0000017f-deed-d3ff-a7ff-ffed32010000\", \"article_name\": \"העונה השנייה של \\\"פליבג\\\" היא מופת של טלוויזיה\", \"writer_name\": [\"חן חדד\"], \"review_type\": \"Series\", \"genre\": [\"קומדיה\"], \"distribution_platform\": [\"Amazon Prime Video\"], \"short_summary\": \"פליבג 2: מופת טלוויזיוני, חשוף, אפל ומצחיק עד כאב.\", \"summary\": \"העונה השנייה של \\\"פליבג\\\" היא מופת טלוויזיוני, חשוף ואפל, עשיר ברגש והומור שחור. פיבי וולר־ברידג' בכתיבה מהודקת ומשחק נוגע ללב, בוחנת מערכות יחסים מורכבות ושבירת הקיר הרביעי. נהדרת ומומלצת.\", \"image_vertical\": \"https://img.haarets.co.il/bs/0000017f-deed-d3ff-a7ff-ffed2f140000/84/eb/11a1faa64176b3f6916891b0433e/1837813296.jpg?precrop=839,985,x24,y14\", \"author_image_square\": \"https://img.haarets.co.il/bs/0000017f-da31-d718-a5ff-fab5e98c0000/fd/01/b40e6111d78f7c7a20a7e88c27fc/3306098334.jpg?precrop=728,728,x0,y0\", \"url\": \"https://www.haaretz.co.il/gallery/television/tv-review/2019-05-15/ty-article-review/.premium/0000017f-deed-d3ff-a7ff-ffed32010000\"}, {\"article_id\": \"0000017f-df2c-db22-a17f-ffbdc3910000\", \"article_name\": \"\\\"להרוג את איב\\\" ממשיכה להיות קטלנית\", \"writer_name\": [\"חן חדד\"], \"review_type\": \"Series\", \"genre\": [\"דרמה\"], \"distribution_platform\": [\"HOT\"], \"short_summary\": \"קטלנית, מסוגננת, נבונה ומבדרת. עדיין מרעננת ומלהיבה, משאירה חשק לעוד.\", \"summary\": \"\\\"להרוג את איב\\\" ממשיכה להיות קטלנית וממכרת. דרמת הריגול נבונה, מסוגננת ומבדרת, מציגה משחק מצוין, והיפוך מגדרי מרענן. היא חוגגת נשיות ומותחת קלישאות בחדות שנונה, משאירה את הצופה מרותק ומשתוקק לעוד.\", \"image_vertical\": \"https://img.haarets.co.il/bs/0000017f-df2c-db22-a17f-ffbdbde20000/32/60/b787b9d5370a904c974b58962546/1471677944.jpg?precrop=835,980,x289,y19\", \"author_image_square\": \"https://img.haarets.co.il/bs/0000017f-da31-d718-a5ff-fab5e98c0000/fd/01/b40e6111d78f7c7a20a7e88c27fc/3306098334.jpg?precrop=728,728,x0,y0\", \"url\": \"https://www.haaretz.co.il/gallery/television/2019-04-08/ty-article-review/.premium/0000017f-df2c-db22-a17f-ffbdc3910000\"}]אני מבינה שאתה מחפש סדרה שתהיה קטלנית וממכרת לבינג' בסופ\"ש! מצאתי שתי סדרות שעשויות להתאים לך:\n",
      "\n",
      "*   **\"פליבג\"**: סדרה מצחיקה, נוגעת ללב ומאוד אנושית שמתעמקת בצדדים המכוערים, המצחיקים והמביכים של מערכות יחסים. הכתיבה חדה ומדויקת, והיא מצליחה להיות גם מרגשת וגם מצחיקה בבת אחת. היא מתאימה למי שמחפש משהו עם עומק רגשי והומור שחור. העונה השנייה, אומרת המבקרת, היא מופת של טלוויזיה.\n",
      "*   **\"להרוג את איב\"**: דרמת ריגול קצבית וממכרת עם כתיבה חדה וקול ייחודי. הסדרה עוקבת אחרי סוכנת ביון ומתנקשת פסיכופטית, והקשר ביניהן מרתק. היא משלבת בהצלחה דרמה, מתח וקומדיה, והיא מאוד מסוגננת ונבונה.\n",
      "\n",
      "אלו שתי אופציות מעולות שיכולות לספק לך את הבינג' המושלם לסופ\"ש. האם אחת מהן נשמעת לך מעניינת במיוחד, או שתרצה שאחפש לך המלצות נוספות?\n",
      "\n",
      "====================\n",
      "Second Question: מי קהל היעד העיקרי של הסרט לפי הנתונים במקורות?\n"
     ]
    },
    {
     "name": "stderr",
     "output_type": "stream",
     "text": [
      "{\"asctime\": \"2025-05-04 16:09:22,744\", \"name\": \"UNKNOWN_APP_NAME_logger\", \"levelname\": \"DEBUG\", \"message\": \"Loaded history for user 576006523 from Redis.\"}\n"
     ]
    },
    {
     "name": "stdout",
     "output_type": "stream",
     "text": [
      "ההמלצות שסיפקתי קודם היו עבור שתי סדרות טלוויזיה, \"פליבג\" ו\"להרוג את איב\", ולא עבור סרט.\n",
      "\n",
      "על איזה סרט תרצה לדעת מי קהל היעד העיקרי שלו?"
     ]
    },
    {
     "name": "stderr",
     "output_type": "stream",
     "text": [
      "2025-05-04 16:09:24.788 WARNING streamlit.runtime.scriptrunner_utils.script_run_context: Thread 'MainThread': missing ScriptRunContext! This warning can be ignored when running in bare mode.\n",
      "2025-05-04 16:09:24.789 WARNING streamlit.runtime.scriptrunner_utils.script_run_context: Thread 'MainThread': missing ScriptRunContext! This warning can be ignored when running in bare mode.\n"
     ]
    },
    {
     "name": "stdout",
     "output_type": "stream",
     "text": [
      "\n",
      "\n",
      "====================\n",
      "Article ID: \n",
      "Question: יש סרטי דוקו מעניינים בדיסני פלוס או באפל טי וי?\n"
     ]
    },
    {
     "name": "stderr",
     "output_type": "stream",
     "text": [
      "{\"asctime\": \"2025-05-04 16:09:24,860\", \"name\": \"UNKNOWN_APP_NAME_logger\", \"levelname\": \"DEBUG\", \"message\": \"No history found for user 576006524 in Redis.\"}\n",
      "Warning: there are non-text parts in the response: ['function_call'],returning concatenated text result from text parts,check out the non text parts for full response from model.\n",
      "{\"asctime\": \"2025-05-04 16:09:26,415\", \"name\": \"UNKNOWN_APP_NAME_logger\", \"levelname\": \"INFO\", \"message\": \"query=סרטי דוקו מעניינים, streaming=['Disney+', 'Apple TV+'], genres=['דוקומנטרי'], media_type=movie\"}\n"
     ]
    },
    {
     "name": "stdout",
     "output_type": "stream",
     "text": [
      "[{\"article_id\": \"0000018f-c9f2-da41-a9cf-d9fe60640000\", \"article_name\": \"\\\"סטיב!\\\": התיעוד הכפול על סטיב מרטין לוכד את קסמו\", \"writer_name\": [\"אורון שמיר\"], \"review_type\": \"Movie\", \"genre\": [\"דוקומנטרי\"], \"distribution_platform\": [\"Apple TV+\"], \"short_summary\": \"\\\"סטיב!\\\": תיעוד כפול לוכד קסמו של סטיב מרטין.\", \"summary\": \"התיעוד הכפול על סטיב מרטין, בשני חלקים שונים, חושף את מסעו הארוך מעולם הסטנדאפ לקולנוע וטלוויזיה. הסרט לוכד את קסמו הנצחי, אישיותו המורכבת, והאבסורד המשמח המאפיין את יצירותיו.\", \"image_vertical\": \"https://img.haarets.co.il/bs/0000018f-c9f2-da41-a9cf-d9fe5adb0000/e3/fe/f306644542ebbd8c85d01c26daaf/57021830.JPG?precrop=1836,2160,x1782,y0\", \"author_image_square\": \"https://img.haarets.co.il/bs/00000184-dc9f-d3c9-a9a5-fd9f3f7f0001/8e/1e/784d834a44a792ba9fc12fbe9fdc/oronshamir2022.jpg?precrop=1661,1661,x90,y0\", \"url\": \"https://www.haaretz.co.il/gallery/cinema/movie-reviews/2024-05-30/ty-article-review/.premium/0000018f-c9f2-da41-a9cf-d9fe60640000\"}, {\"article_id\": \"0000017f-db17-d3a5-af7f-fbbfea840000\", \"article_name\": \"Boys State: אחד הסרטים התיעודיים היותר טובים שנראו השנה\", \"writer_name\": [\"אורון שמיר\"], \"review_type\": \"Movie\", \"genre\": [\"דוקומנטרי\"], \"distribution_platform\": [\"Apple TV+\"], \"short_summary\": \"תיעודי זוכה פרסים על בני נוער בונים דמוקרטיה בטקסס.\", \"summary\": \"זוכה סאנדנס \\\"מדינת הבנים\\\" עוקב אחר אלף בני נוער מטקסס הבונים דמוקרטיית דמה. הסרט חושף דרמות פוליטיות, רגעים אמוציונליים ותובנות עמוקות על הפוליטיקה האמריקאית והטבע האנושי דרך סיפוריהם.\", \"image_vertical\": \"https://img.haarets.co.il/bs/0000017f-db17-d3a5-af7f-fbbfe9a30000/d3/7f/0c00eea961789f1e3cc911997b0f/2882235851.jpg?precrop=790,927,x168,y106\", \"author_image_square\": \"https://img.haarets.co.il/bs/00000184-dc9f-d3c9-a9a5-fd9f3f7f0001/8e/1e/784d834a44a792ba9fc12fbe9fdc/oronshamir2022.jpg?precrop=1661,1661,x90,y0\", \"url\": \"https://www.haaretz.co.il/gallery/cinema/movie-reviews/2020-08-22/ty-article-review/.premium/0000017f-db17-d3a5-af7f-fbbfea840000\"}]בהחלט! מצאתי שתי המלצות לסרטים דוקומנטריים שזכו לשבחים רבים:\n",
      "\n",
      "1.  **סטיב! (Steve! (Martin) a documentary in 2 pieces)**: דוקו כפול באפל TV+ שמתעד את הקריירה המגוונת והארוכה של סטיב מרטין, החל מימיו כקומיקאי פורץ דרך בסטנדאפ ועד הצלחתו הנוכחית בסדרה \"רק רוצחים בבניין\". הסרט מתמקד בפן המקצועי של מרטין וחושף את עולמו הפנימי, החרדות והחתירה הבלתי פוסקת לאישור הקהל והוריו.\n",
      "\n",
      "2.  **מדינת הבנים (Boys State)**: סרט תיעודי באפל TV+ שמתמקד בניסוי חברתי בו כאלף בני נוער בונים דמוקרטיית דמה. הסרט עוקב אחר מספר נערים מנקודות מבט שונות, ומתעד את התהליכים הפוליטיים, היצירה של מפלגות, חקיקת חוקים והבחירות לתפקידים שונים. הוא מספק הצצה מרתקת למנגנוני הדמוקרטיה ומעלה שאלות על פוליטיקה, תחרותיות ושיח ציבורי. הסרט זכה להצלחה גדולה בפסטיבל סאנדנס ונחשב לאחד הדוקו הטובים של שנת יציאתו.\n",
      "\n",
      "שני הסרטים הללו מציעים מבט מעמיק על נושאים שונים דרך עיניים ייחודיות.\n",
      "\n",
      "האם יש נושאים ספציפיים שמעניינים אותך במיוחד בסרטים דוקומנטריים? אולי נושאים היסטוריים, אמנותיים, חברתיים או אחרים?\n",
      "\n",
      "====================\n",
      "Second Question: שכנע צופה שלא אוהב סרטי מתח מדוע כדאי לו בכל זאת לראות את הסרט שהצעת.\n"
     ]
    },
    {
     "name": "stderr",
     "output_type": "stream",
     "text": [
      "{\"asctime\": \"2025-05-04 16:09:31,685\", \"name\": \"UNKNOWN_APP_NAME_logger\", \"levelname\": \"DEBUG\", \"message\": \"Loaded history for user 576006524 from Redis.\"}\n"
     ]
    },
    {
     "name": "stdout",
     "output_type": "stream",
     "text": [
      "תודה על שאלתך! אבל יש לי הבהרה קטנה לגבי ההמלצות הקודמות שלי. המלצתי לך על שני סרטים דוקומנטריים: \"סטיב!\" ו\"מדינת הבנים\". אלו אינם סרטי מתח. הם מתמקדים בסיפורים אמיתיים, האחד על דמות ציבורית והשני על ניסוי חברתי מעניין.\n",
      "\n",
      "אם אינך אוהב סרטי מתח, זה לגמרי בסדר! העולם מלא בז'אנרים וסוגים שונים של סרטים וסדרות.\n",
      "\n",
      "האם תרצה שאמליץ לך על משהו אחר? אולי בז'אנר קומדיה, דרמה, היסטוריה או משהו אחר לגמרי? ספרו לי קצת על מה שאתם כן אוהבים לראות, ואשמח למצוא לכם משהו מעניין!"
     ]
    },
    {
     "name": "stderr",
     "output_type": "stream",
     "text": [
      "2025-05-04 16:09:34.752 WARNING streamlit.runtime.scriptrunner_utils.script_run_context: Thread 'MainThread': missing ScriptRunContext! This warning can be ignored when running in bare mode.\n",
      "2025-05-04 16:09:34.754 WARNING streamlit.runtime.scriptrunner_utils.script_run_context: Thread 'MainThread': missing ScriptRunContext! This warning can be ignored when running in bare mode.\n"
     ]
    },
    {
     "name": "stdout",
     "output_type": "stream",
     "text": [
      "\n",
      "\n",
      "====================\n",
      "Article ID: \n",
      "Question: סתם תן המלצה לסרט טוב שראית לאחרונה, לא משנה לי הז'אנר או הפלטפורמה.\n"
     ]
    },
    {
     "name": "stderr",
     "output_type": "stream",
     "text": [
      "{\"asctime\": \"2025-05-04 16:09:34,827\", \"name\": \"UNKNOWN_APP_NAME_logger\", \"levelname\": \"DEBUG\", \"message\": \"No history found for user 576006525 in Redis.\"}\n",
      "Warning: there are non-text parts in the response: ['function_call'],returning concatenated text result from text parts,check out the non text parts for full response from model.\n",
      "{\"asctime\": \"2025-05-04 16:09:35,882\", \"name\": \"UNKNOWN_APP_NAME_logger\", \"levelname\": \"INFO\", \"message\": \"query=המלצה לסרט טוב, streaming=[], genres=[], media_type=None\"}\n"
     ]
    },
    {
     "name": "stdout",
     "output_type": "stream",
     "text": [
      "[{\"article_id\": \"0000017f-f59b-ddde-abff-fdffb9960000\", \"article_name\": \"אז מה אם \\\"סוף טוב\\\" של מיכאל האנקה הוא לא יצירת מופת\", \"writer_name\": [\"אורי קליין\"], \"review_type\": \"Movie\", \"genre\": [\"דרמה\"], \"distribution_platform\": [\"בתי קולנוע\"], \"short_summary\": \"חוויה אינטליגנטית, דיוקן קר ואירוני, מבט מרוחק ומטריד.\", \"summary\": \"סרטו של מיכאל האנקה מציג דיוקן קר ואירוני של משפחה בורגנית באמצעות טכנולוגיה. למרות המרחק הרגשי, הוא מספק חוויה אינטליגנטית ומטרידה על מהות האנושות.\", \"image_vertical\": \"https://img.haarets.co.il/bs/0000017f-f59b-ddde-abff-fdffb90b0000/10/54/31cc007f4bf21b35b4d075b607ce/3593270975.jpg\", \"author_image_square\": \"https://img.haarets.co.il/bs/0000017f-da2a-d249-ab7f-fbea2dce0000/78/a2/42ecfd18548356c5cf8cb359d90c/2744759269.jpg?precrop=1467,1468,x616,y0\", \"url\": \"https://www.haaretz.co.il/gallery/cinema/movie-reviews/2017-11-21/ty-article-review/.premium/0000017f-f59b-ddde-abff-fdffb9960000\"}, {\"article_id\": \"00000187-0f86-dce9-afc7-5fcef1ac0000\", \"article_name\": \"\\\"הנפש הטובה\\\" חושף עולם מעוות ונצלני, בלי נפש טובה אחת\", \"writer_name\": [\"פבלו אוטין\"], \"review_type\": \"Movie\", \"genre\": [\"דרמה\"], \"distribution_platform\": [\"בתי קולנוע\"], \"short_summary\": \"עולם קולנוע מעוות ונצלני חושף היעדר נפשות טובות.\", \"summary\": \"דרמה אפלה ומסוגננת בסגנון נואר, חושפת עולם קולנוע ציני ונצלני. מורן רוזנבלט מגלמת מפיקה הנאבקת לשרוד בהפקה כאוטית. סרט אכזרי וכואב על חיפוש אחר נחמה בעולם ללא נפש טובה.\", \"image_vertical\": \"https://img.haarets.co.il/bs/00000187-0f86-dce9-afc7-5fcef0d80000/b6/b7/3cec4deb45bc83a65dd8b4535fda/51191220.JPG?precrop=584,687,x38,y0\", \"author_image_square\": \"https://img.haarets.co.il/bs/00000188-aaa7-db59-a19a-feefc57d0001/ad/b1/e4ed9f91467c886286018cb59872/48874.png?precrop=1366,1366,x239,y0\", \"url\": \"https://www.haaretz.co.il/gallery/cinema/movie-reviews/2023-03-23/ty-article-review/.premium/00000187-0f86-dce9-afc7-5fcef1ac0000\"}]בהחלט! סרט אחד שזכה לביקורת מעניינת הוא \"הנפש הטובה\". הוא מתואר כיצירה חדשה של איתן ענר, שנראית כדרמה ריאליסטית טיפוסית אך מתגלה כסרט מסוגנן ואפל שמזכיר סרטי נואר משנות ה-40. הוא מספר את סיפורה של מפיקת סרטים שנקלעת לקשיים כספיים ומקבלת הצעה להפיק סרט של רב שחזר בתשובה, עם עבר של הטרדות מיניות ותנאי הפקה נוקשים. הסרט מצולם בשחור-לבן ומשתמש בקומפוזיציות ותאורה אפלה כדי ליצור אווירה פסיכולוגית מוגזמת ואקספרסיבית. הוא מתאר עולם קולנועי כגיהינום ודן בחיפוש אחר נחמה בעולם מעוות ונצלני.\n",
      "\n",
      "סרט נוסף שצוין בביקורת הוא \"סוף טוב\" של מיכאל האנקה. למרות שהוא לא נחשב ליצירת מופת כמו חלק מסרטיו האחרים, הוא עדיין מציע חוויה אינטליגנטית. הסרט משתמש בטכנולוגיה עכשווית כדי לתעד את המגוחך, המנוכר והאכזרי במציאות, ומשרטט דיוקן קר ואירוני של הבורגנות. הוא מורכב מקרעים עלילתיים שאינם מתחברים לנרטיב קוהרנטי ומבקש מהצופה להתבונן בו ממרחק.\n",
      "\n",
      "מקווה שההמלצות האלה נשמעות מעניינות! איזה סוג של סרטים או סדרות אתה בדרך כלל הכי אוהב לראות?\n",
      "\n",
      "====================\n",
      "Second Question: האם קיימות אזהרות תוכן (trigger warnings) רלוונטיות? הבא ציטוט מפורט.\n"
     ]
    },
    {
     "name": "stderr",
     "output_type": "stream",
     "text": [
      "{\"asctime\": \"2025-05-04 16:09:40,134\", \"name\": \"UNKNOWN_APP_NAME_logger\", \"levelname\": \"DEBUG\", \"message\": \"Loaded history for user 576006525 from Redis.\"}\n"
     ]
    },
    {
     "name": "stdout",
     "output_type": "stream",
     "text": [
      "בהחלט, הביקורות שסופקו כוללות התייחסויות לכמה נקודות שניתן לראות בהן אזהרות תוכן אפשריות:\n",
      "\n",
      "בנוגע לסרט \"**הנפש הטובה**\", הביקורת מציינת שהסרט עוסק בעולם הקולנוע הישראלי בצורה שמציגה אותו כ\"עולם מעוות ונצלני\". כמו כן, חלק מהעלילה נוגעת בכך שהדמות הראשית צריכה לעבוד עם במאי שיש לו \"עבר של הטרדות מיניות\", והסרט מתואר כ\"סרט אכזרי וכואב\".\n",
      "\n",
      "ציטוטים רלוונטיים מהביקורת על \"הנפש הטובה\":\n",
      "*   \"חושף בפנינו עולם מעוות ונצלני\"\n",
      "*   \"היא צריכה להסכים להפיק סרט של אדם דתי עם עבר של הטרדות מיניות שנוגד את העמדות הפמיניסטיות שלה\"\n",
      "*   \"סרט אכזרי וכואב בחיפוש מתמיד אחר נחמה\"\n",
      "\n",
      "לגבי הסרט \"**סוף טוב**\", הביקורת מתארת אותו ככזה שמציג \"דיוקן קר ואירוני של בורגנות\" ויוצר \"תחושה של ניכור תמידי\". נזכרים בו כמה אירועים מטרידים: סצנה מוקדמת שבה ילדה מתעדת בטלפון שלה ניסוי בעייתי באוגר, דמות של אב משפחה ש\"מודע לסניליות שלו, ורק שואף לסיים את חייו\", וכן שאשתו הראשונה של אחד הדמויות \"מאושפזת בשל מנת יתר של כדורים נגד דיכאון ומשככי כאבים\". למרות שהביקורת מציינת שהוא \"איננו אכזרי כמו 'משחקי שעשוע'\", היא כן אומרת שהוא \"תובע מאיתנו התבוננות אירונית לכל אורכו\" ומתארת אותו כ\"סרט המגיע לצופיו ממרחק ותובע מהם להתקרב אליו\". כמו כן, הוא מתואר כמעצב \"מהות האנושות המטרידה שהוא מעצב לפנינו\".\n",
      "\n",
      "ציטוטים רלוונטיים מהביקורת על \"סוף טוב\":\n",
      "*   \"בודקת את השפעתם של נוגדי הדיכאון שאמה לוקחת על האוגר שלה, והתוצאה היא כמובן מותו של האוגר.\"\n",
      "*   \"ז'ורז' (ז'אן־לואי טרינטיניאן), אב המשפחה בן ה-85, ישוב בכיסא גלגלים, מודע לסניליות שלו, ורק שואף לסיים את חייו.\"\n",
      "*   \"אחרי שאשתו הראשונה של תומס מאושפזת בשל מנת יתר של כדורים נגד דיכאון ומשככי כאבים\"\n",
      "*   \"אבל גם הוא תובע מאיתנו התבוננות אירונית לכל אורכו\"\n",
      "*   \"רגש הקשור למהות האנושית המטרידה שהוא מעצב לפנינו.\"\n",
      "\n",
      "חשוב לזכור שאזהרות תוכן יכולות להשתנות מאדם לאדם, ומה שאדם אחד ימצא כמטריד, אחר אולי פחות יושפע ממנו.\n",
      "\n",
      "האם יש ז'אנרים או נושאים ספציפיים שתרצה להימנע מהם בהמלצות עתידיות?"
     ]
    }
   ],
   "source": [
    "from src.llm_api_client import LLMClient\n",
    "from config.load_config import load_config\n",
    "\n",
    "from test_antrpoic.antropic import ChatBot\n",
    "from src.redis_chat_history import RedisChatHistory\n",
    "import streamlit as st\n",
    "\n",
    "\n",
    "prompts = load_config(\"config/prompts.yaml\")\n",
    "sys_instruct = prompts.get(\"system_instructions\")\n",
    "config = load_config(\"config/config.yaml\")\n",
    "llm_cfg = config.get(\"llm\", {})\n",
    "\n",
    "redis_store = RedisChatHistory()\n",
    "llm_client = LLMClient(\n",
    "    model_name=llm_cfg.get(\"llm_model_name\"),\n",
    "    api_key=llm_cfg.get(\"GOOGLE_API_KEY\"),\n",
    "    sys_instruct=sys_instruct,\n",
    "    config=config,\n",
    "    redis_store=redis_store,\n",
    ")\n",
    "# Initialize the LLM client antropic\n",
    "antrp = ChatBot(config)\n",
    "\n",
    "result = []\n",
    "\n",
    "import numpy as np\n",
    "counter = np.random.randint(0, 9999999999)\n",
    "\n",
    "\n",
    "for q in combined_questions:\n",
    "    st.session_state.messages = []\n",
    "    counter += 1\n",
    "\n",
    "\n",
    "    print('\\n')\n",
    "    print(\"=\"*20)\n",
    "    article_id = q.get('article_id')\n",
    "    question = q.get('question')\n",
    "    print(f\"Article ID: {article_id}\")\n",
    "    print(f\"Question: {question}\")\n",
    "    \n",
    "    full_response = \"\"\n",
    "    ans = llm_client.streaming_message(question,f'{counter}')\n",
    "    async for chunk in ans:\n",
    "        print(chunk, end='', flush=True)\n",
    "        if chunk:\n",
    "            full_response += chunk\n",
    "\n",
    "\n",
    "    second_question = second_question_article.pop(0)\n",
    "\n",
    "    print('\\n')\n",
    "    print(\"=\"*20)\n",
    "    print(f\"Second Question: {second_question}\")\n",
    "    second_answer = \"\"\n",
    "    ans = llm_client.streaming_message(second_question,f'{counter}')\n",
    "    async for chunk in ans:\n",
    "        if chunk:\n",
    "            second_answer += chunk\n",
    "        print(chunk, end='', flush=True)\n",
    "\n",
    "    # thierd_answer = \"\"\n",
    "    # ans = llm_client.streaming_message(thierd_question,f'{counter}')\n",
    "    # async for chunk in ans:\n",
    "    #     if chunk:\n",
    "    #         thierd_answer += chunk\n",
    "    #     print(chunk, end='', flush=True)\n",
    "\n",
    "\n",
    "\n",
    "    # print('antrpoic answer')\n",
    "    # antropic_answer, state = antrp.process_user_input(question,st.session_state)\n",
    "    # print(antropic_answer)\n",
    "    # second_answer_antrpoic, state = antrp.process_user_input(second_question,state)\n",
    "    # print(second_answer_antrpoic)\n",
    "    # thierd_answer_antrpoic, state = antrp.process_user_input(thierd_question,state)\n",
    "    # print(thierd_answer_antrpoic)\n",
    "\n",
    "    result.append({\n",
    "        'article_id': article_id,\n",
    "        'question': question,\n",
    "        'answer_gemini': full_response,\n",
    "        'second_question': second_question,\n",
    "        'second_answer_gemini': second_answer,\n",
    "        # 'answer_antrp': antropic_answer,\n",
    "        # 'second_answer_gemini': second_answer,\n",
    "        # 'second_answer_antrp': second_answer_antrpoic,\n",
    "        # 'thierd_answer_gemini': thierd_answer,\n",
    "        # 'thierd_answer_antrp': thierd_answer_antrpoic\n",
    "    })\n",
    "    \n",
    "    \n",
    "    \n"
   ]
  },
  {
   "cell_type": "code",
   "execution_count": 5,
   "metadata": {},
   "outputs": [],
   "source": [
    "import pandas as pd\n",
    "pd.DataFrame(result).to_excel('first_question_article.xlsx', index=False)"
   ]
  },
  {
   "cell_type": "code",
   "execution_count": 6,
   "metadata": {},
   "outputs": [
    {
     "data": {
      "text/plain": [
       "81"
      ]
     },
     "execution_count": 6,
     "metadata": {},
     "output_type": "execute_result"
    }
   ],
   "source": [
    "txt = \"\"\" רוברט אגרס מביא גרסה חדשה ומצמררת לסיפור הקלאסי של 'נוספרטו'. הסרט, מחווה אפלה ומרהיבה לקולנוע האילם, מתרחש בגרמניה של המאה ה-19. הוא עוקב אחר אישה צעירה שחייה מתהפכים כשתומאס בעלה, סוכן נדל\"ן, נשלח אל הרי הקרפטים לפגוש רוזן מסתורי הרוכש טירה. הרוזן הוא הערפד אורלוק, שמפתח אובססיה אפלה אליה. בואו לעיר מביא עמו מגפה ואימה בלתי נתפסת. אגרס יוצר חוויה גותית עוצרת נשימה, נאמנה למקורות אך מקורית. סרט ויזואלי מהפנט, מלא באווירה אפלה ומתח גובר, המציג טרגדיה מלנכולית הדורשת התמסרות מהצופה.\"\"\"\n",
    "len(txt.split())"
   ]
  },
  {
   "cell_type": "code",
   "execution_count": null,
   "metadata": {},
   "outputs": [],
   "source": []
  }
 ],
 "metadata": {
  "kernelspec": {
   "display_name": ".venv",
   "language": "python",
   "name": "python3"
  },
  "language_info": {
   "codemirror_mode": {
    "name": "ipython",
    "version": 3
   },
   "file_extension": ".py",
   "mimetype": "text/x-python",
   "name": "python",
   "nbconvert_exporter": "python",
   "pygments_lexer": "ipython3",
   "version": "3.12.8"
  }
 },
 "nbformat": 4,
 "nbformat_minor": 2
}
