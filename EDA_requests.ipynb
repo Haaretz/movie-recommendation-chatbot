{
 "cells": [
  {
   "cell_type": "code",
   "execution_count": null,
   "id": "a76d5f5b",
   "metadata": {},
   "outputs": [],
   "source": [
    "from google.cloud import bigquery\n",
    "import pandas as pd\n",
    "import plotly.express as px\n",
    "import plotly.graph_objects as go\n",
    "from plotly.subplots import make_subplots\n",
    "\n"
   ]
  },
  {
   "cell_type": "code",
   "execution_count": 17,
   "id": "208cf09d",
   "metadata": {},
   "outputs": [
    {
     "name": "stderr",
     "output_type": "stream",
     "text": [
      "/Users/roeishlezinger/Desktop/movie-recommendation-chatbot/.venv/lib/python3.12/site-packages/google/cloud/bigquery/table.py:1900: UserWarning: BigQuery Storage module not found, fetch data with the REST endpoint instead.\n",
      "  warnings.warn(\n"
     ]
    },
    {
     "name": "stdout",
     "output_type": "stream",
     "text": [
      "22\n"
     ]
    },
    {
     "data": {
      "application/vnd.microsoft.datawrangler.viewer.v0+json": {
       "columns": [
        {
         "name": "index",
         "rawType": "int64",
         "type": "integer"
        },
        {
         "name": "sso_id",
         "rawType": "Int64",
         "type": "integer"
        },
        {
         "name": "additional_info",
         "rawType": "object",
         "type": "unknown"
        },
        {
         "name": "campaign_details",
         "rawType": "object",
         "type": "string"
        },
        {
         "name": "campaign_name",
         "rawType": "object",
         "type": "string"
        },
        {
         "name": "platform",
         "rawType": "object",
         "type": "string"
        },
        {
         "name": "event_time",
         "rawType": "object",
         "type": "string"
        },
        {
         "name": "record_type",
         "rawType": "object",
         "type": "string"
        },
        {
         "name": "index",
         "rawType": "int64",
         "type": "integer"
        }
       ],
       "ref": "1e2fac14-b01f-4f58-baf5-7b8b9557a5e3",
       "rows": [
        [
         "0",
         "8010962861",
         "[{'key': 'session_id', 'value': '151'}]",
         "היוש",
         "open question",
         "Desktop",
         "2025-06-30 08:31:35",
         "action",
         "1"
        ],
        [
         "1",
         "9037014398",
         "[{'key': 'session_id', 'value': '067b528f-b885-4d36-be53-a9dccb6f6483'}]",
         "אפשר דוקו טוב?",
         "open question",
         "App",
         "2025-06-30 08:31:01",
         "action",
         "4"
        ]
       ],
       "shape": {
        "columns": 8,
        "rows": 2
       }
      },
      "text/html": [
       "<div>\n",
       "<style scoped>\n",
       "    .dataframe tbody tr th:only-of-type {\n",
       "        vertical-align: middle;\n",
       "    }\n",
       "\n",
       "    .dataframe tbody tr th {\n",
       "        vertical-align: top;\n",
       "    }\n",
       "\n",
       "    .dataframe thead th {\n",
       "        text-align: right;\n",
       "    }\n",
       "</style>\n",
       "<table border=\"1\" class=\"dataframe\">\n",
       "  <thead>\n",
       "    <tr style=\"text-align: right;\">\n",
       "      <th></th>\n",
       "      <th>sso_id</th>\n",
       "      <th>additional_info</th>\n",
       "      <th>campaign_details</th>\n",
       "      <th>campaign_name</th>\n",
       "      <th>platform</th>\n",
       "      <th>event_time</th>\n",
       "      <th>record_type</th>\n",
       "      <th>index</th>\n",
       "    </tr>\n",
       "  </thead>\n",
       "  <tbody>\n",
       "    <tr>\n",
       "      <th>0</th>\n",
       "      <td>8010962861</td>\n",
       "      <td>[{'key': 'session_id', 'value': '151'}]</td>\n",
       "      <td>היוש</td>\n",
       "      <td>open question</td>\n",
       "      <td>Desktop</td>\n",
       "      <td>2025-06-30 08:31:35</td>\n",
       "      <td>action</td>\n",
       "      <td>1</td>\n",
       "    </tr>\n",
       "    <tr>\n",
       "      <th>1</th>\n",
       "      <td>9037014398</td>\n",
       "      <td>[{'key': 'session_id', 'value': '067b528f-b885...</td>\n",
       "      <td>אפשר דוקו טוב?</td>\n",
       "      <td>open question</td>\n",
       "      <td>App</td>\n",
       "      <td>2025-06-30 08:31:01</td>\n",
       "      <td>action</td>\n",
       "      <td>4</td>\n",
       "    </tr>\n",
       "  </tbody>\n",
       "</table>\n",
       "</div>"
      ],
      "text/plain": [
       "       sso_id                                    additional_info  \\\n",
       "0  8010962861            [{'key': 'session_id', 'value': '151'}]   \n",
       "1  9037014398  [{'key': 'session_id', 'value': '067b528f-b885...   \n",
       "\n",
       "  campaign_details  campaign_name platform           event_time record_type  \\\n",
       "0             היוש  open question  Desktop  2025-06-30 08:31:35      action   \n",
       "1   אפשר דוקו טוב?  open question      App  2025-06-30 08:31:01      action   \n",
       "\n",
       "   index  \n",
       "0      1  \n",
       "1      4  "
      ]
     },
     "execution_count": 17,
     "metadata": {},
     "output_type": "execute_result"
    }
   ],
   "source": [
    "\n",
    "time = '2025-06-30'\n",
    "SQL_QUERY =  f\"\"\"\n",
    "SELECT\n",
    "  sso_id,additional_info,campaign_details,campaign_name,platform,event_time,record_type\n",
    "FROM\n",
    "  `htz-common.raw_data.requests` \n",
    "WHERE\n",
    "  TIMESTAMP_TRUNC(event_time, DAY) >= TIMESTAMP('{time}')\n",
    "  AND page_type = 'Chatbot'\n",
    "  AND campaign_name in ('response answer','open question')\n",
    "  -- AND sso_id IS NOT NULL\n",
    "ORDER BY\n",
    "  event_time DESC;\n",
    "\"\"\"\n",
    "client = bigquery.Client()\n",
    "query_job = client.query(SQL_QUERY)\n",
    "\n",
    "results = query_job.result() \n",
    "df_all = results.to_dataframe()\n",
    "# add index\n",
    "df_all['index'] = df_all.index\n",
    "df_all['event_time_temp'] = df_all['event_time'].dt.strftime('%Y-%m-%d %H:%M')\n",
    "df_all['event_time'] = df_all['event_time'].dt.strftime('%Y-%m-%d %H:%M:%S')\n",
    "df = df_all.drop_duplicates(subset=['sso_id', 'campaign_details','event_time'], keep='last')\n",
    "response = df[df['campaign_name'] == 'response answer'].drop_duplicates(subset=['sso_id','campaign_details'], keep='last')\n",
    "df_f = pd.concat([df[df['campaign_name'] == 'open question'], response], ignore_index=True)\n",
    "df_f = df_f.drop(columns=['event_time_temp'])\n",
    "print(df_f.shape[0])\n",
    "df_f = df_f.reset_index(drop=True)\n",
    "df = df_f.copy()\n",
    "df.head(2)"
   ]
  },
  {
   "cell_type": "code",
   "execution_count": 18,
   "id": "494150ec",
   "metadata": {},
   "outputs": [
    {
     "data": {
      "application/vnd.microsoft.datawrangler.viewer.v0+json": {
       "columns": [
        {
         "name": "index",
         "rawType": "int64",
         "type": "integer"
        },
        {
         "name": "sso_id",
         "rawType": "Int64",
         "type": "integer"
        },
        {
         "name": "campaign_details",
         "rawType": "object",
         "type": "string"
        },
        {
         "name": "campaign_name",
         "rawType": "object",
         "type": "string"
        },
        {
         "name": "platform",
         "rawType": "object",
         "type": "string"
        },
        {
         "name": "event_time",
         "rawType": "object",
         "type": "string"
        },
        {
         "name": "record_type",
         "rawType": "object",
         "type": "string"
        },
        {
         "name": "index",
         "rawType": "int64",
         "type": "integer"
        },
        {
         "name": "session_id",
         "rawType": "object",
         "type": "string"
        },
        {
         "name": "total_time",
         "rawType": "object",
         "type": "unknown"
        },
        {
         "name": "rag_speed",
         "rawType": "object",
         "type": "unknown"
        },
        {
         "name": "timestamp",
         "rawType": "object",
         "type": "unknown"
        },
        {
         "name": "input_tokens",
         "rawType": "object",
         "type": "unknown"
        },
        {
         "name": "llm_speed",
         "rawType": "object",
         "type": "unknown"
        },
        {
         "name": "thinking_process",
         "rawType": "object",
         "type": "unknown"
        },
        {
         "name": "query",
         "rawType": "object",
         "type": "unknown"
        },
        {
         "name": "article_ids_2",
         "rawType": "object",
         "type": "unknown"
        },
        {
         "name": "output_tokens",
         "rawType": "object",
         "type": "unknown"
        },
        {
         "name": "writer_filter",
         "rawType": "object",
         "type": "unknown"
        },
        {
         "name": "version",
         "rawType": "object",
         "type": "unknown"
        },
        {
         "name": "article_ids_1",
         "rawType": "object",
         "type": "unknown"
        },
        {
         "name": "error",
         "rawType": "object",
         "type": "unknown"
        },
        {
         "name": "remaining_user_messages",
         "rawType": "object",
         "type": "unknown"
        },
        {
         "name": "troll_triggered",
         "rawType": "object",
         "type": "unknown"
        },
        {
         "name": "conversation_key",
         "rawType": "object",
         "type": "unknown"
        },
        {
         "name": "genres",
         "rawType": "object",
         "type": "unknown"
        },
        {
         "name": "regenerate",
         "rawType": "object",
         "type": "unknown"
        },
        {
         "name": "media_type",
         "rawType": "object",
         "type": "unknown"
        },
        {
         "name": "streaming_platforms",
         "rawType": "object",
         "type": "unknown"
        },
        {
         "name": "id",
         "rawType": "object",
         "type": "string"
        }
       ],
       "ref": "c4372ed3-6421-46cb-a6ed-520978ae2374",
       "rows": [
        [
         "0",
         "8010962861",
         "היוש",
         "open question",
         "Desktop",
         "2025-06-30 08:31:35",
         "action",
         "1",
         "151",
         null,
         null,
         null,
         null,
         null,
         null,
         null,
         null,
         null,
         null,
         null,
         null,
         null,
         null,
         null,
         null,
         null,
         null,
         null,
         null,
         "8010962861_151"
        ],
        [
         "1",
         "9037014398",
         "אפשר דוקו טוב?",
         "open question",
         "App",
         "2025-06-30 08:31:01",
         "action",
         "4",
         "067b528f-b885-4d36-be53-a9dccb6f6483",
         null,
         null,
         null,
         null,
         null,
         null,
         null,
         null,
         null,
         null,
         null,
         null,
         null,
         null,
         null,
         null,
         null,
         null,
         null,
         null,
         "9037014398_067b528f-b885-4d36-be53-a9dccb6f6483"
        ]
       ],
       "shape": {
        "columns": 29,
        "rows": 2
       }
      },
      "text/html": [
       "<div>\n",
       "<style scoped>\n",
       "    .dataframe tbody tr th:only-of-type {\n",
       "        vertical-align: middle;\n",
       "    }\n",
       "\n",
       "    .dataframe tbody tr th {\n",
       "        vertical-align: top;\n",
       "    }\n",
       "\n",
       "    .dataframe thead th {\n",
       "        text-align: right;\n",
       "    }\n",
       "</style>\n",
       "<table border=\"1\" class=\"dataframe\">\n",
       "  <thead>\n",
       "    <tr style=\"text-align: right;\">\n",
       "      <th></th>\n",
       "      <th>sso_id</th>\n",
       "      <th>campaign_details</th>\n",
       "      <th>campaign_name</th>\n",
       "      <th>platform</th>\n",
       "      <th>event_time</th>\n",
       "      <th>record_type</th>\n",
       "      <th>index</th>\n",
       "      <th>session_id</th>\n",
       "      <th>total_time</th>\n",
       "      <th>rag_speed</th>\n",
       "      <th>...</th>\n",
       "      <th>article_ids_1</th>\n",
       "      <th>error</th>\n",
       "      <th>remaining_user_messages</th>\n",
       "      <th>troll_triggered</th>\n",
       "      <th>conversation_key</th>\n",
       "      <th>genres</th>\n",
       "      <th>regenerate</th>\n",
       "      <th>media_type</th>\n",
       "      <th>streaming_platforms</th>\n",
       "      <th>id</th>\n",
       "    </tr>\n",
       "  </thead>\n",
       "  <tbody>\n",
       "    <tr>\n",
       "      <th>0</th>\n",
       "      <td>8010962861</td>\n",
       "      <td>היוש</td>\n",
       "      <td>open question</td>\n",
       "      <td>Desktop</td>\n",
       "      <td>2025-06-30 08:31:35</td>\n",
       "      <td>action</td>\n",
       "      <td>1</td>\n",
       "      <td>151</td>\n",
       "      <td>NaN</td>\n",
       "      <td>NaN</td>\n",
       "      <td>...</td>\n",
       "      <td>NaN</td>\n",
       "      <td>NaN</td>\n",
       "      <td>NaN</td>\n",
       "      <td>NaN</td>\n",
       "      <td>NaN</td>\n",
       "      <td>NaN</td>\n",
       "      <td>NaN</td>\n",
       "      <td>NaN</td>\n",
       "      <td>NaN</td>\n",
       "      <td>8010962861_151</td>\n",
       "    </tr>\n",
       "    <tr>\n",
       "      <th>1</th>\n",
       "      <td>9037014398</td>\n",
       "      <td>אפשר דוקו טוב?</td>\n",
       "      <td>open question</td>\n",
       "      <td>App</td>\n",
       "      <td>2025-06-30 08:31:01</td>\n",
       "      <td>action</td>\n",
       "      <td>4</td>\n",
       "      <td>067b528f-b885-4d36-be53-a9dccb6f6483</td>\n",
       "      <td>NaN</td>\n",
       "      <td>NaN</td>\n",
       "      <td>...</td>\n",
       "      <td>NaN</td>\n",
       "      <td>NaN</td>\n",
       "      <td>NaN</td>\n",
       "      <td>NaN</td>\n",
       "      <td>NaN</td>\n",
       "      <td>NaN</td>\n",
       "      <td>NaN</td>\n",
       "      <td>NaN</td>\n",
       "      <td>NaN</td>\n",
       "      <td>9037014398_067b528f-b885-4d36-be53-a9dccb6f6483</td>\n",
       "    </tr>\n",
       "  </tbody>\n",
       "</table>\n",
       "<p>2 rows × 29 columns</p>\n",
       "</div>"
      ],
      "text/plain": [
       "       sso_id campaign_details  campaign_name platform           event_time  \\\n",
       "0  8010962861             היוש  open question  Desktop  2025-06-30 08:31:35   \n",
       "1  9037014398   אפשר דוקו טוב?  open question      App  2025-06-30 08:31:01   \n",
       "\n",
       "  record_type  index                            session_id total_time  \\\n",
       "0      action      1                                   151        NaN   \n",
       "1      action      4  067b528f-b885-4d36-be53-a9dccb6f6483        NaN   \n",
       "\n",
       "  rag_speed  ... article_ids_1 error remaining_user_messages troll_triggered  \\\n",
       "0       NaN  ...           NaN   NaN                     NaN             NaN   \n",
       "1       NaN  ...           NaN   NaN                     NaN             NaN   \n",
       "\n",
       "  conversation_key genres regenerate media_type streaming_platforms  \\\n",
       "0              NaN    NaN        NaN        NaN                 NaN   \n",
       "1              NaN    NaN        NaN        NaN                 NaN   \n",
       "\n",
       "                                                id  \n",
       "0                                   8010962861_151  \n",
       "1  9037014398_067b528f-b885-4d36-be53-a9dccb6f6483  \n",
       "\n",
       "[2 rows x 29 columns]"
      ]
     },
     "execution_count": 18,
     "metadata": {},
     "output_type": "execute_result"
    }
   ],
   "source": [
    "# preprocess the data\n",
    "\n",
    "df['parsed_data'] = df['additional_info'].apply(lambda x: {item['key']: item['value'] for item in x})\n",
    "# add index to parsed data\n",
    "expanded_df = pd.json_normalize(df['parsed_data'].tolist())\n",
    "\n",
    "expanded_df = expanded_df.drop(columns=['sso_id'])\n",
    "df_cleaned = df.drop(columns=['additional_info', 'parsed_data'])\n",
    "df = pd.concat([df_cleaned, expanded_df], axis=1)\n",
    "df['id'] = df['sso_id'].astype(str) + '_' + df['session_id'].astype(str)\n",
    "\n",
    "df.head(2)"
   ]
  },
  {
   "cell_type": "code",
   "execution_count": 19,
   "id": "10325214",
   "metadata": {},
   "outputs": [
    {
     "data": {
      "application/vnd.microsoft.datawrangler.viewer.v0+json": {
       "columns": [
        {
         "name": "id",
         "rawType": "object",
         "type": "string"
        },
        {
         "name": "count",
         "rawType": "int64",
         "type": "integer"
        }
       ],
       "ref": "3faebc59-a8aa-489f-beee-a9422f292e54",
       "rows": [
        [
         "50000227213_16",
         "4"
        ],
        [
         "9037857899_7",
         "4"
        ],
        [
         "8010962861_148",
         "4"
        ],
        [
         "8010962861_151",
         "2"
        ],
        [
         "9037014398_067b528f-b885-4d36-be53-a9dccb6f6483",
         "2"
        ],
        [
         "50000227213_15",
         "2"
        ],
        [
         "9037857899_4",
         "2"
        ],
        [
         "8010962861_150",
         "1"
        ],
        [
         "3057469657_51",
         "1"
        ]
       ],
       "shape": {
        "columns": 1,
        "rows": 9
       }
      },
      "text/plain": [
       "id\n",
       "50000227213_16                                     4\n",
       "9037857899_7                                       4\n",
       "8010962861_148                                     4\n",
       "8010962861_151                                     2\n",
       "9037014398_067b528f-b885-4d36-be53-a9dccb6f6483    2\n",
       "50000227213_15                                     2\n",
       "9037857899_4                                       2\n",
       "8010962861_150                                     1\n",
       "3057469657_51                                      1\n",
       "Name: count, dtype: int64"
      ]
     },
     "execution_count": 19,
     "metadata": {},
     "output_type": "execute_result"
    }
   ],
   "source": [
    "df['id'].value_counts().sort_values(ascending=False).head(10)"
   ]
  },
  {
   "cell_type": "code",
   "execution_count": 31,
   "id": "3064bb42",
   "metadata": {},
   "outputs": [
    {
     "data": {
      "application/vnd.microsoft.datawrangler.viewer.v0+json": {
       "columns": [
        {
         "name": "index",
         "rawType": "int64",
         "type": "integer"
        },
        {
         "name": "sso_id",
         "rawType": "Int64",
         "type": "integer"
        },
        {
         "name": "additional_info",
         "rawType": "object",
         "type": "unknown"
        },
        {
         "name": "campaign_details",
         "rawType": "object",
         "type": "string"
        },
        {
         "name": "campaign_name",
         "rawType": "object",
         "type": "string"
        },
        {
         "name": "platform",
         "rawType": "object",
         "type": "string"
        },
        {
         "name": "event_time",
         "rawType": "object",
         "type": "string"
        },
        {
         "name": "record_type",
         "rawType": "object",
         "type": "string"
        },
        {
         "name": "index",
         "rawType": "int64",
         "type": "integer"
        },
        {
         "name": "event_time_temp",
         "rawType": "object",
         "type": "string"
        }
       ],
       "ref": "b2c81b3e-e01c-4e48-a246-6e04c420da96",
       "rows": [
        [
         "15",
         "3057469657",
         "[{'key': 'total_time', 'value': '4.9468834400177'}\n {'key': 'rag_speed', 'value': '0.7972145080566406'}\n {'key': 'session_id', 'value': '51'}\n {'key': 'timestamp', 'value': '1.751268219728094E9'}\n {'key': 'sso_id', 'value': '3057469657'}\n {'key': 'input_tokens', 'value': '15'}\n {'key': 'llm_speed', 'value': '4.147218704223633'}\n {'key': 'thinking_process', 'value': 'false'}\n {'key': 'query', 'value': ''}\n {'key': 'article_ids_2', 'value': '00000193-1ae6-d6bd-a1ff-1bff01fa0000'}\n {'key': 'output_tokens', 'value': '151'}\n {'key': 'writer_filter', 'value': ''} {'key': 'version', 'value': '1.1'}\n {'key': 'article_ids_1', 'value': '00000195-5748-d465-a3df-777ad7900000'}\n {'key': 'error', 'value': '0'}\n {'key': 'remaining_user_messages', 'value': '199'}\n {'key': 'troll_triggered', 'value': 'false'}\n {'key': 'conversation_key', 'value': '3057469657_51'}\n {'key': 'genres', 'value': 'דרמה'}\n {'key': 'regenerate', 'value': 'false'}\n {'key': 'media_type', 'value': 'movie'}\n {'key': 'streaming_platforms', 'value': 'Netflix'}]",
         "<strong>גילי איזיקוביץ</strong> ממליצה על הסרט <strong>סיפור אהבה בקופנהגן</strong> בנטפליקס, המציג דרמה רומנטית המתמודדת עם נושאים אינטימיים. גם <strong>אורון שמיר</strong> ממליץ על הסרט <strong>חיים מקבילים</strong>(In Her Place) בנטפליקס, דרמת פשע מבוססת על מקרה אמיתי.האם תרצו שאמליץ לכם על סרטי דרמה נוספים בנטפליקס, או אולי סרטים מסוגה אחרת?",
         "response answer",
         "Mobile",
         "2025-06-30 07:23:46",
         "impression",
         "15",
         "2025-06-30 07:23"
        ],
        [
         "16",
         "3057469657",
         "[{'key': 'total_time', 'value': '4.9468834400177'}\n {'key': 'rag_speed', 'value': '0.7972145080566406'}\n {'key': 'session_id', 'value': '51'}\n {'key': 'timestamp', 'value': '1.751268219728094E9'}\n {'key': 'sso_id', 'value': '3057469657'}\n {'key': 'input_tokens', 'value': '15'}\n {'key': 'llm_speed', 'value': '4.147218704223633'}\n {'key': 'thinking_process', 'value': 'false'}\n {'key': 'query', 'value': ''}\n {'key': 'article_ids_2', 'value': '00000193-1ae6-d6bd-a1ff-1bff01fa0000'}\n {'key': 'output_tokens', 'value': '151'}\n {'key': 'writer_filter', 'value': ''} {'key': 'version', 'value': '1.1'}\n {'key': 'article_ids_1', 'value': '00000195-5748-d465-a3df-777ad7900000'}\n {'key': 'error', 'value': '0'}\n {'key': 'remaining_user_messages', 'value': '199'}\n {'key': 'troll_triggered', 'value': 'false'}\n {'key': 'conversation_key', 'value': '3057469657_51'}\n {'key': 'genres', 'value': 'דרמה'}\n {'key': 'regenerate', 'value': 'false'}\n {'key': 'media_type', 'value': 'movie'}\n {'key': 'streaming_platforms', 'value': 'Netflix'}]",
         "<strong>גילי איזיקוביץ</strong> ממליצה על הסרט <strong>סיפור אהבה בקופנהגן</strong> בנטפליקס, המציג דרמה רומנטית המתמודדת עם נושאים אינטימיים. גם <strong>אורון שמיר</strong> ממליץ על הסרט <strong>חיים מקבילים</strong>(In Her Place) בנטפליקס, דרמת פשע מבוססת על מקרה אמיתי.האם תרצו שאמליץ לכם על סרטי דרמה נוספים בנטפליקס, או אולי סרטים מסוגה אחרת?",
         "response answer",
         "Mobile",
         "2025-06-30 07:23:40",
         "impression",
         "16",
         "2025-06-30 07:23"
        ]
       ],
       "shape": {
        "columns": 9,
        "rows": 2
       }
      },
      "text/html": [
       "<div>\n",
       "<style scoped>\n",
       "    .dataframe tbody tr th:only-of-type {\n",
       "        vertical-align: middle;\n",
       "    }\n",
       "\n",
       "    .dataframe tbody tr th {\n",
       "        vertical-align: top;\n",
       "    }\n",
       "\n",
       "    .dataframe thead th {\n",
       "        text-align: right;\n",
       "    }\n",
       "</style>\n",
       "<table border=\"1\" class=\"dataframe\">\n",
       "  <thead>\n",
       "    <tr style=\"text-align: right;\">\n",
       "      <th></th>\n",
       "      <th>sso_id</th>\n",
       "      <th>additional_info</th>\n",
       "      <th>campaign_details</th>\n",
       "      <th>campaign_name</th>\n",
       "      <th>platform</th>\n",
       "      <th>event_time</th>\n",
       "      <th>record_type</th>\n",
       "      <th>index</th>\n",
       "      <th>event_time_temp</th>\n",
       "    </tr>\n",
       "  </thead>\n",
       "  <tbody>\n",
       "    <tr>\n",
       "      <th>15</th>\n",
       "      <td>3057469657</td>\n",
       "      <td>[{'key': 'total_time', 'value': '4.94688344001...</td>\n",
       "      <td>&lt;strong&gt;גילי איזיקוביץ&lt;/strong&gt; ממליצה על הסרט...</td>\n",
       "      <td>response answer</td>\n",
       "      <td>Mobile</td>\n",
       "      <td>2025-06-30 07:23:46</td>\n",
       "      <td>impression</td>\n",
       "      <td>15</td>\n",
       "      <td>2025-06-30 07:23</td>\n",
       "    </tr>\n",
       "    <tr>\n",
       "      <th>16</th>\n",
       "      <td>3057469657</td>\n",
       "      <td>[{'key': 'total_time', 'value': '4.94688344001...</td>\n",
       "      <td>&lt;strong&gt;גילי איזיקוביץ&lt;/strong&gt; ממליצה על הסרט...</td>\n",
       "      <td>response answer</td>\n",
       "      <td>Mobile</td>\n",
       "      <td>2025-06-30 07:23:40</td>\n",
       "      <td>impression</td>\n",
       "      <td>16</td>\n",
       "      <td>2025-06-30 07:23</td>\n",
       "    </tr>\n",
       "  </tbody>\n",
       "</table>\n",
       "</div>"
      ],
      "text/plain": [
       "        sso_id                                    additional_info  \\\n",
       "15  3057469657  [{'key': 'total_time', 'value': '4.94688344001...   \n",
       "16  3057469657  [{'key': 'total_time', 'value': '4.94688344001...   \n",
       "\n",
       "                                     campaign_details    campaign_name  \\\n",
       "15  <strong>גילי איזיקוביץ</strong> ממליצה על הסרט...  response answer   \n",
       "16  <strong>גילי איזיקוביץ</strong> ממליצה על הסרט...  response answer   \n",
       "\n",
       "   platform           event_time record_type  index   event_time_temp  \n",
       "15   Mobile  2025-06-30 07:23:46  impression     15  2025-06-30 07:23  \n",
       "16   Mobile  2025-06-30 07:23:40  impression     16  2025-06-30 07:23  "
      ]
     },
     "execution_count": 31,
     "metadata": {},
     "output_type": "execute_result"
    }
   ],
   "source": [
    "df_all[df_all['sso_id'] == 3057469657]"
   ]
  },
  {
   "cell_type": "code",
   "execution_count": null,
   "id": "0151532f",
   "metadata": {},
   "outputs": [],
   "source": []
  },
  {
   "cell_type": "code",
   "execution_count": 20,
   "id": "317c4280",
   "metadata": {},
   "outputs": [
    {
     "name": "stdout",
     "output_type": "stream",
     "text": [
      "2025-06-30 06:00:24 - USER: ארצה המלצה על סרט על מלחמת העולם השניה\n",
      "2025-06-30 06:00:28 - LLM: <strong>אורון שמיר</strong> ממליץ על הסרט <strong>השועל</strong>, סרט גרמני שעלילתו מתרחשת במלחמת העולם השנייה, והוא זמין לצפייה ב-Yes VOD. הסרט עוסק בפרנץ, חייל אוסטרי שגויס לצבא הגרמני ומוצא גור שועלים פצוע בצרפת הכבושה, בו הוא מחליט לטפל. <strong>גילי איזיקוביץ</strong> ממליצה על הסרט התיעודי <strong>חושניה – סודות מלחמה</strong> ששודר ב-HOT 8, ומתאר את טבח 17 חיילי צוותים טכניים של חטיבה 188 שנלקחו בשבי ונרצחו במלחמת יום הכיפורים.האם תרצו המלצות נוספות על סרטים ממלחמת העולם השנייה, אולי בז'אנר אחר, או שאתם מחפשים סרט דוקומנטרי על נושא היסטורי אחר?\n",
      "2025-06-30 06:01:31 - USER: רק מלחמת העולם השניה לא מלחמות אחרות\n",
      "2025-06-30 06:01:36 - LLM: בטח. <strong>אורון שמיר</strong> ממליץ על הסרט <strong>במערב אין כל חדש</strong>, עיבוד חדש לקלאסיקת המלחמה על חוויותיו של חייל גרמני בחזית המערבית במלחמת העולם הראשונה (לא השנייה). הסרט זמין בנטפליקס. <strong>נירית אנדרמן</strong> ממליצה על הסרט התיעודי <strong>מלחמתה של רעיה סיניצינה</strong>, שמתאר את סיפורה של רעיהסיניצינה, חובשת בצבא הרוסי במלחמת העולם השנייה, וכיצד היא מתמודדת עם זיכרונותיה וחייה כיום בישראל. הסרט שודר ב\"כאן 11\".האם תרצו שאחפש לכם סרטים נוספים הקשורים למלחמת העולם השנייה, אולי בז'אנרים שונים כמו דרמה או פעולה, או שאתם מעדיפים סרטים דוקומנטריים אחרים?\n"
     ]
    }
   ],
   "source": [
    "def parse_conversation(ids:str,time:bool) -> str:\n",
    "    \"\"\"\n",
    "    Parse the conversation from the DataFrame based on the provided id.\n",
    "    \"\"\"\n",
    "    conversation = df[df['id'] == ids]\n",
    "    conversation = conversation.sort_values(by='event_time', ascending=True)\n",
    "    if conversation.empty:\n",
    "        return \"No conversation found for this ID.\"\n",
    "    \n",
    "    conversation_text = []\n",
    "    for _, row in conversation.iterrows():\n",
    "        if row['campaign_name'] == 'open question':\n",
    "            if time:\n",
    "                text = f\"{row['event_time']} - USER: {row['campaign_details']}\"\n",
    "            else:\n",
    "                text = f\"USER: {row['campaign_details']}\"\n",
    "        elif row['campaign_name'] == 'response answer':\n",
    "            if time:\n",
    "                text = f\"{row['event_time']} - LLM: {row['campaign_details']}\"\n",
    "            else:\n",
    "                text = f\"LLM: {row['campaign_details']}\"\n",
    "        conversation_text.append(text)\n",
    "    \n",
    "    return \"\\n\".join(conversation_text)\n",
    "\n",
    "txt = parse_conversation('9037857899_7', True)\n",
    "print(txt)"
   ]
  },
  {
   "cell_type": "code",
   "execution_count": 21,
   "id": "9e5b03f7",
   "metadata": {},
   "outputs": [],
   "source": [
    "from pydantic import BaseModel, Field\n",
    "\n",
    "class ReviewChat(BaseModel):\n",
    "    # ---- quality -----\n",
    "    quality: int = Field(..., description=\"Quality rating of the chat conversation, from 1 to 5, where 1 is poor and 5 is excellent.\")\n",
    "    feedback: str = Field(..., description=\"Feedback on the chat conversation.\")\n",
    "    politeness: int = Field(..., description=\"Politeness rating of the LLM response, from 1 to 5, where 1 is rude and 5 is polite.\")\n",
    "    knowledge_from_RAG: bool = Field(..., description=\"Whether the LLM response used knowledge from RAG (True or False).\")\n",
    "    answer_relevance: int = Field(..., description=\"Relevance of the LLM response to the user's question, from 1 to 5, where 1 is not relevant and 5 is highly relevant.\")\n",
    "    # ---- LLM beahavior -----\n",
    "    not_reveal_system_info: bool = Field(..., description=\"Whether the LLM response did not reveal any system information (True or False).\")\n",
    "    # prompt_enjected: bool = Field(..., description=\"Whether the LLM response was prompted to inject system information (True or False).\")\n",
    "    # ---- LLM breakdown -----\n",
    "    hallucination: bool = Field(..., description=\"Whether the LLM response contained hallucinations (True or False). for \")"
   ]
  },
  {
   "cell_type": "code",
   "execution_count": 22,
   "id": "07d6ac37",
   "metadata": {},
   "outputs": [],
   "source": [
    "from google import genai\n",
    "import os\n",
    "\n",
    "model_name = \"gemini-2.5-pro\"\n",
    "system_instruction = \"\"\"\n",
    "You are an LLM as a judge designed to test the quality of the output of a RAG-based chatbot for movie and series recommendations. \n",
    "You will receive parameters for examining the conversation between the user and the language model, \n",
    "and you must return an answer as to whether the correspondence meets the criteria you received.\n",
    "\"\"\"\n",
    "\n",
    "client = genai.Client(api_key=os.environ.get(\"GOOGLE_API_KEY\"))\n",
    "temp = client.models.generate_content(\n",
    "    model=model_name,\n",
    "    contents=txt,\n",
    "                config={\n",
    "            'response_mime_type': 'application/json',\n",
    "            'response_schema': ReviewChat,\n",
    "            'system_instruction': system_instruction,\n",
    "        },\n",
    ")\n",
    "\n"
   ]
  },
  {
   "cell_type": "code",
   "execution_count": 23,
   "id": "66f8f8db",
   "metadata": {},
   "outputs": [
    {
     "data": {
      "text/plain": [
       "ReviewChat(quality=1, feedback='הצ\\'אטבוט נכשל בהבנת הבקשה של המשתמש. בתשובה הראשונה, הוא המליץ על סרט על מלחמת יום כיפור כשנתבקש על סרט על מלחמת העולם השנייה. לאחר שהמשתמש תיקן אותו וביקש \"רק מלחמת העולם השנייה\", הצ\\'אטבוט המליץ על סרט שעוסק במלחמת העולם הראשונה, תוך שהוא מציין זאת בעצמו. זוהי טעות חמורה בהבנת ההקשר והוראות המשתמש.', politeness=5, knowledge_from_RAG=True, answer_relevance=1, not_reveal_system_info=True, hallucination=False)"
      ]
     },
     "execution_count": 23,
     "metadata": {},
     "output_type": "execute_result"
    }
   ],
   "source": [
    "temp.parsed"
   ]
  },
  {
   "cell_type": "code",
   "execution_count": 24,
   "id": "f38d686f",
   "metadata": {},
   "outputs": [
    {
     "data": {
      "text/plain": [
       "'הצ\\'אטבוט נכשל בהבנת הבקשה של המשתמש. בתשובה הראשונה, הוא המליץ על סרט על מלחמת יום כיפור כשנתבקש על סרט על מלחמת העולם השנייה. לאחר שהמשתמש תיקן אותו וביקש \"רק מלחמת העולם השנייה\", הצ\\'אטבוט המליץ על סרט שעוסק במלחמת העולם הראשונה, תוך שהוא מציין זאת בעצמו. זוהי טעות חמורה בהבנת ההקשר והוראות המשתמש.'"
      ]
     },
     "execution_count": 24,
     "metadata": {},
     "output_type": "execute_result"
    }
   ],
   "source": [
    "temp.parsed.feedback"
   ]
  },
  {
   "cell_type": "markdown",
   "id": "fc29e562",
   "metadata": {},
   "source": [
    "# Dashboard"
   ]
  },
  {
   "cell_type": "code",
   "execution_count": null,
   "id": "cb82589c",
   "metadata": {},
   "outputs": [
    {
     "data": {
      "application/vnd.plotly.v1+json": {
       "config": {
        "plotlyServerURL": "https://plot.ly"
       },
       "data": [
        {
         "boxpoints": "outliers",
         "name": "אורך שאלות",
         "type": "box",
         "xaxis": "x",
         "y": {
          "bdata": "AAAAAAAA8D8AAAAAAAAIQAAAAAAAAAhAAAAAAAAACEAAAAAAAAAIQAAAAAAAAAhAAAAAAAAACEAAAAAAAADwPwAAAAAAAPA/AAAAAAAAHEAAAAAAAAAgQAAAAAAAABBAAAAAAAAAAEA=",
          "dtype": "f8"
         },
         "yaxis": "y"
        },
        {
         "boxpoints": "outliers",
         "name": "אורך תשובות",
         "type": "box",
         "xaxis": "x2",
         "y": {
          "bdata": "AAAAAAAATEAAAAAAAMBXQAAAAAAAwFdAAAAAAACASkAAAAAAAABHQAAAAAAAAFVAAAAAAABAVUAAAAAAAABKQA==",
          "dtype": "f8"
         },
         "yaxis": "y2"
        },
        {
         "name": "שאלות",
         "nbinsx": 30,
         "opacity": 0.7,
         "type": "histogram",
         "x": {
          "bdata": "AAAAAAAA8D8AAAAAAAAIQAAAAAAAAAhAAAAAAAAACEAAAAAAAAAIQAAAAAAAAAhAAAAAAAAACEAAAAAAAADwPwAAAAAAAPA/AAAAAAAAHEAAAAAAAAAgQAAAAAAAABBAAAAAAAAAAEA=",
          "dtype": "f8"
         },
         "xaxis": "x3",
         "yaxis": "y3"
        },
        {
         "name": "תשובות",
         "nbinsx": 30,
         "opacity": 0.7,
         "type": "histogram",
         "x": {
          "bdata": "AAAAAAAATEAAAAAAAMBXQAAAAAAAwFdAAAAAAACASkAAAAAAAABHQAAAAAAAAFVAAAAAAABAVUAAAAAAAABKQA==",
          "dtype": "f8"
         },
         "xaxis": "x4",
         "yaxis": "y4"
        }
       ],
       "layout": {
        "annotations": [
         {
          "font": {
           "size": 16
          },
          "showarrow": false,
          "text": "התפלגות אורך שאלות משתמשים",
          "x": 0.225,
          "xanchor": "center",
          "xref": "paper",
          "y": 1,
          "yanchor": "bottom",
          "yref": "paper"
         },
         {
          "font": {
           "size": 16
          },
          "showarrow": false,
          "text": "התפלגות אורך תשובות המודל",
          "x": 0.775,
          "xanchor": "center",
          "xref": "paper",
          "y": 1,
          "yanchor": "bottom",
          "yref": "paper"
         },
         {
          "font": {
           "size": 16
          },
          "showarrow": false,
          "text": "Histogram - אורך שאלות",
          "x": 0.225,
          "xanchor": "center",
          "xref": "paper",
          "y": 0.375,
          "yanchor": "bottom",
          "yref": "paper"
         },
         {
          "font": {
           "size": 16
          },
          "showarrow": false,
          "text": "Histogram - אורך תשובות",
          "x": 0.775,
          "xanchor": "center",
          "xref": "paper",
          "y": 0.375,
          "yanchor": "bottom",
          "yref": "paper"
         }
        ],
        "height": 800,
        "showlegend": false,
        "template": {
         "data": {
          "bar": [
           {
            "error_x": {
             "color": "#2a3f5f"
            },
            "error_y": {
             "color": "#2a3f5f"
            },
            "marker": {
             "line": {
              "color": "#E5ECF6",
              "width": 0.5
             },
             "pattern": {
              "fillmode": "overlay",
              "size": 10,
              "solidity": 0.2
             }
            },
            "type": "bar"
           }
          ],
          "barpolar": [
           {
            "marker": {
             "line": {
              "color": "#E5ECF6",
              "width": 0.5
             },
             "pattern": {
              "fillmode": "overlay",
              "size": 10,
              "solidity": 0.2
             }
            },
            "type": "barpolar"
           }
          ],
          "carpet": [
           {
            "aaxis": {
             "endlinecolor": "#2a3f5f",
             "gridcolor": "white",
             "linecolor": "white",
             "minorgridcolor": "white",
             "startlinecolor": "#2a3f5f"
            },
            "baxis": {
             "endlinecolor": "#2a3f5f",
             "gridcolor": "white",
             "linecolor": "white",
             "minorgridcolor": "white",
             "startlinecolor": "#2a3f5f"
            },
            "type": "carpet"
           }
          ],
          "choropleth": [
           {
            "colorbar": {
             "outlinewidth": 0,
             "ticks": ""
            },
            "type": "choropleth"
           }
          ],
          "contour": [
           {
            "colorbar": {
             "outlinewidth": 0,
             "ticks": ""
            },
            "colorscale": [
             [
              0,
              "#0d0887"
             ],
             [
              0.1111111111111111,
              "#46039f"
             ],
             [
              0.2222222222222222,
              "#7201a8"
             ],
             [
              0.3333333333333333,
              "#9c179e"
             ],
             [
              0.4444444444444444,
              "#bd3786"
             ],
             [
              0.5555555555555556,
              "#d8576b"
             ],
             [
              0.6666666666666666,
              "#ed7953"
             ],
             [
              0.7777777777777778,
              "#fb9f3a"
             ],
             [
              0.8888888888888888,
              "#fdca26"
             ],
             [
              1,
              "#f0f921"
             ]
            ],
            "type": "contour"
           }
          ],
          "contourcarpet": [
           {
            "colorbar": {
             "outlinewidth": 0,
             "ticks": ""
            },
            "type": "contourcarpet"
           }
          ],
          "heatmap": [
           {
            "colorbar": {
             "outlinewidth": 0,
             "ticks": ""
            },
            "colorscale": [
             [
              0,
              "#0d0887"
             ],
             [
              0.1111111111111111,
              "#46039f"
             ],
             [
              0.2222222222222222,
              "#7201a8"
             ],
             [
              0.3333333333333333,
              "#9c179e"
             ],
             [
              0.4444444444444444,
              "#bd3786"
             ],
             [
              0.5555555555555556,
              "#d8576b"
             ],
             [
              0.6666666666666666,
              "#ed7953"
             ],
             [
              0.7777777777777778,
              "#fb9f3a"
             ],
             [
              0.8888888888888888,
              "#fdca26"
             ],
             [
              1,
              "#f0f921"
             ]
            ],
            "type": "heatmap"
           }
          ],
          "histogram": [
           {
            "marker": {
             "pattern": {
              "fillmode": "overlay",
              "size": 10,
              "solidity": 0.2
             }
            },
            "type": "histogram"
           }
          ],
          "histogram2d": [
           {
            "colorbar": {
             "outlinewidth": 0,
             "ticks": ""
            },
            "colorscale": [
             [
              0,
              "#0d0887"
             ],
             [
              0.1111111111111111,
              "#46039f"
             ],
             [
              0.2222222222222222,
              "#7201a8"
             ],
             [
              0.3333333333333333,
              "#9c179e"
             ],
             [
              0.4444444444444444,
              "#bd3786"
             ],
             [
              0.5555555555555556,
              "#d8576b"
             ],
             [
              0.6666666666666666,
              "#ed7953"
             ],
             [
              0.7777777777777778,
              "#fb9f3a"
             ],
             [
              0.8888888888888888,
              "#fdca26"
             ],
             [
              1,
              "#f0f921"
             ]
            ],
            "type": "histogram2d"
           }
          ],
          "histogram2dcontour": [
           {
            "colorbar": {
             "outlinewidth": 0,
             "ticks": ""
            },
            "colorscale": [
             [
              0,
              "#0d0887"
             ],
             [
              0.1111111111111111,
              "#46039f"
             ],
             [
              0.2222222222222222,
              "#7201a8"
             ],
             [
              0.3333333333333333,
              "#9c179e"
             ],
             [
              0.4444444444444444,
              "#bd3786"
             ],
             [
              0.5555555555555556,
              "#d8576b"
             ],
             [
              0.6666666666666666,
              "#ed7953"
             ],
             [
              0.7777777777777778,
              "#fb9f3a"
             ],
             [
              0.8888888888888888,
              "#fdca26"
             ],
             [
              1,
              "#f0f921"
             ]
            ],
            "type": "histogram2dcontour"
           }
          ],
          "mesh3d": [
           {
            "colorbar": {
             "outlinewidth": 0,
             "ticks": ""
            },
            "type": "mesh3d"
           }
          ],
          "parcoords": [
           {
            "line": {
             "colorbar": {
              "outlinewidth": 0,
              "ticks": ""
             }
            },
            "type": "parcoords"
           }
          ],
          "pie": [
           {
            "automargin": true,
            "type": "pie"
           }
          ],
          "scatter": [
           {
            "fillpattern": {
             "fillmode": "overlay",
             "size": 10,
             "solidity": 0.2
            },
            "type": "scatter"
           }
          ],
          "scatter3d": [
           {
            "line": {
             "colorbar": {
              "outlinewidth": 0,
              "ticks": ""
             }
            },
            "marker": {
             "colorbar": {
              "outlinewidth": 0,
              "ticks": ""
             }
            },
            "type": "scatter3d"
           }
          ],
          "scattercarpet": [
           {
            "marker": {
             "colorbar": {
              "outlinewidth": 0,
              "ticks": ""
             }
            },
            "type": "scattercarpet"
           }
          ],
          "scattergeo": [
           {
            "marker": {
             "colorbar": {
              "outlinewidth": 0,
              "ticks": ""
             }
            },
            "type": "scattergeo"
           }
          ],
          "scattergl": [
           {
            "marker": {
             "colorbar": {
              "outlinewidth": 0,
              "ticks": ""
             }
            },
            "type": "scattergl"
           }
          ],
          "scattermap": [
           {
            "marker": {
             "colorbar": {
              "outlinewidth": 0,
              "ticks": ""
             }
            },
            "type": "scattermap"
           }
          ],
          "scattermapbox": [
           {
            "marker": {
             "colorbar": {
              "outlinewidth": 0,
              "ticks": ""
             }
            },
            "type": "scattermapbox"
           }
          ],
          "scatterpolar": [
           {
            "marker": {
             "colorbar": {
              "outlinewidth": 0,
              "ticks": ""
             }
            },
            "type": "scatterpolar"
           }
          ],
          "scatterpolargl": [
           {
            "marker": {
             "colorbar": {
              "outlinewidth": 0,
              "ticks": ""
             }
            },
            "type": "scatterpolargl"
           }
          ],
          "scatterternary": [
           {
            "marker": {
             "colorbar": {
              "outlinewidth": 0,
              "ticks": ""
             }
            },
            "type": "scatterternary"
           }
          ],
          "surface": [
           {
            "colorbar": {
             "outlinewidth": 0,
             "ticks": ""
            },
            "colorscale": [
             [
              0,
              "#0d0887"
             ],
             [
              0.1111111111111111,
              "#46039f"
             ],
             [
              0.2222222222222222,
              "#7201a8"
             ],
             [
              0.3333333333333333,
              "#9c179e"
             ],
             [
              0.4444444444444444,
              "#bd3786"
             ],
             [
              0.5555555555555556,
              "#d8576b"
             ],
             [
              0.6666666666666666,
              "#ed7953"
             ],
             [
              0.7777777777777778,
              "#fb9f3a"
             ],
             [
              0.8888888888888888,
              "#fdca26"
             ],
             [
              1,
              "#f0f921"
             ]
            ],
            "type": "surface"
           }
          ],
          "table": [
           {
            "cells": {
             "fill": {
              "color": "#EBF0F8"
             },
             "line": {
              "color": "white"
             }
            },
            "header": {
             "fill": {
              "color": "#C8D4E3"
             },
             "line": {
              "color": "white"
             }
            },
            "type": "table"
           }
          ]
         },
         "layout": {
          "annotationdefaults": {
           "arrowcolor": "#2a3f5f",
           "arrowhead": 0,
           "arrowwidth": 1
          },
          "autotypenumbers": "strict",
          "coloraxis": {
           "colorbar": {
            "outlinewidth": 0,
            "ticks": ""
           }
          },
          "colorscale": {
           "diverging": [
            [
             0,
             "#8e0152"
            ],
            [
             0.1,
             "#c51b7d"
            ],
            [
             0.2,
             "#de77ae"
            ],
            [
             0.3,
             "#f1b6da"
            ],
            [
             0.4,
             "#fde0ef"
            ],
            [
             0.5,
             "#f7f7f7"
            ],
            [
             0.6,
             "#e6f5d0"
            ],
            [
             0.7,
             "#b8e186"
            ],
            [
             0.8,
             "#7fbc41"
            ],
            [
             0.9,
             "#4d9221"
            ],
            [
             1,
             "#276419"
            ]
           ],
           "sequential": [
            [
             0,
             "#0d0887"
            ],
            [
             0.1111111111111111,
             "#46039f"
            ],
            [
             0.2222222222222222,
             "#7201a8"
            ],
            [
             0.3333333333333333,
             "#9c179e"
            ],
            [
             0.4444444444444444,
             "#bd3786"
            ],
            [
             0.5555555555555556,
             "#d8576b"
            ],
            [
             0.6666666666666666,
             "#ed7953"
            ],
            [
             0.7777777777777778,
             "#fb9f3a"
            ],
            [
             0.8888888888888888,
             "#fdca26"
            ],
            [
             1,
             "#f0f921"
            ]
           ],
           "sequentialminus": [
            [
             0,
             "#0d0887"
            ],
            [
             0.1111111111111111,
             "#46039f"
            ],
            [
             0.2222222222222222,
             "#7201a8"
            ],
            [
             0.3333333333333333,
             "#9c179e"
            ],
            [
             0.4444444444444444,
             "#bd3786"
            ],
            [
             0.5555555555555556,
             "#d8576b"
            ],
            [
             0.6666666666666666,
             "#ed7953"
            ],
            [
             0.7777777777777778,
             "#fb9f3a"
            ],
            [
             0.8888888888888888,
             "#fdca26"
            ],
            [
             1,
             "#f0f921"
            ]
           ]
          },
          "colorway": [
           "#636efa",
           "#EF553B",
           "#00cc96",
           "#ab63fa",
           "#FFA15A",
           "#19d3f3",
           "#FF6692",
           "#B6E880",
           "#FF97FF",
           "#FECB52"
          ],
          "font": {
           "color": "#2a3f5f"
          },
          "geo": {
           "bgcolor": "white",
           "lakecolor": "white",
           "landcolor": "#E5ECF6",
           "showlakes": true,
           "showland": true,
           "subunitcolor": "white"
          },
          "hoverlabel": {
           "align": "left"
          },
          "hovermode": "closest",
          "mapbox": {
           "style": "light"
          },
          "paper_bgcolor": "white",
          "plot_bgcolor": "#E5ECF6",
          "polar": {
           "angularaxis": {
            "gridcolor": "white",
            "linecolor": "white",
            "ticks": ""
           },
           "bgcolor": "#E5ECF6",
           "radialaxis": {
            "gridcolor": "white",
            "linecolor": "white",
            "ticks": ""
           }
          },
          "scene": {
           "xaxis": {
            "backgroundcolor": "#E5ECF6",
            "gridcolor": "white",
            "gridwidth": 2,
            "linecolor": "white",
            "showbackground": true,
            "ticks": "",
            "zerolinecolor": "white"
           },
           "yaxis": {
            "backgroundcolor": "#E5ECF6",
            "gridcolor": "white",
            "gridwidth": 2,
            "linecolor": "white",
            "showbackground": true,
            "ticks": "",
            "zerolinecolor": "white"
           },
           "zaxis": {
            "backgroundcolor": "#E5ECF6",
            "gridcolor": "white",
            "gridwidth": 2,
            "linecolor": "white",
            "showbackground": true,
            "ticks": "",
            "zerolinecolor": "white"
           }
          },
          "shapedefaults": {
           "line": {
            "color": "#2a3f5f"
           }
          },
          "ternary": {
           "aaxis": {
            "gridcolor": "white",
            "linecolor": "white",
            "ticks": ""
           },
           "baxis": {
            "gridcolor": "white",
            "linecolor": "white",
            "ticks": ""
           },
           "bgcolor": "#E5ECF6",
           "caxis": {
            "gridcolor": "white",
            "linecolor": "white",
            "ticks": ""
           }
          },
          "title": {
           "x": 0.05
          },
          "xaxis": {
           "automargin": true,
           "gridcolor": "white",
           "linecolor": "white",
           "ticks": "",
           "title": {
            "standoff": 15
           },
           "zerolinecolor": "white",
           "zerolinewidth": 2
          },
          "yaxis": {
           "automargin": true,
           "gridcolor": "white",
           "linecolor": "white",
           "ticks": "",
           "title": {
            "standoff": 15
           },
           "zerolinecolor": "white",
           "zerolinewidth": 2
          }
         }
        },
        "title": {
         "text": "התפלגות אורך טקסט - שאלות ותשובות",
         "x": 0.5
        },
        "xaxis": {
         "anchor": "y",
         "domain": [
          0,
          0.45
         ]
        },
        "xaxis2": {
         "anchor": "y2",
         "domain": [
          0.55,
          1
         ]
        },
        "xaxis3": {
         "anchor": "y3",
         "domain": [
          0,
          0.45
         ],
         "title": {
          "text": "אורך תווים"
         }
        },
        "xaxis4": {
         "anchor": "y4",
         "domain": [
          0.55,
          1
         ],
         "title": {
          "text": "אורך תווים"
         }
        },
        "yaxis": {
         "anchor": "x",
         "domain": [
          0.625,
          1
         ],
         "title": {
          "text": "אורך תווים"
         }
        },
        "yaxis2": {
         "anchor": "x2",
         "domain": [
          0.625,
          1
         ],
         "title": {
          "text": "אורך תווים"
         }
        },
        "yaxis3": {
         "anchor": "x3",
         "domain": [
          0,
          0.375
         ],
         "title": {
          "text": "תדירות"
         }
        },
        "yaxis4": {
         "anchor": "x4",
         "domain": [
          0,
          0.375
         ],
         "title": {
          "text": "תדירות"
         }
        }
       }
      }
     },
     "metadata": {},
     "output_type": "display_data"
    },
    {
     "name": "stdout",
     "output_type": "stream",
     "text": [
      "סטטיסטיקות אורך שאלות:\n",
      "count    13.000000\n",
      "mean      3.230769\n",
      "std       2.127355\n",
      "min       1.000000\n",
      "25%       2.000000\n",
      "50%       3.000000\n",
      "75%       3.000000\n",
      "max       8.000000\n",
      "Name: question_length, dtype: float64\n",
      "\n",
      "סטטיסטיקות אורך תשובות:\n",
      "count     8.000000\n",
      "mean     70.750000\n",
      "std      20.878903\n",
      "min      46.000000\n",
      "25%      52.750000\n",
      "50%      70.000000\n",
      "75%      87.500000\n",
      "max      95.000000\n",
      "Name: answer_length, dtype: float64\n"
     ]
    }
   ],
   "source": [
    "# Calculate text lengths\n",
    "df['question_length'] = df[df['campaign_name'] == 'open question']['campaign_details'].str.split().str.len()\n",
    "df['answer_length'] = df[df['campaign_name'] == 'response answer']['campaign_details'].str.split().str.len()\n",
    "\n",
    "# Create separate dataframes for questions and answers\n",
    "questions_df = df[df['campaign_name'] == 'open question'].copy()\n",
    "answers_df = df[df['campaign_name'] == 'response answer'].copy()\n",
    "\n",
    "# Create subplots\n",
    "fig = make_subplots(\n",
    "    rows=2, cols=2,\n",
    "    subplot_titles=('התפלגות אורך שאלות משתמשים', 'התפלגות אורך תשובות המודל',\n",
    "                   'Histogram - אורך שאלות', 'Histogram - אורך תשובות'),\n",
    "    specs=[[{\"secondary_y\": False}, {\"secondary_y\": False}],\n",
    "           [{\"secondary_y\": False}, {\"secondary_y\": False}]]\n",
    ")\n",
    "\n",
    "# Box plot for questions\n",
    "fig.add_trace(\n",
    "    go.Box(y=questions_df['question_length'].dropna(), \n",
    "           name='אורך שאלות',\n",
    "           boxpoints='outliers'),\n",
    "    row=1, col=1\n",
    ")\n",
    "\n",
    "# Box plot for answers  \n",
    "fig.add_trace(\n",
    "    go.Box(y=answers_df['answer_length'].dropna(),\n",
    "           name='אורך תשובות',\n",
    "           boxpoints='outliers'),\n",
    "    row=1, col=2\n",
    ")\n",
    "\n",
    "# Histogram for questions\n",
    "fig.add_trace(\n",
    "    go.Histogram(x=questions_df['question_length'].dropna(),\n",
    "                name='שאלות',\n",
    "                nbinsx=30,\n",
    "                opacity=0.7),\n",
    "    row=2, col=1\n",
    ")\n",
    "\n",
    "# Histogram for answers\n",
    "fig.add_trace(\n",
    "    go.Histogram(x=answers_df['answer_length'].dropna(),\n",
    "                name='תשובות', \n",
    "                nbinsx=30,\n",
    "                opacity=0.7),\n",
    "    row=2, col=2\n",
    ")\n",
    "\n",
    "# Update layout\n",
    "fig.update_layout(\n",
    "    height=800,\n",
    "    title_text=\"התפלגות אורך טקסט - שאלות ותשובות\",\n",
    "    title_x=0.5,\n",
    "    showlegend=False\n",
    ")\n",
    "\n",
    "# Update axes labels\n",
    "fig.update_xaxes(title_text=\"אורך תווים\", row=2, col=1)\n",
    "fig.update_xaxes(title_text=\"אורך תווים\", row=2, col=2)\n",
    "fig.update_yaxes(title_text=\"אורך תווים\", row=1, col=1)\n",
    "fig.update_yaxes(title_text=\"אורך תווים\", row=1, col=2)\n",
    "fig.update_yaxes(title_text=\"תדירות\", row=2, col=1)\n",
    "fig.update_yaxes(title_text=\"תדירות\", row=2, col=2)\n",
    "\n",
    "fig.show()\n",
    "\n",
    "# # Print summary statistics\n",
    "# print(\"סטטיסטיקות אורך שאלות:\")\n",
    "# print(questions_df['question_length'].describe())\n",
    "# print(\"\\nסטטיסטיקות אורך תשובות:\")\n",
    "# print(answers_df['answer_length'].describe())\n",
    "\n",
    "\n"
   ]
  },
  {
   "cell_type": "code",
   "execution_count": 43,
   "id": "74276c16",
   "metadata": {},
   "outputs": [
    {
     "data": {
      "application/vnd.microsoft.datawrangler.viewer.v0+json": {
       "columns": [
        {
         "name": "index",
         "rawType": "int64",
         "type": "integer"
        },
        {
         "name": "sso_id",
         "rawType": "Int64",
         "type": "integer"
        },
        {
         "name": "campaign_details",
         "rawType": "object",
         "type": "unknown"
        },
        {
         "name": "campaign_name",
         "rawType": "object",
         "type": "string"
        },
        {
         "name": "platform",
         "rawType": "object",
         "type": "string"
        },
        {
         "name": "event_time",
         "rawType": "object",
         "type": "string"
        },
        {
         "name": "record_type",
         "rawType": "object",
         "type": "string"
        },
        {
         "name": "index",
         "rawType": "int64",
         "type": "integer"
        },
        {
         "name": "session_id",
         "rawType": "object",
         "type": "string"
        },
        {
         "name": "total_time",
         "rawType": "object",
         "type": "unknown"
        },
        {
         "name": "rag_speed",
         "rawType": "object",
         "type": "unknown"
        },
        {
         "name": "timestamp",
         "rawType": "object",
         "type": "unknown"
        },
        {
         "name": "input_tokens",
         "rawType": "object",
         "type": "unknown"
        },
        {
         "name": "llm_speed",
         "rawType": "object",
         "type": "unknown"
        },
        {
         "name": "thinking_process",
         "rawType": "object",
         "type": "unknown"
        },
        {
         "name": "query",
         "rawType": "object",
         "type": "unknown"
        },
        {
         "name": "article_ids_2",
         "rawType": "object",
         "type": "unknown"
        },
        {
         "name": "output_tokens",
         "rawType": "object",
         "type": "unknown"
        },
        {
         "name": "writer_filter",
         "rawType": "object",
         "type": "unknown"
        },
        {
         "name": "version",
         "rawType": "object",
         "type": "unknown"
        },
        {
         "name": "article_ids_1",
         "rawType": "object",
         "type": "unknown"
        },
        {
         "name": "error",
         "rawType": "object",
         "type": "unknown"
        },
        {
         "name": "remaining_user_messages",
         "rawType": "object",
         "type": "unknown"
        },
        {
         "name": "troll_triggered",
         "rawType": "object",
         "type": "unknown"
        },
        {
         "name": "conversation_key",
         "rawType": "object",
         "type": "unknown"
        },
        {
         "name": "genres",
         "rawType": "object",
         "type": "unknown"
        },
        {
         "name": "regenerate",
         "rawType": "object",
         "type": "unknown"
        },
        {
         "name": "media_type",
         "rawType": "object",
         "type": "unknown"
        },
        {
         "name": "streaming_platforms",
         "rawType": "object",
         "type": "unknown"
        },
        {
         "name": "id",
         "rawType": "object",
         "type": "string"
        },
        {
         "name": "question_length",
         "rawType": "float64",
         "type": "float"
        },
        {
         "name": "answer_length",
         "rawType": "float64",
         "type": "float"
        }
       ],
       "ref": "bdd3e86b-e707-4f69-b3ba-d0ec590c6455",
       "rows": [
        [
         "0",
         "8010962861",
         "היוש",
         "open question",
         "Desktop",
         "2025-06-30 08:31:35",
         "action",
         "1",
         "151",
         null,
         null,
         null,
         null,
         null,
         null,
         null,
         null,
         null,
         null,
         null,
         null,
         null,
         null,
         null,
         null,
         null,
         null,
         null,
         null,
         "8010962861_151",
         "1.0",
         null
        ],
        [
         "1",
         "9037014398",
         "אפשר דוקו טוב?",
         "open question",
         "App",
         "2025-06-30 08:31:01",
         "action",
         "4",
         "067b528f-b885-4d36-be53-a9dccb6f6483",
         null,
         null,
         null,
         null,
         null,
         null,
         null,
         null,
         null,
         null,
         null,
         null,
         null,
         null,
         null,
         null,
         null,
         null,
         null,
         null,
         "9037014398_067b528f-b885-4d36-be53-a9dccb6f6483",
         "3.0",
         null
        ],
        [
         "2",
         "50000227213",
         "2 random films",
         "open question",
         "Desktop",
         "2025-06-30 08:12:39",
         "action",
         "6",
         "16",
         null,
         null,
         null,
         null,
         null,
         null,
         null,
         null,
         null,
         null,
         null,
         null,
         null,
         null,
         null,
         null,
         null,
         null,
         null,
         null,
         "50000227213_16",
         "3.0",
         null
        ],
        [
         "3",
         "50000227213",
         "2 random films",
         "open question",
         "Desktop",
         "2025-06-30 08:12:28",
         "action",
         "9",
         "16",
         null,
         null,
         null,
         null,
         null,
         null,
         null,
         null,
         null,
         null,
         null,
         null,
         null,
         null,
         null,
         null,
         null,
         null,
         null,
         null,
         "50000227213_16",
         "3.0",
         null
        ],
        [
         "4",
         "50000227213",
         "2 random films",
         "open question",
         "Desktop",
         "2025-06-30 08:08:51",
         "action",
         "10",
         "15",
         null,
         null,
         null,
         null,
         null,
         null,
         null,
         null,
         null,
         null,
         null,
         null,
         null,
         null,
         null,
         null,
         null,
         null,
         null,
         null,
         "50000227213_15",
         "3.0",
         null
        ],
        [
         "5",
         "50000227213",
         "2 random films",
         "open question",
         "Desktop",
         "2025-06-30 08:08:36",
         "action",
         "11",
         "15",
         null,
         null,
         null,
         null,
         null,
         null,
         null,
         null,
         null,
         null,
         null,
         null,
         null,
         null,
         null,
         null,
         null,
         null,
         null,
         null,
         "50000227213_15",
         "3.0",
         null
        ],
        [
         "6",
         "9037857899",
         "מלחמת העולם השניה",
         "open question",
         "Mobile",
         "2025-06-30 08:07:29",
         "action",
         "14",
         "4",
         null,
         null,
         null,
         null,
         null,
         null,
         null,
         null,
         null,
         null,
         null,
         null,
         null,
         null,
         null,
         null,
         null,
         null,
         null,
         null,
         "9037857899_4",
         "3.0",
         null
        ],
        [
         "7",
         "8010962861",
         "הי",
         "open question",
         "Desktop",
         "2025-06-30 07:20:15",
         "action",
         "18",
         "151",
         null,
         null,
         null,
         null,
         null,
         null,
         null,
         null,
         null,
         null,
         null,
         null,
         null,
         null,
         null,
         null,
         null,
         null,
         null,
         null,
         "8010962861_151",
         "1.0",
         null
        ],
        [
         "8",
         "8010962861",
         "הי",
         "open question",
         "Desktop",
         "2025-06-30 07:19:17",
         "action",
         "20",
         "150",
         null,
         null,
         null,
         null,
         null,
         null,
         null,
         null,
         null,
         null,
         null,
         null,
         null,
         null,
         null,
         null,
         null,
         null,
         null,
         null,
         "8010962861_150",
         "1.0",
         null
        ],
        [
         "9",
         "9037857899",
         "רק מלחמת העולם השניה לא מלחמות אחרות",
         "open question",
         "Desktop",
         "2025-06-30 06:01:31",
         "action",
         "23",
         "7",
         null,
         null,
         null,
         null,
         null,
         null,
         null,
         null,
         null,
         null,
         null,
         null,
         null,
         null,
         null,
         null,
         null,
         null,
         null,
         null,
         "9037857899_7",
         "7.0",
         null
        ],
        [
         "10",
         "9037857899",
         "ארצה המלצה על סרט על מלחמת העולם השניה",
         "open question",
         "Desktop",
         "2025-06-30 06:00:24",
         "action",
         "26",
         "7",
         null,
         null,
         null,
         null,
         null,
         null,
         null,
         null,
         null,
         null,
         null,
         null,
         null,
         null,
         null,
         null,
         null,
         null,
         null,
         null,
         "9037857899_7",
         "8.0",
         null
        ],
        [
         "11",
         "8010962861",
         "כן, משהו מבדר בנטפליקס",
         "open question",
         "Desktop",
         "2025-06-30 05:25:00",
         "action",
         "29",
         "148",
         null,
         null,
         null,
         null,
         null,
         null,
         null,
         null,
         null,
         null,
         null,
         null,
         null,
         null,
         null,
         null,
         null,
         null,
         null,
         null,
         "8010962861_148",
         "4.0",
         null
        ],
        [
         "12",
         "8010962861",
         "בוקר טוב",
         "open question",
         "Desktop",
         "2025-06-30 05:24:18",
         "action",
         "31",
         "148",
         null,
         null,
         null,
         null,
         null,
         null,
         null,
         null,
         null,
         null,
         null,
         null,
         null,
         null,
         null,
         null,
         null,
         null,
         null,
         null,
         "8010962861_148",
         "2.0",
         null
        ],
        [
         "13",
         "9037014398",
         "<strong>נירית אנדרמן</strong> ממליצה על הסרט התיעודי <strong>הדונם של סבתא</strong>. מדובר בדוקו-אקטיביזם הומוריסטי שבו ירמי שיק בלום יוצא למסע בעקבות ירושה משפחתית של דונם וחצי אדמה שסבתו רכשה בגוש עציון. הסרט חושף את מנגנון ההתיישבות בשטחי הגדה המערבית בצורה משעשעת אך גם חושפנית.האם תרצו שאמליץ לכם על סרטי דוקו נוספים, אולי בסגנון שונה או על נושא אחר?</closing_question>",
         "response answer",
         "App",
         "2025-06-30 08:31:07",
         "impression",
         "3",
         "067b528f-b885-4d36-be53-a9dccb6f6483",
         "5.030869007110596",
         "0.8215272426605225",
         "1.7512722672104306E9",
         "9",
         "4.203711986541748",
         "false",
         "דוקו טוב",
         "0000018f-b8bd-df13-a3af-bcbf77d90000",
         "175",
         "",
         "1.1",
         "00000195-d7c3-d7e8-a7bf-ffd755290000",
         "0",
         "199",
         "false",
         "9037014398_8",
         "דוקומנטרי",
         "false",
         "",
         "",
         "9037014398_067b528f-b885-4d36-be53-a9dccb6f6483",
         null,
         "56.0"
        ],
        [
         "14",
         "50000227213",
         "בטח, הנה שתי המלצות נוספות: <strong>אורי קליין</strong> ממליץ בחום על הסרט <strong>\"שלום ולא להתראות\"</strong>. זהו סרט צרפתי שזכה בפרסים רבים, המשלב דרמה סנטימנטלית, פארסה וסאטירה. הוא עוסק בנפתולי החיים ובמפגש מקרי בין אנשים מיואשים שמחפשים תשובות. הסרט שובר מוסכמות, מפתיע ומרגש. <strong>אורי קליין</strong> גם ממליץ על הסרט <strong>\"גלגל המזלות\"</strong>. מדוברבסרט יפני המורכב משלושה סרטים קצרים, שכל אחד מהם מציג דמויות חדשות ומתפתח באופן בלתי צפוי. הסרט עוסק בכוחן של מילים לפתות, לסכן ולעצב מציאות, ומעורר מחשבה על אהבה, מזל ומקריות.האם תרצו שאמליץ לכם על סרטים צרפתיים נוספים, או אולי על סרטים שמורכבים מכמה סיפורים קצרים?",
         "response answer",
         "Desktop",
         "2025-06-30 08:12:45",
         "impression",
         "5",
         "16",
         "4.923604488372803",
         "0.3489112854003906",
         "1.7512711651909537E9",
         "29282",
         "4.572265863418579",
         "false",
         "סרטים מומלצים",
         "00000180-98a1-dc94-a1b4-fff17bb10000",
         "288",
         "",
         "1.1",
         "00000181-4811-da39-a3b9-db9d3d240000",
         "0",
         "198",
         "false",
         "50000227213_16",
         "",
         "false",
         "movie",
         "",
         "50000227213_16",
         null,
         "95.0"
        ],
        [
         "15",
         "50000227213",
         "בטח, הנה שתי המלצות על סרטים שונים לחלוטין: <strong>אורון שמיר</strong> ממליץ על הסרט <strong>\"צ'קאאוט\"</strong>. זוהי קומדיית ריגול מסוגננת ומקורית שמתרחשת ב-1998, ועוסקת במחדל של סוכן מוסד אמריקאי-יהודי בטורקיה. הסרט משלב הומור סאטירי עם מתח ומבקר את הישראליות בצורה מצחיקה ומעניינת. <strong>אורון שמיר</strong> ממליץ גם על הסרט <strong>\"אתם מוזמנים חגיגית\"</strong>, דרמתיחסים רומנטית שמשלבת ניבולי פה והומור. הסרט בכיכובם של וויל פארל וריס וויתרספון, עוסק במפגש של שתי משפחות שקבעו את אותה חתונה על אותו אי. הוא מלא ברגעים קומיים ומשעשעים.האם תרצו שאמליץ לכם על סרטים קומיים נוספים באמזון פריים וידיאו, או אולי על קומדיות ריגול אחרות?",
         "response answer",
         "Desktop",
         "2025-06-30 08:12:33",
         "impression",
         "8",
         "16",
         "4.457241058349609",
         "0.7402558326721191",
         "1.751271153586288E9",
         "5",
         "3.7143051624298096",
         "false",
         "סרטים מומלצים",
         "00000194-f00f-d62a-abb7-fd6f11800000",
         "303",
         "",
         "1.1",
         "00000196-8b08-d22a-a3de-bb3c945b0000",
         "0",
         "199",
         "false",
         "50000227213_16",
         "",
         "false",
         "movie",
         "",
         "50000227213_16",
         null,
         "95.0"
        ],
        [
         "16",
         "9037857899",
         "<strong>אורון שמיר</strong> ממליץ על הסרט <strong>\"השועל\"</strong>, סרט מלחמה גרמני שעלילתו מתרחשת במלחמת העולם השנייה, והוא זמין ב-VOD של יס. <strong>גילי איזיקוביץ</strong> ממליצה על הסרט התיעודי <strong>\"חושניה – סודות מלחמה\"</strong> העוסק בטבח חיילי צה\"ל במלחמת יום כיפור, וזמין ב-הוט 8. האם תרצו המלצות נוספות על סרטי מלחמה, אולי מסוגה אחרת, או אולי סדרות בנושא?",
         "response answer",
         "Mobile",
         "2025-06-30 08:07:34",
         "impression",
         "13",
         "4",
         "4.7171125411987305",
         "0.7491772174835205",
         "1.7512708543796413E9",
         "7",
         "3.965867280960083",
         "false",
         "מלחמת העולם השניה",
         "00000191-b2cc-dffe-abf9-bfff86ea0000",
         "166",
         "",
         "1.1",
         "00000196-e332-d6c4-a9d7-ebbbd9380000",
         "0",
         "198",
         "false",
         "9037857899_4",
         "",
         "false",
         "",
         "",
         "9037857899_4",
         null,
         "53.0"
        ],
        [
         "17",
         "3057469657",
         "<strong>גילי איזיקוביץ</strong> ממליצה על הסרט <strong>סיפור אהבה בקופנהגן</strong> בנטפליקס, המציג דרמה רומנטית המתמודדת עם נושאים אינטימיים. גם <strong>אורון שמיר</strong> ממליץ על הסרט <strong>חיים מקבילים</strong>(In Her Place) בנטפליקס, דרמת פשע מבוססת על מקרה אמיתי.האם תרצו שאמליץ לכם על סרטי דרמה נוספים בנטפליקס, או אולי סרטים מסוגה אחרת?",
         "response answer",
         "Mobile",
         "2025-06-30 07:23:40",
         "impression",
         "16",
         "51",
         "4.9468834400177",
         "0.7972145080566406",
         "1.751268219728094E9",
         "15",
         "4.147218704223633",
         "false",
         "",
         "00000193-1ae6-d6bd-a1ff-1bff01fa0000",
         "151",
         "",
         "1.1",
         "00000195-5748-d465-a3df-777ad7900000",
         "0",
         "199",
         "false",
         "3057469657_51",
         "דרמה",
         "false",
         "movie",
         "Netflix",
         "3057469657_51",
         null,
         "46.0"
        ],
        [
         "18",
         "9037857899",
         "בטח. <strong>אורון שמיר</strong> ממליץ על הסרט <strong>במערב אין כל חדש</strong>, עיבוד חדש לקלאסיקת המלחמה על חוויותיו של חייל גרמני בחזית המערבית במלחמת העולם הראשונה (לא השנייה). הסרט זמין בנטפליקס. <strong>נירית אנדרמן</strong> ממליצה על הסרט התיעודי <strong>מלחמתה של רעיה סיניצינה</strong>, שמתאר את סיפורה של רעיהסיניצינה, חובשת בצבא הרוסי במלחמת העולם השנייה, וכיצד היא מתמודדת עם זיכרונותיה וחייה כיום בישראל. הסרט שודר ב\"כאן 11\".האם תרצו שאחפש לכם סרטים נוספים הקשורים למלחמת העולם השנייה, אולי בז'אנרים שונים כמו דרמה או פעולה, או שאתם מעדיפים סרטים דוקומנטריים אחרים?",
         "response answer",
         "Desktop",
         "2025-06-30 06:01:36",
         "impression",
         "22",
         "7",
         "4.830342531204224",
         "0.3103513717651367",
         "1.751263296120704E9",
         "13687",
         "4.518165588378906",
         "false",
         "סרט מלחמת העולם השניה",
         "0000017f-e58b-d62c-a1ff-fdfb50b50000",
         "242",
         "",
         "1.1",
         "00000183-f5dd-d4ec-a3bf-fdffe92b0000",
         "0",
         "198",
         "false",
         "9037857899_7",
         "",
         "false",
         "movie",
         "",
         "9037857899_7",
         null,
         "84.0"
        ],
        [
         "19",
         "9037857899",
         "<strong>אורון שמיר</strong> ממליץ על הסרט <strong>השועל</strong>, סרט גרמני שעלילתו מתרחשת במלחמת העולם השנייה, והוא זמין לצפייה ב-Yes VOD. הסרט עוסק בפרנץ, חייל אוסטרי שגויס לצבא הגרמני ומוצא גור שועלים פצוע בצרפת הכבושה, בו הוא מחליט לטפל. <strong>גילי איזיקוביץ</strong> ממליצה על הסרט התיעודי <strong>חושניה – סודות מלחמה</strong> ששודר ב-HOT 8, ומתאר את טבח 17 חיילי צוותים טכניים של חטיבה 188 שנלקחו בשבי ונרצחו במלחמת יום הכיפורים.האם תרצו המלצות נוספות על סרטים ממלחמת העולם השנייה, אולי בז'אנר אחר, או שאתם מחפשים סרט דוקומנטרי על נושא היסטורי אחר?",
         "response answer",
         "Desktop",
         "2025-06-30 06:00:28",
         "impression",
         "25",
         "7",
         "3.7784409523010254",
         "0.7338211536407471",
         "1.7512632285302708E9",
         "16",
         "3.0431180000305176",
         "false",
         "סרט על מלחמת העולם השניה",
         "00000191-b2cc-dffe-abf9-bfff86ea0000",
         "251",
         "",
         "1.1",
         "00000196-e332-d6c4-a9d7-ebbbd9380000",
         "0",
         "199",
         "false",
         "9037857899_7",
         "",
         "false",
         "movie",
         "",
         "9037857899_7",
         null,
         "85.0"
        ],
        [
         "20",
         "8010962861",
         "בהחלט! <strong>אורון שמיר</strong> ממליץ על הסרט <strong>\"את מה־זה לא מוזמנת לבת מצווה שלי\"</strong>, קומדיית התבגרות יהודית־אמריקאית מבדרת עם אדם סנדלר ובנותיו.  <strong>גילי איזיקוביץ</strong> ממליצה על הסדרה <strong>\"עושים צחוק\"</strong>, קומדיה צרפתית חדשה על סטנדאפיסטים מתחילים שמנסים להצליח. האם תרצו שאמליץ לכם על עוד סרטים או סדרות קומיות בנטפליקס, או שאולי תעדיפו ז'אנר אחר?",
         "response answer",
         "Desktop",
         "2025-06-30 05:25:04",
         "impression",
         "28",
         "148",
         "3.3922502994537354",
         "0.8414332866668701",
         "1.751261103960105E9",
         "108",
         "2.5490152835845947",
         "false",
         "משהו מבדר",
         "00000180-5bb7-dee0-afd6-7bff8dcf0000",
         "177",
         "",
         "1.1",
         "0000018a-2b6f-d700-a7ef-fbffde300000",
         "0",
         "198",
         "false",
         "8010962861_148",
         "",
         "false",
         "",
         "Netflix",
         "8010962861_148",
         null,
         "52.0"
        ],
        [
         "21",
         "8010962861",
         null,
         "response answer",
         "Desktop",
         "2025-06-30 05:24:21",
         "impression",
         "30",
         "148",
         "2.1248316764831543",
         "0",
         "1.7512610615556443E9",
         "5",
         "2.1236178874969482",
         "false",
         "",
         null,
         "91",
         "",
         "1.1",
         null,
         "0",
         "199",
         "false",
         "8010962861_148",
         "",
         "false",
         "",
         "",
         "8010962861_148",
         null,
         null
        ]
       ],
       "shape": {
        "columns": 31,
        "rows": 22
       }
      },
      "text/html": [
       "<div>\n",
       "<style scoped>\n",
       "    .dataframe tbody tr th:only-of-type {\n",
       "        vertical-align: middle;\n",
       "    }\n",
       "\n",
       "    .dataframe tbody tr th {\n",
       "        vertical-align: top;\n",
       "    }\n",
       "\n",
       "    .dataframe thead th {\n",
       "        text-align: right;\n",
       "    }\n",
       "</style>\n",
       "<table border=\"1\" class=\"dataframe\">\n",
       "  <thead>\n",
       "    <tr style=\"text-align: right;\">\n",
       "      <th></th>\n",
       "      <th>sso_id</th>\n",
       "      <th>campaign_details</th>\n",
       "      <th>campaign_name</th>\n",
       "      <th>platform</th>\n",
       "      <th>event_time</th>\n",
       "      <th>record_type</th>\n",
       "      <th>index</th>\n",
       "      <th>session_id</th>\n",
       "      <th>total_time</th>\n",
       "      <th>rag_speed</th>\n",
       "      <th>...</th>\n",
       "      <th>remaining_user_messages</th>\n",
       "      <th>troll_triggered</th>\n",
       "      <th>conversation_key</th>\n",
       "      <th>genres</th>\n",
       "      <th>regenerate</th>\n",
       "      <th>media_type</th>\n",
       "      <th>streaming_platforms</th>\n",
       "      <th>id</th>\n",
       "      <th>question_length</th>\n",
       "      <th>answer_length</th>\n",
       "    </tr>\n",
       "  </thead>\n",
       "  <tbody>\n",
       "    <tr>\n",
       "      <th>0</th>\n",
       "      <td>8010962861</td>\n",
       "      <td>היוש</td>\n",
       "      <td>open question</td>\n",
       "      <td>Desktop</td>\n",
       "      <td>2025-06-30 08:31:35</td>\n",
       "      <td>action</td>\n",
       "      <td>1</td>\n",
       "      <td>151</td>\n",
       "      <td>NaN</td>\n",
       "      <td>NaN</td>\n",
       "      <td>...</td>\n",
       "      <td>NaN</td>\n",
       "      <td>NaN</td>\n",
       "      <td>NaN</td>\n",
       "      <td>NaN</td>\n",
       "      <td>NaN</td>\n",
       "      <td>NaN</td>\n",
       "      <td>NaN</td>\n",
       "      <td>8010962861_151</td>\n",
       "      <td>1.0</td>\n",
       "      <td>NaN</td>\n",
       "    </tr>\n",
       "    <tr>\n",
       "      <th>1</th>\n",
       "      <td>9037014398</td>\n",
       "      <td>אפשר דוקו טוב?</td>\n",
       "      <td>open question</td>\n",
       "      <td>App</td>\n",
       "      <td>2025-06-30 08:31:01</td>\n",
       "      <td>action</td>\n",
       "      <td>4</td>\n",
       "      <td>067b528f-b885-4d36-be53-a9dccb6f6483</td>\n",
       "      <td>NaN</td>\n",
       "      <td>NaN</td>\n",
       "      <td>...</td>\n",
       "      <td>NaN</td>\n",
       "      <td>NaN</td>\n",
       "      <td>NaN</td>\n",
       "      <td>NaN</td>\n",
       "      <td>NaN</td>\n",
       "      <td>NaN</td>\n",
       "      <td>NaN</td>\n",
       "      <td>9037014398_067b528f-b885-4d36-be53-a9dccb6f6483</td>\n",
       "      <td>3.0</td>\n",
       "      <td>NaN</td>\n",
       "    </tr>\n",
       "    <tr>\n",
       "      <th>2</th>\n",
       "      <td>50000227213</td>\n",
       "      <td>2 random films</td>\n",
       "      <td>open question</td>\n",
       "      <td>Desktop</td>\n",
       "      <td>2025-06-30 08:12:39</td>\n",
       "      <td>action</td>\n",
       "      <td>6</td>\n",
       "      <td>16</td>\n",
       "      <td>NaN</td>\n",
       "      <td>NaN</td>\n",
       "      <td>...</td>\n",
       "      <td>NaN</td>\n",
       "      <td>NaN</td>\n",
       "      <td>NaN</td>\n",
       "      <td>NaN</td>\n",
       "      <td>NaN</td>\n",
       "      <td>NaN</td>\n",
       "      <td>NaN</td>\n",
       "      <td>50000227213_16</td>\n",
       "      <td>3.0</td>\n",
       "      <td>NaN</td>\n",
       "    </tr>\n",
       "    <tr>\n",
       "      <th>3</th>\n",
       "      <td>50000227213</td>\n",
       "      <td>2 random films</td>\n",
       "      <td>open question</td>\n",
       "      <td>Desktop</td>\n",
       "      <td>2025-06-30 08:12:28</td>\n",
       "      <td>action</td>\n",
       "      <td>9</td>\n",
       "      <td>16</td>\n",
       "      <td>NaN</td>\n",
       "      <td>NaN</td>\n",
       "      <td>...</td>\n",
       "      <td>NaN</td>\n",
       "      <td>NaN</td>\n",
       "      <td>NaN</td>\n",
       "      <td>NaN</td>\n",
       "      <td>NaN</td>\n",
       "      <td>NaN</td>\n",
       "      <td>NaN</td>\n",
       "      <td>50000227213_16</td>\n",
       "      <td>3.0</td>\n",
       "      <td>NaN</td>\n",
       "    </tr>\n",
       "    <tr>\n",
       "      <th>4</th>\n",
       "      <td>50000227213</td>\n",
       "      <td>2 random films</td>\n",
       "      <td>open question</td>\n",
       "      <td>Desktop</td>\n",
       "      <td>2025-06-30 08:08:51</td>\n",
       "      <td>action</td>\n",
       "      <td>10</td>\n",
       "      <td>15</td>\n",
       "      <td>NaN</td>\n",
       "      <td>NaN</td>\n",
       "      <td>...</td>\n",
       "      <td>NaN</td>\n",
       "      <td>NaN</td>\n",
       "      <td>NaN</td>\n",
       "      <td>NaN</td>\n",
       "      <td>NaN</td>\n",
       "      <td>NaN</td>\n",
       "      <td>NaN</td>\n",
       "      <td>50000227213_15</td>\n",
       "      <td>3.0</td>\n",
       "      <td>NaN</td>\n",
       "    </tr>\n",
       "    <tr>\n",
       "      <th>5</th>\n",
       "      <td>50000227213</td>\n",
       "      <td>2 random films</td>\n",
       "      <td>open question</td>\n",
       "      <td>Desktop</td>\n",
       "      <td>2025-06-30 08:08:36</td>\n",
       "      <td>action</td>\n",
       "      <td>11</td>\n",
       "      <td>15</td>\n",
       "      <td>NaN</td>\n",
       "      <td>NaN</td>\n",
       "      <td>...</td>\n",
       "      <td>NaN</td>\n",
       "      <td>NaN</td>\n",
       "      <td>NaN</td>\n",
       "      <td>NaN</td>\n",
       "      <td>NaN</td>\n",
       "      <td>NaN</td>\n",
       "      <td>NaN</td>\n",
       "      <td>50000227213_15</td>\n",
       "      <td>3.0</td>\n",
       "      <td>NaN</td>\n",
       "    </tr>\n",
       "    <tr>\n",
       "      <th>6</th>\n",
       "      <td>9037857899</td>\n",
       "      <td>מלחמת העולם השניה</td>\n",
       "      <td>open question</td>\n",
       "      <td>Mobile</td>\n",
       "      <td>2025-06-30 08:07:29</td>\n",
       "      <td>action</td>\n",
       "      <td>14</td>\n",
       "      <td>4</td>\n",
       "      <td>NaN</td>\n",
       "      <td>NaN</td>\n",
       "      <td>...</td>\n",
       "      <td>NaN</td>\n",
       "      <td>NaN</td>\n",
       "      <td>NaN</td>\n",
       "      <td>NaN</td>\n",
       "      <td>NaN</td>\n",
       "      <td>NaN</td>\n",
       "      <td>NaN</td>\n",
       "      <td>9037857899_4</td>\n",
       "      <td>3.0</td>\n",
       "      <td>NaN</td>\n",
       "    </tr>\n",
       "    <tr>\n",
       "      <th>7</th>\n",
       "      <td>8010962861</td>\n",
       "      <td>הי</td>\n",
       "      <td>open question</td>\n",
       "      <td>Desktop</td>\n",
       "      <td>2025-06-30 07:20:15</td>\n",
       "      <td>action</td>\n",
       "      <td>18</td>\n",
       "      <td>151</td>\n",
       "      <td>NaN</td>\n",
       "      <td>NaN</td>\n",
       "      <td>...</td>\n",
       "      <td>NaN</td>\n",
       "      <td>NaN</td>\n",
       "      <td>NaN</td>\n",
       "      <td>NaN</td>\n",
       "      <td>NaN</td>\n",
       "      <td>NaN</td>\n",
       "      <td>NaN</td>\n",
       "      <td>8010962861_151</td>\n",
       "      <td>1.0</td>\n",
       "      <td>NaN</td>\n",
       "    </tr>\n",
       "    <tr>\n",
       "      <th>8</th>\n",
       "      <td>8010962861</td>\n",
       "      <td>הי</td>\n",
       "      <td>open question</td>\n",
       "      <td>Desktop</td>\n",
       "      <td>2025-06-30 07:19:17</td>\n",
       "      <td>action</td>\n",
       "      <td>20</td>\n",
       "      <td>150</td>\n",
       "      <td>NaN</td>\n",
       "      <td>NaN</td>\n",
       "      <td>...</td>\n",
       "      <td>NaN</td>\n",
       "      <td>NaN</td>\n",
       "      <td>NaN</td>\n",
       "      <td>NaN</td>\n",
       "      <td>NaN</td>\n",
       "      <td>NaN</td>\n",
       "      <td>NaN</td>\n",
       "      <td>8010962861_150</td>\n",
       "      <td>1.0</td>\n",
       "      <td>NaN</td>\n",
       "    </tr>\n",
       "    <tr>\n",
       "      <th>9</th>\n",
       "      <td>9037857899</td>\n",
       "      <td>רק מלחמת העולם השניה לא מלחמות אחרות</td>\n",
       "      <td>open question</td>\n",
       "      <td>Desktop</td>\n",
       "      <td>2025-06-30 06:01:31</td>\n",
       "      <td>action</td>\n",
       "      <td>23</td>\n",
       "      <td>7</td>\n",
       "      <td>NaN</td>\n",
       "      <td>NaN</td>\n",
       "      <td>...</td>\n",
       "      <td>NaN</td>\n",
       "      <td>NaN</td>\n",
       "      <td>NaN</td>\n",
       "      <td>NaN</td>\n",
       "      <td>NaN</td>\n",
       "      <td>NaN</td>\n",
       "      <td>NaN</td>\n",
       "      <td>9037857899_7</td>\n",
       "      <td>7.0</td>\n",
       "      <td>NaN</td>\n",
       "    </tr>\n",
       "    <tr>\n",
       "      <th>10</th>\n",
       "      <td>9037857899</td>\n",
       "      <td>ארצה המלצה על סרט על מלחמת העולם השניה</td>\n",
       "      <td>open question</td>\n",
       "      <td>Desktop</td>\n",
       "      <td>2025-06-30 06:00:24</td>\n",
       "      <td>action</td>\n",
       "      <td>26</td>\n",
       "      <td>7</td>\n",
       "      <td>NaN</td>\n",
       "      <td>NaN</td>\n",
       "      <td>...</td>\n",
       "      <td>NaN</td>\n",
       "      <td>NaN</td>\n",
       "      <td>NaN</td>\n",
       "      <td>NaN</td>\n",
       "      <td>NaN</td>\n",
       "      <td>NaN</td>\n",
       "      <td>NaN</td>\n",
       "      <td>9037857899_7</td>\n",
       "      <td>8.0</td>\n",
       "      <td>NaN</td>\n",
       "    </tr>\n",
       "    <tr>\n",
       "      <th>11</th>\n",
       "      <td>8010962861</td>\n",
       "      <td>כן, משהו מבדר בנטפליקס</td>\n",
       "      <td>open question</td>\n",
       "      <td>Desktop</td>\n",
       "      <td>2025-06-30 05:25:00</td>\n",
       "      <td>action</td>\n",
       "      <td>29</td>\n",
       "      <td>148</td>\n",
       "      <td>NaN</td>\n",
       "      <td>NaN</td>\n",
       "      <td>...</td>\n",
       "      <td>NaN</td>\n",
       "      <td>NaN</td>\n",
       "      <td>NaN</td>\n",
       "      <td>NaN</td>\n",
       "      <td>NaN</td>\n",
       "      <td>NaN</td>\n",
       "      <td>NaN</td>\n",
       "      <td>8010962861_148</td>\n",
       "      <td>4.0</td>\n",
       "      <td>NaN</td>\n",
       "    </tr>\n",
       "    <tr>\n",
       "      <th>12</th>\n",
       "      <td>8010962861</td>\n",
       "      <td>בוקר טוב</td>\n",
       "      <td>open question</td>\n",
       "      <td>Desktop</td>\n",
       "      <td>2025-06-30 05:24:18</td>\n",
       "      <td>action</td>\n",
       "      <td>31</td>\n",
       "      <td>148</td>\n",
       "      <td>NaN</td>\n",
       "      <td>NaN</td>\n",
       "      <td>...</td>\n",
       "      <td>NaN</td>\n",
       "      <td>NaN</td>\n",
       "      <td>NaN</td>\n",
       "      <td>NaN</td>\n",
       "      <td>NaN</td>\n",
       "      <td>NaN</td>\n",
       "      <td>NaN</td>\n",
       "      <td>8010962861_148</td>\n",
       "      <td>2.0</td>\n",
       "      <td>NaN</td>\n",
       "    </tr>\n",
       "    <tr>\n",
       "      <th>13</th>\n",
       "      <td>9037014398</td>\n",
       "      <td>&lt;strong&gt;נירית אנדרמן&lt;/strong&gt; ממליצה על הסרט ה...</td>\n",
       "      <td>response answer</td>\n",
       "      <td>App</td>\n",
       "      <td>2025-06-30 08:31:07</td>\n",
       "      <td>impression</td>\n",
       "      <td>3</td>\n",
       "      <td>067b528f-b885-4d36-be53-a9dccb6f6483</td>\n",
       "      <td>5.030869007110596</td>\n",
       "      <td>0.8215272426605225</td>\n",
       "      <td>...</td>\n",
       "      <td>199</td>\n",
       "      <td>false</td>\n",
       "      <td>9037014398_8</td>\n",
       "      <td>דוקומנטרי</td>\n",
       "      <td>false</td>\n",
       "      <td></td>\n",
       "      <td></td>\n",
       "      <td>9037014398_067b528f-b885-4d36-be53-a9dccb6f6483</td>\n",
       "      <td>NaN</td>\n",
       "      <td>56.0</td>\n",
       "    </tr>\n",
       "    <tr>\n",
       "      <th>14</th>\n",
       "      <td>50000227213</td>\n",
       "      <td>בטח, הנה שתי המלצות נוספות: &lt;strong&gt;אורי קליין...</td>\n",
       "      <td>response answer</td>\n",
       "      <td>Desktop</td>\n",
       "      <td>2025-06-30 08:12:45</td>\n",
       "      <td>impression</td>\n",
       "      <td>5</td>\n",
       "      <td>16</td>\n",
       "      <td>4.923604488372803</td>\n",
       "      <td>0.3489112854003906</td>\n",
       "      <td>...</td>\n",
       "      <td>198</td>\n",
       "      <td>false</td>\n",
       "      <td>50000227213_16</td>\n",
       "      <td></td>\n",
       "      <td>false</td>\n",
       "      <td>movie</td>\n",
       "      <td></td>\n",
       "      <td>50000227213_16</td>\n",
       "      <td>NaN</td>\n",
       "      <td>95.0</td>\n",
       "    </tr>\n",
       "    <tr>\n",
       "      <th>15</th>\n",
       "      <td>50000227213</td>\n",
       "      <td>בטח, הנה שתי המלצות על סרטים שונים לחלוטין: &lt;s...</td>\n",
       "      <td>response answer</td>\n",
       "      <td>Desktop</td>\n",
       "      <td>2025-06-30 08:12:33</td>\n",
       "      <td>impression</td>\n",
       "      <td>8</td>\n",
       "      <td>16</td>\n",
       "      <td>4.457241058349609</td>\n",
       "      <td>0.7402558326721191</td>\n",
       "      <td>...</td>\n",
       "      <td>199</td>\n",
       "      <td>false</td>\n",
       "      <td>50000227213_16</td>\n",
       "      <td></td>\n",
       "      <td>false</td>\n",
       "      <td>movie</td>\n",
       "      <td></td>\n",
       "      <td>50000227213_16</td>\n",
       "      <td>NaN</td>\n",
       "      <td>95.0</td>\n",
       "    </tr>\n",
       "    <tr>\n",
       "      <th>16</th>\n",
       "      <td>9037857899</td>\n",
       "      <td>&lt;strong&gt;אורון שמיר&lt;/strong&gt; ממליץ על הסרט &lt;str...</td>\n",
       "      <td>response answer</td>\n",
       "      <td>Mobile</td>\n",
       "      <td>2025-06-30 08:07:34</td>\n",
       "      <td>impression</td>\n",
       "      <td>13</td>\n",
       "      <td>4</td>\n",
       "      <td>4.7171125411987305</td>\n",
       "      <td>0.7491772174835205</td>\n",
       "      <td>...</td>\n",
       "      <td>198</td>\n",
       "      <td>false</td>\n",
       "      <td>9037857899_4</td>\n",
       "      <td></td>\n",
       "      <td>false</td>\n",
       "      <td></td>\n",
       "      <td></td>\n",
       "      <td>9037857899_4</td>\n",
       "      <td>NaN</td>\n",
       "      <td>53.0</td>\n",
       "    </tr>\n",
       "    <tr>\n",
       "      <th>17</th>\n",
       "      <td>3057469657</td>\n",
       "      <td>&lt;strong&gt;גילי איזיקוביץ&lt;/strong&gt; ממליצה על הסרט...</td>\n",
       "      <td>response answer</td>\n",
       "      <td>Mobile</td>\n",
       "      <td>2025-06-30 07:23:40</td>\n",
       "      <td>impression</td>\n",
       "      <td>16</td>\n",
       "      <td>51</td>\n",
       "      <td>4.9468834400177</td>\n",
       "      <td>0.7972145080566406</td>\n",
       "      <td>...</td>\n",
       "      <td>199</td>\n",
       "      <td>false</td>\n",
       "      <td>3057469657_51</td>\n",
       "      <td>דרמה</td>\n",
       "      <td>false</td>\n",
       "      <td>movie</td>\n",
       "      <td>Netflix</td>\n",
       "      <td>3057469657_51</td>\n",
       "      <td>NaN</td>\n",
       "      <td>46.0</td>\n",
       "    </tr>\n",
       "    <tr>\n",
       "      <th>18</th>\n",
       "      <td>9037857899</td>\n",
       "      <td>בטח. &lt;strong&gt;אורון שמיר&lt;/strong&gt; ממליץ על הסרט...</td>\n",
       "      <td>response answer</td>\n",
       "      <td>Desktop</td>\n",
       "      <td>2025-06-30 06:01:36</td>\n",
       "      <td>impression</td>\n",
       "      <td>22</td>\n",
       "      <td>7</td>\n",
       "      <td>4.830342531204224</td>\n",
       "      <td>0.3103513717651367</td>\n",
       "      <td>...</td>\n",
       "      <td>198</td>\n",
       "      <td>false</td>\n",
       "      <td>9037857899_7</td>\n",
       "      <td></td>\n",
       "      <td>false</td>\n",
       "      <td>movie</td>\n",
       "      <td></td>\n",
       "      <td>9037857899_7</td>\n",
       "      <td>NaN</td>\n",
       "      <td>84.0</td>\n",
       "    </tr>\n",
       "    <tr>\n",
       "      <th>19</th>\n",
       "      <td>9037857899</td>\n",
       "      <td>&lt;strong&gt;אורון שמיר&lt;/strong&gt; ממליץ על הסרט &lt;str...</td>\n",
       "      <td>response answer</td>\n",
       "      <td>Desktop</td>\n",
       "      <td>2025-06-30 06:00:28</td>\n",
       "      <td>impression</td>\n",
       "      <td>25</td>\n",
       "      <td>7</td>\n",
       "      <td>3.7784409523010254</td>\n",
       "      <td>0.7338211536407471</td>\n",
       "      <td>...</td>\n",
       "      <td>199</td>\n",
       "      <td>false</td>\n",
       "      <td>9037857899_7</td>\n",
       "      <td></td>\n",
       "      <td>false</td>\n",
       "      <td>movie</td>\n",
       "      <td></td>\n",
       "      <td>9037857899_7</td>\n",
       "      <td>NaN</td>\n",
       "      <td>85.0</td>\n",
       "    </tr>\n",
       "    <tr>\n",
       "      <th>20</th>\n",
       "      <td>8010962861</td>\n",
       "      <td>בהחלט! &lt;strong&gt;אורון שמיר&lt;/strong&gt; ממליץ על הס...</td>\n",
       "      <td>response answer</td>\n",
       "      <td>Desktop</td>\n",
       "      <td>2025-06-30 05:25:04</td>\n",
       "      <td>impression</td>\n",
       "      <td>28</td>\n",
       "      <td>148</td>\n",
       "      <td>3.3922502994537354</td>\n",
       "      <td>0.8414332866668701</td>\n",
       "      <td>...</td>\n",
       "      <td>198</td>\n",
       "      <td>false</td>\n",
       "      <td>8010962861_148</td>\n",
       "      <td></td>\n",
       "      <td>false</td>\n",
       "      <td></td>\n",
       "      <td>Netflix</td>\n",
       "      <td>8010962861_148</td>\n",
       "      <td>NaN</td>\n",
       "      <td>52.0</td>\n",
       "    </tr>\n",
       "    <tr>\n",
       "      <th>21</th>\n",
       "      <td>8010962861</td>\n",
       "      <td>None</td>\n",
       "      <td>response answer</td>\n",
       "      <td>Desktop</td>\n",
       "      <td>2025-06-30 05:24:21</td>\n",
       "      <td>impression</td>\n",
       "      <td>30</td>\n",
       "      <td>148</td>\n",
       "      <td>2.1248316764831543</td>\n",
       "      <td>0</td>\n",
       "      <td>...</td>\n",
       "      <td>199</td>\n",
       "      <td>false</td>\n",
       "      <td>8010962861_148</td>\n",
       "      <td></td>\n",
       "      <td>false</td>\n",
       "      <td></td>\n",
       "      <td></td>\n",
       "      <td>8010962861_148</td>\n",
       "      <td>NaN</td>\n",
       "      <td>NaN</td>\n",
       "    </tr>\n",
       "  </tbody>\n",
       "</table>\n",
       "<p>22 rows × 31 columns</p>\n",
       "</div>"
      ],
      "text/plain": [
       "         sso_id                                   campaign_details  \\\n",
       "0    8010962861                                               היוש   \n",
       "1    9037014398                                     אפשר דוקו טוב?   \n",
       "2   50000227213                                     2 random films   \n",
       "3   50000227213                                     2 random films   \n",
       "4   50000227213                                     2 random films   \n",
       "5   50000227213                                     2 random films   \n",
       "6    9037857899                                  מלחמת העולם השניה   \n",
       "7    8010962861                                                 הי   \n",
       "8    8010962861                                                 הי   \n",
       "9    9037857899               רק מלחמת העולם השניה לא מלחמות אחרות   \n",
       "10   9037857899             ארצה המלצה על סרט על מלחמת העולם השניה   \n",
       "11   8010962861                             כן, משהו מבדר בנטפליקס   \n",
       "12   8010962861                                           בוקר טוב   \n",
       "13   9037014398  <strong>נירית אנדרמן</strong> ממליצה על הסרט ה...   \n",
       "14  50000227213  בטח, הנה שתי המלצות נוספות: <strong>אורי קליין...   \n",
       "15  50000227213  בטח, הנה שתי המלצות על סרטים שונים לחלוטין: <s...   \n",
       "16   9037857899  <strong>אורון שמיר</strong> ממליץ על הסרט <str...   \n",
       "17   3057469657  <strong>גילי איזיקוביץ</strong> ממליצה על הסרט...   \n",
       "18   9037857899  בטח. <strong>אורון שמיר</strong> ממליץ על הסרט...   \n",
       "19   9037857899  <strong>אורון שמיר</strong> ממליץ על הסרט <str...   \n",
       "20   8010962861  בהחלט! <strong>אורון שמיר</strong> ממליץ על הס...   \n",
       "21   8010962861                                               None   \n",
       "\n",
       "      campaign_name platform           event_time record_type  index  \\\n",
       "0     open question  Desktop  2025-06-30 08:31:35      action      1   \n",
       "1     open question      App  2025-06-30 08:31:01      action      4   \n",
       "2     open question  Desktop  2025-06-30 08:12:39      action      6   \n",
       "3     open question  Desktop  2025-06-30 08:12:28      action      9   \n",
       "4     open question  Desktop  2025-06-30 08:08:51      action     10   \n",
       "5     open question  Desktop  2025-06-30 08:08:36      action     11   \n",
       "6     open question   Mobile  2025-06-30 08:07:29      action     14   \n",
       "7     open question  Desktop  2025-06-30 07:20:15      action     18   \n",
       "8     open question  Desktop  2025-06-30 07:19:17      action     20   \n",
       "9     open question  Desktop  2025-06-30 06:01:31      action     23   \n",
       "10    open question  Desktop  2025-06-30 06:00:24      action     26   \n",
       "11    open question  Desktop  2025-06-30 05:25:00      action     29   \n",
       "12    open question  Desktop  2025-06-30 05:24:18      action     31   \n",
       "13  response answer      App  2025-06-30 08:31:07  impression      3   \n",
       "14  response answer  Desktop  2025-06-30 08:12:45  impression      5   \n",
       "15  response answer  Desktop  2025-06-30 08:12:33  impression      8   \n",
       "16  response answer   Mobile  2025-06-30 08:07:34  impression     13   \n",
       "17  response answer   Mobile  2025-06-30 07:23:40  impression     16   \n",
       "18  response answer  Desktop  2025-06-30 06:01:36  impression     22   \n",
       "19  response answer  Desktop  2025-06-30 06:00:28  impression     25   \n",
       "20  response answer  Desktop  2025-06-30 05:25:04  impression     28   \n",
       "21  response answer  Desktop  2025-06-30 05:24:21  impression     30   \n",
       "\n",
       "                              session_id          total_time  \\\n",
       "0                                    151                 NaN   \n",
       "1   067b528f-b885-4d36-be53-a9dccb6f6483                 NaN   \n",
       "2                                     16                 NaN   \n",
       "3                                     16                 NaN   \n",
       "4                                     15                 NaN   \n",
       "5                                     15                 NaN   \n",
       "6                                      4                 NaN   \n",
       "7                                    151                 NaN   \n",
       "8                                    150                 NaN   \n",
       "9                                      7                 NaN   \n",
       "10                                     7                 NaN   \n",
       "11                                   148                 NaN   \n",
       "12                                   148                 NaN   \n",
       "13  067b528f-b885-4d36-be53-a9dccb6f6483   5.030869007110596   \n",
       "14                                    16   4.923604488372803   \n",
       "15                                    16   4.457241058349609   \n",
       "16                                     4  4.7171125411987305   \n",
       "17                                    51     4.9468834400177   \n",
       "18                                     7   4.830342531204224   \n",
       "19                                     7  3.7784409523010254   \n",
       "20                                   148  3.3922502994537354   \n",
       "21                                   148  2.1248316764831543   \n",
       "\n",
       "             rag_speed  ... remaining_user_messages troll_triggered  \\\n",
       "0                  NaN  ...                     NaN             NaN   \n",
       "1                  NaN  ...                     NaN             NaN   \n",
       "2                  NaN  ...                     NaN             NaN   \n",
       "3                  NaN  ...                     NaN             NaN   \n",
       "4                  NaN  ...                     NaN             NaN   \n",
       "5                  NaN  ...                     NaN             NaN   \n",
       "6                  NaN  ...                     NaN             NaN   \n",
       "7                  NaN  ...                     NaN             NaN   \n",
       "8                  NaN  ...                     NaN             NaN   \n",
       "9                  NaN  ...                     NaN             NaN   \n",
       "10                 NaN  ...                     NaN             NaN   \n",
       "11                 NaN  ...                     NaN             NaN   \n",
       "12                 NaN  ...                     NaN             NaN   \n",
       "13  0.8215272426605225  ...                     199           false   \n",
       "14  0.3489112854003906  ...                     198           false   \n",
       "15  0.7402558326721191  ...                     199           false   \n",
       "16  0.7491772174835205  ...                     198           false   \n",
       "17  0.7972145080566406  ...                     199           false   \n",
       "18  0.3103513717651367  ...                     198           false   \n",
       "19  0.7338211536407471  ...                     199           false   \n",
       "20  0.8414332866668701  ...                     198           false   \n",
       "21                   0  ...                     199           false   \n",
       "\n",
       "   conversation_key     genres regenerate media_type streaming_platforms  \\\n",
       "0               NaN        NaN        NaN        NaN                 NaN   \n",
       "1               NaN        NaN        NaN        NaN                 NaN   \n",
       "2               NaN        NaN        NaN        NaN                 NaN   \n",
       "3               NaN        NaN        NaN        NaN                 NaN   \n",
       "4               NaN        NaN        NaN        NaN                 NaN   \n",
       "5               NaN        NaN        NaN        NaN                 NaN   \n",
       "6               NaN        NaN        NaN        NaN                 NaN   \n",
       "7               NaN        NaN        NaN        NaN                 NaN   \n",
       "8               NaN        NaN        NaN        NaN                 NaN   \n",
       "9               NaN        NaN        NaN        NaN                 NaN   \n",
       "10              NaN        NaN        NaN        NaN                 NaN   \n",
       "11              NaN        NaN        NaN        NaN                 NaN   \n",
       "12              NaN        NaN        NaN        NaN                 NaN   \n",
       "13     9037014398_8  דוקומנטרי      false                                  \n",
       "14   50000227213_16                 false      movie                       \n",
       "15   50000227213_16                 false      movie                       \n",
       "16     9037857899_4                 false                                  \n",
       "17    3057469657_51       דרמה      false      movie             Netflix   \n",
       "18     9037857899_7                 false      movie                       \n",
       "19     9037857899_7                 false      movie                       \n",
       "20   8010962861_148                 false                        Netflix   \n",
       "21   8010962861_148                 false                                  \n",
       "\n",
       "                                                 id question_length  \\\n",
       "0                                    8010962861_151             1.0   \n",
       "1   9037014398_067b528f-b885-4d36-be53-a9dccb6f6483             3.0   \n",
       "2                                    50000227213_16             3.0   \n",
       "3                                    50000227213_16             3.0   \n",
       "4                                    50000227213_15             3.0   \n",
       "5                                    50000227213_15             3.0   \n",
       "6                                      9037857899_4             3.0   \n",
       "7                                    8010962861_151             1.0   \n",
       "8                                    8010962861_150             1.0   \n",
       "9                                      9037857899_7             7.0   \n",
       "10                                     9037857899_7             8.0   \n",
       "11                                   8010962861_148             4.0   \n",
       "12                                   8010962861_148             2.0   \n",
       "13  9037014398_067b528f-b885-4d36-be53-a9dccb6f6483             NaN   \n",
       "14                                   50000227213_16             NaN   \n",
       "15                                   50000227213_16             NaN   \n",
       "16                                     9037857899_4             NaN   \n",
       "17                                    3057469657_51             NaN   \n",
       "18                                     9037857899_7             NaN   \n",
       "19                                     9037857899_7             NaN   \n",
       "20                                   8010962861_148             NaN   \n",
       "21                                   8010962861_148             NaN   \n",
       "\n",
       "   answer_length  \n",
       "0            NaN  \n",
       "1            NaN  \n",
       "2            NaN  \n",
       "3            NaN  \n",
       "4            NaN  \n",
       "5            NaN  \n",
       "6            NaN  \n",
       "7            NaN  \n",
       "8            NaN  \n",
       "9            NaN  \n",
       "10           NaN  \n",
       "11           NaN  \n",
       "12           NaN  \n",
       "13          56.0  \n",
       "14          95.0  \n",
       "15          95.0  \n",
       "16          53.0  \n",
       "17          46.0  \n",
       "18          84.0  \n",
       "19          85.0  \n",
       "20          52.0  \n",
       "21           NaN  \n",
       "\n",
       "[22 rows x 31 columns]"
      ]
     },
     "execution_count": 43,
     "metadata": {},
     "output_type": "execute_result"
    }
   ],
   "source": [
    "df"
   ]
  },
  {
   "cell_type": "code",
   "execution_count": null,
   "id": "46db8b06",
   "metadata": {},
   "outputs": [],
   "source": []
  },
  {
   "cell_type": "markdown",
   "id": "494656bc",
   "metadata": {},
   "source": [
    "# גרפים נוספים שאפשר להכין\n",
    "\n",
    "בהתבסס על הנתונים שיש לנו, הנה רשימה של גרפים נוספים שאפשר לבצע:\n",
    "\n",
    "## 1. ניתוח זמני\n",
    "- **התפלגות לפי שעות ביום** - מתי משתמשים הכי פעילים\n",
    "- **התפלגות לפי ימים בשבוע** - איזה ימים יש הכי הרבה פעילות\n",
    "- **זמן תגובה של המודל** - כמה זמן לוקח למודל להגיב\n",
    "\n",
    "## 2. ניתוח משתמשים\n",
    "- **חלוקה לפי פלטפורמה** (platform)\n",
    "- **התפלגות פעילות לפי SSO ID** - אילו משתמשים הכי פעילים\n",
    "- **אורך שיחות לפי משתמש** - מי מנהל שיחות ארוכות יותר\n",
    "\n",
    "## 3. ניתוח תוכן\n",
    "- **מילות מפתח נפוצות** - ענן מילים של השאלות הנפוצות\n",
    "- **התפלגות נושאים** - ניתוח נושאי השאלות (סרטים, סדרות, ז'אנרים)\n",
    "- **סנטימנט של השאלות** - האם השאלות חיוביות/שליליות/ניטרליות\n",
    "\n",
    "## 4. ניתוח איכות עם LLM Judge\n",
    "- **התפלגות ציוני איכות** (quality scores)\n",
    "- **התפלגות ציוני אדיבות** (politeness scores)\n",
    "- **התפלגות רלוונטיות התשובות** (answer_relevance)\n",
    "- **שיעור השימוש ב-RAG** (knowledge_from_RAG)\n",
    "- **שיעור הזיות** (hallucination rate)\n",
    "\n",
    "## 5. ניתוח ביצועים\n",
    "- **יחס אורך תשובה לאורך שאלה** - האם תשובות ארוכות יותר לשאלות מורכבות\n",
    "- **התפלגות מספר החליפות בשיחה** - כמה הודעות בממוצע בכל שיחה\n",
    "- **זמן בין שאלות באותה שיחה** - כמה זמן משתמשים מחכים לפני שאלה נוספת"
   ]
  },
  {
   "cell_type": "code",
   "execution_count": null,
   "id": "ba335feb",
   "metadata": {},
   "outputs": [],
   "source": [
    "# דוגמאות לגרפים שאפשר ליישם מיד עם הנתונים הקיימים:\n",
    "\n",
    "# 1. גרף התפלגות לפי פלטפורמה\n",
    "platform_counts = df['platform'].value_counts()\n",
    "fig_platform = px.pie(\n",
    "    values=platform_counts.values, \n",
    "    names=platform_counts.index,\n",
    "    title=\"התפלגות לפי פלטפורמה\"\n",
    ")\n",
    "fig_platform.show()\n",
    "\n",
    "# 2. התפלגות פעילות לפי שעה ביום\n",
    "df['hour'] = pd.to_datetime(df['event_time']).dt.hour\n",
    "hourly_activity = df['hour'].value_counts().sort_index()\n",
    "\n",
    "fig_hourly = px.bar(\n",
    "    x=hourly_activity.index,\n",
    "    y=hourly_activity.values,\n",
    "    title=\"פעילות לפי שעה ביום\",\n",
    "    labels={'x': 'שעה', 'y': 'מספר הודעות'}\n",
    ")\n",
    "fig_hourly.show()\n",
    "\n",
    "# 3. התפלגות משתמשים לפי כמות הודעות\n",
    "user_activity = df['sso_id'].value_counts()\n",
    "fig_user_activity = px.histogram(\n",
    "    x=user_activity.values,\n",
    "    nbins=20,\n",
    "    title=\"התפלגות משתמשים לפי כמות הודעות\",\n",
    "    labels={'x': 'מספר הודעות', 'y': 'מספר משתמשים'}\n",
    ")\n",
    "fig_user_activity.show()\n",
    "\n",
    "# 4. יחס אורך תשובה לאורך שאלה\n",
    "questions_with_answers = df[df['campaign_name'] == 'open question']['question_length'].dropna()\n",
    "answers_with_questions = df[df['campaign_name'] == 'response answer']['answer_length'].dropna()\n",
    "\n",
    "if len(questions_with_answers) > 0 and len(answers_with_questions) > 0:\n",
    "    fig_comparison = go.Figure()\n",
    "    fig_comparison.add_trace(go.Scatter(\n",
    "        x=questions_with_answers.values,\n",
    "        y=answers_with_questions.values,\n",
    "        mode='markers',\n",
    "        name='אורך תשובה vs שאלה',\n",
    "        opacity=0.6\n",
    "    ))\n",
    "    fig_comparison.update_layout(\n",
    "        title=\"יחס אורך תשובה לאורך שאלה\",\n",
    "        xaxis_title=\"אורך שאלה (מילים)\",\n",
    "        yaxis_title=\"אורך תשובה (מילים)\"\n",
    "    )\n",
    "    fig_comparison.show()\n",
    "\n",
    "# 5. מספר הודעות לפי משתמש (Top 10)\n",
    "top_users = df['sso_id'].value_counts().head(10)\n",
    "fig_top_users = px.bar(\n",
    "    x=top_users.index.astype(str),\n",
    "    y=top_users.values,\n",
    "    title=\"10 המשתמשים הכי פעילים\",\n",
    "    labels={'x': 'SSO ID', 'y': 'מספר הודעות'}\n",
    ")\n",
    "fig_top_users.show()"
   ]
  },
  {
   "cell_type": "code",
   "execution_count": null,
   "id": "4049eb28",
   "metadata": {},
   "outputs": [],
   "source": [
    "# גרפים מתקדמים נוספים:\n",
    "\n",
    "# 6. מטריקס זמני - פעילות לפי יום ושעה (Heatmap)\n",
    "df['date'] = pd.to_datetime(df['event_time']).dt.date\n",
    "df['day_of_week'] = pd.to_datetime(df['event_time']).dt.day_name()\n",
    "daily_hourly = df.groupby(['day_of_week', 'hour']).size().reset_index(name='count')\n",
    "\n",
    "# יצירת heatmap\n",
    "pivot_table = daily_hourly.pivot(index='day_of_week', columns='hour', values='count').fillna(0)\n",
    "fig_heatmap = px.imshow(\n",
    "    pivot_table,\n",
    "    title=\"מטריקס פעילות - יום ושעה\",\n",
    "    labels=dict(x=\"שעה\", y=\"יום בשבוע\", color=\"מספר הודעות\"),\n",
    "    color_continuous_scale=\"Blues\"\n",
    ")\n",
    "fig_heatmap.show()\n",
    "\n",
    "# 7. התפלגות אורך שיחות (מספר הודעות לכל שיחה)\n",
    "conversation_lengths = df.groupby('id').size()\n",
    "fig_conv_length = px.histogram(\n",
    "    x=conversation_lengths.values,\n",
    "    nbins=20,\n",
    "    title=\"התפלגות אורך שיחות (מספר הודעות)\",\n",
    "    labels={'x': 'מספר הודעות בשיחה', 'y': 'מספר שיחות'}\n",
    ")\n",
    "fig_conv_length.show()\n",
    "\n",
    "# 8. יחס שאלות לתשובות\n",
    "question_count = len(df[df['campaign_name'] == 'open question'])\n",
    "answer_count = len(df[df['campaign_name'] == 'response answer'])\n",
    "\n",
    "fig_ratio = px.pie(\n",
    "    values=[question_count, answer_count],\n",
    "    names=['שאלות משתמשים', 'תשובות מודל'],\n",
    "    title=\"יחס שאלות לתשובות\"\n",
    ")\n",
    "fig_ratio.show()\n",
    "\n",
    "# 9. התפלגות זמנית - פעילות לפי תאריך\n",
    "daily_activity = df.groupby('date').size().reset_index(name='activity')\n",
    "daily_activity['date'] = pd.to_datetime(daily_activity['date'])\n",
    "\n",
    "fig_daily = px.line(\n",
    "    daily_activity,\n",
    "    x='date',\n",
    "    y='activity',\n",
    "    title=\"פעילות יומית\",\n",
    "    labels={'date': 'תאריך', 'activity': 'מספר הודעות'}\n",
    ")\n",
    "fig_daily.show()\n",
    "\n",
    "# 10. סטטיסטיקות תיאוריות\n",
    "print(\"סטטיסטיקות כלליות:\")\n",
    "print(f\"מספר כולל של הודעות: {len(df)}\")\n",
    "print(f\"מספר שיחות ייחודיות: {df['id'].nunique()}\")\n",
    "print(f\"מספר משתמשים ייחודיים: {df['sso_id'].nunique()}\")\n",
    "print(f\"אורך שאלה ממוצע: {df[df['campaign_name'] == 'open question']['question_length'].mean():.1f} מילים\")\n",
    "print(f\"אורך תשובה ממוצע: {df[df['campaign_name'] == 'response answer']['answer_length'].mean():.1f} מילים\")"
   ]
  },
  {
   "cell_type": "markdown",
   "id": "671d2b2c",
   "metadata": {},
   "source": [
    "# גרפים נוספים שדורשים ניתוח תוכן מתקדם\n",
    "\n",
    "## 11. ניתוח מילות מפתח ותוכן\n",
    "```python\n",
    "# התפלגות מילות מפתח נפוצות בשאלות\n",
    "from collections import Counter\n",
    "import re\n",
    "\n",
    "# הפרדת מילים מהשאלות\n",
    "questions_text = df[df['campaign_name'] == 'open question']['campaign_details'].fillna('')\n",
    "all_words = []\n",
    "for text in questions_text:\n",
    "    words = re.findall(r'\\b\\w+\\b', text.lower())\n",
    "    all_words.extend(words)\n",
    "\n",
    "# מילות המפתח הנפוצות ביותר\n",
    "word_counts = Counter(all_words)\n",
    "top_words = word_counts.most_common(20)\n",
    "\n",
    "# גרף מילות מפתח\n",
    "fig_words = px.bar(\n",
    "    x=[word for word, count in top_words],\n",
    "    y=[count for word, count in top_words],\n",
    "    title=\"20 המילים הנפוצות ביותר בשאלות\"\n",
    ")\n",
    "fig_words.show()\n",
    "```\n",
    "\n",
    "## 12. ניתוח נושאים\n",
    "```python\n",
    "# זיהוי נושאים שכיחים (סרטים, סדרות, ז'אנרים)\n",
    "movie_keywords = ['סרט', 'סרטים', 'movie', 'film']\n",
    "series_keywords = ['סדרה', 'סדרות', 'series', 'show']\n",
    "genre_keywords = ['קומדיה', 'דרמה', 'אקשן', 'רומנטי', 'מותחן']\n",
    "\n",
    "def categorize_topic(text):\n",
    "    text_lower = text.lower()\n",
    "    if any(word in text_lower for word in movie_keywords):\n",
    "        return 'סרטים'\n",
    "    elif any(word in text_lower for word in series_keywords):\n",
    "        return 'סדרות'\n",
    "    elif any(word in text_lower for word in genre_keywords):\n",
    "        return 'ז'אנרים'\n",
    "    else:\n",
    "        return 'אחר'\n",
    "\n",
    "df['topic_category'] = df[df['campaign_name'] == 'open question']['campaign_details'].apply(categorize_topic)\n",
    "topic_distribution = df['topic_category'].value_counts()\n",
    "\n",
    "fig_topics = px.pie(values=topic_distribution.values, names=topic_distribution.index,\n",
    "                   title=\"התפלגות נושאי השאלות\")\n",
    "fig_topics.show()\n",
    "```\n",
    "\n",
    "## 13. ניתוח איכות עם LLM Judge (אם נריץ על כל השיחות)\n",
    "```python\n",
    "# אם נריץ את ה-LLM Judge על כל השיחות, נוכל לבצע:\n",
    "# - התפלגות ציוני איכות\n",
    "# - התפלגות ציוני אדיבות\n",
    "# - שיעור השימוש ב-RAG\n",
    "# - שיעור הזיות\n",
    "# - קורלציה בין אורך תשובה לאיכות\n",
    "```\n",
    "\n",
    "## 14. ניתוח זמני מתקדם\n",
    "```python\n",
    "# זמן תגובה בין שאלה לתשובה\n",
    "# מגמות לאורך זמן\n",
    "# פעילות בשעות שיא\n",
    "# השוואה בין ימי חול לסוף שבוע\n",
    "```"
   ]
  }
 ],
 "metadata": {
  "kernelspec": {
   "display_name": ".venv",
   "language": "python",
   "name": "python3"
  },
  "language_info": {
   "codemirror_mode": {
    "name": "ipython",
    "version": 3
   },
   "file_extension": ".py",
   "mimetype": "text/x-python",
   "name": "python",
   "nbconvert_exporter": "python",
   "pygments_lexer": "ipython3",
   "version": "3.12.8"
  }
 },
 "nbformat": 4,
 "nbformat_minor": 5
}
