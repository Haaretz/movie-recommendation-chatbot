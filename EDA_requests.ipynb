{
 "cells": [
  {
   "cell_type": "code",
   "execution_count": 56,
   "id": "a76d5f5b",
   "metadata": {},
   "outputs": [],
   "source": [
    "from google.cloud import bigquery\n",
    "import pandas as pd"
   ]
  },
  {
   "cell_type": "code",
   "execution_count": null,
   "id": "208cf09d",
   "metadata": {},
   "outputs": [
    {
     "name": "stderr",
     "output_type": "stream",
     "text": [
      "/Users/roeishlezinger/Desktop/movie-recommendation-chatbot/.venv/lib/python3.12/site-packages/google/cloud/bigquery/table.py:1900: UserWarning: BigQuery Storage module not found, fetch data with the REST endpoint instead.\n",
      "  warnings.warn(\n"
     ]
    },
    {
     "name": "stdout",
     "output_type": "stream",
     "text": [
      "2\n"
     ]
    },
    {
     "data": {
      "application/vnd.microsoft.datawrangler.viewer.v0+json": {
       "columns": [
        {
         "name": "index",
         "rawType": "int64",
         "type": "integer"
        },
        {
         "name": "sso_id",
         "rawType": "Int64",
         "type": "integer"
        },
        {
         "name": "additional_info",
         "rawType": "object",
         "type": "unknown"
        },
        {
         "name": "campaign_details",
         "rawType": "object",
         "type": "string"
        },
        {
         "name": "campaign_name",
         "rawType": "object",
         "type": "string"
        },
        {
         "name": "platform",
         "rawType": "object",
         "type": "string"
        },
        {
         "name": "event_time",
         "rawType": "object",
         "type": "string"
        }
       ],
       "ref": "a889a8e4-3929-471f-83a5-503fa5ed3225",
       "rows": [
        [
         "34",
         "8010962861",
         "[{'key': 'total_time', 'value': '4.020180702209473'}\n {'key': 'rag_speed', 'value': '0.9389231204986572'}\n {'key': 'session_id', 'value': '117'}\n {'key': 'timestamp', 'value': '1.750826901670279E9'}\n {'key': 'sso_id', 'value': '8010962861'}\n {'key': 'input_tokens', 'value': '102'}\n {'key': 'llm_speed', 'value': '3.0778417587280273'}\n {'key': 'thinking_process', 'value': 'false'}\n {'key': 'query', 'value': 'סרט טוב'}\n {'key': 'article_ids_2', 'value': '00000192-d231-d628-a9df-fafbdd400000'}\n {'key': 'output_tokens', 'value': '267'}\n {'key': 'writer_filter', 'value': ''} {'key': 'version', 'value': '1.1'}\n {'key': 'article_ids_1', 'value': '00000194-03de-dc8b-afb4-5bff4bb30000'}\n {'key': 'error', 'value': '0'}\n {'key': 'remaining_user_messages', 'value': '198'}\n {'key': 'troll_triggered', 'value': 'false'}\n {'key': 'conversation_key', 'value': '8010962861_117'}\n {'key': 'genres', 'value': 'דרמה, קומדיה, אנימציה'}\n {'key': 'regenerate', 'value': 'false'}\n {'key': 'media_type', 'value': 'movie'}\n {'key': 'streaming_platforms', 'value': 'Amazon Prime Video'}]",
         "<strong>אורון שמיר</strong> ממליץ על הסרט <strong>\"אחים\"</strong> באמזון פריים וידיאו. הוא מתאר אותו כקומדיה חביבה עם ג'וש ברולין ופיטר דינקלג', שיכולה להיות צפייה ביתית נעימה. למרות הציפיות הגבוהות מהבמאי, הסרט מוגדר כחביב ותו לא. כמו כן, ישנה גם ביקורת של <strong>אורון שמיר</strong> על הסרט <strong>\"מושבע מס' 2\"</strong>, סרט פרישה של קלינט איסטווד, שזמין להשכרה בתשלום באמזון (בין היתר). הוא מתאר אותו כמותחן משפטי קלאסי וסולידי.",
         "response answer",
         "Desktop",
         "2025-06-25 04:48:21"
        ],
        [
         "36",
         "8010962861",
         "[{'key': 'session_id', 'value': '117'}]",
         "בוקר טוב",
         "open question",
         "Desktop",
         "2025-06-25 04:47:50"
        ]
       ],
       "shape": {
        "columns": 6,
        "rows": 2
       }
      },
      "text/html": [
       "<div>\n",
       "<style scoped>\n",
       "    .dataframe tbody tr th:only-of-type {\n",
       "        vertical-align: middle;\n",
       "    }\n",
       "\n",
       "    .dataframe tbody tr th {\n",
       "        vertical-align: top;\n",
       "    }\n",
       "\n",
       "    .dataframe thead th {\n",
       "        text-align: right;\n",
       "    }\n",
       "</style>\n",
       "<table border=\"1\" class=\"dataframe\">\n",
       "  <thead>\n",
       "    <tr style=\"text-align: right;\">\n",
       "      <th></th>\n",
       "      <th>sso_id</th>\n",
       "      <th>additional_info</th>\n",
       "      <th>campaign_details</th>\n",
       "      <th>campaign_name</th>\n",
       "      <th>platform</th>\n",
       "      <th>event_time</th>\n",
       "    </tr>\n",
       "  </thead>\n",
       "  <tbody>\n",
       "    <tr>\n",
       "      <th>34</th>\n",
       "      <td>8010962861</td>\n",
       "      <td>[{'key': 'total_time', 'value': '4.02018070220...</td>\n",
       "      <td>&lt;strong&gt;אורון שמיר&lt;/strong&gt; ממליץ על הסרט &lt;str...</td>\n",
       "      <td>response answer</td>\n",
       "      <td>Desktop</td>\n",
       "      <td>2025-06-25 04:48:21</td>\n",
       "    </tr>\n",
       "    <tr>\n",
       "      <th>36</th>\n",
       "      <td>8010962861</td>\n",
       "      <td>[{'key': 'session_id', 'value': '117'}]</td>\n",
       "      <td>בוקר טוב</td>\n",
       "      <td>open question</td>\n",
       "      <td>Desktop</td>\n",
       "      <td>2025-06-25 04:47:50</td>\n",
       "    </tr>\n",
       "  </tbody>\n",
       "</table>\n",
       "</div>"
      ],
      "text/plain": [
       "        sso_id                                    additional_info  \\\n",
       "34  8010962861  [{'key': 'total_time', 'value': '4.02018070220...   \n",
       "36  8010962861            [{'key': 'session_id', 'value': '117'}]   \n",
       "\n",
       "                                     campaign_details    campaign_name  \\\n",
       "34  <strong>אורון שמיר</strong> ממליץ על הסרט <str...  response answer   \n",
       "36                                           בוקר טוב    open question   \n",
       "\n",
       "   platform           event_time  \n",
       "34  Desktop  2025-06-25 04:48:21  \n",
       "36  Desktop  2025-06-25 04:47:50  "
      ]
     },
     "execution_count": 57,
     "metadata": {},
     "output_type": "execute_result"
    }
   ],
   "source": [
    "\n",
    "time = '2025-06-24'\n",
    "SQL_QUERY =  f\"\"\"\n",
    "SELECT\n",
    "  sso_id,additional_info,campaign_details,campaign_name,platform,event_time\n",
    "FROM\n",
    "  `htz-common.raw_data.requests` \n",
    "WHERE\n",
    "  TIMESTAMP_TRUNC(event_time, DAY) >= TIMESTAMP('{time}')\n",
    "  AND page_type = 'Chatbot'\n",
    "  AND campaign_name in ('response answer','open question')\n",
    "  -- AND sso_id IS NOT NULL\n",
    "ORDER BY\n",
    "  event_time DESC;\n",
    "\"\"\"\n",
    "client = bigquery.Client()\n",
    "query_job = client.query(SQL_QUERY)\n",
    "\n",
    "results = query_job.result() \n",
    "df = results.to_dataframe()\n",
    "df['event_time'] = df['event_time'].dt.strftime('%Y-%m-%d %H:%M:%S')\n",
    "df = df.drop_duplicates(subset=['sso_id', 'campaign_name'], keep='last')\n",
    "print(df.shape[0])\n",
    "df.head(2)"
   ]
  },
  {
   "cell_type": "code",
   "execution_count": 58,
   "id": "494150ec",
   "metadata": {},
   "outputs": [
    {
     "data": {
      "application/vnd.microsoft.datawrangler.viewer.v0+json": {
       "columns": [
        {
         "name": "index",
         "rawType": "int64",
         "type": "integer"
        },
        {
         "name": "sso_id",
         "rawType": "Int64",
         "type": "integer"
        },
        {
         "name": "campaign_details",
         "rawType": "object",
         "type": "string"
        },
        {
         "name": "campaign_name",
         "rawType": "object",
         "type": "string"
        },
        {
         "name": "platform",
         "rawType": "object",
         "type": "string"
        },
        {
         "name": "event_time",
         "rawType": "object",
         "type": "string"
        },
        {
         "name": "total_time",
         "rawType": "object",
         "type": "unknown"
        },
        {
         "name": "rag_speed",
         "rawType": "object",
         "type": "unknown"
        },
        {
         "name": "session_id",
         "rawType": "object",
         "type": "unknown"
        },
        {
         "name": "timestamp",
         "rawType": "object",
         "type": "unknown"
        },
        {
         "name": "input_tokens",
         "rawType": "object",
         "type": "unknown"
        },
        {
         "name": "llm_speed",
         "rawType": "object",
         "type": "unknown"
        },
        {
         "name": "thinking_process",
         "rawType": "object",
         "type": "unknown"
        },
        {
         "name": "query",
         "rawType": "object",
         "type": "unknown"
        },
        {
         "name": "article_ids_2",
         "rawType": "object",
         "type": "unknown"
        },
        {
         "name": "output_tokens",
         "rawType": "object",
         "type": "unknown"
        },
        {
         "name": "writer_filter",
         "rawType": "object",
         "type": "unknown"
        },
        {
         "name": "version",
         "rawType": "object",
         "type": "unknown"
        },
        {
         "name": "article_ids_1",
         "rawType": "object",
         "type": "unknown"
        },
        {
         "name": "error",
         "rawType": "object",
         "type": "unknown"
        },
        {
         "name": "remaining_user_messages",
         "rawType": "object",
         "type": "unknown"
        },
        {
         "name": "troll_triggered",
         "rawType": "object",
         "type": "unknown"
        },
        {
         "name": "conversation_key",
         "rawType": "object",
         "type": "unknown"
        },
        {
         "name": "genres",
         "rawType": "object",
         "type": "unknown"
        },
        {
         "name": "regenerate",
         "rawType": "object",
         "type": "unknown"
        },
        {
         "name": "media_type",
         "rawType": "object",
         "type": "unknown"
        },
        {
         "name": "streaming_platforms",
         "rawType": "object",
         "type": "unknown"
        },
        {
         "name": "id",
         "rawType": "object",
         "type": "string"
        }
       ],
       "ref": "c870efea-f876-4398-b37a-bd59561f0720",
       "rows": [
        [
         "34",
         "8010962861",
         "<strong>אורון שמיר</strong> ממליץ על הסרט <strong>\"אחים\"</strong> באמזון פריים וידיאו. הוא מתאר אותו כקומדיה חביבה עם ג'וש ברולין ופיטר דינקלג', שיכולה להיות צפייה ביתית נעימה. למרות הציפיות הגבוהות מהבמאי, הסרט מוגדר כחביב ותו לא. כמו כן, ישנה גם ביקורת של <strong>אורון שמיר</strong> על הסרט <strong>\"מושבע מס' 2\"</strong>, סרט פרישה של קלינט איסטווד, שזמין להשכרה בתשלום באמזון (בין היתר). הוא מתאר אותו כמותחן משפטי קלאסי וסולידי.",
         "response answer",
         "Desktop",
         "2025-06-25 04:48:21",
         null,
         null,
         null,
         null,
         null,
         null,
         null,
         null,
         null,
         null,
         null,
         null,
         null,
         null,
         null,
         null,
         null,
         null,
         null,
         null,
         null,
         "8010962861_nan"
        ],
        [
         "36",
         "8010962861",
         "בוקר טוב",
         "open question",
         "Desktop",
         "2025-06-25 04:47:50",
         null,
         null,
         null,
         null,
         null,
         null,
         null,
         null,
         null,
         null,
         null,
         null,
         null,
         null,
         null,
         null,
         null,
         null,
         null,
         null,
         null,
         "8010962861_nan"
        ]
       ],
       "shape": {
        "columns": 27,
        "rows": 2
       }
      },
      "text/html": [
       "<div>\n",
       "<style scoped>\n",
       "    .dataframe tbody tr th:only-of-type {\n",
       "        vertical-align: middle;\n",
       "    }\n",
       "\n",
       "    .dataframe tbody tr th {\n",
       "        vertical-align: top;\n",
       "    }\n",
       "\n",
       "    .dataframe thead th {\n",
       "        text-align: right;\n",
       "    }\n",
       "</style>\n",
       "<table border=\"1\" class=\"dataframe\">\n",
       "  <thead>\n",
       "    <tr style=\"text-align: right;\">\n",
       "      <th></th>\n",
       "      <th>sso_id</th>\n",
       "      <th>campaign_details</th>\n",
       "      <th>campaign_name</th>\n",
       "      <th>platform</th>\n",
       "      <th>event_time</th>\n",
       "      <th>total_time</th>\n",
       "      <th>rag_speed</th>\n",
       "      <th>session_id</th>\n",
       "      <th>timestamp</th>\n",
       "      <th>input_tokens</th>\n",
       "      <th>...</th>\n",
       "      <th>article_ids_1</th>\n",
       "      <th>error</th>\n",
       "      <th>remaining_user_messages</th>\n",
       "      <th>troll_triggered</th>\n",
       "      <th>conversation_key</th>\n",
       "      <th>genres</th>\n",
       "      <th>regenerate</th>\n",
       "      <th>media_type</th>\n",
       "      <th>streaming_platforms</th>\n",
       "      <th>id</th>\n",
       "    </tr>\n",
       "  </thead>\n",
       "  <tbody>\n",
       "    <tr>\n",
       "      <th>34</th>\n",
       "      <td>8010962861</td>\n",
       "      <td>&lt;strong&gt;אורון שמיר&lt;/strong&gt; ממליץ על הסרט &lt;str...</td>\n",
       "      <td>response answer</td>\n",
       "      <td>Desktop</td>\n",
       "      <td>2025-06-25 04:48:21</td>\n",
       "      <td>NaN</td>\n",
       "      <td>NaN</td>\n",
       "      <td>NaN</td>\n",
       "      <td>NaN</td>\n",
       "      <td>NaN</td>\n",
       "      <td>...</td>\n",
       "      <td>NaN</td>\n",
       "      <td>NaN</td>\n",
       "      <td>NaN</td>\n",
       "      <td>NaN</td>\n",
       "      <td>NaN</td>\n",
       "      <td>NaN</td>\n",
       "      <td>NaN</td>\n",
       "      <td>NaN</td>\n",
       "      <td>NaN</td>\n",
       "      <td>8010962861_nan</td>\n",
       "    </tr>\n",
       "    <tr>\n",
       "      <th>36</th>\n",
       "      <td>8010962861</td>\n",
       "      <td>בוקר טוב</td>\n",
       "      <td>open question</td>\n",
       "      <td>Desktop</td>\n",
       "      <td>2025-06-25 04:47:50</td>\n",
       "      <td>NaN</td>\n",
       "      <td>NaN</td>\n",
       "      <td>NaN</td>\n",
       "      <td>NaN</td>\n",
       "      <td>NaN</td>\n",
       "      <td>...</td>\n",
       "      <td>NaN</td>\n",
       "      <td>NaN</td>\n",
       "      <td>NaN</td>\n",
       "      <td>NaN</td>\n",
       "      <td>NaN</td>\n",
       "      <td>NaN</td>\n",
       "      <td>NaN</td>\n",
       "      <td>NaN</td>\n",
       "      <td>NaN</td>\n",
       "      <td>8010962861_nan</td>\n",
       "    </tr>\n",
       "  </tbody>\n",
       "</table>\n",
       "<p>2 rows × 27 columns</p>\n",
       "</div>"
      ],
      "text/plain": [
       "        sso_id                                   campaign_details  \\\n",
       "34  8010962861  <strong>אורון שמיר</strong> ממליץ על הסרט <str...   \n",
       "36  8010962861                                           בוקר טוב   \n",
       "\n",
       "      campaign_name platform           event_time total_time rag_speed  \\\n",
       "34  response answer  Desktop  2025-06-25 04:48:21        NaN       NaN   \n",
       "36    open question  Desktop  2025-06-25 04:47:50        NaN       NaN   \n",
       "\n",
       "   session_id timestamp input_tokens  ... article_ids_1 error  \\\n",
       "34        NaN       NaN          NaN  ...           NaN   NaN   \n",
       "36        NaN       NaN          NaN  ...           NaN   NaN   \n",
       "\n",
       "   remaining_user_messages troll_triggered conversation_key genres regenerate  \\\n",
       "34                     NaN             NaN              NaN    NaN        NaN   \n",
       "36                     NaN             NaN              NaN    NaN        NaN   \n",
       "\n",
       "   media_type streaming_platforms              id  \n",
       "34        NaN                 NaN  8010962861_nan  \n",
       "36        NaN                 NaN  8010962861_nan  \n",
       "\n",
       "[2 rows x 27 columns]"
      ]
     },
     "execution_count": 58,
     "metadata": {},
     "output_type": "execute_result"
    }
   ],
   "source": [
    "# preprocess the data\n",
    "\n",
    "df['parsed_data'] = df['additional_info'].apply(lambda x: {item['key']: item['value'] for item in x})\n",
    "expanded_df = pd.json_normalize(df['parsed_data'].tolist())\n",
    "expanded_df = expanded_df.drop(columns=['sso_id'])\n",
    "df_cleaned = df.drop(columns=['additional_info', 'parsed_data'])\n",
    "df = pd.concat([df_cleaned, expanded_df], axis=1)\n",
    "df['id'] = df['sso_id'].astype(str) + '_' + df['session_id'].astype(str)\n",
    "\n",
    "df.head(2)"
   ]
  },
  {
   "cell_type": "code",
   "execution_count": 59,
   "id": "6d891c44",
   "metadata": {},
   "outputs": [
    {
     "data": {
      "application/vnd.microsoft.datawrangler.viewer.v0+json": {
       "columns": [
        {
         "name": "index",
         "rawType": "int64",
         "type": "integer"
        },
        {
         "name": "sso_id",
         "rawType": "Int64",
         "type": "integer"
        },
        {
         "name": "campaign_details",
         "rawType": "object",
         "type": "string"
        },
        {
         "name": "campaign_name",
         "rawType": "object",
         "type": "string"
        },
        {
         "name": "platform",
         "rawType": "object",
         "type": "string"
        },
        {
         "name": "event_time",
         "rawType": "object",
         "type": "string"
        },
        {
         "name": "total_time",
         "rawType": "object",
         "type": "string"
        },
        {
         "name": "rag_speed",
         "rawType": "object",
         "type": "string"
        },
        {
         "name": "session_id",
         "rawType": "object",
         "type": "string"
        },
        {
         "name": "timestamp",
         "rawType": "object",
         "type": "string"
        },
        {
         "name": "input_tokens",
         "rawType": "object",
         "type": "string"
        },
        {
         "name": "llm_speed",
         "rawType": "object",
         "type": "string"
        },
        {
         "name": "thinking_process",
         "rawType": "object",
         "type": "string"
        },
        {
         "name": "query",
         "rawType": "object",
         "type": "string"
        },
        {
         "name": "article_ids_2",
         "rawType": "object",
         "type": "string"
        },
        {
         "name": "output_tokens",
         "rawType": "object",
         "type": "string"
        },
        {
         "name": "writer_filter",
         "rawType": "object",
         "type": "string"
        },
        {
         "name": "version",
         "rawType": "object",
         "type": "string"
        },
        {
         "name": "article_ids_1",
         "rawType": "object",
         "type": "string"
        },
        {
         "name": "error",
         "rawType": "object",
         "type": "string"
        },
        {
         "name": "remaining_user_messages",
         "rawType": "object",
         "type": "string"
        },
        {
         "name": "troll_triggered",
         "rawType": "object",
         "type": "string"
        },
        {
         "name": "conversation_key",
         "rawType": "object",
         "type": "string"
        },
        {
         "name": "genres",
         "rawType": "object",
         "type": "string"
        },
        {
         "name": "regenerate",
         "rawType": "object",
         "type": "string"
        },
        {
         "name": "media_type",
         "rawType": "object",
         "type": "string"
        },
        {
         "name": "streaming_platforms",
         "rawType": "object",
         "type": "string"
        },
        {
         "name": "id",
         "rawType": "object",
         "type": "string"
        }
       ],
       "ref": "9ee2c4c4-afc4-472b-b129-deb85bd67811",
       "rows": [],
       "shape": {
        "columns": 27,
        "rows": 0
       }
      },
      "text/html": [
       "<div>\n",
       "<style scoped>\n",
       "    .dataframe tbody tr th:only-of-type {\n",
       "        vertical-align: middle;\n",
       "    }\n",
       "\n",
       "    .dataframe tbody tr th {\n",
       "        vertical-align: top;\n",
       "    }\n",
       "\n",
       "    .dataframe thead th {\n",
       "        text-align: right;\n",
       "    }\n",
       "</style>\n",
       "<table border=\"1\" class=\"dataframe\">\n",
       "  <thead>\n",
       "    <tr style=\"text-align: right;\">\n",
       "      <th></th>\n",
       "      <th>sso_id</th>\n",
       "      <th>campaign_details</th>\n",
       "      <th>campaign_name</th>\n",
       "      <th>platform</th>\n",
       "      <th>event_time</th>\n",
       "      <th>total_time</th>\n",
       "      <th>rag_speed</th>\n",
       "      <th>session_id</th>\n",
       "      <th>timestamp</th>\n",
       "      <th>input_tokens</th>\n",
       "      <th>...</th>\n",
       "      <th>article_ids_1</th>\n",
       "      <th>error</th>\n",
       "      <th>remaining_user_messages</th>\n",
       "      <th>troll_triggered</th>\n",
       "      <th>conversation_key</th>\n",
       "      <th>genres</th>\n",
       "      <th>regenerate</th>\n",
       "      <th>media_type</th>\n",
       "      <th>streaming_platforms</th>\n",
       "      <th>id</th>\n",
       "    </tr>\n",
       "  </thead>\n",
       "  <tbody>\n",
       "  </tbody>\n",
       "</table>\n",
       "<p>0 rows × 27 columns</p>\n",
       "</div>"
      ],
      "text/plain": [
       "Empty DataFrame\n",
       "Columns: [sso_id, campaign_details, campaign_name, platform, event_time, total_time, rag_speed, session_id, timestamp, input_tokens, llm_speed, thinking_process, query, article_ids_2, output_tokens, writer_filter, version, article_ids_1, error, remaining_user_messages, troll_triggered, conversation_key, genres, regenerate, media_type, streaming_platforms, id]\n",
       "Index: []\n",
       "\n",
       "[0 rows x 27 columns]"
      ]
     },
     "execution_count": 59,
     "metadata": {},
     "output_type": "execute_result"
    }
   ],
   "source": [
    "df[df['campaign_details'].fillna('').str.contains('closing_question')]"
   ]
  },
  {
   "cell_type": "code",
   "execution_count": 60,
   "id": "10325214",
   "metadata": {},
   "outputs": [
    {
     "data": {
      "application/vnd.microsoft.datawrangler.viewer.v0+json": {
       "columns": [
        {
         "name": "id",
         "rawType": "object",
         "type": "string"
        },
        {
         "name": "count",
         "rawType": "int64",
         "type": "integer"
        }
       ],
       "ref": "570f828d-0aa6-4a25-8a40-31ef5bc6cfd3",
       "rows": [
        [
         "8010962861_nan",
         "2"
        ],
        [
         "<NA>_117",
         "2"
        ]
       ],
       "shape": {
        "columns": 1,
        "rows": 2
       }
      },
      "text/plain": [
       "id\n",
       "8010962861_nan    2\n",
       "<NA>_117          2\n",
       "Name: count, dtype: int64"
      ]
     },
     "execution_count": 60,
     "metadata": {},
     "output_type": "execute_result"
    }
   ],
   "source": [
    "df['id'].value_counts().sort_values(ascending=False).head(10)"
   ]
  },
  {
   "cell_type": "code",
   "execution_count": 61,
   "id": "317c4280",
   "metadata": {},
   "outputs": [
    {
     "name": "stdout",
     "output_type": "stream",
     "text": [
      "No conversation found for this ID.\n"
     ]
    }
   ],
   "source": [
    "def parse_conversation(ids:str) -> str:\n",
    "    \"\"\"\n",
    "    Parse the conversation from the DataFrame based on the provided id.\n",
    "    \"\"\"\n",
    "    conversation = df[df['id'] == ids]\n",
    "    conversation = conversation.sort_values(by='event_time', ascending=True)\n",
    "    if conversation.empty:\n",
    "        return \"No conversation found for this ID.\"\n",
    "    \n",
    "    conversation_text = []\n",
    "    for _, row in conversation.iterrows():\n",
    "        if row['campaign_name'] == 'open question':\n",
    "            text = f\"{row['event_time']} - USER: {row['campaign_details']}\"\n",
    "        elif row['campaign_name'] == 'response answer':\n",
    "            text = f\"{row['event_time']} - LLM: {row['campaign_details']}\"\n",
    "        conversation_text.append(text)\n",
    "    \n",
    "    return \"\\n\".join(conversation_text)\n",
    "\n",
    "txt = parse_conversation('8010962861_117')\n",
    "print(txt)"
   ]
  },
  {
   "cell_type": "code",
   "execution_count": 62,
   "id": "9b32be9b",
   "metadata": {},
   "outputs": [
    {
     "data": {
      "application/vnd.microsoft.datawrangler.viewer.v0+json": {
       "columns": [
        {
         "name": "index",
         "rawType": "int64",
         "type": "integer"
        },
        {
         "name": "sso_id",
         "rawType": "Int64",
         "type": "integer"
        },
        {
         "name": "campaign_details",
         "rawType": "object",
         "type": "string"
        },
        {
         "name": "campaign_name",
         "rawType": "object",
         "type": "string"
        },
        {
         "name": "platform",
         "rawType": "object",
         "type": "string"
        },
        {
         "name": "event_time",
         "rawType": "object",
         "type": "string"
        },
        {
         "name": "total_time",
         "rawType": "object",
         "type": "string"
        },
        {
         "name": "rag_speed",
         "rawType": "object",
         "type": "string"
        },
        {
         "name": "session_id",
         "rawType": "object",
         "type": "string"
        },
        {
         "name": "timestamp",
         "rawType": "object",
         "type": "string"
        },
        {
         "name": "input_tokens",
         "rawType": "object",
         "type": "string"
        },
        {
         "name": "llm_speed",
         "rawType": "object",
         "type": "string"
        },
        {
         "name": "thinking_process",
         "rawType": "object",
         "type": "string"
        },
        {
         "name": "query",
         "rawType": "object",
         "type": "string"
        },
        {
         "name": "article_ids_2",
         "rawType": "object",
         "type": "string"
        },
        {
         "name": "output_tokens",
         "rawType": "object",
         "type": "string"
        },
        {
         "name": "writer_filter",
         "rawType": "object",
         "type": "string"
        },
        {
         "name": "version",
         "rawType": "object",
         "type": "string"
        },
        {
         "name": "article_ids_1",
         "rawType": "object",
         "type": "string"
        },
        {
         "name": "error",
         "rawType": "object",
         "type": "string"
        },
        {
         "name": "remaining_user_messages",
         "rawType": "object",
         "type": "string"
        },
        {
         "name": "troll_triggered",
         "rawType": "object",
         "type": "string"
        },
        {
         "name": "conversation_key",
         "rawType": "object",
         "type": "string"
        },
        {
         "name": "genres",
         "rawType": "object",
         "type": "string"
        },
        {
         "name": "regenerate",
         "rawType": "object",
         "type": "string"
        },
        {
         "name": "media_type",
         "rawType": "object",
         "type": "string"
        },
        {
         "name": "streaming_platforms",
         "rawType": "object",
         "type": "string"
        },
        {
         "name": "id",
         "rawType": "object",
         "type": "string"
        }
       ],
       "ref": "752ab463-09b0-49d3-951f-0cab078cb2e3",
       "rows": [],
       "shape": {
        "columns": 27,
        "rows": 0
       }
      },
      "text/html": [
       "<div>\n",
       "<style scoped>\n",
       "    .dataframe tbody tr th:only-of-type {\n",
       "        vertical-align: middle;\n",
       "    }\n",
       "\n",
       "    .dataframe tbody tr th {\n",
       "        vertical-align: top;\n",
       "    }\n",
       "\n",
       "    .dataframe thead th {\n",
       "        text-align: right;\n",
       "    }\n",
       "</style>\n",
       "<table border=\"1\" class=\"dataframe\">\n",
       "  <thead>\n",
       "    <tr style=\"text-align: right;\">\n",
       "      <th></th>\n",
       "      <th>sso_id</th>\n",
       "      <th>campaign_details</th>\n",
       "      <th>campaign_name</th>\n",
       "      <th>platform</th>\n",
       "      <th>event_time</th>\n",
       "      <th>total_time</th>\n",
       "      <th>rag_speed</th>\n",
       "      <th>session_id</th>\n",
       "      <th>timestamp</th>\n",
       "      <th>input_tokens</th>\n",
       "      <th>...</th>\n",
       "      <th>article_ids_1</th>\n",
       "      <th>error</th>\n",
       "      <th>remaining_user_messages</th>\n",
       "      <th>troll_triggered</th>\n",
       "      <th>conversation_key</th>\n",
       "      <th>genres</th>\n",
       "      <th>regenerate</th>\n",
       "      <th>media_type</th>\n",
       "      <th>streaming_platforms</th>\n",
       "      <th>id</th>\n",
       "    </tr>\n",
       "  </thead>\n",
       "  <tbody>\n",
       "  </tbody>\n",
       "</table>\n",
       "<p>0 rows × 27 columns</p>\n",
       "</div>"
      ],
      "text/plain": [
       "Empty DataFrame\n",
       "Columns: [sso_id, campaign_details, campaign_name, platform, event_time, total_time, rag_speed, session_id, timestamp, input_tokens, llm_speed, thinking_process, query, article_ids_2, output_tokens, writer_filter, version, article_ids_1, error, remaining_user_messages, troll_triggered, conversation_key, genres, regenerate, media_type, streaming_platforms, id]\n",
       "Index: []\n",
       "\n",
       "[0 rows x 27 columns]"
      ]
     },
     "execution_count": 62,
     "metadata": {},
     "output_type": "execute_result"
    }
   ],
   "source": [
    "df[df['id'] == '8010962861_117']"
   ]
  },
  {
   "cell_type": "code",
   "execution_count": 63,
   "id": "9e5b03f7",
   "metadata": {},
   "outputs": [],
   "source": [
    "from pydantic import BaseModel, Field\n",
    "\n",
    "class ReviewChat(BaseModel):\n",
    "    quality: int = Field(..., description=\"Quality rating of the chat conversation, from 1 to 5, where 1 is poor and 5 is excellent.\")\n",
    "    feedback: str = Field(..., description=\"Feedback on the chat conversation.\")\n",
    "    \n"
   ]
  },
  {
   "cell_type": "code",
   "execution_count": 64,
   "id": "07d6ac37",
   "metadata": {},
   "outputs": [],
   "source": [
    "from google import genai\n",
    "import os\n",
    "\n",
    "model_name = \"gemini-2.5-pro\"\n",
    "system_instruction = \"\"\"\n",
    "You are an LLM as a judge designed to test the quality of the output of a RAG-based chatbot for movie and series recommendations. \n",
    "You will receive parameters for examining the conversation between the user and the language model, \n",
    "and you must return an answer as to whether the correspondence meets the criteria you received.\n",
    "\"\"\"\n",
    "\n",
    "client = genai.Client(api_key=os.environ.get(\"GOOGLE_API_KEY\"))\n",
    "temp = client.models.generate_content(\n",
    "    model=model_name,\n",
    "    contents=txt,\n",
    "                config={\n",
    "            'response_mime_type': 'application/json',\n",
    "            'response_schema': ReviewChat,\n",
    "            'system_instruction': system_instruction,\n",
    "        },\n",
    ")\n",
    "\n"
   ]
  },
  {
   "cell_type": "code",
   "execution_count": 65,
   "id": "66f8f8db",
   "metadata": {},
   "outputs": [
    {
     "data": {
      "text/plain": [
       "ReviewChat(quality=1, feedback='No conversation was provided to evaluate.')"
      ]
     },
     "execution_count": 65,
     "metadata": {},
     "output_type": "execute_result"
    }
   ],
   "source": [
    "temp.parsed"
   ]
  },
  {
   "cell_type": "code",
   "execution_count": 66,
   "id": "adbb1aa2",
   "metadata": {},
   "outputs": [
    {
     "data": {
      "text/plain": [
       "'No conversation found for this ID.'"
      ]
     },
     "execution_count": 66,
     "metadata": {},
     "output_type": "execute_result"
    }
   ],
   "source": [
    "txt"
   ]
  },
  {
   "cell_type": "code",
   "execution_count": null,
   "id": "d90edb81",
   "metadata": {},
   "outputs": [],
   "source": []
  }
 ],
 "metadata": {
  "kernelspec": {
   "display_name": ".venv",
   "language": "python",
   "name": "python3"
  },
  "language_info": {
   "codemirror_mode": {
    "name": "ipython",
    "version": 3
   },
   "file_extension": ".py",
   "mimetype": "text/x-python",
   "name": "python",
   "nbconvert_exporter": "python",
   "pygments_lexer": "ipython3",
   "version": "3.12.8"
  }
 },
 "nbformat": 4,
 "nbformat_minor": 5
}
