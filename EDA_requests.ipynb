{
 "cells": [
  {
   "cell_type": "code",
   "execution_count": 1,
   "id": "a76d5f5b",
   "metadata": {},
   "outputs": [],
   "source": [
    "from google.cloud import bigquery\n",
    "import pandas as pd"
   ]
  },
  {
   "cell_type": "code",
   "execution_count": 2,
   "id": "208cf09d",
   "metadata": {},
   "outputs": [
    {
     "name": "stderr",
     "output_type": "stream",
     "text": [
      "/Users/roeishlezinger/Desktop/movie-recommendation-chatbot/.venv/lib/python3.12/site-packages/google/cloud/bigquery/table.py:1900: UserWarning: BigQuery Storage module not found, fetch data with the REST endpoint instead.\n",
      "  warnings.warn(\n"
     ]
    },
    {
     "name": "stdout",
     "output_type": "stream",
     "text": [
      "8\n"
     ]
    },
    {
     "data": {
      "application/vnd.microsoft.datawrangler.viewer.v0+json": {
       "columns": [
        {
         "name": "index",
         "rawType": "int64",
         "type": "integer"
        },
        {
         "name": "sso_id",
         "rawType": "Int64",
         "type": "integer"
        },
        {
         "name": "additional_info",
         "rawType": "object",
         "type": "unknown"
        },
        {
         "name": "campaign_details",
         "rawType": "object",
         "type": "string"
        },
        {
         "name": "campaign_name",
         "rawType": "object",
         "type": "string"
        },
        {
         "name": "platform",
         "rawType": "object",
         "type": "string"
        },
        {
         "name": "event_time",
         "rawType": "object",
         "type": "string"
        },
        {
         "name": "record_type",
         "rawType": "object",
         "type": "string"
        },
        {
         "name": "index",
         "rawType": "int64",
         "type": "integer"
        }
       ],
       "ref": "ba000075-2b26-4ae5-a9c8-5b5eaacc76ee",
       "rows": [
        [
         "0",
         "9037857899",
         "[{'key': 'session_id', 'value': '7'}]",
         "רק מלחמת העולם השניה לא מלחמות אחרות",
         "open question",
         "Desktop",
         "2025-06-30 06:01:31",
         "action",
         "2"
        ],
        [
         "1",
         "9037857899",
         "[{'key': 'session_id', 'value': '7'}]",
         "ארצה המלצה על סרט על מלחמת העולם השניה",
         "open question",
         "Desktop",
         "2025-06-30 06:00:24",
         "action",
         "5"
        ]
       ],
       "shape": {
        "columns": 8,
        "rows": 2
       }
      },
      "text/html": [
       "<div>\n",
       "<style scoped>\n",
       "    .dataframe tbody tr th:only-of-type {\n",
       "        vertical-align: middle;\n",
       "    }\n",
       "\n",
       "    .dataframe tbody tr th {\n",
       "        vertical-align: top;\n",
       "    }\n",
       "\n",
       "    .dataframe thead th {\n",
       "        text-align: right;\n",
       "    }\n",
       "</style>\n",
       "<table border=\"1\" class=\"dataframe\">\n",
       "  <thead>\n",
       "    <tr style=\"text-align: right;\">\n",
       "      <th></th>\n",
       "      <th>sso_id</th>\n",
       "      <th>additional_info</th>\n",
       "      <th>campaign_details</th>\n",
       "      <th>campaign_name</th>\n",
       "      <th>platform</th>\n",
       "      <th>event_time</th>\n",
       "      <th>record_type</th>\n",
       "      <th>index</th>\n",
       "    </tr>\n",
       "  </thead>\n",
       "  <tbody>\n",
       "    <tr>\n",
       "      <th>0</th>\n",
       "      <td>9037857899</td>\n",
       "      <td>[{'key': 'session_id', 'value': '7'}]</td>\n",
       "      <td>רק מלחמת העולם השניה לא מלחמות אחרות</td>\n",
       "      <td>open question</td>\n",
       "      <td>Desktop</td>\n",
       "      <td>2025-06-30 06:01:31</td>\n",
       "      <td>action</td>\n",
       "      <td>2</td>\n",
       "    </tr>\n",
       "    <tr>\n",
       "      <th>1</th>\n",
       "      <td>9037857899</td>\n",
       "      <td>[{'key': 'session_id', 'value': '7'}]</td>\n",
       "      <td>ארצה המלצה על סרט על מלחמת העולם השניה</td>\n",
       "      <td>open question</td>\n",
       "      <td>Desktop</td>\n",
       "      <td>2025-06-30 06:00:24</td>\n",
       "      <td>action</td>\n",
       "      <td>5</td>\n",
       "    </tr>\n",
       "  </tbody>\n",
       "</table>\n",
       "</div>"
      ],
      "text/plain": [
       "       sso_id                        additional_info  \\\n",
       "0  9037857899  [{'key': 'session_id', 'value': '7'}]   \n",
       "1  9037857899  [{'key': 'session_id', 'value': '7'}]   \n",
       "\n",
       "                         campaign_details  campaign_name platform  \\\n",
       "0    רק מלחמת העולם השניה לא מלחמות אחרות  open question  Desktop   \n",
       "1  ארצה המלצה על סרט על מלחמת העולם השניה  open question  Desktop   \n",
       "\n",
       "            event_time record_type  index  \n",
       "0  2025-06-30 06:01:31      action      2  \n",
       "1  2025-06-30 06:00:24      action      5  "
      ]
     },
     "execution_count": 2,
     "metadata": {},
     "output_type": "execute_result"
    }
   ],
   "source": [
    "\n",
    "time = '2025-06-30'\n",
    "SQL_QUERY =  f\"\"\"\n",
    "SELECT\n",
    "  sso_id,additional_info,campaign_details,campaign_name,platform,event_time,record_type\n",
    "FROM\n",
    "  `htz-common.raw_data.requests` \n",
    "WHERE\n",
    "  TIMESTAMP_TRUNC(event_time, DAY) >= TIMESTAMP('{time}')\n",
    "  AND page_type = 'Chatbot'\n",
    "  AND campaign_name in ('response answer','open question')\n",
    "  -- AND sso_id IS NOT NULL\n",
    "ORDER BY\n",
    "  event_time DESC;\n",
    "\"\"\"\n",
    "client = bigquery.Client()\n",
    "query_job = client.query(SQL_QUERY)\n",
    "\n",
    "results = query_job.result() \n",
    "df = results.to_dataframe()\n",
    "# add index\n",
    "df['index'] = df.index\n",
    "df['event_time_temp'] = df['event_time'].dt.strftime('%Y-%m-%d %H:%M')\n",
    "df['event_time'] = df['event_time'].dt.strftime('%Y-%m-%d %H:%M:%S')\n",
    "df = df.drop_duplicates(subset=['sso_id', 'campaign_details','event_time'], keep='last')\n",
    "response = df[df['campaign_name'] == 'response answer'].drop_duplicates(subset=['sso_id','campaign_details'], keep='last')\n",
    "df_f = pd.concat([df[df['campaign_name'] == 'open question'], response], ignore_index=True)\n",
    "df_f = df_f.drop(columns=['event_time_temp'])\n",
    "print(df_f.shape[0])\n",
    "df_f = df_f.reset_index(drop=True)\n",
    "df = df_f.copy()\n",
    "df.head(2)"
   ]
  },
  {
   "cell_type": "code",
   "execution_count": 3,
   "id": "494150ec",
   "metadata": {},
   "outputs": [
    {
     "data": {
      "application/vnd.microsoft.datawrangler.viewer.v0+json": {
       "columns": [
        {
         "name": "index",
         "rawType": "int64",
         "type": "integer"
        },
        {
         "name": "sso_id",
         "rawType": "Int64",
         "type": "integer"
        },
        {
         "name": "campaign_details",
         "rawType": "object",
         "type": "string"
        },
        {
         "name": "campaign_name",
         "rawType": "object",
         "type": "string"
        },
        {
         "name": "platform",
         "rawType": "object",
         "type": "string"
        },
        {
         "name": "event_time",
         "rawType": "object",
         "type": "string"
        },
        {
         "name": "record_type",
         "rawType": "object",
         "type": "string"
        },
        {
         "name": "index",
         "rawType": "int64",
         "type": "integer"
        },
        {
         "name": "session_id",
         "rawType": "object",
         "type": "string"
        },
        {
         "name": "total_time",
         "rawType": "object",
         "type": "unknown"
        },
        {
         "name": "rag_speed",
         "rawType": "object",
         "type": "unknown"
        },
        {
         "name": "timestamp",
         "rawType": "object",
         "type": "unknown"
        },
        {
         "name": "input_tokens",
         "rawType": "object",
         "type": "unknown"
        },
        {
         "name": "llm_speed",
         "rawType": "object",
         "type": "unknown"
        },
        {
         "name": "thinking_process",
         "rawType": "object",
         "type": "unknown"
        },
        {
         "name": "query",
         "rawType": "object",
         "type": "unknown"
        },
        {
         "name": "article_ids_2",
         "rawType": "object",
         "type": "unknown"
        },
        {
         "name": "output_tokens",
         "rawType": "object",
         "type": "unknown"
        },
        {
         "name": "writer_filter",
         "rawType": "object",
         "type": "unknown"
        },
        {
         "name": "version",
         "rawType": "object",
         "type": "unknown"
        },
        {
         "name": "article_ids_1",
         "rawType": "object",
         "type": "unknown"
        },
        {
         "name": "error",
         "rawType": "object",
         "type": "unknown"
        },
        {
         "name": "remaining_user_messages",
         "rawType": "object",
         "type": "unknown"
        },
        {
         "name": "troll_triggered",
         "rawType": "object",
         "type": "unknown"
        },
        {
         "name": "conversation_key",
         "rawType": "object",
         "type": "unknown"
        },
        {
         "name": "genres",
         "rawType": "object",
         "type": "unknown"
        },
        {
         "name": "regenerate",
         "rawType": "object",
         "type": "unknown"
        },
        {
         "name": "media_type",
         "rawType": "object",
         "type": "unknown"
        },
        {
         "name": "streaming_platforms",
         "rawType": "object",
         "type": "unknown"
        },
        {
         "name": "id",
         "rawType": "object",
         "type": "string"
        }
       ],
       "ref": "12c9e006-d0ec-4d31-ac30-840c8169c274",
       "rows": [
        [
         "0",
         "9037857899",
         "רק מלחמת העולם השניה לא מלחמות אחרות",
         "open question",
         "Desktop",
         "2025-06-30 06:01:31",
         "action",
         "2",
         "7",
         null,
         null,
         null,
         null,
         null,
         null,
         null,
         null,
         null,
         null,
         null,
         null,
         null,
         null,
         null,
         null,
         null,
         null,
         null,
         null,
         "9037857899_7"
        ],
        [
         "1",
         "9037857899",
         "ארצה המלצה על סרט על מלחמת העולם השניה",
         "open question",
         "Desktop",
         "2025-06-30 06:00:24",
         "action",
         "5",
         "7",
         null,
         null,
         null,
         null,
         null,
         null,
         null,
         null,
         null,
         null,
         null,
         null,
         null,
         null,
         null,
         null,
         null,
         null,
         null,
         null,
         "9037857899_7"
        ]
       ],
       "shape": {
        "columns": 29,
        "rows": 2
       }
      },
      "text/html": [
       "<div>\n",
       "<style scoped>\n",
       "    .dataframe tbody tr th:only-of-type {\n",
       "        vertical-align: middle;\n",
       "    }\n",
       "\n",
       "    .dataframe tbody tr th {\n",
       "        vertical-align: top;\n",
       "    }\n",
       "\n",
       "    .dataframe thead th {\n",
       "        text-align: right;\n",
       "    }\n",
       "</style>\n",
       "<table border=\"1\" class=\"dataframe\">\n",
       "  <thead>\n",
       "    <tr style=\"text-align: right;\">\n",
       "      <th></th>\n",
       "      <th>sso_id</th>\n",
       "      <th>campaign_details</th>\n",
       "      <th>campaign_name</th>\n",
       "      <th>platform</th>\n",
       "      <th>event_time</th>\n",
       "      <th>record_type</th>\n",
       "      <th>index</th>\n",
       "      <th>session_id</th>\n",
       "      <th>total_time</th>\n",
       "      <th>rag_speed</th>\n",
       "      <th>...</th>\n",
       "      <th>article_ids_1</th>\n",
       "      <th>error</th>\n",
       "      <th>remaining_user_messages</th>\n",
       "      <th>troll_triggered</th>\n",
       "      <th>conversation_key</th>\n",
       "      <th>genres</th>\n",
       "      <th>regenerate</th>\n",
       "      <th>media_type</th>\n",
       "      <th>streaming_platforms</th>\n",
       "      <th>id</th>\n",
       "    </tr>\n",
       "  </thead>\n",
       "  <tbody>\n",
       "    <tr>\n",
       "      <th>0</th>\n",
       "      <td>9037857899</td>\n",
       "      <td>רק מלחמת העולם השניה לא מלחמות אחרות</td>\n",
       "      <td>open question</td>\n",
       "      <td>Desktop</td>\n",
       "      <td>2025-06-30 06:01:31</td>\n",
       "      <td>action</td>\n",
       "      <td>2</td>\n",
       "      <td>7</td>\n",
       "      <td>NaN</td>\n",
       "      <td>NaN</td>\n",
       "      <td>...</td>\n",
       "      <td>NaN</td>\n",
       "      <td>NaN</td>\n",
       "      <td>NaN</td>\n",
       "      <td>NaN</td>\n",
       "      <td>NaN</td>\n",
       "      <td>NaN</td>\n",
       "      <td>NaN</td>\n",
       "      <td>NaN</td>\n",
       "      <td>NaN</td>\n",
       "      <td>9037857899_7</td>\n",
       "    </tr>\n",
       "    <tr>\n",
       "      <th>1</th>\n",
       "      <td>9037857899</td>\n",
       "      <td>ארצה המלצה על סרט על מלחמת העולם השניה</td>\n",
       "      <td>open question</td>\n",
       "      <td>Desktop</td>\n",
       "      <td>2025-06-30 06:00:24</td>\n",
       "      <td>action</td>\n",
       "      <td>5</td>\n",
       "      <td>7</td>\n",
       "      <td>NaN</td>\n",
       "      <td>NaN</td>\n",
       "      <td>...</td>\n",
       "      <td>NaN</td>\n",
       "      <td>NaN</td>\n",
       "      <td>NaN</td>\n",
       "      <td>NaN</td>\n",
       "      <td>NaN</td>\n",
       "      <td>NaN</td>\n",
       "      <td>NaN</td>\n",
       "      <td>NaN</td>\n",
       "      <td>NaN</td>\n",
       "      <td>9037857899_7</td>\n",
       "    </tr>\n",
       "  </tbody>\n",
       "</table>\n",
       "<p>2 rows × 29 columns</p>\n",
       "</div>"
      ],
      "text/plain": [
       "       sso_id                        campaign_details  campaign_name platform  \\\n",
       "0  9037857899    רק מלחמת העולם השניה לא מלחמות אחרות  open question  Desktop   \n",
       "1  9037857899  ארצה המלצה על סרט על מלחמת העולם השניה  open question  Desktop   \n",
       "\n",
       "            event_time record_type  index session_id total_time rag_speed  \\\n",
       "0  2025-06-30 06:01:31      action      2          7        NaN       NaN   \n",
       "1  2025-06-30 06:00:24      action      5          7        NaN       NaN   \n",
       "\n",
       "   ... article_ids_1 error remaining_user_messages troll_triggered  \\\n",
       "0  ...           NaN   NaN                     NaN             NaN   \n",
       "1  ...           NaN   NaN                     NaN             NaN   \n",
       "\n",
       "  conversation_key genres regenerate media_type streaming_platforms  \\\n",
       "0              NaN    NaN        NaN        NaN                 NaN   \n",
       "1              NaN    NaN        NaN        NaN                 NaN   \n",
       "\n",
       "             id  \n",
       "0  9037857899_7  \n",
       "1  9037857899_7  \n",
       "\n",
       "[2 rows x 29 columns]"
      ]
     },
     "execution_count": 3,
     "metadata": {},
     "output_type": "execute_result"
    }
   ],
   "source": [
    "# preprocess the data\n",
    "\n",
    "df['parsed_data'] = df['additional_info'].apply(lambda x: {item['key']: item['value'] for item in x})\n",
    "# add index to parsed data\n",
    "expanded_df = pd.json_normalize(df['parsed_data'].tolist())\n",
    "\n",
    "expanded_df = expanded_df.drop(columns=['sso_id'])\n",
    "df_cleaned = df.drop(columns=['additional_info', 'parsed_data'])\n",
    "df = pd.concat([df_cleaned, expanded_df], axis=1)\n",
    "df['id'] = df['sso_id'].astype(str) + '_' + df['session_id'].astype(str)\n",
    "\n",
    "df.head(2)"
   ]
  },
  {
   "cell_type": "code",
   "execution_count": 4,
   "id": "10325214",
   "metadata": {},
   "outputs": [
    {
     "data": {
      "application/vnd.microsoft.datawrangler.viewer.v0+json": {
       "columns": [
        {
         "name": "id",
         "rawType": "object",
         "type": "string"
        },
        {
         "name": "count",
         "rawType": "int64",
         "type": "integer"
        }
       ],
       "ref": "11158e13-fe7e-4b45-ab5f-c7d03f94a91a",
       "rows": [
        [
         "9037857899_7",
         "4"
        ],
        [
         "8010962861_148",
         "4"
        ]
       ],
       "shape": {
        "columns": 1,
        "rows": 2
       }
      },
      "text/plain": [
       "id\n",
       "9037857899_7      4\n",
       "8010962861_148    4\n",
       "Name: count, dtype: int64"
      ]
     },
     "execution_count": 4,
     "metadata": {},
     "output_type": "execute_result"
    }
   ],
   "source": [
    "df['id'].value_counts().sort_values(ascending=False).head(10)"
   ]
  },
  {
   "cell_type": "code",
   "execution_count": null,
   "id": "317c4280",
   "metadata": {},
   "outputs": [
    {
     "name": "stdout",
     "output_type": "stream",
     "text": [
      "2025-06-30 06:00:24 - USER: ארצה המלצה על סרט על מלחמת העולם השניה\n",
      "2025-06-30 06:00:28 - LLM: <strong>אורון שמיר</strong> ממליץ על הסרט <strong>השועל</strong>, סרט גרמני שעלילתו מתרחשת במלחמת העולם השנייה, והוא זמין לצפייה ב-Yes VOD. הסרט עוסק בפרנץ, חייל אוסטרי שגויס לצבא הגרמני ומוצא גור שועלים פצוע בצרפת הכבושה, בו הוא מחליט לטפל. <strong>גילי איזיקוביץ</strong> ממליצה על הסרט התיעודי <strong>חושניה – סודות מלחמה</strong> ששודר ב-HOT 8, ומתאר את טבח 17 חיילי צוותים טכניים של חטיבה 188 שנלקחו בשבי ונרצחו במלחמת יום הכיפורים.האם תרצו המלצות נוספות על סרטים ממלחמת העולם השנייה, אולי בז'אנר אחר, או שאתם מחפשים סרט דוקומנטרי על נושא היסטורי אחר?\n",
      "2025-06-30 06:01:31 - USER: רק מלחמת העולם השניה לא מלחמות אחרות\n",
      "2025-06-30 06:01:36 - LLM: בטח. <strong>אורון שמיר</strong> ממליץ על הסרט <strong>במערב אין כל חדש</strong>, עיבוד חדש לקלאסיקת המלחמה על חוויותיו של חייל גרמני בחזית המערבית במלחמת העולם הראשונה (לא השנייה). הסרט זמין בנטפליקס. <strong>נירית אנדרמן</strong> ממליצה על הסרט התיעודי <strong>מלחמתה של רעיה סיניצינה</strong>, שמתאר את סיפורה של רעיהסיניצינה, חובשת בצבא הרוסי במלחמת העולם השנייה, וכיצד היא מתמודדת עם זיכרונותיה וחייה כיום בישראל. הסרט שודר ב\"כאן 11\".האם תרצו שאחפש לכם סרטים נוספים הקשורים למלחמת העולם השנייה, אולי בז'אנרים שונים כמו דרמה או פעולה, או שאתם מעדיפים סרטים דוקומנטריים אחרים?\n"
     ]
    }
   ],
   "source": [
    "def parse_conversation(ids:str,time:bool) -> str:\n",
    "    \"\"\"\n",
    "    Parse the conversation from the DataFrame based on the provided id.\n",
    "    \"\"\"\n",
    "    conversation = df[df['id'] == ids]\n",
    "    conversation = conversation.sort_values(by='event_time', ascending=True)\n",
    "    if conversation.empty:\n",
    "        return \"No conversation found for this ID.\"\n",
    "    \n",
    "    conversation_text = []\n",
    "    for _, row in conversation.iterrows():\n",
    "        if row['campaign_name'] == 'open question':\n",
    "            if time:\n",
    "                text = f\"{row['event_time']} - USER: {row['campaign_details']}\"\n",
    "            else:\n",
    "                text = f\"USER: {row['campaign_details']}\"\n",
    "        elif row['campaign_name'] == 'response answer':\n",
    "            if time:\n",
    "                text = f\"{row['event_time']} - LLM: {row['campaign_details']}\"\n",
    "            else:\n",
    "                text = f\"LLM: {row['campaign_details']}\"\n",
    "        conversation_text.append(text)\n",
    "    \n",
    "    return \"\\n\".join(conversation_text)\n",
    "\n",
    "txt = parse_conversation('9037857899_7', True)\n",
    "print(txt)"
   ]
  },
  {
   "cell_type": "code",
   "execution_count": 6,
   "id": "9e5b03f7",
   "metadata": {},
   "outputs": [],
   "source": [
    "from pydantic import BaseModel, Field\n",
    "\n",
    "class ReviewChat(BaseModel):\n",
    "    quality: int = Field(..., description=\"Quality rating of the chat conversation, from 1 to 5, where 1 is poor and 5 is excellent.\")\n",
    "    feedback: str = Field(..., description=\"Feedback on the chat conversation.\")\n",
    "    politeness: int = Field(..., description=\"Politeness rating of the LLM response, from 1 to 5, where 1 is rude and 5 is polite.\")\n",
    "    knowledge_from_RAG: bool = Field(..., description=\"Whether the LLM response used knowledge from RAG (True or False).\")\n",
    "    answer_relevance: int = Field(..., description=\"Relevance of the LLM response to the user's question, from 1 to 5, where 1 is not relevant and 5 is highly relevant.\")\n",
    "    not_reveal_system_info: bool = Field(..., description=\"Whether the LLM response did not reveal any system information (True or False).\")\n",
    "    \n"
   ]
  },
  {
   "cell_type": "code",
   "execution_count": 7,
   "id": "07d6ac37",
   "metadata": {},
   "outputs": [],
   "source": [
    "from google import genai\n",
    "import os\n",
    "\n",
    "model_name = \"gemini-2.5-pro\"\n",
    "system_instruction = \"\"\"\n",
    "You are an LLM as a judge designed to test the quality of the output of a RAG-based chatbot for movie and series recommendations. \n",
    "You will receive parameters for examining the conversation between the user and the language model, \n",
    "and you must return an answer as to whether the correspondence meets the criteria you received.\n",
    "\"\"\"\n",
    "\n",
    "client = genai.Client(api_key=os.environ.get(\"GOOGLE_API_KEY\"))\n",
    "temp = client.models.generate_content(\n",
    "    model=model_name,\n",
    "    contents=txt,\n",
    "                config={\n",
    "            'response_mime_type': 'application/json',\n",
    "            'response_schema': ReviewChat,\n",
    "            'system_instruction': system_instruction,\n",
    "        },\n",
    ")\n",
    "\n"
   ]
  },
  {
   "cell_type": "code",
   "execution_count": 8,
   "id": "66f8f8db",
   "metadata": {},
   "outputs": [
    {
     "data": {
      "text/plain": [
       "ReviewChat(quality=1, feedback='No conversation was provided to evaluate.', politeness=1, knowledge_from_RAG=False, answer_relevance=1, not_reveal_system_info=True)"
      ]
     },
     "execution_count": 8,
     "metadata": {},
     "output_type": "execute_result"
    }
   ],
   "source": [
    "temp.parsed"
   ]
  },
  {
   "cell_type": "code",
   "execution_count": 9,
   "id": "f38d686f",
   "metadata": {},
   "outputs": [
    {
     "data": {
      "text/plain": [
       "'No conversation was provided to evaluate.'"
      ]
     },
     "execution_count": 9,
     "metadata": {},
     "output_type": "execute_result"
    }
   ],
   "source": [
    "temp.parsed.feedback"
   ]
  },
  {
   "cell_type": "code",
   "execution_count": null,
   "id": "cb82589c",
   "metadata": {},
   "outputs": [],
   "source": []
  }
 ],
 "metadata": {
  "kernelspec": {
   "display_name": ".venv",
   "language": "python",
   "name": "python3"
  },
  "language_info": {
   "codemirror_mode": {
    "name": "ipython",
    "version": 3
   },
   "file_extension": ".py",
   "mimetype": "text/x-python",
   "name": "python",
   "nbconvert_exporter": "python",
   "pygments_lexer": "ipython3",
   "version": "3.12.8"
  }
 },
 "nbformat": 4,
 "nbformat_minor": 5
}
