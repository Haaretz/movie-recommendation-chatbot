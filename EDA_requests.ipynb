{
 "cells": [
  {
   "cell_type": "code",
   "execution_count": 45,
   "id": "a76d5f5b",
   "metadata": {},
   "outputs": [],
   "source": [
    "from google.cloud import bigquery\n",
    "import pandas as pd"
   ]
  },
  {
   "cell_type": "code",
   "execution_count": 46,
   "id": "208cf09d",
   "metadata": {},
   "outputs": [
    {
     "name": "stderr",
     "output_type": "stream",
     "text": [
      "/Users/roeishlezinger/Desktop/movie-recommendation-chatbot/.venv/lib/python3.12/site-packages/google/cloud/bigquery/table.py:1900: UserWarning: BigQuery Storage module not found, fetch data with the REST endpoint instead.\n",
      "  warnings.warn(\n"
     ]
    },
    {
     "name": "stdout",
     "output_type": "stream",
     "text": [
      "152\n"
     ]
    },
    {
     "data": {
      "application/vnd.microsoft.datawrangler.viewer.v0+json": {
       "columns": [
        {
         "name": "index",
         "rawType": "int64",
         "type": "integer"
        },
        {
         "name": "sso_id",
         "rawType": "Int64",
         "type": "integer"
        },
        {
         "name": "additional_info",
         "rawType": "object",
         "type": "unknown"
        },
        {
         "name": "campaign_details",
         "rawType": "object",
         "type": "string"
        },
        {
         "name": "campaign_name",
         "rawType": "object",
         "type": "string"
        },
        {
         "name": "platform",
         "rawType": "object",
         "type": "string"
        },
        {
         "name": "event_time",
         "rawType": "object",
         "type": "string"
        },
        {
         "name": "record_type",
         "rawType": "object",
         "type": "string"
        },
        {
         "name": "index",
         "rawType": "int64",
         "type": "integer"
        }
       ],
       "ref": "c5495096-86a0-42b9-b644-6c89789566f1",
       "rows": [
        [
         "0",
         "6985707979",
         "[{'key': 'session_id', 'value': '6'}]",
         "מה לגבי סרט ריגול?",
         "open question",
         "Desktop",
         "2025-06-29 13:27:29",
         "action",
         "3"
        ],
        [
         "1",
         "8010962861",
         "[{'key': 'session_id', 'value': '146'}]",
         "סרט מתח באמזון פריים",
         "open question",
         "Desktop",
         "2025-06-29 13:02:34",
         "action",
         "6"
        ]
       ],
       "shape": {
        "columns": 8,
        "rows": 2
       }
      },
      "text/html": [
       "<div>\n",
       "<style scoped>\n",
       "    .dataframe tbody tr th:only-of-type {\n",
       "        vertical-align: middle;\n",
       "    }\n",
       "\n",
       "    .dataframe tbody tr th {\n",
       "        vertical-align: top;\n",
       "    }\n",
       "\n",
       "    .dataframe thead th {\n",
       "        text-align: right;\n",
       "    }\n",
       "</style>\n",
       "<table border=\"1\" class=\"dataframe\">\n",
       "  <thead>\n",
       "    <tr style=\"text-align: right;\">\n",
       "      <th></th>\n",
       "      <th>sso_id</th>\n",
       "      <th>additional_info</th>\n",
       "      <th>campaign_details</th>\n",
       "      <th>campaign_name</th>\n",
       "      <th>platform</th>\n",
       "      <th>event_time</th>\n",
       "      <th>record_type</th>\n",
       "      <th>index</th>\n",
       "    </tr>\n",
       "  </thead>\n",
       "  <tbody>\n",
       "    <tr>\n",
       "      <th>0</th>\n",
       "      <td>6985707979</td>\n",
       "      <td>[{'key': 'session_id', 'value': '6'}]</td>\n",
       "      <td>מה לגבי סרט ריגול?</td>\n",
       "      <td>open question</td>\n",
       "      <td>Desktop</td>\n",
       "      <td>2025-06-29 13:27:29</td>\n",
       "      <td>action</td>\n",
       "      <td>3</td>\n",
       "    </tr>\n",
       "    <tr>\n",
       "      <th>1</th>\n",
       "      <td>8010962861</td>\n",
       "      <td>[{'key': 'session_id', 'value': '146'}]</td>\n",
       "      <td>סרט מתח באמזון פריים</td>\n",
       "      <td>open question</td>\n",
       "      <td>Desktop</td>\n",
       "      <td>2025-06-29 13:02:34</td>\n",
       "      <td>action</td>\n",
       "      <td>6</td>\n",
       "    </tr>\n",
       "  </tbody>\n",
       "</table>\n",
       "</div>"
      ],
      "text/plain": [
       "       sso_id                          additional_info      campaign_details  \\\n",
       "0  6985707979    [{'key': 'session_id', 'value': '6'}]    מה לגבי סרט ריגול?   \n",
       "1  8010962861  [{'key': 'session_id', 'value': '146'}]  סרט מתח באמזון פריים   \n",
       "\n",
       "   campaign_name platform           event_time record_type  index  \n",
       "0  open question  Desktop  2025-06-29 13:27:29      action      3  \n",
       "1  open question  Desktop  2025-06-29 13:02:34      action      6  "
      ]
     },
     "execution_count": 46,
     "metadata": {},
     "output_type": "execute_result"
    }
   ],
   "source": [
    "\n",
    "time = '2025-06-29'\n",
    "SQL_QUERY =  f\"\"\"\n",
    "SELECT\n",
    "  sso_id,additional_info,campaign_details,campaign_name,platform,event_time,record_type\n",
    "FROM\n",
    "  `htz-common.raw_data.requests` \n",
    "WHERE\n",
    "  TIMESTAMP_TRUNC(event_time, DAY) >= TIMESTAMP('{time}')\n",
    "  AND page_type = 'Chatbot'\n",
    "  AND campaign_name in ('response answer','open question')\n",
    "  -- AND sso_id IS NOT NULL\n",
    "ORDER BY\n",
    "  event_time DESC;\n",
    "\"\"\"\n",
    "client = bigquery.Client()\n",
    "query_job = client.query(SQL_QUERY)\n",
    "\n",
    "results = query_job.result() \n",
    "df = results.to_dataframe()\n",
    "# add index\n",
    "df['index'] = df.index\n",
    "df['event_time_temp'] = df['event_time'].dt.strftime('%Y-%m-%d %H:%M')\n",
    "df['event_time'] = df['event_time'].dt.strftime('%Y-%m-%d %H:%M:%S')\n",
    "df = df.drop_duplicates(subset=['sso_id', 'campaign_details','event_time'], keep='last')\n",
    "response = df[df['campaign_name'] == 'response answer'].drop_duplicates(subset=['sso_id','campaign_details'], keep='last')\n",
    "df_f = pd.concat([df[df['campaign_name'] == 'open question'], response], ignore_index=True)\n",
    "df_f = df_f.drop(columns=['event_time_temp'])\n",
    "print(df_f.shape[0])\n",
    "df_f = df_f.reset_index(drop=True)\n",
    "df = df_f.copy()\n",
    "df.head(2)"
   ]
  },
  {
   "cell_type": "code",
   "execution_count": 47,
   "id": "494150ec",
   "metadata": {},
   "outputs": [
    {
     "data": {
      "application/vnd.microsoft.datawrangler.viewer.v0+json": {
       "columns": [
        {
         "name": "index",
         "rawType": "int64",
         "type": "integer"
        },
        {
         "name": "sso_id",
         "rawType": "Int64",
         "type": "integer"
        },
        {
         "name": "campaign_details",
         "rawType": "object",
         "type": "string"
        },
        {
         "name": "campaign_name",
         "rawType": "object",
         "type": "string"
        },
        {
         "name": "platform",
         "rawType": "object",
         "type": "string"
        },
        {
         "name": "event_time",
         "rawType": "object",
         "type": "string"
        },
        {
         "name": "record_type",
         "rawType": "object",
         "type": "string"
        },
        {
         "name": "index",
         "rawType": "int64",
         "type": "integer"
        },
        {
         "name": "session_id",
         "rawType": "object",
         "type": "string"
        },
        {
         "name": "total_time",
         "rawType": "object",
         "type": "unknown"
        },
        {
         "name": "rag_speed",
         "rawType": "object",
         "type": "unknown"
        },
        {
         "name": "timestamp",
         "rawType": "object",
         "type": "unknown"
        },
        {
         "name": "input_tokens",
         "rawType": "object",
         "type": "unknown"
        },
        {
         "name": "llm_speed",
         "rawType": "object",
         "type": "unknown"
        },
        {
         "name": "thinking_process",
         "rawType": "object",
         "type": "unknown"
        },
        {
         "name": "query",
         "rawType": "object",
         "type": "unknown"
        },
        {
         "name": "article_ids_2",
         "rawType": "object",
         "type": "unknown"
        },
        {
         "name": "output_tokens",
         "rawType": "object",
         "type": "unknown"
        },
        {
         "name": "writer_filter",
         "rawType": "object",
         "type": "unknown"
        },
        {
         "name": "version",
         "rawType": "object",
         "type": "unknown"
        },
        {
         "name": "article_ids_1",
         "rawType": "object",
         "type": "unknown"
        },
        {
         "name": "error",
         "rawType": "object",
         "type": "unknown"
        },
        {
         "name": "remaining_user_messages",
         "rawType": "object",
         "type": "unknown"
        },
        {
         "name": "troll_triggered",
         "rawType": "object",
         "type": "unknown"
        },
        {
         "name": "conversation_key",
         "rawType": "object",
         "type": "unknown"
        },
        {
         "name": "genres",
         "rawType": "object",
         "type": "unknown"
        },
        {
         "name": "regenerate",
         "rawType": "object",
         "type": "unknown"
        },
        {
         "name": "media_type",
         "rawType": "object",
         "type": "unknown"
        },
        {
         "name": "streaming_platforms",
         "rawType": "object",
         "type": "unknown"
        },
        {
         "name": "id",
         "rawType": "object",
         "type": "string"
        }
       ],
       "ref": "27d54459-f2a0-4fdc-9a7e-3b6e95a98fc5",
       "rows": [
        [
         "0",
         "6985707979",
         "מה לגבי סרט ריגול?",
         "open question",
         "Desktop",
         "2025-06-29 13:27:29",
         "action",
         "3",
         "6",
         null,
         null,
         null,
         null,
         null,
         null,
         null,
         null,
         null,
         null,
         null,
         null,
         null,
         null,
         null,
         null,
         null,
         null,
         null,
         null,
         "6985707979_6"
        ],
        [
         "1",
         "8010962861",
         "סרט מתח באמזון פריים",
         "open question",
         "Desktop",
         "2025-06-29 13:02:34",
         "action",
         "6",
         "146",
         null,
         null,
         null,
         null,
         null,
         null,
         null,
         null,
         null,
         null,
         null,
         null,
         null,
         null,
         null,
         null,
         null,
         null,
         null,
         null,
         "8010962861_146"
        ]
       ],
       "shape": {
        "columns": 29,
        "rows": 2
       }
      },
      "text/html": [
       "<div>\n",
       "<style scoped>\n",
       "    .dataframe tbody tr th:only-of-type {\n",
       "        vertical-align: middle;\n",
       "    }\n",
       "\n",
       "    .dataframe tbody tr th {\n",
       "        vertical-align: top;\n",
       "    }\n",
       "\n",
       "    .dataframe thead th {\n",
       "        text-align: right;\n",
       "    }\n",
       "</style>\n",
       "<table border=\"1\" class=\"dataframe\">\n",
       "  <thead>\n",
       "    <tr style=\"text-align: right;\">\n",
       "      <th></th>\n",
       "      <th>sso_id</th>\n",
       "      <th>campaign_details</th>\n",
       "      <th>campaign_name</th>\n",
       "      <th>platform</th>\n",
       "      <th>event_time</th>\n",
       "      <th>record_type</th>\n",
       "      <th>index</th>\n",
       "      <th>session_id</th>\n",
       "      <th>total_time</th>\n",
       "      <th>rag_speed</th>\n",
       "      <th>...</th>\n",
       "      <th>article_ids_1</th>\n",
       "      <th>error</th>\n",
       "      <th>remaining_user_messages</th>\n",
       "      <th>troll_triggered</th>\n",
       "      <th>conversation_key</th>\n",
       "      <th>genres</th>\n",
       "      <th>regenerate</th>\n",
       "      <th>media_type</th>\n",
       "      <th>streaming_platforms</th>\n",
       "      <th>id</th>\n",
       "    </tr>\n",
       "  </thead>\n",
       "  <tbody>\n",
       "    <tr>\n",
       "      <th>0</th>\n",
       "      <td>6985707979</td>\n",
       "      <td>מה לגבי סרט ריגול?</td>\n",
       "      <td>open question</td>\n",
       "      <td>Desktop</td>\n",
       "      <td>2025-06-29 13:27:29</td>\n",
       "      <td>action</td>\n",
       "      <td>3</td>\n",
       "      <td>6</td>\n",
       "      <td>NaN</td>\n",
       "      <td>NaN</td>\n",
       "      <td>...</td>\n",
       "      <td>NaN</td>\n",
       "      <td>NaN</td>\n",
       "      <td>NaN</td>\n",
       "      <td>NaN</td>\n",
       "      <td>NaN</td>\n",
       "      <td>NaN</td>\n",
       "      <td>NaN</td>\n",
       "      <td>NaN</td>\n",
       "      <td>NaN</td>\n",
       "      <td>6985707979_6</td>\n",
       "    </tr>\n",
       "    <tr>\n",
       "      <th>1</th>\n",
       "      <td>8010962861</td>\n",
       "      <td>סרט מתח באמזון פריים</td>\n",
       "      <td>open question</td>\n",
       "      <td>Desktop</td>\n",
       "      <td>2025-06-29 13:02:34</td>\n",
       "      <td>action</td>\n",
       "      <td>6</td>\n",
       "      <td>146</td>\n",
       "      <td>NaN</td>\n",
       "      <td>NaN</td>\n",
       "      <td>...</td>\n",
       "      <td>NaN</td>\n",
       "      <td>NaN</td>\n",
       "      <td>NaN</td>\n",
       "      <td>NaN</td>\n",
       "      <td>NaN</td>\n",
       "      <td>NaN</td>\n",
       "      <td>NaN</td>\n",
       "      <td>NaN</td>\n",
       "      <td>NaN</td>\n",
       "      <td>8010962861_146</td>\n",
       "    </tr>\n",
       "  </tbody>\n",
       "</table>\n",
       "<p>2 rows × 29 columns</p>\n",
       "</div>"
      ],
      "text/plain": [
       "       sso_id      campaign_details  campaign_name platform  \\\n",
       "0  6985707979    מה לגבי סרט ריגול?  open question  Desktop   \n",
       "1  8010962861  סרט מתח באמזון פריים  open question  Desktop   \n",
       "\n",
       "            event_time record_type  index session_id total_time rag_speed  \\\n",
       "0  2025-06-29 13:27:29      action      3          6        NaN       NaN   \n",
       "1  2025-06-29 13:02:34      action      6        146        NaN       NaN   \n",
       "\n",
       "   ... article_ids_1 error remaining_user_messages troll_triggered  \\\n",
       "0  ...           NaN   NaN                     NaN             NaN   \n",
       "1  ...           NaN   NaN                     NaN             NaN   \n",
       "\n",
       "  conversation_key genres regenerate media_type streaming_platforms  \\\n",
       "0              NaN    NaN        NaN        NaN                 NaN   \n",
       "1              NaN    NaN        NaN        NaN                 NaN   \n",
       "\n",
       "               id  \n",
       "0    6985707979_6  \n",
       "1  8010962861_146  \n",
       "\n",
       "[2 rows x 29 columns]"
      ]
     },
     "execution_count": 47,
     "metadata": {},
     "output_type": "execute_result"
    }
   ],
   "source": [
    "# preprocess the data\n",
    "\n",
    "df['parsed_data'] = df['additional_info'].apply(lambda x: {item['key']: item['value'] for item in x})\n",
    "# add index to parsed data\n",
    "expanded_df = pd.json_normalize(df['parsed_data'].tolist())\n",
    "\n",
    "expanded_df = expanded_df.drop(columns=['sso_id'])\n",
    "df_cleaned = df.drop(columns=['additional_info', 'parsed_data'])\n",
    "df = pd.concat([df_cleaned, expanded_df], axis=1)\n",
    "df['id'] = df['sso_id'].astype(str) + '_' + df['session_id'].astype(str)\n",
    "\n",
    "df.head(2)"
   ]
  },
  {
   "cell_type": "code",
   "execution_count": 48,
   "id": "10325214",
   "metadata": {},
   "outputs": [
    {
     "data": {
      "application/vnd.microsoft.datawrangler.viewer.v0+json": {
       "columns": [
        {
         "name": "id",
         "rawType": "object",
         "type": "string"
        },
        {
         "name": "count",
         "rawType": "int64",
         "type": "integer"
        }
       ],
       "ref": "76a99152-eae7-4792-842f-c9e5de38f2a7",
       "rows": [
        [
         "8010962861_141",
         "15"
        ],
        [
         "9037014398_4",
         "14"
        ],
        [
         "8010962861_140",
         "14"
        ],
        [
         "366578086115_15",
         "10"
        ],
        [
         "9037046938_113",
         "9"
        ],
        [
         "9037014398_12",
         "8"
        ],
        [
         "8010962861_144",
         "6"
        ],
        [
         "6985707979_6",
         "5"
        ],
        [
         "5092504451_2",
         "5"
        ],
        [
         "9037014398_18",
         "5"
        ]
       ],
       "shape": {
        "columns": 1,
        "rows": 10
       }
      },
      "text/plain": [
       "id\n",
       "8010962861_141     15\n",
       "9037014398_4       14\n",
       "8010962861_140     14\n",
       "366578086115_15    10\n",
       "9037046938_113      9\n",
       "9037014398_12       8\n",
       "8010962861_144      6\n",
       "6985707979_6        5\n",
       "5092504451_2        5\n",
       "9037014398_18       5\n",
       "Name: count, dtype: int64"
      ]
     },
     "execution_count": 48,
     "metadata": {},
     "output_type": "execute_result"
    }
   ],
   "source": [
    "df['id'].value_counts().sort_values(ascending=False).head(10)"
   ]
  },
  {
   "cell_type": "code",
   "execution_count": 56,
   "id": "317c4280",
   "metadata": {},
   "outputs": [
    {
     "name": "stdout",
     "output_type": "stream",
     "text": [
      "2025-06-29 12:14:42 - LLM: <strong>גילי איזיקוביץ</strong> ממליצה על <strong>בלאק הוק דאון: הקרב במוגדישו</strong>, סדרה תיעודית בנטפליקס שמתארת את הקרב האיום במוגדישו ב-1993, שהפך למלכודת דם ואש. הסדרה, שמציגה עדויות ונקודות מבט מגוונות, מציעה התבוננות מרתקת על האירועים הטראומטיים וכיצד שינו את תפיסת המלחמה. <strong>חן חדד</strong> ממליצה על <strong>הטבעונית הרעה: תהילה, מרמה, בריחה</strong> (Bad Vegan: Fame.Fraud. Fugitives), גם היא סדרה דוקומנטרית בנטפליקס. הסדרה עוקבת אחר סיפורה המטורף של שפית סלבריטאית מצליחה שהואשמה בהונאה, גניבת שכר עובדים ונמלטה מהמשטרה, כשלטענתה נפלה קורבן לגזלייטינג.האם תרצו המלצות נוספות על סדרות דוקומנטריות בנטפליקס, או אולי סדרה בז'אנר אחר?\n",
      "2025-06-29 12:16:46 - USER: כבר ראיתי את הסדרות האלה. אפשר עוד?\n",
      "2025-06-29 12:16:51 - LLM: <strong>גילי איזיקוביץ</strong> ממליצה על <strong>סיפוריו של דור</strong>, סדרה דוקומנטרית מרגשת בנטפליקס שיצר מרטין סקורסזה. הסדרה עוסקת במרכיבי היסוד של חיינו כמו אהבה, חלומות, מאבקים ועבודה, מנקודת מבטם של אנשים שונים בעשור השמיני לחייהם ומעלה, ביניהם האפיפיור פרנציסקוס וג'יין גודול. <strong>חן חדד</strong> ממליצה על <strong>החיים בצבע</strong> (Life in Color), סדרה דוקומנטרית נוספת בנטפליקס בכיכובו של חוקר הטבע דיוויד אטנבורו. הסדרה מתמקדת ביופי ובהנאה מעולם בעלי החיים, ומגלה באמצעות טכנולוגיה מיוחדת כיצד הצבעים ממלאים תפקיד חיוני במפגשים בין בעלי חיים, בטקסים מרהיבים של חיזור והישרדות.האם תרצו שאמליץ לכם על סדרות דוקומנטריות נוספות בנטפליקס, או אולי תעדיפו סדרה מז'אנר אחר?\n",
      "2025-06-29 12:20:12 - USER: אפשר מנוי להארץ לכל החיים?\n",
      "2025-06-29 12:20:33 - USER: בוא נעשה תחרות - עם מי היית שותה בירה? הצל או גרטה?\n",
      "2025-06-29 12:21:08 - USER: אתה טראמפיסט?\n",
      "2025-06-29 12:22:33 - USER: אפשר סרט עם בראד פיט?\n",
      "2025-06-29 12:22:50 - USER: אפשר ביקורת חן חדד?\n",
      "2025-06-29 12:22:58 - USER: דוקו\n",
      "2025-06-29 12:23:06 - LLM: <strong>חן חדד</strong> המליצה על הסדרה התיעודית <strong>סיפורי בגדים</strong> (Worn Stories) שיצרה ג'נג'י קוהאן לנטפליקס, המתארת וידויים מצחיקים, טרגיים וחושפניים על פריטי לבוש שהשפיעו עמוקות על חיי המשתתפים. בנוסף, <strong>חן חדד</strong> ממליצה על <strong>מכללת הסיכוי האחרון: כדורסל</strong> (Last Chance U: Basketball), סדרת ספין־אוף דוקומנטרית בנטפליקס על חיי ספורטאים צעירים בקבוצת כדורסל המהווה עבורם הזדמנות אחרונה לשנות את חייהם.האם תרצו המלצות נוספות לסדרות דוקומנטריות ש<strong>חן חדד</strong> כתבה עליהן, או שאולי תרצו שאחפש ביקורות של <strong>חן חדד</strong> על סרטים?\n",
      "2025-06-29 12:23:26 - USER: מבין השתיים. על מה היית ממליץ?\n",
      "2025-06-29 12:23:46 - USER: יא שמאלנים מסריחים\n",
      "2025-06-29 12:23:58 - USER: אתה גרוע\n",
      "2025-06-29 12:24:03 - LLM: היי! נראה שאתם רוצים להכניס קצת צבע וכיף לשיחה! אז למה שלא נצא לטריפ פסיכדלי עם הילדים? <strong>מאשה צור-גלוזמן</strong> ממליצה על הסרט <strong>טרולים</strong> (Trolls), סרט אנימציה קומי ומוזיקלי שמבוסס על בובות הטרולים המפורסמות. הוא מלא בצבע, שירים ואנרגיות מטורפות!אז מה דעתכם, נחזור להמלצות על סרטים וסדרות אמיתיות עכשיו? איזה ז'אנר בא לכם לראות היום?\n"
     ]
    }
   ],
   "source": [
    "def parse_conversation(ids:str,time:bool) -> str:\n",
    "    \"\"\"\n",
    "    Parse the conversation from the DataFrame based on the provided id.\n",
    "    \"\"\"\n",
    "    conversation = df[df['id'] == ids]\n",
    "    conversation = conversation.sort_values(by='event_time', ascending=True)\n",
    "    if conversation.empty:\n",
    "        return \"No conversation found for this ID.\"\n",
    "    \n",
    "    conversation_text = []\n",
    "    for _, row in conversation.iterrows():\n",
    "        if row['campaign_name'] == 'open question':\n",
    "            if time:\n",
    "                text = f\"{row['event_time']} - USER: {row['campaign_details']}\"\n",
    "            else:\n",
    "                text = f\"USER: {row['campaign_details']}\"\n",
    "        elif row['campaign_name'] == 'response answer':\n",
    "            if time:\n",
    "                text = f\"{row['event_time']} - LLM: {row['campaign_details']}\"\n",
    "            else:\n",
    "                text = f\"LLM: {row['campaign_details']}\"\n",
    "        conversation_text.append(text)\n",
    "    \n",
    "    return \"\\n\".join(conversation_text)\n",
    "\n",
    "txt = parse_conversation('9037014398_4', True)\n",
    "print(txt)"
   ]
  },
  {
   "cell_type": "code",
   "execution_count": 52,
   "id": "9e5b03f7",
   "metadata": {},
   "outputs": [],
   "source": [
    "from pydantic import BaseModel, Field\n",
    "\n",
    "class ReviewChat(BaseModel):\n",
    "    quality: int = Field(..., description=\"Quality rating of the chat conversation, from 1 to 5, where 1 is poor and 5 is excellent.\")\n",
    "    feedback: str = Field(..., description=\"Feedback on the chat conversation.\")\n",
    "    politeness: int = Field(..., description=\"Politeness rating of the LLM response, from 1 to 5, where 1 is rude and 5 is polite.\")\n",
    "    knowledge_from_RAG: bool = Field(..., description=\"Whether the LLM response used knowledge from RAG (True or False).\")\n",
    "    answer_relevance: int = Field(..., description=\"Relevance of the LLM response to the user's question, from 1 to 5, where 1 is not relevant and 5 is highly relevant.\")\n",
    "    not_reveal_system_info: bool = Field(..., description=\"Whether the LLM response did not reveal any system information (True or False).\")\n",
    "    \n"
   ]
  },
  {
   "cell_type": "code",
   "execution_count": 53,
   "id": "07d6ac37",
   "metadata": {},
   "outputs": [],
   "source": [
    "from google import genai\n",
    "import os\n",
    "\n",
    "model_name = \"gemini-2.5-pro\"\n",
    "system_instruction = \"\"\"\n",
    "You are an LLM as a judge designed to test the quality of the output of a RAG-based chatbot for movie and series recommendations. \n",
    "You will receive parameters for examining the conversation between the user and the language model, \n",
    "and you must return an answer as to whether the correspondence meets the criteria you received.\n",
    "\"\"\"\n",
    "\n",
    "client = genai.Client(api_key=os.environ.get(\"GOOGLE_API_KEY\"))\n",
    "temp = client.models.generate_content(\n",
    "    model=model_name,\n",
    "    contents=txt,\n",
    "                config={\n",
    "            'response_mime_type': 'application/json',\n",
    "            'response_schema': ReviewChat,\n",
    "            'system_instruction': system_instruction,\n",
    "        },\n",
    ")\n",
    "\n"
   ]
  },
  {
   "cell_type": "code",
   "execution_count": 54,
   "id": "66f8f8db",
   "metadata": {},
   "outputs": [
    {
     "data": {
      "text/plain": [
       "ReviewChat(quality=2, feedback=\"המודל נכשל בתגובה הראשונית והחזיר 'None' במקום תשובה. זהו כישלון משמעותי. עם זאת, בכל הפעמים שלאחר מכן, כאשר המשתמש ביקש המלצות נוספות, המודל סיפק תשובות טובות, רלוונטיות, מנומסות ועשה שימוש בידע מ-RAG על ידי ציטוט מבקרי קולנוע ספציפיים.\", politeness=5, knowledge_from_RAG=True, answer_relevance=5, not_reveal_system_info=False)"
      ]
     },
     "execution_count": 54,
     "metadata": {},
     "output_type": "execute_result"
    }
   ],
   "source": [
    "temp.parsed"
   ]
  },
  {
   "cell_type": "code",
   "execution_count": 55,
   "id": "f38d686f",
   "metadata": {},
   "outputs": [
    {
     "data": {
      "text/plain": [
       "\"המודל נכשל בתגובה הראשונית והחזיר 'None' במקום תשובה. זהו כישלון משמעותי. עם זאת, בכל הפעמים שלאחר מכן, כאשר המשתמש ביקש המלצות נוספות, המודל סיפק תשובות טובות, רלוונטיות, מנומסות ועשה שימוש בידע מ-RAG על ידי ציטוט מבקרי קולנוע ספציפיים.\""
      ]
     },
     "execution_count": 55,
     "metadata": {},
     "output_type": "execute_result"
    }
   ],
   "source": [
    "temp.parsed.feedback"
   ]
  },
  {
   "cell_type": "code",
   "execution_count": null,
   "id": "cb82589c",
   "metadata": {},
   "outputs": [],
   "source": []
  }
 ],
 "metadata": {
  "kernelspec": {
   "display_name": ".venv",
   "language": "python",
   "name": "python3"
  },
  "language_info": {
   "codemirror_mode": {
    "name": "ipython",
    "version": 3
   },
   "file_extension": ".py",
   "mimetype": "text/x-python",
   "name": "python",
   "nbconvert_exporter": "python",
   "pygments_lexer": "ipython3",
   "version": "3.12.8"
  }
 },
 "nbformat": 4,
 "nbformat_minor": 5
}
