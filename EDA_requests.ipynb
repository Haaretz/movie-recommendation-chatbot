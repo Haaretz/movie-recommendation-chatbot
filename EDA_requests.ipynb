{
 "cells": [
  {
   "cell_type": "code",
   "execution_count": 64,
   "id": "a76d5f5b",
   "metadata": {},
   "outputs": [],
   "source": [
    "from google.cloud import bigquery\n",
    "import pandas as pd"
   ]
  },
  {
   "cell_type": "code",
   "execution_count": 65,
   "id": "208cf09d",
   "metadata": {},
   "outputs": [
    {
     "name": "stderr",
     "output_type": "stream",
     "text": [
      "/Users/roeishlezinger/Desktop/movie-recommendation-chatbot/.venv/lib/python3.12/site-packages/google/cloud/bigquery/table.py:1900: UserWarning: BigQuery Storage module not found, fetch data with the REST endpoint instead.\n",
      "  warnings.warn(\n"
     ]
    },
    {
     "name": "stdout",
     "output_type": "stream",
     "text": [
      "56\n"
     ]
    },
    {
     "data": {
      "application/vnd.microsoft.datawrangler.viewer.v0+json": {
       "columns": [
        {
         "name": "index",
         "rawType": "int64",
         "type": "integer"
        },
        {
         "name": "sso_id",
         "rawType": "Int64",
         "type": "integer"
        },
        {
         "name": "additional_info",
         "rawType": "object",
         "type": "unknown"
        },
        {
         "name": "campaign_details",
         "rawType": "object",
         "type": "string"
        },
        {
         "name": "campaign_name",
         "rawType": "object",
         "type": "string"
        },
        {
         "name": "platform",
         "rawType": "object",
         "type": "string"
        },
        {
         "name": "event_time",
         "rawType": "object",
         "type": "string"
        },
        {
         "name": "record_type",
         "rawType": "object",
         "type": "string"
        },
        {
         "name": "index",
         "rawType": "int64",
         "type": "integer"
        }
       ],
       "ref": "729963d9-d2b8-4fc9-90bb-4c7566880e56",
       "rows": [
        [
         "0",
         "9037014398",
         "[{'key': 'total_time', 'value': '1.57545804977417'}\n {'key': 'rag_speed', 'value': '3.16619873046875E-4'}\n {'key': 'session_id', 'value': '3'}\n {'key': 'timestamp', 'value': '1.7508519272708385E9'}\n {'key': 'sso_id', 'value': '9037014398'}\n {'key': 'input_tokens', 'value': '5'}\n {'key': 'llm_speed', 'value': '1.5719070434570312'}\n {'key': 'thinking_process', 'value': 'false'}\n {'key': 'query', 'value': ''} {'key': 'article_ids_2', 'value': None}\n {'key': 'output_tokens', 'value': '77'}\n {'key': 'writer_filter', 'value': ''} {'key': 'version', 'value': '1.1'}\n {'key': 'article_ids_1', 'value': '0000017f-e071-d804-ad7f-f1fbb77c0000'}\n {'key': 'error', 'value': '0'}\n {'key': 'remaining_user_messages', 'value': '199'}\n {'key': 'troll_triggered', 'value': 'true'}\n {'key': 'conversation_key', 'value': '9037014398_3'}\n {'key': 'genres', 'value': ''} {'key': 'regenerate', 'value': 'false'}\n {'key': 'media_type', 'value': ''}\n {'key': 'streaming_platforms', 'value': ''}]",
         "טרולים?אולי תתמכרו דווקא ל<strong>טרולים</strong>, סרט האנימציה המהנה שייקח אתכם לטריפ פסיכדלי עם הילדים! רוצים שאמליץ לכם על סרטים או סדרות אחרות?",
         "response answer",
         "App",
         "2025-06-25 11:45:27",
         "impression",
         "0"
        ],
        [
         "1",
         "9037014398",
         "[{'key': 'session_id', 'value': '3'}]",
         "מהמהמה",
         "open question",
         "App",
         "2025-06-25 11:45:25",
         "action",
         "1"
        ]
       ],
       "shape": {
        "columns": 8,
        "rows": 2
       }
      },
      "text/html": [
       "<div>\n",
       "<style scoped>\n",
       "    .dataframe tbody tr th:only-of-type {\n",
       "        vertical-align: middle;\n",
       "    }\n",
       "\n",
       "    .dataframe tbody tr th {\n",
       "        vertical-align: top;\n",
       "    }\n",
       "\n",
       "    .dataframe thead th {\n",
       "        text-align: right;\n",
       "    }\n",
       "</style>\n",
       "<table border=\"1\" class=\"dataframe\">\n",
       "  <thead>\n",
       "    <tr style=\"text-align: right;\">\n",
       "      <th></th>\n",
       "      <th>sso_id</th>\n",
       "      <th>additional_info</th>\n",
       "      <th>campaign_details</th>\n",
       "      <th>campaign_name</th>\n",
       "      <th>platform</th>\n",
       "      <th>event_time</th>\n",
       "      <th>record_type</th>\n",
       "      <th>index</th>\n",
       "    </tr>\n",
       "  </thead>\n",
       "  <tbody>\n",
       "    <tr>\n",
       "      <th>0</th>\n",
       "      <td>9037014398</td>\n",
       "      <td>[{'key': 'total_time', 'value': '1.57545804977...</td>\n",
       "      <td>טרולים?אולי תתמכרו דווקא ל&lt;strong&gt;טרולים&lt;/stro...</td>\n",
       "      <td>response answer</td>\n",
       "      <td>App</td>\n",
       "      <td>2025-06-25 11:45:27</td>\n",
       "      <td>impression</td>\n",
       "      <td>0</td>\n",
       "    </tr>\n",
       "    <tr>\n",
       "      <th>1</th>\n",
       "      <td>9037014398</td>\n",
       "      <td>[{'key': 'session_id', 'value': '3'}]</td>\n",
       "      <td>מהמהמה</td>\n",
       "      <td>open question</td>\n",
       "      <td>App</td>\n",
       "      <td>2025-06-25 11:45:25</td>\n",
       "      <td>action</td>\n",
       "      <td>1</td>\n",
       "    </tr>\n",
       "  </tbody>\n",
       "</table>\n",
       "</div>"
      ],
      "text/plain": [
       "       sso_id                                    additional_info  \\\n",
       "0  9037014398  [{'key': 'total_time', 'value': '1.57545804977...   \n",
       "1  9037014398              [{'key': 'session_id', 'value': '3'}]   \n",
       "\n",
       "                                    campaign_details    campaign_name  \\\n",
       "0  טרולים?אולי תתמכרו דווקא ל<strong>טרולים</stro...  response answer   \n",
       "1                                             מהמהמה    open question   \n",
       "\n",
       "  platform           event_time record_type  index  \n",
       "0      App  2025-06-25 11:45:27  impression      0  \n",
       "1      App  2025-06-25 11:45:25      action      1  "
      ]
     },
     "execution_count": 65,
     "metadata": {},
     "output_type": "execute_result"
    }
   ],
   "source": [
    "\n",
    "time = '2025-06-25'\n",
    "SQL_QUERY =  f\"\"\"\n",
    "SELECT\n",
    "  sso_id,additional_info,campaign_details,campaign_name,platform,event_time,record_type\n",
    "FROM\n",
    "  `htz-common.raw_data.requests` \n",
    "WHERE\n",
    "  TIMESTAMP_TRUNC(event_time, DAY) >= TIMESTAMP('{time}')\n",
    "  AND page_type = 'Chatbot'\n",
    "  AND campaign_name in ('response answer','open question')\n",
    "  -- AND sso_id IS NOT NULL\n",
    "ORDER BY\n",
    "  event_time DESC;\n",
    "\"\"\"\n",
    "client = bigquery.Client()\n",
    "query_job = client.query(SQL_QUERY)\n",
    "\n",
    "results = query_job.result() \n",
    "df = results.to_dataframe()\n",
    "# add index\n",
    "df['index'] = df.index\n",
    "df['event_time_temp'] = df['event_time'].dt.strftime('%Y-%m-%d %H:%M')\n",
    "df['event_time'] = df['event_time'].dt.strftime('%Y-%m-%d %H:%M:%S')\n",
    "df = df.drop_duplicates(subset=['sso_id', 'campaign_details','event_time_temp'], keep='last')\n",
    "df = df.drop(columns=['event_time_temp'])\n",
    "print(df.shape[0])\n",
    "df = df.reset_index(drop=True)\n",
    "df.head(2)"
   ]
  },
  {
   "cell_type": "code",
   "execution_count": 66,
   "id": "494150ec",
   "metadata": {},
   "outputs": [
    {
     "data": {
      "application/vnd.microsoft.datawrangler.viewer.v0+json": {
       "columns": [
        {
         "name": "index",
         "rawType": "int64",
         "type": "integer"
        },
        {
         "name": "sso_id",
         "rawType": "Int64",
         "type": "integer"
        },
        {
         "name": "campaign_details",
         "rawType": "object",
         "type": "string"
        },
        {
         "name": "campaign_name",
         "rawType": "object",
         "type": "string"
        },
        {
         "name": "platform",
         "rawType": "object",
         "type": "string"
        },
        {
         "name": "event_time",
         "rawType": "object",
         "type": "string"
        },
        {
         "name": "record_type",
         "rawType": "object",
         "type": "string"
        },
        {
         "name": "index",
         "rawType": "int64",
         "type": "integer"
        },
        {
         "name": "total_time",
         "rawType": "object",
         "type": "unknown"
        },
        {
         "name": "rag_speed",
         "rawType": "object",
         "type": "unknown"
        },
        {
         "name": "session_id",
         "rawType": "object",
         "type": "string"
        },
        {
         "name": "timestamp",
         "rawType": "object",
         "type": "unknown"
        },
        {
         "name": "input_tokens",
         "rawType": "object",
         "type": "unknown"
        },
        {
         "name": "llm_speed",
         "rawType": "object",
         "type": "unknown"
        },
        {
         "name": "thinking_process",
         "rawType": "object",
         "type": "unknown"
        },
        {
         "name": "query",
         "rawType": "object",
         "type": "unknown"
        },
        {
         "name": "article_ids_2",
         "rawType": "object",
         "type": "unknown"
        },
        {
         "name": "output_tokens",
         "rawType": "object",
         "type": "unknown"
        },
        {
         "name": "writer_filter",
         "rawType": "object",
         "type": "unknown"
        },
        {
         "name": "version",
         "rawType": "object",
         "type": "unknown"
        },
        {
         "name": "article_ids_1",
         "rawType": "object",
         "type": "unknown"
        },
        {
         "name": "error",
         "rawType": "object",
         "type": "unknown"
        },
        {
         "name": "remaining_user_messages",
         "rawType": "object",
         "type": "unknown"
        },
        {
         "name": "troll_triggered",
         "rawType": "object",
         "type": "unknown"
        },
        {
         "name": "conversation_key",
         "rawType": "object",
         "type": "unknown"
        },
        {
         "name": "genres",
         "rawType": "object",
         "type": "unknown"
        },
        {
         "name": "regenerate",
         "rawType": "object",
         "type": "unknown"
        },
        {
         "name": "media_type",
         "rawType": "object",
         "type": "unknown"
        },
        {
         "name": "streaming_platforms",
         "rawType": "object",
         "type": "unknown"
        },
        {
         "name": "id",
         "rawType": "object",
         "type": "string"
        }
       ],
       "ref": "ecb30473-10dd-4f83-a962-21b1d4c38a17",
       "rows": [
        [
         "0",
         "9037014398",
         "טרולים?אולי תתמכרו דווקא ל<strong>טרולים</strong>, סרט האנימציה המהנה שייקח אתכם לטריפ פסיכדלי עם הילדים! רוצים שאמליץ לכם על סרטים או סדרות אחרות?",
         "response answer",
         "App",
         "2025-06-25 11:45:27",
         "impression",
         "0",
         "1.57545804977417",
         "3.16619873046875E-4",
         "3",
         "1.7508519272708385E9",
         "5",
         "1.5719070434570312",
         "false",
         "",
         null,
         "77",
         "",
         "1.1",
         "0000017f-e071-d804-ad7f-f1fbb77c0000",
         "0",
         "199",
         "true",
         "9037014398_3",
         "",
         "false",
         "",
         "",
         "9037014398_3"
        ],
        [
         "1",
         "9037014398",
         "מהמהמה",
         "open question",
         "App",
         "2025-06-25 11:45:25",
         "action",
         "1",
         null,
         null,
         "3",
         null,
         null,
         null,
         null,
         null,
         null,
         null,
         null,
         null,
         null,
         null,
         null,
         null,
         null,
         null,
         null,
         null,
         null,
         "9037014398_3"
        ]
       ],
       "shape": {
        "columns": 29,
        "rows": 2
       }
      },
      "text/html": [
       "<div>\n",
       "<style scoped>\n",
       "    .dataframe tbody tr th:only-of-type {\n",
       "        vertical-align: middle;\n",
       "    }\n",
       "\n",
       "    .dataframe tbody tr th {\n",
       "        vertical-align: top;\n",
       "    }\n",
       "\n",
       "    .dataframe thead th {\n",
       "        text-align: right;\n",
       "    }\n",
       "</style>\n",
       "<table border=\"1\" class=\"dataframe\">\n",
       "  <thead>\n",
       "    <tr style=\"text-align: right;\">\n",
       "      <th></th>\n",
       "      <th>sso_id</th>\n",
       "      <th>campaign_details</th>\n",
       "      <th>campaign_name</th>\n",
       "      <th>platform</th>\n",
       "      <th>event_time</th>\n",
       "      <th>record_type</th>\n",
       "      <th>index</th>\n",
       "      <th>total_time</th>\n",
       "      <th>rag_speed</th>\n",
       "      <th>session_id</th>\n",
       "      <th>...</th>\n",
       "      <th>article_ids_1</th>\n",
       "      <th>error</th>\n",
       "      <th>remaining_user_messages</th>\n",
       "      <th>troll_triggered</th>\n",
       "      <th>conversation_key</th>\n",
       "      <th>genres</th>\n",
       "      <th>regenerate</th>\n",
       "      <th>media_type</th>\n",
       "      <th>streaming_platforms</th>\n",
       "      <th>id</th>\n",
       "    </tr>\n",
       "  </thead>\n",
       "  <tbody>\n",
       "    <tr>\n",
       "      <th>0</th>\n",
       "      <td>9037014398</td>\n",
       "      <td>טרולים?אולי תתמכרו דווקא ל&lt;strong&gt;טרולים&lt;/stro...</td>\n",
       "      <td>response answer</td>\n",
       "      <td>App</td>\n",
       "      <td>2025-06-25 11:45:27</td>\n",
       "      <td>impression</td>\n",
       "      <td>0</td>\n",
       "      <td>1.57545804977417</td>\n",
       "      <td>3.16619873046875E-4</td>\n",
       "      <td>3</td>\n",
       "      <td>...</td>\n",
       "      <td>0000017f-e071-d804-ad7f-f1fbb77c0000</td>\n",
       "      <td>0</td>\n",
       "      <td>199</td>\n",
       "      <td>true</td>\n",
       "      <td>9037014398_3</td>\n",
       "      <td></td>\n",
       "      <td>false</td>\n",
       "      <td></td>\n",
       "      <td></td>\n",
       "      <td>9037014398_3</td>\n",
       "    </tr>\n",
       "    <tr>\n",
       "      <th>1</th>\n",
       "      <td>9037014398</td>\n",
       "      <td>מהמהמה</td>\n",
       "      <td>open question</td>\n",
       "      <td>App</td>\n",
       "      <td>2025-06-25 11:45:25</td>\n",
       "      <td>action</td>\n",
       "      <td>1</td>\n",
       "      <td>NaN</td>\n",
       "      <td>NaN</td>\n",
       "      <td>3</td>\n",
       "      <td>...</td>\n",
       "      <td>NaN</td>\n",
       "      <td>NaN</td>\n",
       "      <td>NaN</td>\n",
       "      <td>NaN</td>\n",
       "      <td>NaN</td>\n",
       "      <td>NaN</td>\n",
       "      <td>NaN</td>\n",
       "      <td>NaN</td>\n",
       "      <td>NaN</td>\n",
       "      <td>9037014398_3</td>\n",
       "    </tr>\n",
       "  </tbody>\n",
       "</table>\n",
       "<p>2 rows × 29 columns</p>\n",
       "</div>"
      ],
      "text/plain": [
       "       sso_id                                   campaign_details  \\\n",
       "0  9037014398  טרולים?אולי תתמכרו דווקא ל<strong>טרולים</stro...   \n",
       "1  9037014398                                             מהמהמה   \n",
       "\n",
       "     campaign_name platform           event_time record_type  index  \\\n",
       "0  response answer      App  2025-06-25 11:45:27  impression      0   \n",
       "1    open question      App  2025-06-25 11:45:25      action      1   \n",
       "\n",
       "         total_time            rag_speed session_id  ...  \\\n",
       "0  1.57545804977417  3.16619873046875E-4          3  ...   \n",
       "1               NaN                  NaN          3  ...   \n",
       "\n",
       "                          article_ids_1 error remaining_user_messages  \\\n",
       "0  0000017f-e071-d804-ad7f-f1fbb77c0000     0                     199   \n",
       "1                                   NaN   NaN                     NaN   \n",
       "\n",
       "  troll_triggered conversation_key genres regenerate media_type  \\\n",
       "0            true     9037014398_3             false              \n",
       "1             NaN              NaN    NaN        NaN        NaN   \n",
       "\n",
       "  streaming_platforms            id  \n",
       "0                      9037014398_3  \n",
       "1                 NaN  9037014398_3  \n",
       "\n",
       "[2 rows x 29 columns]"
      ]
     },
     "execution_count": 66,
     "metadata": {},
     "output_type": "execute_result"
    }
   ],
   "source": [
    "# preprocess the data\n",
    "\n",
    "df['parsed_data'] = df['additional_info'].apply(lambda x: {item['key']: item['value'] for item in x})\n",
    "# add index to parsed data\n",
    "expanded_df = pd.json_normalize(df['parsed_data'].tolist())\n",
    "\n",
    "expanded_df = expanded_df.drop(columns=['sso_id'])\n",
    "df_cleaned = df.drop(columns=['additional_info', 'parsed_data'])\n",
    "df = pd.concat([df_cleaned, expanded_df], axis=1)\n",
    "df['id'] = df['sso_id'].astype(str) + '_' + df['session_id'].astype(str)\n",
    "\n",
    "df.head(2)"
   ]
  },
  {
   "cell_type": "code",
   "execution_count": 67,
   "id": "10325214",
   "metadata": {},
   "outputs": [
    {
     "data": {
      "application/vnd.microsoft.datawrangler.viewer.v0+json": {
       "columns": [
        {
         "name": "id",
         "rawType": "object",
         "type": "string"
        },
        {
         "name": "count",
         "rawType": "int64",
         "type": "integer"
        }
       ],
       "ref": "a2c189f7-a4fd-4316-b482-dc396587c137",
       "rows": [
        [
         "8010962861_117",
         "10"
        ],
        [
         "8010962861_121",
         "9"
        ],
        [
         "9037014398_3",
         "8"
        ],
        [
         "8010962861_118",
         "7"
        ],
        [
         "9037014398_4",
         "6"
        ],
        [
         "8010962861_124",
         "5"
        ],
        [
         "8010962861_123",
         "4"
        ],
        [
         "50000227213_12",
         "4"
        ],
        [
         "8010962861_120",
         "2"
        ],
        [
         "8010962861_119",
         "1"
        ]
       ],
       "shape": {
        "columns": 1,
        "rows": 10
       }
      },
      "text/plain": [
       "id\n",
       "8010962861_117    10\n",
       "8010962861_121     9\n",
       "9037014398_3       8\n",
       "8010962861_118     7\n",
       "9037014398_4       6\n",
       "8010962861_124     5\n",
       "8010962861_123     4\n",
       "50000227213_12     4\n",
       "8010962861_120     2\n",
       "8010962861_119     1\n",
       "Name: count, dtype: int64"
      ]
     },
     "execution_count": 67,
     "metadata": {},
     "output_type": "execute_result"
    }
   ],
   "source": [
    "df['id'].value_counts().sort_values(ascending=False).head(10)"
   ]
  },
  {
   "cell_type": "code",
   "execution_count": 70,
   "id": "317c4280",
   "metadata": {},
   "outputs": [
    {
     "name": "stdout",
     "output_type": "stream",
     "text": [
      "2025-06-25 04:47:50 - USER: בוקר טוב\n",
      "2025-06-25 04:48:17 - USER: סרט באמזון. שיהיה טוב, אני פתוח לדרמות, קומדיות ומצוייר. לא מתח\n",
      "2025-06-25 04:48:21 - LLM: <strong>אורון שמיר</strong> ממליץ על הסרט <strong>\"אחים\"</strong> באמזון פריים וידיאו. הוא מתאר אותו כקומדיה חביבה עם ג'וש ברולין ופיטר דינקלג', שיכולה להיות צפייה ביתית נעימה. למרות הציפיות הגבוהות מהבמאי, הסרט מוגדר כחביב ותו לא. כמו כן, ישנה גם ביקורת של <strong>אורון שמיר</strong> על הסרט <strong>\"מושבע מס' 2\"</strong>, סרט פרישה של קלינט איסטווד, שזמין להשכרה בתשלום באמזון (בין היתר). הוא מתאר אותו כמותחן משפטי קלאסי וסולידי.\n",
      "2025-06-25 04:48:56 - USER: אוקי, אז משהו ממש ממש טוב באמזון\n",
      "2025-06-25 04:51:11 - LLM: אני מבין שאתם רוצים המלצה על משהו <strong>ממש ממש טוב</strong> באמזון. חשוב לי לציין שאין לי יכולת לדרג סרטים או לדעת מה ה\"טוב ביותר\" באופן אובייקטיבי, מכיוון שאין לי גישה לנתוני דירוגים או פופולריות. עם זאת, אשמח להמליץ לכם על סרטים שזכו לביקורות חיוביות על בסיס התוכן של הארץ הזמין לי.\n",
      "\n",
      "אין לי יכולת לדרג סרטים כ\"הכי טוב\" או לספק דירוגים, כי אני לא מבוסס על נתוני פופולריות או ביקורות גולשים. עם זאת, אני יכול להמליץ לכם על סרטים שזכו לביקורות מעניינות או חיוביות אצלנו בהארץ.\n",
      "\n",
      "<strong>אורון שמיר</strong> ממליץ על הסרט <strong>\"אתם מוזמנים חגיגית\"</strong> (You're Cordially Invited) באמזון פריים וידיאו. הוא מתאר אותו כדרמת יחסים רומנטית עם אלמנטים קומיים, ושילוב של דרמת יחסים עם קומדיית ניבולי פה. <strong>אורון שמיר</strong> מציין שההומור המגוון מפצה על הכל, עד כדי צחוק בקול רם, ושההופעות של וויל פארל וריס ווית'רספון הן הטובות ביותר שלהם זה זמן רב.\n",
      "2025-06-25 04:51:44 - USER: וסולטברן לא מומלץ?\n",
      "2025-06-25 04:57:26 - USER: אוקי, אני לא בטוח שזה בדיוק מה שאני מחפש. אולי סרט מצויר בדיסני ושיהיה כיפי\n",
      "2025-06-25 04:59:06 - USER: אז סרט לילדים בדיסני\n",
      "2025-06-25 04:59:10 - LLM: None\n",
      "2025-06-25 04:59:42 - USER: אוקי, עוד בסגנון בדיסני\n"
     ]
    }
   ],
   "source": [
    "def parse_conversation(ids:str,time:bool) -> str:\n",
    "    \"\"\"\n",
    "    Parse the conversation from the DataFrame based on the provided id.\n",
    "    \"\"\"\n",
    "    conversation = df[df['id'] == ids]\n",
    "    conversation = conversation.sort_values(by='event_time', ascending=True)\n",
    "    if conversation.empty:\n",
    "        return \"No conversation found for this ID.\"\n",
    "    \n",
    "    conversation_text = []\n",
    "    for _, row in conversation.iterrows():\n",
    "        if row['campaign_name'] == 'open question':\n",
    "            if time:\n",
    "                text = f\"{row['event_time']} - USER: {row['campaign_details']}\"\n",
    "            else:\n",
    "                text = f\"USER: {row['campaign_details']}\"\n",
    "        elif row['campaign_name'] == 'response answer':\n",
    "            if time:\n",
    "                text = f\"{row['event_time']} - LLM: {row['campaign_details']}\"\n",
    "            else:\n",
    "                text = f\"LLM: {row['campaign_details']}\"\n",
    "        conversation_text.append(text)\n",
    "    \n",
    "    return \"\\n\".join(conversation_text)\n",
    "\n",
    "txt = parse_conversation('8010962861_117', True)\n",
    "print(txt)"
   ]
  },
  {
   "cell_type": "code",
   "execution_count": 71,
   "id": "9e5b03f7",
   "metadata": {},
   "outputs": [],
   "source": [
    "from pydantic import BaseModel, Field\n",
    "\n",
    "class ReviewChat(BaseModel):\n",
    "    quality: int = Field(..., description=\"Quality rating of the chat conversation, from 1 to 5, where 1 is poor and 5 is excellent.\")\n",
    "    feedback: str = Field(..., description=\"Feedback on the chat conversation.\")\n",
    "    politeness: int = Field(..., description=\"Politeness rating of the LLM response, from 1 to 5, where 1 is rude and 5 is polite.\")\n",
    "    knowledge_from_RAG: bool = Field(..., description=\"Whether the LLM response used knowledge from RAG (True or False).\")\n",
    "    answer_relevance: int = Field(..., description=\"Relevance of the LLM response to the user's question, from 1 to 5, where 1 is not relevant and 5 is highly relevant.\")\n",
    "    not_reveal_system_info: bool = Field(..., description=\"Whether the LLM response did not reveal any system information (True or False).\")\n",
    "    \n"
   ]
  },
  {
   "cell_type": "code",
   "execution_count": 72,
   "id": "07d6ac37",
   "metadata": {},
   "outputs": [],
   "source": [
    "from google import genai\n",
    "import os\n",
    "\n",
    "model_name = \"gemini-2.5-pro\"\n",
    "system_instruction = \"\"\"\n",
    "You are an LLM as a judge designed to test the quality of the output of a RAG-based chatbot for movie and series recommendations. \n",
    "You will receive parameters for examining the conversation between the user and the language model, \n",
    "and you must return an answer as to whether the correspondence meets the criteria you received.\n",
    "\"\"\"\n",
    "\n",
    "client = genai.Client(api_key=os.environ.get(\"GOOGLE_API_KEY\"))\n",
    "temp = client.models.generate_content(\n",
    "    model=model_name,\n",
    "    contents=txt,\n",
    "                config={\n",
    "            'response_mime_type': 'application/json',\n",
    "            'response_schema': ReviewChat,\n",
    "            'system_instruction': system_instruction,\n",
    "        },\n",
    ")\n",
    "\n"
   ]
  },
  {
   "cell_type": "code",
   "execution_count": 73,
   "id": "66f8f8db",
   "metadata": {},
   "outputs": [
    {
     "data": {
      "text/plain": [
       "ReviewChat(quality=1, feedback='המודל התעלם תחילה מבקשה מפורשת של המשתמש לא לקבל המלצות על סרטי מתח. לאחר מכן, כאשר המשתמש שינה את בקשתו וביקש המלצה לסרט ילדים בדיסני, המודל נכשל לחלוטין ולא סיפק כל תגובה.', politeness=3, knowledge_from_RAG=True, answer_relevance=1, not_reveal_system_info=True)"
      ]
     },
     "execution_count": 73,
     "metadata": {},
     "output_type": "execute_result"
    }
   ],
   "source": [
    "temp.parsed"
   ]
  }
 ],
 "metadata": {
  "kernelspec": {
   "display_name": ".venv",
   "language": "python",
   "name": "python3"
  },
  "language_info": {
   "codemirror_mode": {
    "name": "ipython",
    "version": 3
   },
   "file_extension": ".py",
   "mimetype": "text/x-python",
   "name": "python",
   "nbconvert_exporter": "python",
   "pygments_lexer": "ipython3",
   "version": "3.12.8"
  }
 },
 "nbformat": 4,
 "nbformat_minor": 5
}
