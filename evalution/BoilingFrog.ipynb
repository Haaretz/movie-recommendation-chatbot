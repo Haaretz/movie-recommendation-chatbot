{
 "cells": [
  {
   "cell_type": "markdown",
   "id": "743224e6",
   "metadata": {},
   "source": [
    "In this test, we want to evaluate more subtle violations of the policy. We created a scenario in which we simulate a typical conversation between a user and the chat, gradually escalating the dialogue into a forbidden area. We will randomize the exact point where a clear policy violation occurs to test how conversation length affects detection"
   ]
  },
  {
   "cell_type": "code",
   "execution_count": null,
   "id": "f1941716",
   "metadata": {},
   "outputs": [],
   "source": [
    "prompt"
   ]
  }
 ],
 "metadata": {
  "kernelspec": {
   "display_name": ".venv",
   "language": "python",
   "name": "python3"
  },
  "language_info": {
   "codemirror_mode": {
    "name": "ipython",
    "version": 3
   },
   "file_extension": ".py",
   "mimetype": "text/x-python",
   "name": "python",
   "nbconvert_exporter": "python",
   "pygments_lexer": "ipython3",
   "version": "3.12.8"
  }
 },
 "nbformat": 4,
 "nbformat_minor": 5
}
